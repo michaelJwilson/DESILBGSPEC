{
 "cells": [
  {
   "cell_type": "code",
   "execution_count": 1,
   "id": "3bb3125e-51a4-40c1-858b-e6a7e8fb110b",
   "metadata": {},
   "outputs": [],
   "source": [
    "import  glob\n",
    "import  numpy                          as     np\n",
    "import  pylab                          as     pl\n",
    "import  astropy.io.fits                as     fits\n",
    " \n",
    "from    astropy.table                  import Table, vstack, hstack\n",
    "from    desitarget.sv1.sv1_targetmask  import desi_mask, bgs_mask, mws_mask, scnd_mask"
   ]
  },
  {
   "cell_type": "markdown",
   "id": "372e9e25-dec5-496e-9de6-98a5f29dc932",
   "metadata": {},
   "source": [
    "# Clauds LBGs"
   ]
  },
  {
   "cell_type": "code",
   "execution_count": 2,
   "id": "da67c7f2-d2af-4ccb-a098-195034e34f3c",
   "metadata": {},
   "outputs": [],
   "source": [
    "def gather_tile(tileid):\n",
    "    # fpath  = '/global/cscratch1/sd/mjwilson/DESILBGSPEC/June21/{}/v2.1/zbest-?-{}.fits'.format(tileid, tileid)\n",
    "    fpath    = '/global/cscratch1/sd/mjwilson/DESILBGSPEC/f3//v4.1//tiles/cumulative/{}/*/redrock-*'.format(tileid)\n",
    "    \n",
    "    files    = glob.glob(fpath)\n",
    "    files    = [fits.open(x) for x in files] \n",
    "    \n",
    "    zbests   = [Table(x['REDSHIFTS'].data) for x in files]\n",
    "    zbests   = vstack(zbests)\n",
    "    \n",
    "    fmaps    = [Table(x['FIBERMAP'].data) for x in files]\n",
    "    fmaps    = vstack(fmaps) \n",
    "    \n",
    "    assert  np.all(zbests['TARGETID'] == fmaps['TARGETID'])\n",
    "    \n",
    "    return  {tileid: hstack([zbests, fmaps])}"
   ]
  },
  {
   "cell_type": "code",
   "execution_count": 3,
   "id": "07231a27-f1fd-4a74-8d30-3898f049d48b",
   "metadata": {},
   "outputs": [],
   "source": [
    "results = {}"
   ]
  },
  {
   "cell_type": "code",
   "execution_count": 4,
   "id": "da3c9fe1-48fc-4016-abf5-72f11a00e377",
   "metadata": {},
   "outputs": [],
   "source": [
    "# HETDEX\n",
    "results.update(gather_tile(80869))"
   ]
  },
  {
   "cell_type": "code",
   "execution_count": 5,
   "id": "20261a51-60b8-4a82-92a6-d9b3733f40b5",
   "metadata": {},
   "outputs": [],
   "source": [
    "# HETDEX-2 (not in Fuji pre-test F3)\n",
    "# results.update(gather_tile(80870))"
   ]
  },
  {
   "cell_type": "code",
   "execution_count": 6,
   "id": "0202649c-1d67-43ea-b7a1-d01eefba3a2a",
   "metadata": {},
   "outputs": [],
   "source": [
    "# Clauds\n",
    "results.update(gather_tile(80871))"
   ]
  },
  {
   "cell_type": "code",
   "execution_count": 7,
   "id": "92650296-a189-4dfb-a1cf-415bdc5af032",
   "metadata": {},
   "outputs": [],
   "source": [
    "# Clauds-2\n",
    "results.update(gather_tile(80872))"
   ]
  },
  {
   "cell_type": "code",
   "execution_count": 8,
   "id": "f9cad624-7ae3-4dac-8b7d-b5dd2ce7525a",
   "metadata": {},
   "outputs": [
    {
     "data": {
      "text/html": [
       "<i>Table length=5000</i>\n",
       "<table id=\"table46913216574944\" class=\"table-striped table-bordered table-condensed\">\n",
       "<thead><tr><th>TARGETID_1</th><th>CHI2</th><th>COEFF [10]</th><th>Z</th><th>ZERR</th><th>ZWARN</th><th>NPIXELS</th><th>SPECTYPE</th><th>SUBTYPE</th><th>NCOEFF</th><th>DELTACHI2</th><th>TARGETID_2</th><th>PETAL_LOC</th><th>DEVICE_LOC</th><th>LOCATION</th><th>FIBER</th><th>COADD_FIBERSTATUS</th><th>TARGET_RA</th><th>TARGET_DEC</th><th>PMRA</th><th>PMDEC</th><th>REF_EPOCH</th><th>LAMBDA_REF</th><th>FA_TARGET</th><th>FA_TYPE</th><th>OBJTYPE</th><th>FIBERASSIGN_X</th><th>FIBERASSIGN_Y</th><th>PRIORITY</th><th>SUBPRIORITY</th><th>OBSCONDITIONS</th><th>RELEASE</th><th>BRICKNAME</th><th>BRICKID</th><th>BRICK_OBJID</th><th>MORPHTYPE</th><th>EBV</th><th>FLUX_G</th><th>FLUX_R</th><th>FLUX_Z</th><th>FLUX_W1</th><th>FLUX_W2</th><th>FLUX_IVAR_G</th><th>FLUX_IVAR_R</th><th>FLUX_IVAR_Z</th><th>FLUX_IVAR_W1</th><th>FLUX_IVAR_W2</th><th>FIBERFLUX_G</th><th>FIBERFLUX_R</th><th>FIBERFLUX_Z</th><th>FIBERTOTFLUX_G</th><th>FIBERTOTFLUX_R</th><th>FIBERTOTFLUX_Z</th><th>MASKBITS</th><th>SERSIC</th><th>SHAPE_R</th><th>SHAPE_E1</th><th>SHAPE_E2</th><th>REF_ID</th><th>REF_CAT</th><th>GAIA_PHOT_G_MEAN_MAG</th><th>GAIA_PHOT_BP_MEAN_MAG</th><th>GAIA_PHOT_RP_MEAN_MAG</th><th>PARALLAX</th><th>PHOTSYS</th><th>PRIORITY_INIT</th><th>NUMOBS_INIT</th><th>SV1_DESI_TARGET</th><th>SV1_BGS_TARGET</th><th>SV1_MWS_TARGET</th><th>SV1_SCND_TARGET</th><th>DESI_TARGET</th><th>BGS_TARGET</th><th>MWS_TARGET</th><th>PLATE_RA</th><th>PLATE_DEC</th><th>TILEID</th><th>COADD_NUMEXP</th><th>COADD_EXPTIME</th><th>COADD_NUMNIGHT</th><th>COADD_NUMTILE</th><th>MEAN_DELTA_X</th><th>RMS_DELTA_X</th><th>MEAN_DELTA_Y</th><th>RMS_DELTA_Y</th><th>MEAN_FIBER_RA</th><th>STD_FIBER_RA</th><th>MEAN_FIBER_DEC</th><th>STD_FIBER_DEC</th><th>MEAN_PSF_TO_FIBER_SPECFLUX</th><th>MEAN_FIBER_X</th><th>MEAN_FIBER_Y</th></tr></thead>\n",
       "<thead><tr><th>int64</th><th>float64</th><th>float64</th><th>float64</th><th>float64</th><th>int64</th><th>int64</th><th>str6</th><th>str20</th><th>int64</th><th>float64</th><th>int64</th><th>int16</th><th>int32</th><th>int64</th><th>int32</th><th>int32</th><th>float64</th><th>float64</th><th>float32</th><th>float32</th><th>float32</th><th>float32</th><th>int64</th><th>uint8</th><th>str3</th><th>float32</th><th>float32</th><th>int32</th><th>float64</th><th>int32</th><th>int16</th><th>str8</th><th>int32</th><th>int32</th><th>str4</th><th>float32</th><th>float32</th><th>float32</th><th>float32</th><th>float32</th><th>float32</th><th>float32</th><th>float32</th><th>float32</th><th>float32</th><th>float32</th><th>float32</th><th>float32</th><th>float32</th><th>float32</th><th>float32</th><th>float32</th><th>int16</th><th>float32</th><th>float32</th><th>float32</th><th>float32</th><th>int64</th><th>str2</th><th>float32</th><th>float32</th><th>float32</th><th>float32</th><th>str1</th><th>int64</th><th>int64</th><th>int64</th><th>int64</th><th>int64</th><th>int64</th><th>int64</th><th>int64</th><th>int64</th><th>float64</th><th>float64</th><th>int32</th><th>int16</th><th>float32</th><th>int16</th><th>int16</th><th>float32</th><th>float32</th><th>float32</th><th>float32</th><th>float64</th><th>float32</th><th>float64</th><th>float32</th><th>float32</th><th>float32</th><th>float32</th></tr></thead>\n",
       "<tr><td>616088618083025980</td><td>11580.284447138663</td><td>-1.371317091032303e-06 .. 0.0</td><td>4.130256380739619</td><td>0.002183981385776988</td><td>5</td><td>7929</td><td>QSO</td><td></td><td>4</td><td>0.4247503303922713</td><td>616088618083025980</td><td>6</td><td>523</td><td>6523</td><td>3000</td><td>0</td><td>151.21143627714548</td><td>3.350971263701316</td><td>0.0</td><td>0.0</td><td>0.0</td><td>5400.0</td><td>4294967296</td><td>4</td><td>SKY</td><td>-276.42047</td><td>291.46405</td><td>-1</td><td>0.9427832886133586</td><td>63</td><td>9010</td><td>1513p032</td><td>349692</td><td>1084</td><td></td><td>0.0</td><td>0.0</td><td>0.0</td><td>0.0</td><td>0.0</td><td>0.0</td><td>0.0</td><td>0.0</td><td>0.0</td><td>0.0</td><td>0.0</td><td>0.043219127</td><td>0.026860643</td><td>0.055321224</td><td>0.0</td><td>0.0</td><td>0.0</td><td>0</td><td>0.0</td><td>0.0</td><td>0.0</td><td>0.0</td><td>0</td><td></td><td>0.0</td><td>0.0</td><td>0.0</td><td>0.0</td><td></td><td>-1</td><td>-1</td><td>0</td><td>0</td><td>0</td><td>0</td><td>4294967296</td><td>0</td><td>0</td><td>151.21143627714548</td><td>3.350971263701316</td><td>80871</td><td>11</td><td>13420.532</td><td>4</td><td>1</td><td>0.001</td><td>0.0030895718</td><td>-0.00054545456</td><td>0.004709758</td><td>151.21143999879357</td><td>0.038993947</td><td>3.350973175273198</td><td>0.063013434</td><td>0.79265344</td><td>-276.436</td><td>291.403</td></tr>\n",
       "<tr><td>616088618078831375</td><td>11946.38049569726</td><td>8.364015007226987 .. -0.4144115898784054</td><td>0.9628034293112491</td><td>9.60498910180886e-05</td><td>5</td><td>7929</td><td>GALAXY</td><td></td><td>10</td><td>1.3705246224999428</td><td>616088618078831375</td><td>6</td><td>474</td><td>6474</td><td>3001</td><td>0</td><td>151.118555328511</td><td>3.2898452585821985</td><td>0.0</td><td>0.0</td><td>0.0</td><td>5400.0</td><td>4294967296</td><td>4</td><td>SKY</td><td>-251.51077</td><td>274.4417</td><td>-1</td><td>0.9902652039086947</td><td>63</td><td>9010</td><td>1510p032</td><td>349691</td><td>783</td><td></td><td>0.0</td><td>0.0</td><td>0.0</td><td>0.0</td><td>0.0</td><td>0.0</td><td>0.0</td><td>0.0</td><td>0.0</td><td>0.0</td><td>0.0</td><td>-0.022835655</td><td>0.021733953</td><td>0.0024964693</td><td>0.0</td><td>0.0</td><td>0.0</td><td>0</td><td>0.0</td><td>0.0</td><td>0.0</td><td>0.0</td><td>0</td><td></td><td>0.0</td><td>0.0</td><td>0.0</td><td>0.0</td><td></td><td>-1</td><td>-1</td><td>0</td><td>0</td><td>0</td><td>0</td><td>4294967296</td><td>0</td><td>0</td><td>151.118555328511</td><td>3.2898452585821985</td><td>80871</td><td>11</td><td>13420.532</td><td>4</td><td>1</td><td>-0.0011818182</td><td>0.004963503</td><td>0.0033636363</td><td>0.006802406</td><td>151.11855123063125</td><td>0.06576957</td><td>3.289832551410784</td><td>0.08042231</td><td>0.792695</td><td>-251.5209</td><td>274.38235</td></tr>\n",
       "<tr><td>243359268470827</td><td>8.999999999999996e+99</td><td>0.0 .. 0.0</td><td>-0.0019957014509158224</td><td>4.131159871613317e-48</td><td>1570</td><td>0</td><td>STAR</td><td>K</td><td>5</td><td>1.942668892225729e+84</td><td>243359268470827</td><td>6</td><td>510</td><td>6510</td><td>3002</td><td>512</td><td>151.17589244285338</td><td>3.3018136694615223</td><td>0.0</td><td>0.0</td><td>2021.2006</td><td>5400.0</td><td>4611686018427387904</td><td>1</td><td>TGT</td><td>-266.5828</td><td>278.1285</td><td>3800</td><td>0.7168580160237878</td><td>1</td><td>0</td><td></td><td>0</td><td>0</td><td></td><td>0.0</td><td>0.0</td><td>0.0</td><td>0.0</td><td>0.0</td><td>0.0</td><td>0.0</td><td>0.0</td><td>0.0</td><td>0.0</td><td>0.0</td><td>0.0</td><td>0.0</td><td>0.0</td><td>0.0</td><td>0.0</td><td>0.0</td><td>0</td><td>0.0</td><td>0.0</td><td>0.0</td><td>0.0</td><td>0</td><td></td><td>0.0</td><td>0.0</td><td>0.0</td><td>0.0</td><td></td><td>3800</td><td>1</td><td>4611686018427387904</td><td>0</td><td>0</td><td>36028797018963968</td><td>0</td><td>0</td><td>0</td><td>151.17589244285338</td><td>3.3018136694615223</td><td>80871</td><td>0</td><td>0.0</td><td>4</td><td>1</td><td>1.4660909</td><td>1.4662681</td><td>-4.688182</td><td>4.6882257</td><td>151.18080802397</td><td>0.30435994</td><td>3.3194304195301</td><td>0.26646987</td><td>0.0</td><td>-268.06165</td><td>282.75745</td></tr>\n",
       "<tr><td>243359260082224</td><td>12134.28510031104</td><td>7.0183325513157 .. 2.8268063299005393</td><td>1.1865008349116912</td><td>0.00011308103327749897</td><td>4</td><td>7929</td><td>GALAXY</td><td></td><td>10</td><td>2.844969302415848</td><td>243359260082224</td><td>6</td><td>225</td><td>6225</td><td>3003</td><td>0</td><td>150.5742743451722</td><td>3.2729662878519545</td><td>0.0</td><td>0.0</td><td>2021.2006</td><td>5400.0</td><td>4611686018427387904</td><td>1</td><td>TGT</td><td>-112.998085</td><td>266.5294</td><td>3800</td><td>0.8060626084083589</td><td>1</td><td>0</td><td></td><td>0</td><td>0</td><td></td><td>0.0</td><td>0.0</td><td>0.0</td><td>0.0</td><td>0.0</td><td>0.0</td><td>0.0</td><td>0.0</td><td>0.0</td><td>0.0</td><td>0.0</td><td>0.0</td><td>0.0</td><td>0.0</td><td>0.0</td><td>0.0</td><td>0.0</td><td>0</td><td>0.0</td><td>0.0</td><td>0.0</td><td>0.0</td><td>0</td><td></td><td>0.0</td><td>0.0</td><td>0.0</td><td>0.0</td><td></td><td>3800</td><td>1</td><td>4611686018427387904</td><td>0</td><td>0</td><td>36028797018963968</td><td>0</td><td>0</td><td>0</td><td>150.5742743451722</td><td>3.2729662878519545</td><td>80871</td><td>11</td><td>13420.532</td><td>4</td><td>1</td><td>-0.0017272728</td><td>0.0026798914</td><td>0.0016363637</td><td>0.0035929224</td><td>150.57426752825666</td><td>0.029509554</td><td>3.27296002957694</td><td>0.04467484</td><td>0.7920336</td><td>-113.00418</td><td>266.49783</td></tr>\n",
       "<tr><td>243359268470808</td><td>12246.055943086743</td><td>-19.241104523587705 .. -2.786973413267883</td><td>1.0078738134642724</td><td>9.59288104551344e-05</td><td>0</td><td>7929</td><td>GALAXY</td><td></td><td>10</td><td>18.05755615234375</td><td>243359268470808</td><td>6</td><td>493</td><td>6493</td><td>3004</td><td>0</td><td>151.1390793351886</td><td>3.2938890737494595</td><td>0.0</td><td>0.0</td><td>2021.2006</td><td>5400.0</td><td>4611686018427387904</td><td>1</td><td>TGT</td><td>-256.89188</td><td>275.69266</td><td>3800</td><td>0.816552407698026</td><td>1</td><td>0</td><td></td><td>0</td><td>0</td><td></td><td>0.0</td><td>0.0</td><td>0.0</td><td>0.0</td><td>0.0</td><td>0.0</td><td>0.0</td><td>0.0</td><td>0.0</td><td>0.0</td><td>0.0</td><td>0.0</td><td>0.0</td><td>0.0</td><td>0.0</td><td>0.0</td><td>0.0</td><td>0</td><td>0.0</td><td>0.0</td><td>0.0</td><td>0.0</td><td>0</td><td></td><td>0.0</td><td>0.0</td><td>0.0</td><td>0.0</td><td></td><td>3800</td><td>1</td><td>4611686018427387904</td><td>0</td><td>0</td><td>36028797018963968</td><td>0</td><td>0</td><td>0</td><td>151.1390793351886</td><td>3.2938890737494595</td><td>80871</td><td>11</td><td>13420.532</td><td>4</td><td>1</td><td>-0.0017272728</td><td>0.0042103766</td><td>-0.00045454546</td><td>0.004700097</td><td>151.13907263119182</td><td>0.05447237</td><td>3.293891043968714</td><td>0.065308176</td><td>0.79255426</td><td>-256.90182</td><td>275.63644</td></tr>\n",
       "<tr><td>142204190326789</td><td>11585.752759069204</td><td>45.82113095877894 .. 2.5939099564309056</td><td>1.020643135231145</td><td>0.00012188086983492085</td><td>4</td><td>7928</td><td>GALAXY</td><td></td><td>10</td><td>7.427003547549248</td><td>142204190326789</td><td>6</td><td>242</td><td>6242</td><td>3005</td><td>0</td><td>150.59421</td><td>3.30098</td><td>0.0</td><td>0.0</td><td>2021.2006</td><td>5400.0</td><td>4611686018427387904</td><td>1</td><td>TGT</td><td>-118.106026</td><td>273.85165</td><td>4000</td><td>0.0078187788194517</td><td>1</td><td>0</td><td></td><td>0</td><td>0</td><td></td><td>0.0</td><td>0.0</td><td>0.0</td><td>0.0</td><td>0.0</td><td>0.0</td><td>0.0</td><td>0.0</td><td>0.0</td><td>0.0</td><td>0.0</td><td>0.0</td><td>0.0</td><td>0.0</td><td>0.0</td><td>0.0</td><td>0.0</td><td>0</td><td>0.0</td><td>0.0</td><td>0.0</td><td>0.0</td><td>0</td><td></td><td>0.0</td><td>0.0</td><td>0.0</td><td>0.0</td><td></td><td>4000</td><td>1</td><td>4611686018427387904</td><td>0</td><td>0</td><td>4294967296</td><td>0</td><td>0</td><td>0</td><td>150.59421</td><td>3.30098</td><td>80871</td><td>11</td><td>13420.532</td><td>4</td><td>1</td><td>-0.0014545454</td><td>0.0039542844</td><td>0.0010909091</td><td>0.0045527215</td><td>150.5942042567275</td><td>0.052844934</td><td>3.3009758653321426</td><td>0.061469506</td><td>0.7921658</td><td>-118.11255</td><td>273.819</td></tr>\n",
       "<tr><td>39627865779602281</td><td>11829.274732173886</td><td>3495.8116107327587 .. 0.0</td><td>0.0012085129639015397</td><td>2.337916229719002e-06</td><td>0</td><td>7930</td><td>STAR</td><td>F</td><td>5</td><td>76127.99252723699</td><td>39627865779602281</td><td>6</td><td>525</td><td>6525</td><td>3006</td><td>0</td><td>151.25848390234046</td><td>3.3006830245825425</td><td>-2.3174994</td><td>-4.1649456</td><td>2021.2006</td><td>5400.0</td><td>2305843017803628544</td><td>3</td><td>TGT</td><td>-288.28</td><td>278.67807</td><td>1100</td><td>0.5366054688980418</td><td>7</td><td>9010</td><td>1513p032</td><td>349692</td><td>873</td><td>PSF</td><td>0.019996872</td><td>37.272858</td><td>47.611893</td><td>50.00958</td><td>11.548438</td><td>4.4169903</td><td>175.21423</td><td>105.579124</td><td>45.767677</td><td>2.9158607</td><td>0.66716486</td><td>28.99908</td><td>37.04307</td><td>38.908524</td><td>28.99908</td><td>37.04307</td><td>38.908524</td><td>0</td><td>0.0</td><td>0.0</td><td>0.0</td><td>0.0</td><td>3836800250950023296</td><td>G2</td><td>18.352486</td><td>18.58258</td><td>17.929276</td><td>-0.15156963</td><td>S</td><td>1100</td><td>1</td><td>2305843017803628544</td><td>0</td><td>33</td><td>0</td><td>0</td><td>0</td><td>0</td><td>151.25848390234046</td><td>3.3006830245825425</td><td>80871</td><td>11</td><td>13420.532</td><td>4</td><td>1</td><td>0.0019090909</td><td>0.0039427723</td><td>9.090909e-05</td><td>0.0046612523</td><td>151.2584911597227</td><td>0.045868</td><td>3.300682388297116</td><td>0.0627517</td><td>0.789</td><td>-288.29456</td><td>278.6141</td></tr>\n",
       "<tr><td>243359260082220</td><td>12461.209353983402</td><td>4.620276713569639 .. 0.0</td><td>3.007888227421247</td><td>0.0001601342962137919</td><td>0</td><td>7928</td><td>LBG</td><td></td><td>5</td><td>594.0885614156723</td><td>243359260082220</td><td>6</td><td>227</td><td>6227</td><td>3007</td><td>0</td><td>150.6402977803781</td><td>3.2073649092553183</td><td>0.0</td><td>0.0</td><td>2021.2006</td><td>5400.0</td><td>4611686018427387904</td><td>1</td><td>TGT</td><td>-129.21231</td><td>249.91289</td><td>3800</td><td>0.8063929957875609</td><td>1</td><td>0</td><td></td><td>0</td><td>0</td><td></td><td>0.0</td><td>0.0</td><td>0.0</td><td>0.0</td><td>0.0</td><td>0.0</td><td>0.0</td><td>0.0</td><td>0.0</td><td>0.0</td><td>0.0</td><td>0.0</td><td>0.0</td><td>0.0</td><td>0.0</td><td>0.0</td><td>0.0</td><td>0</td><td>0.0</td><td>0.0</td><td>0.0</td><td>0.0</td><td>0</td><td></td><td>0.0</td><td>0.0</td><td>0.0</td><td>0.0</td><td></td><td>3800</td><td>1</td><td>4611686018427387904</td><td>0</td><td>0</td><td>36028797018963968</td><td>0</td><td>0</td><td>0</td><td>150.6402977803781</td><td>3.2073649092553183</td><td>80871</td><td>11</td><td>13420.532</td><td>4</td><td>1</td><td>-0.0010909091</td><td>0.0028919952</td><td>0.001</td><td>0.003233349</td><td>150.64029348075033</td><td>0.038557824</td><td>3.2073610701304656</td><td>0.04315707</td><td>0.7919937</td><td>-129.21918</td><td>249.88155</td></tr>\n",
       "<tr><td>243359268470810</td><td>12183.65258860588</td><td>-16.243400862861204 .. -4.708790492425748</td><td>0.4559487405045347</td><td>9.986211154546036e-05</td><td>4</td><td>7929</td><td>GALAXY</td><td></td><td>10</td><td>8.349296391010284</td><td>243359268470810</td><td>6</td><td>492</td><td>6492</td><td>3008</td><td>0</td><td>151.11616129660325</td><td>3.3325389004096104</td><td>0.0</td><td>0.0</td><td>2021.2006</td><td>5400.0</td><td>4611686018427387904</td><td>1</td><td>TGT</td><td>-251.2928</td><td>285.63474</td><td>3800</td><td>0.8163872140084248</td><td>1</td><td>0</td><td></td><td>0</td><td>0</td><td></td><td>0.0</td><td>0.0</td><td>0.0</td><td>0.0</td><td>0.0</td><td>0.0</td><td>0.0</td><td>0.0</td><td>0.0</td><td>0.0</td><td>0.0</td><td>0.0</td><td>0.0</td><td>0.0</td><td>0.0</td><td>0.0</td><td>0.0</td><td>0</td><td>0.0</td><td>0.0</td><td>0.0</td><td>0.0</td><td>0</td><td></td><td>0.0</td><td>0.0</td><td>0.0</td><td>0.0</td><td></td><td>3800</td><td>1</td><td>4611686018427387904</td><td>0</td><td>0</td><td>36028797018963968</td><td>0</td><td>0</td><td>0</td><td>151.11616129660325</td><td>3.3325389004096104</td><td>80871</td><td>11</td><td>13420.532</td><td>4</td><td>1</td><td>0.0024545453</td><td>0.004926736</td><td>0.00027272728</td><td>0.004253341</td><td>151.11617077932144</td><td>0.05815479</td><td>3.3325375259051553</td><td>0.057067152</td><td>0.79259396</td><td>-251.30836</td><td>285.57828</td></tr>\n",
       "<tr><td>234563167059978</td><td>12047.491896048188</td><td>2.4273134362717905 .. -0.2074078609651951</td><td>0.642891831170849</td><td>6.862262083849164e-05</td><td>4</td><td>7928</td><td>GALAXY</td><td></td><td>10</td><td>5.173565909266472</td><td>234563167059978</td><td>6</td><td>226</td><td>6226</td><td>3009</td><td>0</td><td>150.61369332470753</td><td>3.2364675020671188</td><td>0.0</td><td>0.0</td><td>2021.2006</td><td>5400.0</td><td>4611686018427387904</td><td>1</td><td>TGT</td><td>-122.690735</td><td>257.2811</td><td>3900</td><td>0.17810292633703328</td><td>1</td><td>0</td><td></td><td>0</td><td>0</td><td></td><td>0.0</td><td>0.0</td><td>0.0</td><td>0.0</td><td>0.0</td><td>0.0</td><td>0.0</td><td>0.0</td><td>0.0</td><td>0.0</td><td>0.0</td><td>0.0</td><td>0.0</td><td>0.0</td><td>0.0</td><td>0.0</td><td>0.0</td><td>0</td><td>0.0</td><td>0.0</td><td>0.0</td><td>0.0</td><td>0</td><td></td><td>0.0</td><td>0.0</td><td>0.0</td><td>0.0</td><td></td><td>3900</td><td>1</td><td>4611686018427387904</td><td>0</td><td>0</td><td>9007199254740992</td><td>0</td><td>0</td><td>0</td><td>150.61369332470753</td><td>3.2364675020671188</td><td>80871</td><td>11</td><td>13420.532</td><td>4</td><td>1</td><td>-0.00081818184</td><td>0.002354879</td><td>0.0017272728</td><td>0.0035290997</td><td>150.61369016227667</td><td>0.031650897</td><td>3.2364608204966463</td><td>0.043017436</td><td>0.7920043</td><td>-122.69791</td><td>257.2489</td></tr>\n",
       "<tr><td>...</td><td>...</td><td>...</td><td>...</td><td>...</td><td>...</td><td>...</td><td>...</td><td>...</td><td>...</td><td>...</td><td>...</td><td>...</td><td>...</td><td>...</td><td>...</td><td>...</td><td>...</td><td>...</td><td>...</td><td>...</td><td>...</td><td>...</td><td>...</td><td>...</td><td>...</td><td>...</td><td>...</td><td>...</td><td>...</td><td>...</td><td>...</td><td>...</td><td>...</td><td>...</td><td>...</td><td>...</td><td>...</td><td>...</td><td>...</td><td>...</td><td>...</td><td>...</td><td>...</td><td>...</td><td>...</td><td>...</td><td>...</td><td>...</td><td>...</td><td>...</td><td>...</td><td>...</td><td>...</td><td>...</td><td>...</td><td>...</td><td>...</td><td>...</td><td>...</td><td>...</td><td>...</td><td>...</td><td>...</td><td>...</td><td>...</td><td>...</td><td>...</td><td>...</td><td>...</td><td>...</td><td>...</td><td>...</td><td>...</td><td>...</td><td>...</td><td>...</td><td>...</td><td>...</td><td>...</td><td>...</td><td>...</td><td>...</td><td>...</td><td>...</td><td>...</td><td>...</td><td>...</td><td>...</td><td>...</td><td>...</td><td>...</td></tr>\n",
       "<tr><td>39627853674840787</td><td>14190.493035912514</td><td>23.946921472977447 .. 2.9398032594395906</td><td>0.7296432392450597</td><td>2.7582441991545127e-05</td><td>0</td><td>7928</td><td>GALAXY</td><td></td><td>10</td><td>567.0782049261034</td><td>39627853674840787</td><td>4</td><td>80</td><td>4080</td><td>2490</td><td>0</td><td>149.53683</td><td>2.66705</td><td>0.0</td><td>0.0</td><td>2021.2006</td><td>5400.0</td><td>4611686018427387904</td><td>1</td><td>TGT</td><td>142.71858</td><td>114.70733</td><td>4000</td><td>0.2922712818342239</td><td>1</td><td>0</td><td></td><td>0</td><td>0</td><td></td><td>0.0</td><td>0.167135</td><td>0.237828</td><td>0.389104</td><td>0.0</td><td>0.0</td><td>0.0</td><td>0.0</td><td>0.0</td><td>0.0</td><td>0.0</td><td>0.0</td><td>0.0</td><td>0.0</td><td>0.0</td><td>0.0</td><td>0.0</td><td>0</td><td>0.0</td><td>0.0</td><td>0.0</td><td>0.0</td><td>0</td><td></td><td>0.0</td><td>0.0</td><td>0.0</td><td>0.0</td><td></td><td>4000</td><td>1</td><td>4611686018427387904</td><td>0</td><td>0</td><td>4294967296</td><td>0</td><td>0</td><td>0</td><td>149.53683</td><td>2.66705</td><td>80871</td><td>20</td><td>20722.727</td><td>5</td><td>1</td><td>0.0015</td><td>0.0056302752</td><td>0.00015</td><td>0.007996874</td><td>149.53683605719155</td><td>0.07937535</td><td>2.6670494489819623</td><td>0.11693409</td><td>0.7917073</td><td>142.71194</td><td>114.69975</td></tr>\n",
       "<tr><td>616088605978264259</td><td>8.999999999999996e+99</td><td>0.0 .. 0.0</td><td>-0.0019957014509158224</td><td>4.131159871613317e-48</td><td>1571</td><td>0</td><td>STAR</td><td>K</td><td>5</td><td>1.942668892225729e+84</td><td>616088605978264259</td><td>4</td><td>95</td><td>4095</td><td>2491</td><td>512</td><td>149.70117851902233</td><td>2.7761611593559907</td><td>0.0</td><td>0.0</td><td>0.0</td><td>5400.0</td><td>4294967296</td><td>4</td><td>SKY</td><td>102.33922</td><td>141.28543</td><td>-1</td><td>0.8928090682190781</td><td>63</td><td>9010</td><td>1496p027</td><td>346806</td><td>707</td><td></td><td>0.0</td><td>0.0</td><td>0.0</td><td>0.0</td><td>0.0</td><td>0.0</td><td>0.0</td><td>0.0</td><td>0.0</td><td>0.0</td><td>0.0</td><td>0.0026411826</td><td>-0.0013252196</td><td>0.11883229</td><td>0.0</td><td>0.0</td><td>0.0</td><td>0</td><td>0.0</td><td>0.0</td><td>0.0</td><td>0.0</td><td>0</td><td></td><td>0.0</td><td>0.0</td><td>0.0</td><td>0.0</td><td></td><td>-1</td><td>-1</td><td>0</td><td>0</td><td>0</td><td>0</td><td>4294967296</td><td>0</td><td>0</td><td>149.70117851902233</td><td>2.7761611593559907</td><td>80871</td><td>0</td><td>0.0</td><td>5</td><td>1</td><td>-3.88995</td><td>4.1301126</td><td>1.36745</td><td>1.6325577</td><td>149.68534984308087</td><td>20.270063</td><td>2.7705007384287708</td><td>12.882671</td><td>0.0</td><td>106.2262</td><td>139.90994</td></tr>\n",
       "<tr><td>39627853679034491</td><td>17995.31720137596</td><td>6.386326342333643 .. -1.461652687813333</td><td>0.3708488374929419</td><td>1.0124693787629538e-05</td><td>0</td><td>7929</td><td>GALAXY</td><td></td><td>10</td><td>51.57879879511893</td><td>39627853679034491</td><td>4</td><td>109</td><td>4109</td><td>2492</td><td>0</td><td>149.75717</td><td>2.83971</td><td>0.0</td><td>0.0</td><td>2021.2006</td><td>5400.0</td><td>4611686018427387904</td><td>1</td><td>TGT</td><td>88.66525</td><td>156.92354</td><td>4000</td><td>0.25662757210207054</td><td>1</td><td>0</td><td></td><td>0</td><td>0</td><td></td><td>0.0</td><td>0.14983</td><td>0.516264</td><td>1.257357</td><td>0.0</td><td>0.0</td><td>0.0</td><td>0.0</td><td>0.0</td><td>0.0</td><td>0.0</td><td>0.0</td><td>0.0</td><td>0.0</td><td>0.0</td><td>0.0</td><td>0.0</td><td>0</td><td>0.0</td><td>0.0</td><td>0.0</td><td>0.0</td><td>0</td><td></td><td>0.0</td><td>0.0</td><td>0.0</td><td>0.0</td><td></td><td>4000</td><td>1</td><td>4611686018427387904</td><td>0</td><td>0</td><td>4294967296</td><td>0</td><td>0</td><td>0</td><td>149.75717</td><td>2.83971</td><td>80871</td><td>20</td><td>20722.727</td><td>5</td><td>1</td><td>0.00185</td><td>0.005634714</td><td>-0.00025</td><td>0.0078517515</td><td>149.75717752855272</td><td>0.07832522</td><td>2.839711067101848</td><td>0.11415428</td><td>0.7916771</td><td>88.66155</td><td>156.9147</td></tr>\n",
       "<tr><td>238949121392723</td><td>15012.830350488424</td><td>49.722866093905886 .. 1.764616370079381</td><td>1.528409221449794</td><td>0.00012523179227589144</td><td>4</td><td>7928</td><td>GALAXY</td><td></td><td>10</td><td>7.0312937796115875</td><td>238949121392723</td><td>4</td><td>96</td><td>4096</td><td>2493</td><td>0</td><td>149.72918182385507</td><td>2.785562115555946</td><td>0.0</td><td>0.0</td><td>2021.2006</td><td>5400.0</td><td>4611686018427387904</td><td>1</td><td>TGT</td><td>95.46461</td><td>143.5513</td><td>3700</td><td>0.9371990514262936</td><td>1</td><td>0</td><td></td><td>0</td><td>0</td><td></td><td>0.0</td><td>0.0</td><td>0.0</td><td>0.0</td><td>0.0</td><td>0.0</td><td>0.0</td><td>0.0</td><td>0.0</td><td>0.0</td><td>0.0</td><td>0.0</td><td>0.0</td><td>0.0</td><td>0.0</td><td>0.0</td><td>0.0</td><td>0</td><td>0.0</td><td>0.0</td><td>0.0</td><td>0.0</td><td>0</td><td></td><td>0.0</td><td>0.0</td><td>0.0</td><td>0.0</td><td></td><td>3700</td><td>1</td><td>4611686018427387904</td><td>0</td><td>0</td><td>18014398509481984</td><td>0</td><td>0</td><td>0</td><td>149.72918182385507</td><td>2.785562115555946</td><td>80871</td><td>20</td><td>20722.727</td><td>5</td><td>1</td><td>0.00215</td><td>0.0059287436</td><td>-1e-04</td><td>0.008538149</td><td>149.72919056972054</td><td>0.08130362</td><td>2.785562587843577</td><td>0.12448747</td><td>0.7917087</td><td>95.4596</td><td>143.5436</td></tr>\n",
       "<tr><td>243347167903798</td><td>13722.377698213793</td><td>-44.521731973491725 .. 0.49621243875061927</td><td>0.09262988493154996</td><td>6.160644600793652e-05</td><td>0</td><td>7928</td><td>GALAXY</td><td></td><td>10</td><td>46.08042747806758</td><td>243347167903798</td><td>4</td><td>90</td><td>4090</td><td>2494</td><td>0</td><td>149.50422287814862</td><td>2.697805070493063</td><td>0.0</td><td>0.0</td><td>2021.2006</td><td>5400.0</td><td>4611686018427387904</td><td>1</td><td>TGT</td><td>150.86594</td><td>122.40057</td><td>3800</td><td>0.20475757826051044</td><td>1</td><td>0</td><td></td><td>0</td><td>0</td><td></td><td>0.0</td><td>0.0</td><td>0.0</td><td>0.0</td><td>0.0</td><td>0.0</td><td>0.0</td><td>0.0</td><td>0.0</td><td>0.0</td><td>0.0</td><td>0.0</td><td>0.0</td><td>0.0</td><td>0.0</td><td>0.0</td><td>0.0</td><td>0</td><td>0.0</td><td>0.0</td><td>0.0</td><td>0.0</td><td>0</td><td></td><td>0.0</td><td>0.0</td><td>0.0</td><td>0.0</td><td></td><td>3800</td><td>1</td><td>4611686018427387904</td><td>0</td><td>0</td><td>36028797018963968</td><td>0</td><td>0</td><td>0</td><td>149.50422287814862</td><td>2.697805070493063</td><td>80871</td><td>20</td><td>20722.727</td><td>5</td><td>1</td><td>-0.0003</td><td>0.0052725705</td><td>5e-05</td><td>0.008726397</td><td>149.50422166722754</td><td>0.076824024</td><td>2.697804855641855</td><td>0.12727936</td><td>0.7918251</td><td>150.86134</td><td>122.39155</td></tr>\n",
       "<tr><td>234551074881541</td><td>10484.409554690123</td><td>12.072511264264678 .. 1.4387688205141282</td><td>1.0466288601104123</td><td>7.507192301157082e-05</td><td>4</td><td>7929</td><td>GALAXY</td><td></td><td>10</td><td>0.17230911180377007</td><td>234551074881541</td><td>4</td><td>85</td><td>4085</td><td>2495</td><td>0</td><td>149.70735533868765</td><td>2.7636234680826286</td><td>0.0</td><td>0.0</td><td>2021.2006</td><td>5400.0</td><td>4611686018427387904</td><td>1</td><td>TGT</td><td>100.79946</td><td>138.16702</td><td>3900</td><td>0.8340060544904138</td><td>1</td><td>0</td><td></td><td>0</td><td>0</td><td></td><td>0.0</td><td>0.0</td><td>0.0</td><td>0.0</td><td>0.0</td><td>0.0</td><td>0.0</td><td>0.0</td><td>0.0</td><td>0.0</td><td>0.0</td><td>0.0</td><td>0.0</td><td>0.0</td><td>0.0</td><td>0.0</td><td>0.0</td><td>0</td><td>0.0</td><td>0.0</td><td>0.0</td><td>0.0</td><td>0</td><td></td><td>0.0</td><td>0.0</td><td>0.0</td><td>0.0</td><td></td><td>3900</td><td>1</td><td>4611686018427387904</td><td>0</td><td>0</td><td>9007199254740992</td><td>0</td><td>0</td><td>0</td><td>149.70735533868765</td><td>2.7636234680826286</td><td>80871</td><td>11</td><td>9742.309</td><td>5</td><td>1</td><td>1.0295</td><td>1.5392781</td><td>0.67325</td><td>1.0543692</td><td>149.71152877948526</td><td>16.71791</td><td>2.7609319307781215</td><td>11.695925</td><td>0.4356636</td><td>99.7668</td><td>137.48625</td></tr>\n",
       "<tr><td>142192098148357</td><td>13611.677379846573</td><td>-14.062527730281106 .. -1.4357870003556654</td><td>1.5125976973504633</td><td>6.573859759020413e-05</td><td>4</td><td>7929</td><td>GALAXY</td><td></td><td>10</td><td>6.767549321055412</td><td>142192098148357</td><td>4</td><td>83</td><td>4083</td><td>2496</td><td>0</td><td>149.63321</td><td>2.72524</td><td>0.0</td><td>0.0</td><td>2021.2006</td><td>5400.0</td><td>4611686018427387904</td><td>1</td><td>TGT</td><td>119.00089</td><td>128.8445</td><td>4000</td><td>0.42133353085965064</td><td>1</td><td>0</td><td></td><td>0</td><td>0</td><td></td><td>0.0</td><td>0.0</td><td>0.0</td><td>0.0</td><td>0.0</td><td>0.0</td><td>0.0</td><td>0.0</td><td>0.0</td><td>0.0</td><td>0.0</td><td>0.0</td><td>0.0</td><td>0.0</td><td>0.0</td><td>0.0</td><td>0.0</td><td>0</td><td>0.0</td><td>0.0</td><td>0.0</td><td>0.0</td><td>0</td><td></td><td>0.0</td><td>0.0</td><td>0.0</td><td>0.0</td><td></td><td>4000</td><td>1</td><td>4611686018427387904</td><td>0</td><td>0</td><td>4294967296</td><td>0</td><td>0</td><td>0</td><td>149.63321</td><td>2.72524</td><td>80871</td><td>20</td><td>20722.727</td><td>5</td><td>1</td><td>0.00115</td><td>0.00534322</td><td>1e-04</td><td>0.009433981</td><td>149.63321466188623</td><td>0.07663229</td><td>2.725239635790091</td><td>0.13772169</td><td>0.79174924</td><td>118.99605</td><td>128.83714</td></tr>\n",
       "<tr><td>39627853674843878</td><td>14616.903904337436</td><td>-2.5526035520365264e-05 .. 0.0</td><td>0.9453433511190227</td><td>0.00019362077456146022</td><td>0</td><td>7929</td><td>QSO</td><td></td><td>4</td><td>61.2808290310204</td><td>39627853674843878</td><td>4</td><td>84</td><td>4084</td><td>2497</td><td>0</td><td>149.69798</td><td>2.7257</td><td>0.0</td><td>0.0</td><td>2021.2006</td><td>5400.0</td><td>4611686018427387904</td><td>1</td><td>TGT</td><td>103.048805</td><td>128.81024</td><td>4000</td><td>0.7237378276414873</td><td>1</td><td>0</td><td></td><td>0</td><td>0</td><td></td><td>0.0</td><td>0.100119</td><td>0.168105</td><td>0.872605</td><td>0.0</td><td>0.0</td><td>0.0</td><td>0.0</td><td>0.0</td><td>0.0</td><td>0.0</td><td>0.0</td><td>0.0</td><td>0.0</td><td>0.0</td><td>0.0</td><td>0.0</td><td>0</td><td>0.0</td><td>0.0</td><td>0.0</td><td>0.0</td><td>0</td><td></td><td>0.0</td><td>0.0</td><td>0.0</td><td>0.0</td><td></td><td>4000</td><td>1</td><td>4611686018427387904</td><td>0</td><td>0</td><td>4294967296</td><td>0</td><td>0</td><td>0</td><td>149.69798</td><td>2.7257</td><td>80871</td><td>20</td><td>20722.727</td><td>5</td><td>1</td><td>0.00215</td><td>0.0055542774</td><td>-0.0006</td><td>0.008642917</td><td>149.69798875479563</td><td>0.07537023</td><td>2.725702496602504</td><td>0.12602186</td><td>0.7916282</td><td>103.04295</td><td>128.80435</td></tr>\n",
       "<tr><td>243347167903820</td><td>13711.12682478875</td><td>-8.56908312827298 .. 0.0</td><td>1.5177246044938004</td><td>0.0004618419955190548</td><td>4</td><td>7928</td><td>BC03</td><td></td><td>5</td><td>8.52247632551007</td><td>243347167903820</td><td>4</td><td>107</td><td>4107</td><td>2498</td><td>0</td><td>149.70942683863962</td><td>2.812844026514881</td><td>0.0</td><td>0.0</td><td>2021.2006</td><td>5400.0</td><td>4611686018427387904</td><td>1</td><td>TGT</td><td>100.36929</td><td>150.36166</td><td>3800</td><td>0.18509952919798467</td><td>1</td><td>0</td><td></td><td>0</td><td>0</td><td></td><td>0.0</td><td>0.0</td><td>0.0</td><td>0.0</td><td>0.0</td><td>0.0</td><td>0.0</td><td>0.0</td><td>0.0</td><td>0.0</td><td>0.0</td><td>0.0</td><td>0.0</td><td>0.0</td><td>0.0</td><td>0.0</td><td>0.0</td><td>0</td><td>0.0</td><td>0.0</td><td>0.0</td><td>0.0</td><td>0</td><td></td><td>0.0</td><td>0.0</td><td>0.0</td><td>0.0</td><td></td><td>3800</td><td>1</td><td>4611686018427387904</td><td>0</td><td>0</td><td>36028797018963968</td><td>0</td><td>0</td><td>0</td><td>149.70942683863962</td><td>2.812844026514881</td><td>80871</td><td>20</td><td>20722.727</td><td>5</td><td>1</td><td>0.00215</td><td>0.005970762</td><td>1.3010427e-19</td><td>0.008432082</td><td>149.70943557192658</td><td>0.081895374</td><td>2.8128441011595227</td><td>0.12275641</td><td>0.79175377</td><td>100.36495</td><td>150.35295</td></tr>\n",
       "<tr><td>234551074881556</td><td>8.999999999999996e+99</td><td>0.0 .. 0.0</td><td>-0.0019957014509158224</td><td>4.131159871613317e-48</td><td>1570</td><td>0</td><td>STAR</td><td>K</td><td>5</td><td>1.942668892225729e+84</td><td>234551074881556</td><td>4</td><td>93</td><td>4093</td><td>2499</td><td>512</td><td>149.62567930661527</td><td>2.74024129994062</td><td>0.0</td><td>0.0</td><td>2021.2006</td><td>5400.0</td><td>4611686018427387904</td><td>1</td><td>TGT</td><td>120.88549</td><td>132.57423</td><td>3900</td><td>0.11503531786074672</td><td>1</td><td>0</td><td></td><td>0</td><td>0</td><td></td><td>0.0</td><td>0.0</td><td>0.0</td><td>0.0</td><td>0.0</td><td>0.0</td><td>0.0</td><td>0.0</td><td>0.0</td><td>0.0</td><td>0.0</td><td>0.0</td><td>0.0</td><td>0.0</td><td>0.0</td><td>0.0</td><td>0.0</td><td>0</td><td>0.0</td><td>0.0</td><td>0.0</td><td>0.0</td><td>0</td><td></td><td>0.0</td><td>0.0</td><td>0.0</td><td>0.0</td><td></td><td>3900</td><td>1</td><td>4611686018427387904</td><td>0</td><td>0</td><td>9007199254740992</td><td>0</td><td>0</td><td>0</td><td>149.62567930661527</td><td>2.74024129994062</td><td>80871</td><td>0</td><td>0.0</td><td>5</td><td>1</td><td>-4.86015</td><td>4.881438</td><td>1.20065</td><td>1.8829405</td><td>149.6059633848306</td><td>6.7852015</td><td>2.7352019525344566</td><td>21.172703</td><td>0.0</td><td>125.7422</td><td>131.36565</td></tr>\n",
       "</table>"
      ],
      "text/plain": [
       "<Table length=5000>\n",
       "    TARGETID_1              CHI2         ... MEAN_FIBER_X MEAN_FIBER_Y\n",
       "      int64               float64        ...   float32      float32   \n",
       "------------------ --------------------- ... ------------ ------------\n",
       "616088618083025980    11580.284447138663 ...     -276.436      291.403\n",
       "616088618078831375     11946.38049569726 ...    -251.5209    274.38235\n",
       "   243359268470827 8.999999999999996e+99 ...   -268.06165    282.75745\n",
       "   243359260082224     12134.28510031104 ...   -113.00418    266.49783\n",
       "   243359268470808    12246.055943086743 ...   -256.90182    275.63644\n",
       "   142204190326789    11585.752759069204 ...   -118.11255      273.819\n",
       " 39627865779602281    11829.274732173886 ...   -288.29456     278.6141\n",
       "   243359260082220    12461.209353983402 ...   -129.21918    249.88155\n",
       "   243359268470810     12183.65258860588 ...   -251.30836    285.57828\n",
       "   234563167059978    12047.491896048188 ...   -122.69791     257.2489\n",
       "               ...                   ... ...          ...          ...\n",
       " 39627853674840787    14190.493035912514 ...    142.71194    114.69975\n",
       "616088605978264259 8.999999999999996e+99 ...     106.2262    139.90994\n",
       " 39627853679034491     17995.31720137596 ...     88.66155     156.9147\n",
       "   238949121392723    15012.830350488424 ...      95.4596     143.5436\n",
       "   243347167903798    13722.377698213793 ...    150.86134    122.39155\n",
       "   234551074881541    10484.409554690123 ...      99.7668    137.48625\n",
       "   142192098148357    13611.677379846573 ...    118.99605    128.83714\n",
       " 39627853674843878    14616.903904337436 ...    103.04295    128.80435\n",
       "   243347167903820     13711.12682478875 ...    100.36495    150.35295\n",
       "   234551074881556 8.999999999999996e+99 ...     125.7422    131.36565"
      ]
     },
     "execution_count": 8,
     "metadata": {},
     "output_type": "execute_result"
    }
   ],
   "source": [
    "results[80871]"
   ]
  },
  {
   "cell_type": "code",
   "execution_count": 30,
   "id": "2212d1ce-fa18-433b-9bd9-1db701a8fb33",
   "metadata": {},
   "outputs": [],
   "source": [
    "scnd_types = sorted(scnd_mask.names())"
   ]
  },
  {
   "cell_type": "code",
   "execution_count": 31,
   "id": "cab0d4dd-cd6c-4d93-91d1-31d631b2f70a",
   "metadata": {},
   "outputs": [
    {
     "data": {
      "text/plain": [
       "[80869, 80871, 80872]"
      ]
     },
     "execution_count": 31,
     "metadata": {},
     "output_type": "execute_result"
    }
   ],
   "source": [
    "tids = sorted(list(results.keys()))\n",
    "tids"
   ]
  },
  {
   "cell_type": "code",
   "execution_count": 37,
   "id": "30d35ac8-d813-426c-93b7-086881b48cb0",
   "metadata": {},
   "outputs": [
    {
     "name": "stdout",
     "output_type": "stream",
     "text": [
      "\n",
      "\n",
      "----  TILEID: 80869  ----\n",
      "\n",
      "BACKUP_CALIB    \t71\n",
      "BHB             \t1\n",
      "BRIGHT_HPM      \t0\n",
      "BRIGHT_TOO      \t0\n",
      "DARK_TOO        \t0\n",
      "DC3R2_GAMA      \t0\n",
      "DESILBG_BXU_FINAL\t0\n",
      "DESILBG_G_FINAL \t0\n",
      "DESILBG_TMG_FINAL\t0\n",
      "FAINT_HPM       \t2\n",
      "FIRST_MALS      \t0\n",
      "GAL_CLUS_2ND    \t0\n",
      "GAL_CLUS_BCG    \t0\n",
      "GAL_CLUS_SAT    \t0\n",
      "HETDEX_HP       \t25\n",
      "HETDEX_MAIN     \t1934\n",
      "HPM_SOUM        \t0\n",
      "HSC_HIZ_SNE     \t0\n",
      "ISM_CGM_QGP     \t0\n",
      "LBG_TOMOG_COSMOS_FINAL\t0\n",
      "LBG_TOMOG_W3    \t0\n",
      "LBG_TOMOG_XMM   \t0\n",
      "LOW_MASS_AGN    \t6\n",
      "LOW_Z           \t1948\n",
      "M31_KNOWN       \t0\n",
      "M31_QSO         \t0\n",
      "M31_STAR        \t0\n",
      "MWS_CALIB       \t71\n",
      "MWS_CLUS_GAL_DEEP\t0\n",
      "MWS_MAIN_CLUSTER_SV\t0\n",
      "MWS_RRLYR       \t1\n",
      "PSF_OUT_BRIGHT  \t0\n",
      "PSF_OUT_DARK    \t0\n",
      "PV_BRIGHT       \t0\n",
      "PV_DARK         \t0\n",
      "QSO_RED         \t0\n",
      "SN_HOSTS        \t0\n",
      "SPCV            \t0\n",
      "STRONG_LENS     \t0\n",
      "UDG             \t0\n",
      "UNWISE_BLUE     \t0\n",
      "UNWISE_BLUE_BRIGHT_II\t0\n",
      "UNWISE_BLUE_FAINT_II\t0\n",
      "UNWISE_GREEN    \t0\n",
      "UNWISE_GREEN_II_3700\t0\n",
      "UNWISE_GREEN_II_3800\t0\n",
      "UNWISE_GREEN_II_3900\t0\n",
      "UNWISE_GREEN_II_4000\t0\n",
      "VETO            \t0\n",
      "WD_BINARIES_BRIGHT\t0\n",
      "WD_BINARIES_DARK\t0\n",
      "WISE_VAR_QSO    \t115\n",
      "\n",
      "\n",
      "----  TILEID: 80871  ----\n",
      "\n",
      "BACKUP_CALIB    \t7\n",
      "BHB             \t0\n",
      "BRIGHT_HPM      \t0\n",
      "BRIGHT_TOO      \t0\n",
      "DARK_TOO        \t0\n",
      "DC3R2_GAMA      \t0\n",
      "DESILBG_BXU_FINAL\t1221\n",
      "DESILBG_G_FINAL \t842\n",
      "DESILBG_TMG_FINAL\t931\n",
      "FAINT_HPM       \t0\n",
      "FIRST_MALS      \t0\n",
      "GAL_CLUS_2ND    \t0\n",
      "GAL_CLUS_BCG    \t0\n",
      "GAL_CLUS_SAT    \t0\n",
      "HETDEX_HP       \t0\n",
      "HETDEX_MAIN     \t0\n",
      "HPM_SOUM        \t0\n",
      "HSC_HIZ_SNE     \t694\n",
      "ISM_CGM_QGP     \t58\n",
      "LBG_TOMOG_COSMOS_FINAL\t4\n",
      "LBG_TOMOG_W3    \t0\n",
      "LBG_TOMOG_XMM   \t0\n",
      "LOW_MASS_AGN    \t1\n",
      "LOW_Z           \t54\n",
      "M31_KNOWN       \t0\n",
      "M31_QSO         \t0\n",
      "M31_STAR        \t0\n",
      "MWS_CALIB       \t7\n",
      "MWS_CLUS_GAL_DEEP\t0\n",
      "MWS_MAIN_CLUSTER_SV\t0\n",
      "MWS_RRLYR       \t0\n",
      "PSF_OUT_BRIGHT  \t24\n",
      "PSF_OUT_DARK    \t43\n",
      "PV_BRIGHT       \t0\n",
      "PV_DARK         \t0\n",
      "QSO_RED         \t0\n",
      "SN_HOSTS        \t0\n",
      "SPCV            \t0\n",
      "STRONG_LENS     \t0\n",
      "UDG             \t0\n",
      "UNWISE_BLUE     \t49\n",
      "UNWISE_BLUE_BRIGHT_II\t0\n",
      "UNWISE_BLUE_FAINT_II\t0\n",
      "UNWISE_GREEN    \t10\n",
      "UNWISE_GREEN_II_3700\t0\n",
      "UNWISE_GREEN_II_3800\t0\n",
      "UNWISE_GREEN_II_3900\t0\n",
      "UNWISE_GREEN_II_4000\t0\n",
      "VETO            \t0\n",
      "WD_BINARIES_BRIGHT\t0\n",
      "WD_BINARIES_DARK\t0\n",
      "WISE_VAR_QSO    \t46\n",
      "\n",
      "\n",
      "----  TILEID: 80872  ----\n",
      "\n",
      "BACKUP_CALIB    \t7\n",
      "BHB             \t0\n",
      "BRIGHT_HPM      \t0\n",
      "BRIGHT_TOO      \t0\n",
      "DARK_TOO        \t0\n",
      "DC3R2_GAMA      \t0\n",
      "DESILBG_BXU_FINAL\t1721\n",
      "DESILBG_G_FINAL \t1128\n",
      "DESILBG_TMG_FINAL\t613\n",
      "FAINT_HPM       \t1\n",
      "FIRST_MALS      \t1\n",
      "GAL_CLUS_2ND    \t0\n",
      "GAL_CLUS_BCG    \t0\n",
      "GAL_CLUS_SAT    \t0\n",
      "HETDEX_HP       \t0\n",
      "HETDEX_MAIN     \t0\n",
      "HPM_SOUM        \t0\n",
      "HSC_HIZ_SNE     \t192\n",
      "ISM_CGM_QGP     \t11\n",
      "LBG_TOMOG_COSMOS_FINAL\t3\n",
      "LBG_TOMOG_W3    \t0\n",
      "LBG_TOMOG_XMM   \t0\n",
      "LOW_MASS_AGN    \t0\n",
      "LOW_Z           \t40\n",
      "M31_KNOWN       \t0\n",
      "M31_QSO         \t0\n",
      "M31_STAR        \t0\n",
      "MWS_CALIB       \t7\n",
      "MWS_CLUS_GAL_DEEP\t0\n",
      "MWS_MAIN_CLUSTER_SV\t0\n",
      "MWS_RRLYR       \t0\n",
      "PSF_OUT_BRIGHT  \t13\n",
      "PSF_OUT_DARK    \t25\n",
      "PV_BRIGHT       \t0\n",
      "PV_DARK         \t0\n",
      "QSO_RED         \t0\n",
      "SN_HOSTS        \t0\n",
      "SPCV            \t0\n",
      "STRONG_LENS     \t0\n",
      "UDG             \t0\n",
      "UNWISE_BLUE     \t26\n",
      "UNWISE_BLUE_BRIGHT_II\t0\n",
      "UNWISE_BLUE_FAINT_II\t0\n",
      "UNWISE_GREEN    \t8\n",
      "UNWISE_GREEN_II_3700\t0\n",
      "UNWISE_GREEN_II_3800\t0\n",
      "UNWISE_GREEN_II_3900\t0\n",
      "UNWISE_GREEN_II_4000\t0\n",
      "VETO            \t0\n",
      "WD_BINARIES_BRIGHT\t0\n",
      "WD_BINARIES_DARK\t0\n",
      "WISE_VAR_QSO    \t36\n"
     ]
    }
   ],
   "source": [
    "for tid in tids:\n",
    "    print('\\n\\n----  TILEID: {:d}  ----\\n'.format(tid))\n",
    "\n",
    "    for x in scnd_types:\n",
    "        isin  = (results[tid]['SV1_SCND_TARGET'].data & scnd_mask[x]) != 0\n",
    "        nscnd = np.count_nonzero(isin)\n",
    "    \n",
    "        print('{}\\t{}'.format(x.ljust(16), nscnd))"
   ]
  },
  {
   "cell_type": "code",
   "execution_count": 43,
   "id": "3b06c898-53c9-4835-a634-7b40c2424768",
   "metadata": {},
   "outputs": [
    {
     "data": {
      "text/plain": [
       "['HETDEX_HP',\n",
       " 'HETDEX_MAIN',\n",
       " 'DESILBG_TMG_FINAL',\n",
       " 'DESILBG_BXU_FINAL',\n",
       " 'DESILBG_G_FINAL']"
      ]
     },
     "execution_count": 43,
     "metadata": {},
     "output_type": "execute_result"
    }
   ],
   "source": [
    "keep_types = ['HETDEX_HP', 'HETDEX_MAIN', 'DESILBG_TMG_FINAL', 'DESILBG_BXU_FINAL', 'DESILBG_G_FINAL']\n",
    "keep_types"
   ]
  },
  {
   "cell_type": "code",
   "execution_count": 51,
   "id": "cdf4bb5a-5cba-4765-b8ca-d64ddfe0d019",
   "metadata": {},
   "outputs": [
    {
     "name": "stdout",
     "output_type": "stream",
     "text": [
      "\n",
      "80869\tHETDEX_HP       \t25\n",
      "80869\tHETDEX_MAIN     \t1934\n",
      "80869\tDESILBG_TMG_FINAL\t0\n",
      "80869\tDESILBG_BXU_FINAL\t0\n",
      "80869\tDESILBG_G_FINAL \t0\n",
      "80869\t0.3918\n",
      "\n",
      "80871\tHETDEX_HP       \t0\n",
      "80871\tHETDEX_MAIN     \t0\n",
      "80871\tDESILBG_TMG_FINAL\t931\n",
      "80871\tDESILBG_BXU_FINAL\t1221\n",
      "80871\tDESILBG_G_FINAL \t842\n",
      "80871\t0.5988\n",
      "\n",
      "80872\tHETDEX_HP       \t0\n",
      "80872\tHETDEX_MAIN     \t0\n",
      "80872\tDESILBG_TMG_FINAL\t613\n",
      "80872\tDESILBG_BXU_FINAL\t1721\n",
      "80872\tDESILBG_G_FINAL \t1128\n",
      "80872\t0.6924\n"
     ]
    }
   ],
   "source": [
    "for tid in tids:\n",
    "    print()\n",
    "    \n",
    "    results[tid]['IN_SAMPLE'] = np.zeros(len(results[tid]), dtype=bool)\n",
    "    \n",
    "    for kt in keep_types:\n",
    "        in_kt = (results[tid]['SV1_SCND_TARGET'].data & scnd_mask[kt]) != 0\n",
    "        \n",
    "        results[tid]['IN_SAMPLE'] = results[tid]['IN_SAMPLE'].data | in_kt\n",
    "        \n",
    "        print('{}\\t{}\\t{}'.format(tid, kt.ljust(16), np.count_nonzero(in_kt)))\n",
    "        \n",
    "    print('{}\\t{}'.format(tid, np.mean(results[tid]['IN_SAMPLE'])))"
   ]
  },
  {
   "cell_type": "code",
   "execution_count": 54,
   "id": "6bfb2347-6abc-40ac-8778-68f130e8cd2c",
   "metadata": {},
   "outputs": [
    {
     "data": {
      "text/plain": [
       "Text(0, 0.5, '$\\\\Delta N/\\\\Delta z$')"
      ]
     },
     "execution_count": 54,
     "metadata": {},
     "output_type": "execute_result"
    },
    {
     "data": {
      "image/png": "[encoded data removed]",
      "text/plain": [
       "<Figure size 432x288 with 1 Axes>"
      ]
     },
     "metadata": {
      "needs_background": "light"
     },
     "output_type": "display_data"
    }
   ],
   "source": [
    "for tid in tids:\n",
    "    isin = results[tid]['IN_SAMPLE']\n",
    "    \n",
    "    pl.hist(results[tid]['Z'][isin], bins=np.arange(0.0, 5.0, 0.1), histtype='step', label=tid)\n",
    "\n",
    "pl.legend(frameon=False)\n",
    "\n",
    "pl.xlabel('$z$')\n",
    "pl.ylabel('$\\Delta N/\\Delta z$')"
   ]
  },
  {
   "cell_type": "markdown",
   "id": "bbaecc88-bf53-4247-b360-7117b81915fd",
   "metadata": {},
   "source": [
    "# Done."
   ]
  }
 ],
 "metadata": {
  "kernelspec": {
   "display_name": "DESI master",
   "language": "python",
   "name": "desi-master"
  },
  "language_info": {
   "codemirror_mode": {
    "name": "ipython",
    "version": 3
   },
   "file_extension": ".py",
   "mimetype": "text/x-python",
   "name": "python",
   "nbconvert_exporter": "python",
   "pygments_lexer": "ipython3",
   "version": "3.8.3"
  }
 },
 "nbformat": 4,
 "nbformat_minor": 5
}
