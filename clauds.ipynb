{
 "cells": [
  {
   "cell_type": "code",
   "execution_count": 16,
   "id": "3bb3125e-51a4-40c1-858b-e6a7e8fb110b",
   "metadata": {},
   "outputs": [],
   "source": [
    "import glob\n",
    "import numpy                         as     np\n",
    "import pylab                         as     pl\n",
    "import astropy.io.fits               as     fits\n",
    " \n",
    "from   astropy.table                 import Table, vstack\n",
    "from   desitarget.sv1.sv1_targetmask import desi_mask, bgs_mask, mws_mask, scnd_mask"
   ]
  },
  {
   "cell_type": "markdown",
   "id": "372e9e25-dec5-496e-9de6-98a5f29dc932",
   "metadata": {},
   "source": [
    "# Clauds LBGs"
   ]
  },
  {
   "cell_type": "code",
   "execution_count": 3,
   "id": "da67c7f2-d2af-4ccb-a098-195034e34f3c",
   "metadata": {},
   "outputs": [],
   "source": [
    "def gather_tile(tileid):\n",
    "    files  = glob.glob('/global/cscratch1/sd/mjwilson/DESILBGSPEC/June21/{}/v2.1/zbest-?-{}.fits'.format(tileid, tileid))\n",
    "    files  = [fits.open(x) for x in files] \n",
    "    \n",
    "    zbests = [Table(x['ZBEST'].data) for x in files]\n",
    "    zbests = vstack(zbests)\n",
    "    \n",
    "    fmaps  = [Table(x['FIBERMAP'].data) for x in files]\n",
    "    fmaps  = vstack(fmaps) \n",
    "    \n",
    "    return {tileid: [zbests, fmaps]}"
   ]
  },
  {
   "cell_type": "code",
   "execution_count": 4,
   "id": "07231a27-f1fd-4a74-8d30-3898f049d48b",
   "metadata": {},
   "outputs": [],
   "source": [
    "results = {}"
   ]
  },
  {
   "cell_type": "code",
   "execution_count": 5,
   "id": "0202649c-1d67-43ea-b7a1-d01eefba3a2a",
   "metadata": {},
   "outputs": [],
   "source": [
    "results.update(gather_tile(80871))"
   ]
  },
  {
   "cell_type": "code",
   "execution_count": 6,
   "id": "92650296-a189-4dfb-a1cf-415bdc5af032",
   "metadata": {},
   "outputs": [],
   "source": [
    "results.update(gather_tile(80872))"
   ]
  },
  {
   "cell_type": "code",
   "execution_count": 7,
   "id": "f9cad624-7ae3-4dac-8b7d-b5dd2ce7525a",
   "metadata": {},
   "outputs": [
    {
     "data": {
      "text/html": [
       "<i>Table length=5000</i>\n",
       "<table id=\"table46912564372816\" class=\"table-striped table-bordered table-condensed\">\n",
       "<thead><tr><th>TARGETID</th><th>CHI2</th><th>COEFF [10]</th><th>Z</th><th>ZERR</th><th>ZWARN</th><th>NPIXELS</th><th>SPECTYPE</th><th>SUBTYPE</th><th>NCOEFF</th><th>DELTACHI2</th><th>NUMEXP</th><th>NUMTILE</th></tr></thead>\n",
       "<thead><tr><th>int64</th><th>float64</th><th>float64</th><th>float64</th><th>float64</th><th>int64</th><th>int64</th><th>str6</th><th>str20</th><th>int64</th><th>float64</th><th>int32</th><th>int32</th></tr></thead>\n",
       "<tr><td>142180031135753</td><td>10471.036423683167</td><td>-43.921716468934974 .. -2.490944226207713</td><td>1.5369537206519701</td><td>8.664036028973614e-05</td><td>0</td><td>7178</td><td>GALAXY</td><td></td><td>10</td><td>13.386470541357994</td><td>0</td><td>0</td></tr>\n",
       "<tr><td>142180035330050</td><td>8.999999999999996e+99</td><td>0.0 .. 0.0</td><td>-0.0019957014509158224</td><td>4.131159871613317e-48</td><td>1570</td><td>0</td><td>STAR</td><td>K</td><td>5</td><td>1.942668892225729e+84</td><td>0</td><td>0</td></tr>\n",
       "<tr><td>142180035330056</td><td>12011.545555055141</td><td>-20.67545144627423 .. -1.3497943065784597</td><td>1.0205930552705038</td><td>5.119563439193051e-05</td><td>0</td><td>7180</td><td>GALAXY</td><td></td><td>10</td><td>134.08091583848</td><td>0</td><td>0</td></tr>\n",
       "<tr><td>142180035330057</td><td>17839.493995189667</td><td>23.2037363709427 .. -1.4690512128406314</td><td>0.3709178018668075</td><td>6.4519380596439146e-06</td><td>0</td><td>7178</td><td>GALAXY</td><td></td><td>10</td><td>691.3609735071659</td><td>0</td><td>0</td></tr>\n",
       "<tr><td>142180039524357</td><td>13443.884134918451</td><td>-28.59509348947614 .. 1.5946448104616018</td><td>0.9976243438926072</td><td>6.932274459478927e-05</td><td>4</td><td>7179</td><td>GALAXY</td><td></td><td>10</td><td>0.8115790784358978</td><td>0</td><td>0</td></tr>\n",
       "<tr><td>142186075127808</td><td>12570.407187104225</td><td>26.584063125941714 .. 0.5073719260967015</td><td>1.0186477562961114</td><td>5.955022251074018e-05</td><td>4</td><td>7179</td><td>GALAXY</td><td></td><td>10</td><td>3.075643762946129</td><td>0</td><td>0</td></tr>\n",
       "<tr><td>142186075127813</td><td>12862.059021353722</td><td>-60.027759702466014 .. -2.4508421387106663</td><td>1.239672503188519</td><td>4.657108573007699e-05</td><td>0</td><td>7179</td><td>GALAXY</td><td></td><td>10</td><td>9.634339094161987</td><td>0</td><td>0</td></tr>\n",
       "<tr><td>142186075127814</td><td>15301.799478404224</td><td>-19.629547629382035 .. 1.4666071696823282</td><td>0.9901336969262204</td><td>0.00014212387286954755</td><td>0</td><td>7178</td><td>GALAXY</td><td></td><td>10</td><td>12.291412599384785</td><td>0</td><td>0</td></tr>\n",
       "<tr><td>142186075127817</td><td>13394.816432982683</td><td>9.248738934784866 .. -2.8242548155725644</td><td>1.0588609257656778</td><td>6.510609247109675e-05</td><td>0</td><td>7175</td><td>GALAXY</td><td></td><td>10</td><td>111.78583186864853</td><td>0</td><td>0</td></tr>\n",
       "<tr><td>142186075127819</td><td>12234.85167747736</td><td>12.69983855817031 .. 0.5832712784817169</td><td>1.2232481963833965</td><td>6.255933823454334e-05</td><td>4</td><td>7179</td><td>GALAXY</td><td></td><td>10</td><td>1.3885487020015717</td><td>0</td><td>0</td></tr>\n",
       "<tr><td>...</td><td>...</td><td>...</td><td>...</td><td>...</td><td>...</td><td>...</td><td>...</td><td>...</td><td>...</td><td>...</td><td>...</td><td>...</td></tr>\n",
       "<tr><td>616088624085074416</td><td>11581.410007044673</td><td>-5.065675342810335e-05 .. 0.0</td><td>0.582620104728201</td><td>0.0001337997090360182</td><td>4</td><td>7177</td><td>QSO</td><td></td><td>4</td><td>4.550586778204888</td><td>0</td><td>0</td></tr>\n",
       "<tr><td>616088624085074434</td><td>11403.400725154206</td><td>40.4499173368581 .. 2.9985318752050536</td><td>0.5062359171001111</td><td>0.00023006365547691656</td><td>4</td><td>7178</td><td>GALAXY</td><td></td><td>10</td><td>8.318619275465608</td><td>0</td><td>0</td></tr>\n",
       "<tr><td>616088624085074492</td><td>8.999999999999996e+99</td><td>0.0 .. 0.0</td><td>-0.0019957014509158224</td><td>4.131159871613317e-48</td><td>1570</td><td>0</td><td>STAR</td><td>K</td><td>5</td><td>1.942668892225729e+84</td><td>0</td><td>0</td></tr>\n",
       "<tr><td>616088624085074495</td><td>8.999999999999996e+99</td><td>0.0 .. 0.0</td><td>-0.0019957014509158224</td><td>4.131159871613317e-48</td><td>1570</td><td>0</td><td>STAR</td><td>K</td><td>5</td><td>1.942668892225729e+84</td><td>0</td><td>0</td></tr>\n",
       "<tr><td>616088624085074512</td><td>10896.572651010007</td><td>5.996718698673419 .. -1.7789388228930256</td><td>0.911440497316572</td><td>0.0001760637578572896</td><td>4</td><td>7178</td><td>GALAXY</td><td></td><td>10</td><td>7.938580038025975</td><td>0</td><td>0</td></tr>\n",
       "<tr><td>616088624085074541</td><td>9831.798116474878</td><td>16.81525829192312 .. 0.0</td><td>3.2753073322328774</td><td>0.0029173643653281197</td><td>4</td><td>7178</td><td>BC03</td><td></td><td>5</td><td>1.1446937103755772</td><td>0</td><td>0</td></tr>\n",
       "<tr><td>616088624085074613</td><td>7650.220021877438</td><td>-23.826471767394345 .. 0.0</td><td>3.624132835684095</td><td>0.002246155256814269</td><td>0</td><td>7169</td><td>BC03</td><td></td><td>5</td><td>14.381093107163906</td><td>0</td><td>0</td></tr>\n",
       "<tr><td>616088624085074637</td><td>11152.09167913394</td><td>-1.901235826717938e-05 .. 0.0</td><td>0.19777958981333196</td><td>0.00015514239076162866</td><td>0</td><td>7177</td><td>QSO</td><td></td><td>4</td><td>10.97051753802225</td><td>0</td><td>0</td></tr>\n",
       "<tr><td>616088624085074665</td><td>11714.249974191189</td><td>99.01741615550841 .. 8.137237975938262</td><td>1.6809052070142627</td><td>9.163984242826535e-05</td><td>4</td><td>7178</td><td>GALAXY</td><td></td><td>10</td><td>3.8445655778050423</td><td>0</td><td>0</td></tr>\n",
       "<tr><td>616088624085074932</td><td>21120.4206366539</td><td>15.661460543229753 .. 0.6310993028492969</td><td>0.7068042368531928</td><td>2.0713944853395024e-05</td><td>4</td><td>7178</td><td>GALAXY</td><td></td><td>10</td><td>2.863757163286209</td><td>0</td><td>0</td></tr>\n",
       "</table>"
      ],
      "text/plain": [
       "<Table length=5000>\n",
       "     TARGETID               CHI2         ... NUMEXP NUMTILE\n",
       "      int64               float64        ... int32   int32 \n",
       "------------------ --------------------- ... ------ -------\n",
       "   142180031135753    10471.036423683167 ...      0       0\n",
       "   142180035330050 8.999999999999996e+99 ...      0       0\n",
       "   142180035330056    12011.545555055141 ...      0       0\n",
       "   142180035330057    17839.493995189667 ...      0       0\n",
       "   142180039524357    13443.884134918451 ...      0       0\n",
       "   142186075127808    12570.407187104225 ...      0       0\n",
       "   142186075127813    12862.059021353722 ...      0       0\n",
       "   142186075127814    15301.799478404224 ...      0       0\n",
       "   142186075127817    13394.816432982683 ...      0       0\n",
       "   142186075127819     12234.85167747736 ...      0       0\n",
       "               ...                   ... ...    ...     ...\n",
       "616088624085074416    11581.410007044673 ...      0       0\n",
       "616088624085074434    11403.400725154206 ...      0       0\n",
       "616088624085074492 8.999999999999996e+99 ...      0       0\n",
       "616088624085074495 8.999999999999996e+99 ...      0       0\n",
       "616088624085074512    10896.572651010007 ...      0       0\n",
       "616088624085074541     9831.798116474878 ...      0       0\n",
       "616088624085074613     7650.220021877438 ...      0       0\n",
       "616088624085074637     11152.09167913394 ...      0       0\n",
       "616088624085074665    11714.249974191189 ...      0       0\n",
       "616088624085074932      21120.4206366539 ...      0       0"
      ]
     },
     "execution_count": 7,
     "metadata": {},
     "output_type": "execute_result"
    }
   ],
   "source": [
    "results[80871][0]"
   ]
  },
  {
   "cell_type": "code",
   "execution_count": 8,
   "id": "6bfb2347-6abc-40ac-8778-68f130e8cd2c",
   "metadata": {},
   "outputs": [
    {
     "data": {
      "text/plain": [
       "<matplotlib.legend.Legend at 0x2aaad5ffd310>"
      ]
     },
     "execution_count": 8,
     "metadata": {},
     "output_type": "execute_result"
    },
    {
     "data": {
      "image/png": "[encoded data removed]",
      "text/plain": [
       "<Figure size 432x288 with 1 Axes>"
      ]
     },
     "metadata": {
      "needs_background": "light"
     },
     "output_type": "display_data"
    }
   ],
   "source": [
    "pl.hist(results[80871][0]['Z'], bins=np.arange(0.0, 5.0, 0.1), histtype='step', label='80871')\n",
    "pl.hist(results[80872][0]['Z'], bins=np.arange(0.0, 5.0, 0.1), histtype='step', label='80872')\n",
    "\n",
    "pl.legend(frameon=False)"
   ]
  },
  {
   "cell_type": "code",
   "execution_count": 17,
   "id": "0cb69856-6d04-456c-a682-90cb0bde5f54",
   "metadata": {},
   "outputs": [
    {
     "data": {
      "text/plain": [
       "(449, 2937)"
      ]
     },
     "execution_count": 17,
     "metadata": {},
     "output_type": "execute_result"
    }
   ],
   "source": [
    "np.count_nonzero((results[80871][0]['Z'] > 2.0) & ((results[80871][0]['DELTACHI2'] > 15.0))), np.count_nonzero(((results[80871][0]['DELTACHI2'] > 15.0)))"
   ]
  },
  {
   "cell_type": "code",
   "execution_count": 18,
   "id": "6e685621-d030-48b6-88cf-da7f39301845",
   "metadata": {},
   "outputs": [
    {
     "data": {
      "text/plain": [
       "(385, 3135)"
      ]
     },
     "execution_count": 18,
     "metadata": {},
     "output_type": "execute_result"
    }
   ],
   "source": [
    "np.count_nonzero((results[80872][0]['Z'] > 2.0) & ((results[80872][0]['DELTACHI2'] > 15.0))), np.count_nonzero(((results[80872][0]['DELTACHI2'] > 15.0)))"
   ]
  },
  {
   "cell_type": "code",
   "execution_count": 19,
   "id": "6818999e-acfc-4b92-805a-738908c65bd5",
   "metadata": {},
   "outputs": [
    {
     "data": {
      "text/plain": [
       "931"
      ]
     },
     "execution_count": 19,
     "metadata": {},
     "output_type": "execute_result"
    }
   ],
   "source": [
    "# DESILBG_TMG_FINAL, DESILBG_BXU_FINAL, DESILBG_G_FINAL.\n",
    "np.count_nonzero((results[80871][1]['SV1_SCND_TARGET'] & scnd_mask['DESILBG_TMG_FINAL']) != 0)"
   ]
  },
  {
   "cell_type": "code",
   "execution_count": 59,
   "id": "0fb9c750-08a1-4a89-8b32-a0362fb825ca",
   "metadata": {},
   "outputs": [
    {
     "data": {
      "text/plain": [
       "1221"
      ]
     },
     "execution_count": 59,
     "metadata": {},
     "output_type": "execute_result"
    }
   ],
   "source": [
    "np.count_nonzero((results[80871][1]['SV1_SCND_TARGET'] & scnd_mask['DESILBG_BXU_FINAL']) != 0)"
   ]
  },
  {
   "cell_type": "code",
   "execution_count": 60,
   "id": "7cf0169f-c35d-44f5-a0cc-0ad52f07e7c6",
   "metadata": {},
   "outputs": [
    {
     "data": {
      "text/plain": [
       "842"
      ]
     },
     "execution_count": 60,
     "metadata": {},
     "output_type": "execute_result"
    }
   ],
   "source": [
    "np.count_nonzero((results[80871][1]['SV1_SCND_TARGET'] & scnd_mask['DESILBG_G_FINAL']) != 0)"
   ]
  },
  {
   "cell_type": "code",
   "execution_count": 20,
   "id": "c0f5aec2-c19e-49bc-89b1-4df30d3eadbf",
   "metadata": {},
   "outputs": [
    {
     "data": {
      "text/plain": [
       "2994"
      ]
     },
     "execution_count": 20,
     "metadata": {},
     "output_type": "execute_result"
    }
   ],
   "source": [
    "842 + 1221 + 931"
   ]
  },
  {
   "cell_type": "markdown",
   "id": "bbaecc88-bf53-4247-b360-7117b81915fd",
   "metadata": {},
   "source": [
    "# Done."
   ]
  }
 ],
 "metadata": {
  "kernelspec": {
   "display_name": "DESI master",
   "language": "python",
   "name": "desi-master"
  },
  "language_info": {
   "codemirror_mode": {
    "name": "ipython",
    "version": 3
   },
   "file_extension": ".py",
   "mimetype": "text/x-python",
   "name": "python",
   "nbconvert_exporter": "python",
   "pygments_lexer": "ipython3",
   "version": "3.8.3"
  }
 },
 "nbformat": 4,
 "nbformat_minor": 5
}
