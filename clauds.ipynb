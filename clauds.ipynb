{
 "cells": [
  {
   "cell_type": "code",
   "execution_count": 36,
   "id": "3bb3125e-51a4-40c1-858b-e6a7e8fb110b",
   "metadata": {},
   "outputs": [],
   "source": [
    "import  glob\n",
    "import  matplotlib.pyplot              as     plt\n",
    "import  numpy                          as     np\n",
    "import  pylab                          as     pl\n",
    "import  astropy.io.fits                as     fits\n",
    " \n",
    "from    astropy.table                  import Table, vstack, hstack, join\n",
    "from    desitarget.sv1.sv1_targetmask  import desi_mask, bgs_mask, mws_mask, scnd_mask"
   ]
  },
  {
   "cell_type": "markdown",
   "id": "372e9e25-dec5-496e-9de6-98a5f29dc932",
   "metadata": {},
   "source": [
    "# Clauds LBGs"
   ]
  },
  {
   "cell_type": "code",
   "execution_count": 2,
   "id": "da67c7f2-d2af-4ccb-a098-195034e34f3c",
   "metadata": {},
   "outputs": [],
   "source": [
    "def gather_tile(tileid, release):\n",
    "    fpath    = '/global/cscratch1/sd/mjwilson/DESILBGSPEC/{}//v4.1//tiles/cumulative/{}/*/redrock-*'.format(release, tileid)\n",
    "    \n",
    "    files    = glob.glob(fpath)\n",
    "    files    = [fits.open(x) for x in files] \n",
    "    \n",
    "    zbests   = [Table(x['REDSHIFTS'].data) for x in files]\n",
    "    zbests   = vstack(zbests)\n",
    "    \n",
    "    fmaps    = [Table(x['FIBERMAP'].data) for x in files]\n",
    "    fmaps    = vstack(fmaps) \n",
    "    \n",
    "    assert  np.all(zbests['TARGETID'] == fmaps['TARGETID'])\n",
    "\n",
    "    result   = hstack([zbests, fmaps])\n",
    "    result['TARGETID'] = result['TARGETID_1']\n",
    "    \n",
    "    del result['TARGETID_1']\n",
    "    del result['TARGETID_2']\n",
    "                      \n",
    "    return  {tileid: result}\n"
   ]
  },
  {
   "cell_type": "code",
   "execution_count": 3,
   "id": "212cb0ec-6006-49bc-b1c7-23a2bd378a7c",
   "metadata": {},
   "outputs": [
    {
     "name": "stdout",
     "output_type": "stream",
     "text": [
      "v4.1\n"
     ]
    }
   ],
   "source": [
    "! ls /global/cscratch1/sd/mjwilson/DESILBGSPEC/everest"
   ]
  },
  {
   "cell_type": "code",
   "execution_count": 4,
   "id": "06657cb7-1031-41bf-993a-b8326f5283af",
   "metadata": {},
   "outputs": [],
   "source": [
    "everest_results = {}\n",
    "\n",
    "# everest_results.update(gather_tile(80869, 'everest'))\n",
    "everest_results.update(gather_tile(80871, 'everest'))\n",
    "everest_results.update(gather_tile(80872, 'everest'))"
   ]
  },
  {
   "cell_type": "code",
   "execution_count": 5,
   "id": "07231a27-f1fd-4a74-8d30-3898f049d48b",
   "metadata": {},
   "outputs": [],
   "source": [
    "f3_results = {}"
   ]
  },
  {
   "cell_type": "code",
   "execution_count": 6,
   "id": "da3c9fe1-48fc-4016-abf5-72f11a00e377",
   "metadata": {},
   "outputs": [],
   "source": [
    "# HETDEX\n",
    "f3_results.update(gather_tile(80869, 'f3'))"
   ]
  },
  {
   "cell_type": "code",
   "execution_count": 7,
   "id": "20261a51-60b8-4a82-92a6-d9b3733f40b5",
   "metadata": {},
   "outputs": [],
   "source": [
    "# HETDEX-2 (not in Fuji pre-test F3)\n",
    "# f3_results.update(gather_tile(80870, 'f3'))"
   ]
  },
  {
   "cell_type": "code",
   "execution_count": 8,
   "id": "0202649c-1d67-43ea-b7a1-d01eefba3a2a",
   "metadata": {},
   "outputs": [],
   "source": [
    "# Clauds\n",
    "f3_results.update(gather_tile(80871, 'f3'))"
   ]
  },
  {
   "cell_type": "code",
   "execution_count": 9,
   "id": "92650296-a189-4dfb-a1cf-415bdc5af032",
   "metadata": {},
   "outputs": [],
   "source": [
    "# Clauds-2\n",
    "f3_results.update(gather_tile(80872, 'f3'))"
   ]
  },
  {
   "cell_type": "code",
   "execution_count": 10,
   "id": "f9cad624-7ae3-4dac-8b7d-b5dd2ce7525a",
   "metadata": {},
   "outputs": [
    {
     "data": {
      "text/html": [
       "<i>Table length=5000</i>\n",
       "<table id=\"table46913215131504\" class=\"table-striped table-bordered table-condensed\">\n",
       "<thead><tr><th>CHI2</th><th>COEFF [10]</th><th>Z</th><th>ZERR</th><th>ZWARN</th><th>NPIXELS</th><th>SPECTYPE</th><th>SUBTYPE</th><th>NCOEFF</th><th>DELTACHI2</th><th>PETAL_LOC</th><th>DEVICE_LOC</th><th>LOCATION</th><th>FIBER</th><th>COADD_FIBERSTATUS</th><th>TARGET_RA</th><th>TARGET_DEC</th><th>PMRA</th><th>PMDEC</th><th>REF_EPOCH</th><th>LAMBDA_REF</th><th>FA_TARGET</th><th>FA_TYPE</th><th>OBJTYPE</th><th>FIBERASSIGN_X</th><th>FIBERASSIGN_Y</th><th>PRIORITY</th><th>SUBPRIORITY</th><th>OBSCONDITIONS</th><th>RELEASE</th><th>BRICKNAME</th><th>BRICKID</th><th>BRICK_OBJID</th><th>MORPHTYPE</th><th>EBV</th><th>FLUX_G</th><th>FLUX_R</th><th>FLUX_Z</th><th>FLUX_W1</th><th>FLUX_W2</th><th>FLUX_IVAR_G</th><th>FLUX_IVAR_R</th><th>FLUX_IVAR_Z</th><th>FLUX_IVAR_W1</th><th>FLUX_IVAR_W2</th><th>FIBERFLUX_G</th><th>FIBERFLUX_R</th><th>FIBERFLUX_Z</th><th>FIBERTOTFLUX_G</th><th>FIBERTOTFLUX_R</th><th>FIBERTOTFLUX_Z</th><th>MASKBITS</th><th>SERSIC</th><th>SHAPE_R</th><th>SHAPE_E1</th><th>SHAPE_E2</th><th>REF_ID</th><th>REF_CAT</th><th>GAIA_PHOT_G_MEAN_MAG</th><th>GAIA_PHOT_BP_MEAN_MAG</th><th>GAIA_PHOT_RP_MEAN_MAG</th><th>PARALLAX</th><th>PHOTSYS</th><th>PRIORITY_INIT</th><th>NUMOBS_INIT</th><th>SV1_DESI_TARGET</th><th>SV1_BGS_TARGET</th><th>SV1_MWS_TARGET</th><th>SV1_SCND_TARGET</th><th>DESI_TARGET</th><th>BGS_TARGET</th><th>MWS_TARGET</th><th>PLATE_RA</th><th>PLATE_DEC</th><th>TILEID</th><th>COADD_NUMEXP</th><th>COADD_EXPTIME</th><th>COADD_NUMNIGHT</th><th>COADD_NUMTILE</th><th>MEAN_DELTA_X</th><th>RMS_DELTA_X</th><th>MEAN_DELTA_Y</th><th>RMS_DELTA_Y</th><th>MEAN_FIBER_RA</th><th>STD_FIBER_RA</th><th>MEAN_FIBER_DEC</th><th>STD_FIBER_DEC</th><th>MEAN_PSF_TO_FIBER_SPECFLUX</th><th>MEAN_FIBER_X</th><th>MEAN_FIBER_Y</th><th>TARGETID</th></tr></thead>\n",
       "<thead><tr><th>float64</th><th>float64</th><th>float64</th><th>float64</th><th>int64</th><th>int64</th><th>str6</th><th>str20</th><th>int64</th><th>float64</th><th>int16</th><th>int32</th><th>int64</th><th>int32</th><th>int32</th><th>float64</th><th>float64</th><th>float32</th><th>float32</th><th>float32</th><th>float32</th><th>int64</th><th>uint8</th><th>str3</th><th>float32</th><th>float32</th><th>int32</th><th>float64</th><th>int32</th><th>int16</th><th>str8</th><th>int32</th><th>int32</th><th>str4</th><th>float32</th><th>float32</th><th>float32</th><th>float32</th><th>float32</th><th>float32</th><th>float32</th><th>float32</th><th>float32</th><th>float32</th><th>float32</th><th>float32</th><th>float32</th><th>float32</th><th>float32</th><th>float32</th><th>float32</th><th>int16</th><th>float32</th><th>float32</th><th>float32</th><th>float32</th><th>int64</th><th>str2</th><th>float32</th><th>float32</th><th>float32</th><th>float32</th><th>str1</th><th>int64</th><th>int64</th><th>int64</th><th>int64</th><th>int64</th><th>int64</th><th>int64</th><th>int64</th><th>int64</th><th>float64</th><th>float64</th><th>int32</th><th>int16</th><th>float32</th><th>int16</th><th>int16</th><th>float32</th><th>float32</th><th>float32</th><th>float32</th><th>float64</th><th>float32</th><th>float64</th><th>float32</th><th>float32</th><th>float32</th><th>float32</th><th>int64</th></tr></thead>\n",
       "<tr><td>11580.284447138663</td><td>-1.371317091032303e-06 .. 0.0</td><td>4.130256380739619</td><td>0.002183981385776988</td><td>5</td><td>7929</td><td>QSO</td><td></td><td>4</td><td>0.4247503303922713</td><td>6</td><td>523</td><td>6523</td><td>3000</td><td>0</td><td>151.21143627714548</td><td>3.350971263701316</td><td>0.0</td><td>0.0</td><td>0.0</td><td>5400.0</td><td>4294967296</td><td>4</td><td>SKY</td><td>-276.42047</td><td>291.46405</td><td>-1</td><td>0.9427832886133586</td><td>63</td><td>9010</td><td>1513p032</td><td>349692</td><td>1084</td><td></td><td>0.0</td><td>0.0</td><td>0.0</td><td>0.0</td><td>0.0</td><td>0.0</td><td>0.0</td><td>0.0</td><td>0.0</td><td>0.0</td><td>0.0</td><td>0.043219127</td><td>0.026860643</td><td>0.055321224</td><td>0.0</td><td>0.0</td><td>0.0</td><td>0</td><td>0.0</td><td>0.0</td><td>0.0</td><td>0.0</td><td>0</td><td></td><td>0.0</td><td>0.0</td><td>0.0</td><td>0.0</td><td></td><td>-1</td><td>-1</td><td>0</td><td>0</td><td>0</td><td>0</td><td>4294967296</td><td>0</td><td>0</td><td>151.21143627714548</td><td>3.350971263701316</td><td>80871</td><td>11</td><td>13420.532</td><td>4</td><td>1</td><td>0.001</td><td>0.0030895718</td><td>-0.00054545456</td><td>0.004709758</td><td>151.21143999879357</td><td>0.038993947</td><td>3.350973175273198</td><td>0.063013434</td><td>0.79265344</td><td>-276.436</td><td>291.403</td><td>616088618083025980</td></tr>\n",
       "<tr><td>11946.38049569726</td><td>8.364015007226987 .. -0.4144115898784054</td><td>0.9628034293112491</td><td>9.60498910180886e-05</td><td>5</td><td>7929</td><td>GALAXY</td><td></td><td>10</td><td>1.3705246224999428</td><td>6</td><td>474</td><td>6474</td><td>3001</td><td>0</td><td>151.118555328511</td><td>3.2898452585821985</td><td>0.0</td><td>0.0</td><td>0.0</td><td>5400.0</td><td>4294967296</td><td>4</td><td>SKY</td><td>-251.51077</td><td>274.4417</td><td>-1</td><td>0.9902652039086947</td><td>63</td><td>9010</td><td>1510p032</td><td>349691</td><td>783</td><td></td><td>0.0</td><td>0.0</td><td>0.0</td><td>0.0</td><td>0.0</td><td>0.0</td><td>0.0</td><td>0.0</td><td>0.0</td><td>0.0</td><td>0.0</td><td>-0.022835655</td><td>0.021733953</td><td>0.0024964693</td><td>0.0</td><td>0.0</td><td>0.0</td><td>0</td><td>0.0</td><td>0.0</td><td>0.0</td><td>0.0</td><td>0</td><td></td><td>0.0</td><td>0.0</td><td>0.0</td><td>0.0</td><td></td><td>-1</td><td>-1</td><td>0</td><td>0</td><td>0</td><td>0</td><td>4294967296</td><td>0</td><td>0</td><td>151.118555328511</td><td>3.2898452585821985</td><td>80871</td><td>11</td><td>13420.532</td><td>4</td><td>1</td><td>-0.0011818182</td><td>0.004963503</td><td>0.0033636363</td><td>0.006802406</td><td>151.11855123063125</td><td>0.06576957</td><td>3.289832551410784</td><td>0.08042231</td><td>0.792695</td><td>-251.5209</td><td>274.38235</td><td>616088618078831375</td></tr>\n",
       "<tr><td>8.999999999999996e+99</td><td>0.0 .. 0.0</td><td>-0.0019957014509158224</td><td>4.131159871613317e-48</td><td>1570</td><td>0</td><td>STAR</td><td>K</td><td>5</td><td>1.942668892225729e+84</td><td>6</td><td>510</td><td>6510</td><td>3002</td><td>512</td><td>151.17589244285338</td><td>3.3018136694615223</td><td>0.0</td><td>0.0</td><td>2021.2006</td><td>5400.0</td><td>4611686018427387904</td><td>1</td><td>TGT</td><td>-266.5828</td><td>278.1285</td><td>3800</td><td>0.7168580160237878</td><td>1</td><td>0</td><td></td><td>0</td><td>0</td><td></td><td>0.0</td><td>0.0</td><td>0.0</td><td>0.0</td><td>0.0</td><td>0.0</td><td>0.0</td><td>0.0</td><td>0.0</td><td>0.0</td><td>0.0</td><td>0.0</td><td>0.0</td><td>0.0</td><td>0.0</td><td>0.0</td><td>0.0</td><td>0</td><td>0.0</td><td>0.0</td><td>0.0</td><td>0.0</td><td>0</td><td></td><td>0.0</td><td>0.0</td><td>0.0</td><td>0.0</td><td></td><td>3800</td><td>1</td><td>4611686018427387904</td><td>0</td><td>0</td><td>36028797018963968</td><td>0</td><td>0</td><td>0</td><td>151.17589244285338</td><td>3.3018136694615223</td><td>80871</td><td>0</td><td>0.0</td><td>4</td><td>1</td><td>1.4660909</td><td>1.4662681</td><td>-4.688182</td><td>4.6882257</td><td>151.18080802397</td><td>0.30435994</td><td>3.3194304195301</td><td>0.26646987</td><td>0.0</td><td>-268.06165</td><td>282.75745</td><td>243359268470827</td></tr>\n",
       "<tr><td>12134.28510031104</td><td>7.0183325513157 .. 2.8268063299005393</td><td>1.1865008349116912</td><td>0.00011308103327749897</td><td>4</td><td>7929</td><td>GALAXY</td><td></td><td>10</td><td>2.844969302415848</td><td>6</td><td>225</td><td>6225</td><td>3003</td><td>0</td><td>150.5742743451722</td><td>3.2729662878519545</td><td>0.0</td><td>0.0</td><td>2021.2006</td><td>5400.0</td><td>4611686018427387904</td><td>1</td><td>TGT</td><td>-112.998085</td><td>266.5294</td><td>3800</td><td>0.8060626084083589</td><td>1</td><td>0</td><td></td><td>0</td><td>0</td><td></td><td>0.0</td><td>0.0</td><td>0.0</td><td>0.0</td><td>0.0</td><td>0.0</td><td>0.0</td><td>0.0</td><td>0.0</td><td>0.0</td><td>0.0</td><td>0.0</td><td>0.0</td><td>0.0</td><td>0.0</td><td>0.0</td><td>0.0</td><td>0</td><td>0.0</td><td>0.0</td><td>0.0</td><td>0.0</td><td>0</td><td></td><td>0.0</td><td>0.0</td><td>0.0</td><td>0.0</td><td></td><td>3800</td><td>1</td><td>4611686018427387904</td><td>0</td><td>0</td><td>36028797018963968</td><td>0</td><td>0</td><td>0</td><td>150.5742743451722</td><td>3.2729662878519545</td><td>80871</td><td>11</td><td>13420.532</td><td>4</td><td>1</td><td>-0.0017272728</td><td>0.0026798914</td><td>0.0016363637</td><td>0.0035929224</td><td>150.57426752825666</td><td>0.029509554</td><td>3.27296002957694</td><td>0.04467484</td><td>0.7920336</td><td>-113.00418</td><td>266.49783</td><td>243359260082224</td></tr>\n",
       "<tr><td>12246.055943086743</td><td>-19.241104523587705 .. -2.786973413267883</td><td>1.0078738134642724</td><td>9.59288104551344e-05</td><td>0</td><td>7929</td><td>GALAXY</td><td></td><td>10</td><td>18.05755615234375</td><td>6</td><td>493</td><td>6493</td><td>3004</td><td>0</td><td>151.1390793351886</td><td>3.2938890737494595</td><td>0.0</td><td>0.0</td><td>2021.2006</td><td>5400.0</td><td>4611686018427387904</td><td>1</td><td>TGT</td><td>-256.89188</td><td>275.69266</td><td>3800</td><td>0.816552407698026</td><td>1</td><td>0</td><td></td><td>0</td><td>0</td><td></td><td>0.0</td><td>0.0</td><td>0.0</td><td>0.0</td><td>0.0</td><td>0.0</td><td>0.0</td><td>0.0</td><td>0.0</td><td>0.0</td><td>0.0</td><td>0.0</td><td>0.0</td><td>0.0</td><td>0.0</td><td>0.0</td><td>0.0</td><td>0</td><td>0.0</td><td>0.0</td><td>0.0</td><td>0.0</td><td>0</td><td></td><td>0.0</td><td>0.0</td><td>0.0</td><td>0.0</td><td></td><td>3800</td><td>1</td><td>4611686018427387904</td><td>0</td><td>0</td><td>36028797018963968</td><td>0</td><td>0</td><td>0</td><td>151.1390793351886</td><td>3.2938890737494595</td><td>80871</td><td>11</td><td>13420.532</td><td>4</td><td>1</td><td>-0.0017272728</td><td>0.0042103766</td><td>-0.00045454546</td><td>0.004700097</td><td>151.13907263119182</td><td>0.05447237</td><td>3.293891043968714</td><td>0.065308176</td><td>0.79255426</td><td>-256.90182</td><td>275.63644</td><td>243359268470808</td></tr>\n",
       "<tr><td>11585.752759069204</td><td>45.82113095877894 .. 2.5939099564309056</td><td>1.020643135231145</td><td>0.00012188086983492085</td><td>4</td><td>7928</td><td>GALAXY</td><td></td><td>10</td><td>7.427003547549248</td><td>6</td><td>242</td><td>6242</td><td>3005</td><td>0</td><td>150.59421</td><td>3.30098</td><td>0.0</td><td>0.0</td><td>2021.2006</td><td>5400.0</td><td>4611686018427387904</td><td>1</td><td>TGT</td><td>-118.106026</td><td>273.85165</td><td>4000</td><td>0.0078187788194517</td><td>1</td><td>0</td><td></td><td>0</td><td>0</td><td></td><td>0.0</td><td>0.0</td><td>0.0</td><td>0.0</td><td>0.0</td><td>0.0</td><td>0.0</td><td>0.0</td><td>0.0</td><td>0.0</td><td>0.0</td><td>0.0</td><td>0.0</td><td>0.0</td><td>0.0</td><td>0.0</td><td>0.0</td><td>0</td><td>0.0</td><td>0.0</td><td>0.0</td><td>0.0</td><td>0</td><td></td><td>0.0</td><td>0.0</td><td>0.0</td><td>0.0</td><td></td><td>4000</td><td>1</td><td>4611686018427387904</td><td>0</td><td>0</td><td>4294967296</td><td>0</td><td>0</td><td>0</td><td>150.59421</td><td>3.30098</td><td>80871</td><td>11</td><td>13420.532</td><td>4</td><td>1</td><td>-0.0014545454</td><td>0.0039542844</td><td>0.0010909091</td><td>0.0045527215</td><td>150.5942042567275</td><td>0.052844934</td><td>3.3009758653321426</td><td>0.061469506</td><td>0.7921658</td><td>-118.11255</td><td>273.819</td><td>142204190326789</td></tr>\n",
       "<tr><td>11829.274732173886</td><td>3495.8116107327587 .. 0.0</td><td>0.0012085129639015397</td><td>2.337916229719002e-06</td><td>0</td><td>7930</td><td>STAR</td><td>F</td><td>5</td><td>76127.99252723699</td><td>6</td><td>525</td><td>6525</td><td>3006</td><td>0</td><td>151.25848390234046</td><td>3.3006830245825425</td><td>-2.3174994</td><td>-4.1649456</td><td>2021.2006</td><td>5400.0</td><td>2305843017803628544</td><td>3</td><td>TGT</td><td>-288.28</td><td>278.67807</td><td>1100</td><td>0.5366054688980418</td><td>7</td><td>9010</td><td>1513p032</td><td>349692</td><td>873</td><td>PSF</td><td>0.019996872</td><td>37.272858</td><td>47.611893</td><td>50.00958</td><td>11.548438</td><td>4.4169903</td><td>175.21423</td><td>105.579124</td><td>45.767677</td><td>2.9158607</td><td>0.66716486</td><td>28.99908</td><td>37.04307</td><td>38.908524</td><td>28.99908</td><td>37.04307</td><td>38.908524</td><td>0</td><td>0.0</td><td>0.0</td><td>0.0</td><td>0.0</td><td>3836800250950023296</td><td>G2</td><td>18.352486</td><td>18.58258</td><td>17.929276</td><td>-0.15156963</td><td>S</td><td>1100</td><td>1</td><td>2305843017803628544</td><td>0</td><td>33</td><td>0</td><td>0</td><td>0</td><td>0</td><td>151.25848390234046</td><td>3.3006830245825425</td><td>80871</td><td>11</td><td>13420.532</td><td>4</td><td>1</td><td>0.0019090909</td><td>0.0039427723</td><td>9.090909e-05</td><td>0.0046612523</td><td>151.2584911597227</td><td>0.045868</td><td>3.300682388297116</td><td>0.0627517</td><td>0.789</td><td>-288.29456</td><td>278.6141</td><td>39627865779602281</td></tr>\n",
       "<tr><td>12461.209353983402</td><td>4.620276713569639 .. 0.0</td><td>3.007888227421247</td><td>0.0001601342962137919</td><td>0</td><td>7928</td><td>LBG</td><td></td><td>5</td><td>594.0885614156723</td><td>6</td><td>227</td><td>6227</td><td>3007</td><td>0</td><td>150.6402977803781</td><td>3.2073649092553183</td><td>0.0</td><td>0.0</td><td>2021.2006</td><td>5400.0</td><td>4611686018427387904</td><td>1</td><td>TGT</td><td>-129.21231</td><td>249.91289</td><td>3800</td><td>0.8063929957875609</td><td>1</td><td>0</td><td></td><td>0</td><td>0</td><td></td><td>0.0</td><td>0.0</td><td>0.0</td><td>0.0</td><td>0.0</td><td>0.0</td><td>0.0</td><td>0.0</td><td>0.0</td><td>0.0</td><td>0.0</td><td>0.0</td><td>0.0</td><td>0.0</td><td>0.0</td><td>0.0</td><td>0.0</td><td>0</td><td>0.0</td><td>0.0</td><td>0.0</td><td>0.0</td><td>0</td><td></td><td>0.0</td><td>0.0</td><td>0.0</td><td>0.0</td><td></td><td>3800</td><td>1</td><td>4611686018427387904</td><td>0</td><td>0</td><td>36028797018963968</td><td>0</td><td>0</td><td>0</td><td>150.6402977803781</td><td>3.2073649092553183</td><td>80871</td><td>11</td><td>13420.532</td><td>4</td><td>1</td><td>-0.0010909091</td><td>0.0028919952</td><td>0.001</td><td>0.003233349</td><td>150.64029348075033</td><td>0.038557824</td><td>3.2073610701304656</td><td>0.04315707</td><td>0.7919937</td><td>-129.21918</td><td>249.88155</td><td>243359260082220</td></tr>\n",
       "<tr><td>12183.65258860588</td><td>-16.243400862861204 .. -4.708790492425748</td><td>0.4559487405045347</td><td>9.986211154546036e-05</td><td>4</td><td>7929</td><td>GALAXY</td><td></td><td>10</td><td>8.349296391010284</td><td>6</td><td>492</td><td>6492</td><td>3008</td><td>0</td><td>151.11616129660325</td><td>3.3325389004096104</td><td>0.0</td><td>0.0</td><td>2021.2006</td><td>5400.0</td><td>4611686018427387904</td><td>1</td><td>TGT</td><td>-251.2928</td><td>285.63474</td><td>3800</td><td>0.8163872140084248</td><td>1</td><td>0</td><td></td><td>0</td><td>0</td><td></td><td>0.0</td><td>0.0</td><td>0.0</td><td>0.0</td><td>0.0</td><td>0.0</td><td>0.0</td><td>0.0</td><td>0.0</td><td>0.0</td><td>0.0</td><td>0.0</td><td>0.0</td><td>0.0</td><td>0.0</td><td>0.0</td><td>0.0</td><td>0</td><td>0.0</td><td>0.0</td><td>0.0</td><td>0.0</td><td>0</td><td></td><td>0.0</td><td>0.0</td><td>0.0</td><td>0.0</td><td></td><td>3800</td><td>1</td><td>4611686018427387904</td><td>0</td><td>0</td><td>36028797018963968</td><td>0</td><td>0</td><td>0</td><td>151.11616129660325</td><td>3.3325389004096104</td><td>80871</td><td>11</td><td>13420.532</td><td>4</td><td>1</td><td>0.0024545453</td><td>0.004926736</td><td>0.00027272728</td><td>0.004253341</td><td>151.11617077932144</td><td>0.05815479</td><td>3.3325375259051553</td><td>0.057067152</td><td>0.79259396</td><td>-251.30836</td><td>285.57828</td><td>243359268470810</td></tr>\n",
       "<tr><td>12047.491896048188</td><td>2.4273134362717905 .. -0.2074078609651951</td><td>0.642891831170849</td><td>6.862262083849164e-05</td><td>4</td><td>7928</td><td>GALAXY</td><td></td><td>10</td><td>5.173565909266472</td><td>6</td><td>226</td><td>6226</td><td>3009</td><td>0</td><td>150.61369332470753</td><td>3.2364675020671188</td><td>0.0</td><td>0.0</td><td>2021.2006</td><td>5400.0</td><td>4611686018427387904</td><td>1</td><td>TGT</td><td>-122.690735</td><td>257.2811</td><td>3900</td><td>0.17810292633703328</td><td>1</td><td>0</td><td></td><td>0</td><td>0</td><td></td><td>0.0</td><td>0.0</td><td>0.0</td><td>0.0</td><td>0.0</td><td>0.0</td><td>0.0</td><td>0.0</td><td>0.0</td><td>0.0</td><td>0.0</td><td>0.0</td><td>0.0</td><td>0.0</td><td>0.0</td><td>0.0</td><td>0.0</td><td>0</td><td>0.0</td><td>0.0</td><td>0.0</td><td>0.0</td><td>0</td><td></td><td>0.0</td><td>0.0</td><td>0.0</td><td>0.0</td><td></td><td>3900</td><td>1</td><td>4611686018427387904</td><td>0</td><td>0</td><td>9007199254740992</td><td>0</td><td>0</td><td>0</td><td>150.61369332470753</td><td>3.2364675020671188</td><td>80871</td><td>11</td><td>13420.532</td><td>4</td><td>1</td><td>-0.00081818184</td><td>0.002354879</td><td>0.0017272728</td><td>0.0035290997</td><td>150.61369016227667</td><td>0.031650897</td><td>3.2364608204966463</td><td>0.043017436</td><td>0.7920043</td><td>-122.69791</td><td>257.2489</td><td>234563167059978</td></tr>\n",
       "<tr><td>...</td><td>...</td><td>...</td><td>...</td><td>...</td><td>...</td><td>...</td><td>...</td><td>...</td><td>...</td><td>...</td><td>...</td><td>...</td><td>...</td><td>...</td><td>...</td><td>...</td><td>...</td><td>...</td><td>...</td><td>...</td><td>...</td><td>...</td><td>...</td><td>...</td><td>...</td><td>...</td><td>...</td><td>...</td><td>...</td><td>...</td><td>...</td><td>...</td><td>...</td><td>...</td><td>...</td><td>...</td><td>...</td><td>...</td><td>...</td><td>...</td><td>...</td><td>...</td><td>...</td><td>...</td><td>...</td><td>...</td><td>...</td><td>...</td><td>...</td><td>...</td><td>...</td><td>...</td><td>...</td><td>...</td><td>...</td><td>...</td><td>...</td><td>...</td><td>...</td><td>...</td><td>...</td><td>...</td><td>...</td><td>...</td><td>...</td><td>...</td><td>...</td><td>...</td><td>...</td><td>...</td><td>...</td><td>...</td><td>...</td><td>...</td><td>...</td><td>...</td><td>...</td><td>...</td><td>...</td><td>...</td><td>...</td><td>...</td><td>...</td><td>...</td><td>...</td><td>...</td><td>...</td><td>...</td><td>...</td><td>...</td></tr>\n",
       "<tr><td>14190.493035912514</td><td>23.946921472977447 .. 2.9398032594395906</td><td>0.7296432392450597</td><td>2.7582441991545127e-05</td><td>0</td><td>7928</td><td>GALAXY</td><td></td><td>10</td><td>567.0782049261034</td><td>4</td><td>80</td><td>4080</td><td>2490</td><td>0</td><td>149.53683</td><td>2.66705</td><td>0.0</td><td>0.0</td><td>2021.2006</td><td>5400.0</td><td>4611686018427387904</td><td>1</td><td>TGT</td><td>142.71858</td><td>114.70733</td><td>4000</td><td>0.2922712818342239</td><td>1</td><td>0</td><td></td><td>0</td><td>0</td><td></td><td>0.0</td><td>0.167135</td><td>0.237828</td><td>0.389104</td><td>0.0</td><td>0.0</td><td>0.0</td><td>0.0</td><td>0.0</td><td>0.0</td><td>0.0</td><td>0.0</td><td>0.0</td><td>0.0</td><td>0.0</td><td>0.0</td><td>0.0</td><td>0</td><td>0.0</td><td>0.0</td><td>0.0</td><td>0.0</td><td>0</td><td></td><td>0.0</td><td>0.0</td><td>0.0</td><td>0.0</td><td></td><td>4000</td><td>1</td><td>4611686018427387904</td><td>0</td><td>0</td><td>4294967296</td><td>0</td><td>0</td><td>0</td><td>149.53683</td><td>2.66705</td><td>80871</td><td>20</td><td>20722.727</td><td>5</td><td>1</td><td>0.0015</td><td>0.0056302752</td><td>0.00015</td><td>0.007996874</td><td>149.53683605719155</td><td>0.07937535</td><td>2.6670494489819623</td><td>0.11693409</td><td>0.7917073</td><td>142.71194</td><td>114.69975</td><td>39627853674840787</td></tr>\n",
       "<tr><td>8.999999999999996e+99</td><td>0.0 .. 0.0</td><td>-0.0019957014509158224</td><td>4.131159871613317e-48</td><td>1571</td><td>0</td><td>STAR</td><td>K</td><td>5</td><td>1.942668892225729e+84</td><td>4</td><td>95</td><td>4095</td><td>2491</td><td>512</td><td>149.70117851902233</td><td>2.7761611593559907</td><td>0.0</td><td>0.0</td><td>0.0</td><td>5400.0</td><td>4294967296</td><td>4</td><td>SKY</td><td>102.33922</td><td>141.28543</td><td>-1</td><td>0.8928090682190781</td><td>63</td><td>9010</td><td>1496p027</td><td>346806</td><td>707</td><td></td><td>0.0</td><td>0.0</td><td>0.0</td><td>0.0</td><td>0.0</td><td>0.0</td><td>0.0</td><td>0.0</td><td>0.0</td><td>0.0</td><td>0.0</td><td>0.0026411826</td><td>-0.0013252196</td><td>0.11883229</td><td>0.0</td><td>0.0</td><td>0.0</td><td>0</td><td>0.0</td><td>0.0</td><td>0.0</td><td>0.0</td><td>0</td><td></td><td>0.0</td><td>0.0</td><td>0.0</td><td>0.0</td><td></td><td>-1</td><td>-1</td><td>0</td><td>0</td><td>0</td><td>0</td><td>4294967296</td><td>0</td><td>0</td><td>149.70117851902233</td><td>2.7761611593559907</td><td>80871</td><td>0</td><td>0.0</td><td>5</td><td>1</td><td>-3.88995</td><td>4.1301126</td><td>1.36745</td><td>1.6325577</td><td>149.68534984308087</td><td>20.270063</td><td>2.7705007384287708</td><td>12.882671</td><td>0.0</td><td>106.2262</td><td>139.90994</td><td>616088605978264259</td></tr>\n",
       "<tr><td>17995.31720137596</td><td>6.386326342333643 .. -1.461652687813333</td><td>0.3708488374929419</td><td>1.0124693787629538e-05</td><td>0</td><td>7929</td><td>GALAXY</td><td></td><td>10</td><td>51.57879879511893</td><td>4</td><td>109</td><td>4109</td><td>2492</td><td>0</td><td>149.75717</td><td>2.83971</td><td>0.0</td><td>0.0</td><td>2021.2006</td><td>5400.0</td><td>4611686018427387904</td><td>1</td><td>TGT</td><td>88.66525</td><td>156.92354</td><td>4000</td><td>0.25662757210207054</td><td>1</td><td>0</td><td></td><td>0</td><td>0</td><td></td><td>0.0</td><td>0.14983</td><td>0.516264</td><td>1.257357</td><td>0.0</td><td>0.0</td><td>0.0</td><td>0.0</td><td>0.0</td><td>0.0</td><td>0.0</td><td>0.0</td><td>0.0</td><td>0.0</td><td>0.0</td><td>0.0</td><td>0.0</td><td>0</td><td>0.0</td><td>0.0</td><td>0.0</td><td>0.0</td><td>0</td><td></td><td>0.0</td><td>0.0</td><td>0.0</td><td>0.0</td><td></td><td>4000</td><td>1</td><td>4611686018427387904</td><td>0</td><td>0</td><td>4294967296</td><td>0</td><td>0</td><td>0</td><td>149.75717</td><td>2.83971</td><td>80871</td><td>20</td><td>20722.727</td><td>5</td><td>1</td><td>0.00185</td><td>0.005634714</td><td>-0.00025</td><td>0.0078517515</td><td>149.75717752855272</td><td>0.07832522</td><td>2.839711067101848</td><td>0.11415428</td><td>0.7916771</td><td>88.66155</td><td>156.9147</td><td>39627853679034491</td></tr>\n",
       "<tr><td>15012.830350488424</td><td>49.722866093905886 .. 1.764616370079381</td><td>1.528409221449794</td><td>0.00012523179227589144</td><td>4</td><td>7928</td><td>GALAXY</td><td></td><td>10</td><td>7.0312937796115875</td><td>4</td><td>96</td><td>4096</td><td>2493</td><td>0</td><td>149.72918182385507</td><td>2.785562115555946</td><td>0.0</td><td>0.0</td><td>2021.2006</td><td>5400.0</td><td>4611686018427387904</td><td>1</td><td>TGT</td><td>95.46461</td><td>143.5513</td><td>3700</td><td>0.9371990514262936</td><td>1</td><td>0</td><td></td><td>0</td><td>0</td><td></td><td>0.0</td><td>0.0</td><td>0.0</td><td>0.0</td><td>0.0</td><td>0.0</td><td>0.0</td><td>0.0</td><td>0.0</td><td>0.0</td><td>0.0</td><td>0.0</td><td>0.0</td><td>0.0</td><td>0.0</td><td>0.0</td><td>0.0</td><td>0</td><td>0.0</td><td>0.0</td><td>0.0</td><td>0.0</td><td>0</td><td></td><td>0.0</td><td>0.0</td><td>0.0</td><td>0.0</td><td></td><td>3700</td><td>1</td><td>4611686018427387904</td><td>0</td><td>0</td><td>18014398509481984</td><td>0</td><td>0</td><td>0</td><td>149.72918182385507</td><td>2.785562115555946</td><td>80871</td><td>20</td><td>20722.727</td><td>5</td><td>1</td><td>0.00215</td><td>0.0059287436</td><td>-1e-04</td><td>0.008538149</td><td>149.72919056972054</td><td>0.08130362</td><td>2.785562587843577</td><td>0.12448747</td><td>0.7917087</td><td>95.4596</td><td>143.5436</td><td>238949121392723</td></tr>\n",
       "<tr><td>13722.377698213793</td><td>-44.521731973491725 .. 0.49621243875061927</td><td>0.09262988493154996</td><td>6.160644600793652e-05</td><td>0</td><td>7928</td><td>GALAXY</td><td></td><td>10</td><td>46.08042747806758</td><td>4</td><td>90</td><td>4090</td><td>2494</td><td>0</td><td>149.50422287814862</td><td>2.697805070493063</td><td>0.0</td><td>0.0</td><td>2021.2006</td><td>5400.0</td><td>4611686018427387904</td><td>1</td><td>TGT</td><td>150.86594</td><td>122.40057</td><td>3800</td><td>0.20475757826051044</td><td>1</td><td>0</td><td></td><td>0</td><td>0</td><td></td><td>0.0</td><td>0.0</td><td>0.0</td><td>0.0</td><td>0.0</td><td>0.0</td><td>0.0</td><td>0.0</td><td>0.0</td><td>0.0</td><td>0.0</td><td>0.0</td><td>0.0</td><td>0.0</td><td>0.0</td><td>0.0</td><td>0.0</td><td>0</td><td>0.0</td><td>0.0</td><td>0.0</td><td>0.0</td><td>0</td><td></td><td>0.0</td><td>0.0</td><td>0.0</td><td>0.0</td><td></td><td>3800</td><td>1</td><td>4611686018427387904</td><td>0</td><td>0</td><td>36028797018963968</td><td>0</td><td>0</td><td>0</td><td>149.50422287814862</td><td>2.697805070493063</td><td>80871</td><td>20</td><td>20722.727</td><td>5</td><td>1</td><td>-0.0003</td><td>0.0052725705</td><td>5e-05</td><td>0.008726397</td><td>149.50422166722754</td><td>0.076824024</td><td>2.697804855641855</td><td>0.12727936</td><td>0.7918251</td><td>150.86134</td><td>122.39155</td><td>243347167903798</td></tr>\n",
       "<tr><td>10484.409554690123</td><td>12.072511264264678 .. 1.4387688205141282</td><td>1.0466288601104123</td><td>7.507192301157082e-05</td><td>4</td><td>7929</td><td>GALAXY</td><td></td><td>10</td><td>0.17230911180377007</td><td>4</td><td>85</td><td>4085</td><td>2495</td><td>0</td><td>149.70735533868765</td><td>2.7636234680826286</td><td>0.0</td><td>0.0</td><td>2021.2006</td><td>5400.0</td><td>4611686018427387904</td><td>1</td><td>TGT</td><td>100.79946</td><td>138.16702</td><td>3900</td><td>0.8340060544904138</td><td>1</td><td>0</td><td></td><td>0</td><td>0</td><td></td><td>0.0</td><td>0.0</td><td>0.0</td><td>0.0</td><td>0.0</td><td>0.0</td><td>0.0</td><td>0.0</td><td>0.0</td><td>0.0</td><td>0.0</td><td>0.0</td><td>0.0</td><td>0.0</td><td>0.0</td><td>0.0</td><td>0.0</td><td>0</td><td>0.0</td><td>0.0</td><td>0.0</td><td>0.0</td><td>0</td><td></td><td>0.0</td><td>0.0</td><td>0.0</td><td>0.0</td><td></td><td>3900</td><td>1</td><td>4611686018427387904</td><td>0</td><td>0</td><td>9007199254740992</td><td>0</td><td>0</td><td>0</td><td>149.70735533868765</td><td>2.7636234680826286</td><td>80871</td><td>11</td><td>9742.309</td><td>5</td><td>1</td><td>1.0295</td><td>1.5392781</td><td>0.67325</td><td>1.0543692</td><td>149.71152877948526</td><td>16.71791</td><td>2.7609319307781215</td><td>11.695925</td><td>0.4356636</td><td>99.7668</td><td>137.48625</td><td>234551074881541</td></tr>\n",
       "<tr><td>13611.677379846573</td><td>-14.062527730281106 .. -1.4357870003556654</td><td>1.5125976973504633</td><td>6.573859759020413e-05</td><td>4</td><td>7929</td><td>GALAXY</td><td></td><td>10</td><td>6.767549321055412</td><td>4</td><td>83</td><td>4083</td><td>2496</td><td>0</td><td>149.63321</td><td>2.72524</td><td>0.0</td><td>0.0</td><td>2021.2006</td><td>5400.0</td><td>4611686018427387904</td><td>1</td><td>TGT</td><td>119.00089</td><td>128.8445</td><td>4000</td><td>0.42133353085965064</td><td>1</td><td>0</td><td></td><td>0</td><td>0</td><td></td><td>0.0</td><td>0.0</td><td>0.0</td><td>0.0</td><td>0.0</td><td>0.0</td><td>0.0</td><td>0.0</td><td>0.0</td><td>0.0</td><td>0.0</td><td>0.0</td><td>0.0</td><td>0.0</td><td>0.0</td><td>0.0</td><td>0.0</td><td>0</td><td>0.0</td><td>0.0</td><td>0.0</td><td>0.0</td><td>0</td><td></td><td>0.0</td><td>0.0</td><td>0.0</td><td>0.0</td><td></td><td>4000</td><td>1</td><td>4611686018427387904</td><td>0</td><td>0</td><td>4294967296</td><td>0</td><td>0</td><td>0</td><td>149.63321</td><td>2.72524</td><td>80871</td><td>20</td><td>20722.727</td><td>5</td><td>1</td><td>0.00115</td><td>0.00534322</td><td>1e-04</td><td>0.009433981</td><td>149.63321466188623</td><td>0.07663229</td><td>2.725239635790091</td><td>0.13772169</td><td>0.79174924</td><td>118.99605</td><td>128.83714</td><td>142192098148357</td></tr>\n",
       "<tr><td>14616.903904337436</td><td>-2.5526035520365264e-05 .. 0.0</td><td>0.9453433511190227</td><td>0.00019362077456146022</td><td>0</td><td>7929</td><td>QSO</td><td></td><td>4</td><td>61.2808290310204</td><td>4</td><td>84</td><td>4084</td><td>2497</td><td>0</td><td>149.69798</td><td>2.7257</td><td>0.0</td><td>0.0</td><td>2021.2006</td><td>5400.0</td><td>4611686018427387904</td><td>1</td><td>TGT</td><td>103.048805</td><td>128.81024</td><td>4000</td><td>0.7237378276414873</td><td>1</td><td>0</td><td></td><td>0</td><td>0</td><td></td><td>0.0</td><td>0.100119</td><td>0.168105</td><td>0.872605</td><td>0.0</td><td>0.0</td><td>0.0</td><td>0.0</td><td>0.0</td><td>0.0</td><td>0.0</td><td>0.0</td><td>0.0</td><td>0.0</td><td>0.0</td><td>0.0</td><td>0.0</td><td>0</td><td>0.0</td><td>0.0</td><td>0.0</td><td>0.0</td><td>0</td><td></td><td>0.0</td><td>0.0</td><td>0.0</td><td>0.0</td><td></td><td>4000</td><td>1</td><td>4611686018427387904</td><td>0</td><td>0</td><td>4294967296</td><td>0</td><td>0</td><td>0</td><td>149.69798</td><td>2.7257</td><td>80871</td><td>20</td><td>20722.727</td><td>5</td><td>1</td><td>0.00215</td><td>0.0055542774</td><td>-0.0006</td><td>0.008642917</td><td>149.69798875479563</td><td>0.07537023</td><td>2.725702496602504</td><td>0.12602186</td><td>0.7916282</td><td>103.04295</td><td>128.80435</td><td>39627853674843878</td></tr>\n",
       "<tr><td>13711.12682478875</td><td>-8.56908312827298 .. 0.0</td><td>1.5177246044938004</td><td>0.0004618419955190548</td><td>4</td><td>7928</td><td>BC03</td><td></td><td>5</td><td>8.52247632551007</td><td>4</td><td>107</td><td>4107</td><td>2498</td><td>0</td><td>149.70942683863962</td><td>2.812844026514881</td><td>0.0</td><td>0.0</td><td>2021.2006</td><td>5400.0</td><td>4611686018427387904</td><td>1</td><td>TGT</td><td>100.36929</td><td>150.36166</td><td>3800</td><td>0.18509952919798467</td><td>1</td><td>0</td><td></td><td>0</td><td>0</td><td></td><td>0.0</td><td>0.0</td><td>0.0</td><td>0.0</td><td>0.0</td><td>0.0</td><td>0.0</td><td>0.0</td><td>0.0</td><td>0.0</td><td>0.0</td><td>0.0</td><td>0.0</td><td>0.0</td><td>0.0</td><td>0.0</td><td>0.0</td><td>0</td><td>0.0</td><td>0.0</td><td>0.0</td><td>0.0</td><td>0</td><td></td><td>0.0</td><td>0.0</td><td>0.0</td><td>0.0</td><td></td><td>3800</td><td>1</td><td>4611686018427387904</td><td>0</td><td>0</td><td>36028797018963968</td><td>0</td><td>0</td><td>0</td><td>149.70942683863962</td><td>2.812844026514881</td><td>80871</td><td>20</td><td>20722.727</td><td>5</td><td>1</td><td>0.00215</td><td>0.005970762</td><td>1.3010427e-19</td><td>0.008432082</td><td>149.70943557192658</td><td>0.081895374</td><td>2.8128441011595227</td><td>0.12275641</td><td>0.79175377</td><td>100.36495</td><td>150.35295</td><td>243347167903820</td></tr>\n",
       "<tr><td>8.999999999999996e+99</td><td>0.0 .. 0.0</td><td>-0.0019957014509158224</td><td>4.131159871613317e-48</td><td>1570</td><td>0</td><td>STAR</td><td>K</td><td>5</td><td>1.942668892225729e+84</td><td>4</td><td>93</td><td>4093</td><td>2499</td><td>512</td><td>149.62567930661527</td><td>2.74024129994062</td><td>0.0</td><td>0.0</td><td>2021.2006</td><td>5400.0</td><td>4611686018427387904</td><td>1</td><td>TGT</td><td>120.88549</td><td>132.57423</td><td>3900</td><td>0.11503531786074672</td><td>1</td><td>0</td><td></td><td>0</td><td>0</td><td></td><td>0.0</td><td>0.0</td><td>0.0</td><td>0.0</td><td>0.0</td><td>0.0</td><td>0.0</td><td>0.0</td><td>0.0</td><td>0.0</td><td>0.0</td><td>0.0</td><td>0.0</td><td>0.0</td><td>0.0</td><td>0.0</td><td>0.0</td><td>0</td><td>0.0</td><td>0.0</td><td>0.0</td><td>0.0</td><td>0</td><td></td><td>0.0</td><td>0.0</td><td>0.0</td><td>0.0</td><td></td><td>3900</td><td>1</td><td>4611686018427387904</td><td>0</td><td>0</td><td>9007199254740992</td><td>0</td><td>0</td><td>0</td><td>149.62567930661527</td><td>2.74024129994062</td><td>80871</td><td>0</td><td>0.0</td><td>5</td><td>1</td><td>-4.86015</td><td>4.881438</td><td>1.20065</td><td>1.8829405</td><td>149.6059633848306</td><td>6.7852015</td><td>2.7352019525344566</td><td>21.172703</td><td>0.0</td><td>125.7422</td><td>131.36565</td><td>234551074881556</td></tr>\n",
       "</table>"
      ],
      "text/plain": [
       "<Table length=5000>\n",
       "         CHI2         ...      TARGETID     \n",
       "       float64        ...       int64       \n",
       "--------------------- ... ------------------\n",
       "   11580.284447138663 ... 616088618083025980\n",
       "    11946.38049569726 ... 616088618078831375\n",
       "8.999999999999996e+99 ...    243359268470827\n",
       "    12134.28510031104 ...    243359260082224\n",
       "   12246.055943086743 ...    243359268470808\n",
       "   11585.752759069204 ...    142204190326789\n",
       "   11829.274732173886 ...  39627865779602281\n",
       "   12461.209353983402 ...    243359260082220\n",
       "    12183.65258860588 ...    243359268470810\n",
       "   12047.491896048188 ...    234563167059978\n",
       "                  ... ...                ...\n",
       "   14190.493035912514 ...  39627853674840787\n",
       "8.999999999999996e+99 ... 616088605978264259\n",
       "    17995.31720137596 ...  39627853679034491\n",
       "   15012.830350488424 ...    238949121392723\n",
       "   13722.377698213793 ...    243347167903798\n",
       "   10484.409554690123 ...    234551074881541\n",
       "   13611.677379846573 ...    142192098148357\n",
       "   14616.903904337436 ...  39627853674843878\n",
       "    13711.12682478875 ...    243347167903820\n",
       "8.999999999999996e+99 ...    234551074881556"
      ]
     },
     "execution_count": 10,
     "metadata": {},
     "output_type": "execute_result"
    }
   ],
   "source": [
    "f3_results[80871]"
   ]
  },
  {
   "cell_type": "code",
   "execution_count": 11,
   "id": "2212d1ce-fa18-433b-9bd9-1db701a8fb33",
   "metadata": {},
   "outputs": [],
   "source": [
    "scnd_types = sorted(scnd_mask.names())"
   ]
  },
  {
   "cell_type": "code",
   "execution_count": 12,
   "id": "cab0d4dd-cd6c-4d93-91d1-31d631b2f70a",
   "metadata": {},
   "outputs": [
    {
     "data": {
      "text/plain": [
       "[80869, 80871, 80872]"
      ]
     },
     "execution_count": 12,
     "metadata": {},
     "output_type": "execute_result"
    }
   ],
   "source": [
    "tids = sorted(list(f3_results.keys()))\n",
    "tids"
   ]
  },
  {
   "cell_type": "code",
   "execution_count": 13,
   "id": "30d35ac8-d813-426c-93b7-086881b48cb0",
   "metadata": {},
   "outputs": [
    {
     "name": "stdout",
     "output_type": "stream",
     "text": [
      "\n",
      "\n",
      "----  TILEID: 80869  ----\n",
      "\n",
      "BACKUP_CALIB    \t71\n",
      "BHB             \t1\n",
      "BRIGHT_HPM      \t0\n",
      "BRIGHT_TOO      \t0\n",
      "DARK_TOO        \t0\n",
      "DC3R2_GAMA      \t0\n",
      "DESILBG_BXU_FINAL\t0\n",
      "DESILBG_G_FINAL \t0\n",
      "DESILBG_TMG_FINAL\t0\n",
      "FAINT_HPM       \t2\n",
      "FIRST_MALS      \t0\n",
      "GAL_CLUS_2ND    \t0\n",
      "GAL_CLUS_BCG    \t0\n",
      "GAL_CLUS_SAT    \t0\n",
      "HETDEX_HP       \t25\n",
      "HETDEX_MAIN     \t1934\n",
      "HPM_SOUM        \t0\n",
      "HSC_HIZ_SNE     \t0\n",
      "ISM_CGM_QGP     \t0\n",
      "LBG_TOMOG_COSMOS_FINAL\t0\n",
      "LBG_TOMOG_W3    \t0\n",
      "LBG_TOMOG_XMM   \t0\n",
      "LOW_MASS_AGN    \t6\n",
      "LOW_Z           \t1948\n",
      "M31_KNOWN       \t0\n",
      "M31_QSO         \t0\n",
      "M31_STAR        \t0\n",
      "MWS_CALIB       \t71\n",
      "MWS_CLUS_GAL_DEEP\t0\n",
      "MWS_MAIN_CLUSTER_SV\t0\n",
      "MWS_RRLYR       \t1\n",
      "PSF_OUT_BRIGHT  \t0\n",
      "PSF_OUT_DARK    \t0\n",
      "PV_BRIGHT       \t0\n",
      "PV_DARK         \t0\n",
      "QSO_RED         \t0\n",
      "SN_HOSTS        \t0\n",
      "SPCV            \t0\n",
      "STRONG_LENS     \t0\n",
      "UDG             \t0\n",
      "UNWISE_BLUE     \t0\n",
      "UNWISE_BLUE_BRIGHT_II\t0\n",
      "UNWISE_BLUE_FAINT_II\t0\n",
      "UNWISE_GREEN    \t0\n",
      "UNWISE_GREEN_II_3700\t0\n",
      "UNWISE_GREEN_II_3800\t0\n",
      "UNWISE_GREEN_II_3900\t0\n",
      "UNWISE_GREEN_II_4000\t0\n",
      "VETO            \t0\n",
      "WD_BINARIES_BRIGHT\t0\n",
      "WD_BINARIES_DARK\t0\n",
      "WISE_VAR_QSO    \t115\n",
      "\n",
      "\n",
      "----  TILEID: 80871  ----\n",
      "\n",
      "BACKUP_CALIB    \t7\n",
      "BHB             \t0\n",
      "BRIGHT_HPM      \t0\n",
      "BRIGHT_TOO      \t0\n",
      "DARK_TOO        \t0\n",
      "DC3R2_GAMA      \t0\n",
      "DESILBG_BXU_FINAL\t1221\n",
      "DESILBG_G_FINAL \t842\n",
      "DESILBG_TMG_FINAL\t931\n",
      "FAINT_HPM       \t0\n",
      "FIRST_MALS      \t0\n",
      "GAL_CLUS_2ND    \t0\n",
      "GAL_CLUS_BCG    \t0\n",
      "GAL_CLUS_SAT    \t0\n",
      "HETDEX_HP       \t0\n",
      "HETDEX_MAIN     \t0\n",
      "HPM_SOUM        \t0\n",
      "HSC_HIZ_SNE     \t694\n",
      "ISM_CGM_QGP     \t58\n",
      "LBG_TOMOG_COSMOS_FINAL\t4\n",
      "LBG_TOMOG_W3    \t0\n",
      "LBG_TOMOG_XMM   \t0\n",
      "LOW_MASS_AGN    \t1\n",
      "LOW_Z           \t54\n",
      "M31_KNOWN       \t0\n",
      "M31_QSO         \t0\n",
      "M31_STAR        \t0\n",
      "MWS_CALIB       \t7\n",
      "MWS_CLUS_GAL_DEEP\t0\n",
      "MWS_MAIN_CLUSTER_SV\t0\n",
      "MWS_RRLYR       \t0\n",
      "PSF_OUT_BRIGHT  \t24\n",
      "PSF_OUT_DARK    \t43\n",
      "PV_BRIGHT       \t0\n",
      "PV_DARK         \t0\n",
      "QSO_RED         \t0\n",
      "SN_HOSTS        \t0\n",
      "SPCV            \t0\n",
      "STRONG_LENS     \t0\n",
      "UDG             \t0\n",
      "UNWISE_BLUE     \t49\n",
      "UNWISE_BLUE_BRIGHT_II\t0\n",
      "UNWISE_BLUE_FAINT_II\t0\n",
      "UNWISE_GREEN    \t10\n",
      "UNWISE_GREEN_II_3700\t0\n",
      "UNWISE_GREEN_II_3800\t0\n",
      "UNWISE_GREEN_II_3900\t0\n",
      "UNWISE_GREEN_II_4000\t0\n",
      "VETO            \t0\n",
      "WD_BINARIES_BRIGHT\t0\n",
      "WD_BINARIES_DARK\t0\n",
      "WISE_VAR_QSO    \t46\n",
      "\n",
      "\n",
      "----  TILEID: 80872  ----\n",
      "\n",
      "BACKUP_CALIB    \t7\n",
      "BHB             \t0\n",
      "BRIGHT_HPM      \t0\n",
      "BRIGHT_TOO      \t0\n",
      "DARK_TOO        \t0\n",
      "DC3R2_GAMA      \t0\n",
      "DESILBG_BXU_FINAL\t1721\n",
      "DESILBG_G_FINAL \t1128\n",
      "DESILBG_TMG_FINAL\t613\n",
      "FAINT_HPM       \t1\n",
      "FIRST_MALS      \t1\n",
      "GAL_CLUS_2ND    \t0\n",
      "GAL_CLUS_BCG    \t0\n",
      "GAL_CLUS_SAT    \t0\n",
      "HETDEX_HP       \t0\n",
      "HETDEX_MAIN     \t0\n",
      "HPM_SOUM        \t0\n",
      "HSC_HIZ_SNE     \t192\n",
      "ISM_CGM_QGP     \t11\n",
      "LBG_TOMOG_COSMOS_FINAL\t3\n",
      "LBG_TOMOG_W3    \t0\n",
      "LBG_TOMOG_XMM   \t0\n",
      "LOW_MASS_AGN    \t0\n",
      "LOW_Z           \t40\n",
      "M31_KNOWN       \t0\n",
      "M31_QSO         \t0\n",
      "M31_STAR        \t0\n",
      "MWS_CALIB       \t7\n",
      "MWS_CLUS_GAL_DEEP\t0\n",
      "MWS_MAIN_CLUSTER_SV\t0\n",
      "MWS_RRLYR       \t0\n",
      "PSF_OUT_BRIGHT  \t13\n",
      "PSF_OUT_DARK    \t25\n",
      "PV_BRIGHT       \t0\n",
      "PV_DARK         \t0\n",
      "QSO_RED         \t0\n",
      "SN_HOSTS        \t0\n",
      "SPCV            \t0\n",
      "STRONG_LENS     \t0\n",
      "UDG             \t0\n",
      "UNWISE_BLUE     \t26\n",
      "UNWISE_BLUE_BRIGHT_II\t0\n",
      "UNWISE_BLUE_FAINT_II\t0\n",
      "UNWISE_GREEN    \t8\n",
      "UNWISE_GREEN_II_3700\t0\n",
      "UNWISE_GREEN_II_3800\t0\n",
      "UNWISE_GREEN_II_3900\t0\n",
      "UNWISE_GREEN_II_4000\t0\n",
      "VETO            \t0\n",
      "WD_BINARIES_BRIGHT\t0\n",
      "WD_BINARIES_DARK\t0\n",
      "WISE_VAR_QSO    \t36\n"
     ]
    }
   ],
   "source": [
    "for tid in tids:\n",
    "    print('\\n\\n----  TILEID: {:d}  ----\\n'.format(tid))\n",
    "\n",
    "    for x in scnd_types:\n",
    "        isin  = (f3_results[tid]['SV1_SCND_TARGET'].data & scnd_mask[x]) != 0\n",
    "        nscnd = np.count_nonzero(isin)\n",
    "    \n",
    "        print('{}\\t{}'.format(x.ljust(16), nscnd))"
   ]
  },
  {
   "cell_type": "code",
   "execution_count": 14,
   "id": "3b06c898-53c9-4835-a634-7b40c2424768",
   "metadata": {},
   "outputs": [
    {
     "data": {
      "text/plain": [
       "['HETDEX_HP',\n",
       " 'HETDEX_MAIN',\n",
       " 'DESILBG_TMG_FINAL',\n",
       " 'DESILBG_BXU_FINAL',\n",
       " 'DESILBG_G_FINAL']"
      ]
     },
     "execution_count": 14,
     "metadata": {},
     "output_type": "execute_result"
    }
   ],
   "source": [
    "keep_types = ['HETDEX_HP', 'HETDEX_MAIN', 'DESILBG_TMG_FINAL', 'DESILBG_BXU_FINAL', 'DESILBG_G_FINAL']\n",
    "keep_types"
   ]
  },
  {
   "cell_type": "code",
   "execution_count": 15,
   "id": "cdf4bb5a-5cba-4765-b8ca-d64ddfe0d019",
   "metadata": {},
   "outputs": [
    {
     "name": "stdout",
     "output_type": "stream",
     "text": [
      "\n",
      "\n",
      "80871\tHETDEX_HP       \t0\n",
      "80871\tHETDEX_MAIN     \t0\n",
      "80871\tDESILBG_TMG_FINAL\t931\n",
      "80871\tDESILBG_BXU_FINAL\t1221\n",
      "80871\tDESILBG_G_FINAL \t842\n",
      "80871\t0.5988\n",
      "\n",
      "80872\tHETDEX_HP       \t0\n",
      "80872\tHETDEX_MAIN     \t0\n",
      "80872\tDESILBG_TMG_FINAL\t613\n",
      "80872\tDESILBG_BXU_FINAL\t1721\n",
      "80872\tDESILBG_G_FINAL \t1128\n",
      "80872\t0.6924\n",
      "\n",
      "80869\tHETDEX_HP       \t25\n",
      "80869\tHETDEX_MAIN     \t1934\n",
      "80869\tDESILBG_TMG_FINAL\t0\n",
      "80869\tDESILBG_BXU_FINAL\t0\n",
      "80869\tDESILBG_G_FINAL \t0\n",
      "80869\t0.3918\n",
      "\n",
      "80871\tHETDEX_HP       \t0\n",
      "80871\tHETDEX_MAIN     \t0\n",
      "80871\tDESILBG_TMG_FINAL\t931\n",
      "80871\tDESILBG_BXU_FINAL\t1221\n",
      "80871\tDESILBG_G_FINAL \t842\n",
      "80871\t0.5988\n",
      "\n",
      "80872\tHETDEX_HP       \t0\n",
      "80872\tHETDEX_MAIN     \t0\n",
      "80872\tDESILBG_TMG_FINAL\t613\n",
      "80872\tDESILBG_BXU_FINAL\t1721\n",
      "80872\tDESILBG_G_FINAL \t1128\n",
      "80872\t0.6924\n"
     ]
    }
   ],
   "source": [
    "for sample in [everest_results, f3_results]:\n",
    "  for tid in tids:\n",
    "    print()\n",
    "\n",
    "    if tid not in sample.keys():\n",
    "        continue\n",
    "    \n",
    "    sample[tid]['IN_SAMPLE'] = np.zeros(len(sample[tid]), dtype=bool)\n",
    "    \n",
    "    for kt in keep_types:\n",
    "        in_kt = (sample[tid]['SV1_SCND_TARGET'].data & scnd_mask[kt]) != 0\n",
    "        \n",
    "        sample[tid]['IN_SAMPLE'] = sample[tid]['IN_SAMPLE'].data | in_kt\n",
    "        \n",
    "        print('{}\\t{}\\t{}'.format(tid, kt.ljust(16), np.count_nonzero(in_kt)))\n",
    "        \n",
    "    print('{}\\t{}'.format(tid, np.mean(sample[tid]['IN_SAMPLE'])))"
   ]
  },
  {
   "cell_type": "code",
   "execution_count": 16,
   "id": "f7ff3c22-b98f-48a1-9df0-4ca7cb11b0f9",
   "metadata": {},
   "outputs": [],
   "source": [
    "colors = plt.rcParams['axes.prop_cycle'].by_key()['color']"
   ]
  },
  {
   "cell_type": "code",
   "execution_count": 17,
   "id": "6bfb2347-6abc-40ac-8778-68f130e8cd2c",
   "metadata": {},
   "outputs": [
    {
     "data": {
      "text/plain": [
       "Text(0, 0.5, '$\\\\Delta N/\\\\Delta z$')"
      ]
     },
     "execution_count": 17,
     "metadata": {},
     "output_type": "execute_result"
    },
    {
     "data": {
      "image/png": "[encoded data removed]",
      "text/plain": [
       "<Figure size 720x360 with 2 Axes>"
      ]
     },
     "metadata": {
      "needs_background": "light"
     },
     "output_type": "display_data"
    }
   ],
   "source": [
    "fig, axes = plt.subplots(1, 2, figsize=(10, 5))\n",
    "\n",
    "pl.sca(axes[0])\n",
    "\n",
    "for tid, color in zip([80871, 80872], [colors[1], colors[2]]):\n",
    "    isin = everest_results[tid]['IN_SAMPLE']\n",
    "    \n",
    "    pl.hist(everest_results[tid]['Z'][isin], bins=np.arange(0.0, 5.0, 0.1), histtype='step', label=tid, color=color)\n",
    "\n",
    "pl.legend(frameon=False)\n",
    "pl.xlabel('$z$')\n",
    "pl.ylabel('$\\Delta N/\\Delta z$')\n",
    "\n",
    "pl.sca(axes[1])\n",
    "\n",
    "for tid in tids:\n",
    "    isin = f3_results[tid]['IN_SAMPLE']\n",
    "    \n",
    "    pl.hist(f3_results[tid]['Z'][isin], bins=np.arange(0.0, 5.0, 0.1), histtype='step', label=tid)\n",
    "\n",
    "pl.legend(frameon=False)\n",
    "\n",
    "pl.xlabel('$z$')\n",
    "pl.ylabel('$\\Delta N/\\Delta z$')"
   ]
  },
  {
   "cell_type": "code",
   "execution_count": 18,
   "id": "2cc1df8c-f435-4d13-acec-7194bf809145",
   "metadata": {},
   "outputs": [
    {
     "data": {
      "text/plain": [
       "0.9996"
      ]
     },
     "execution_count": 18,
     "metadata": {},
     "output_type": "execute_result"
    }
   ],
   "source": [
    "np.mean(f3_results[80871]['TARGETID'] == everest_results[80871]['TARGETID'])"
   ]
  },
  {
   "cell_type": "code",
   "execution_count": 19,
   "id": "c3f00e0e-c2e2-477e-b5d0-36cbafc51a88",
   "metadata": {},
   "outputs": [
    {
     "data": {
      "image/png": "[encoded data removed]",
      "text/plain": [
       "<Figure size 432x288 with 1 Axes>"
      ]
     },
     "metadata": {
      "needs_background": "light"
     },
     "output_type": "display_data"
    }
   ],
   "source": [
    "to_plot = 'Z'\n",
    "\n",
    "for tid in [80871]:\n",
    "    isin = f3_results[tid]['IN_SAMPLE']\n",
    "\n",
    "    # assert  np.all(f3_results[tid]['TARGETID'] == everest_results[tid]['TARGETID'])\n",
    "    \n",
    "    pl.plot(everest_results[tid][to_plot][isin], f3_results[tid][to_plot][isin], marker=',', lw=0.0)\n",
    "    \n",
    "    pl.xlabel('EVEREST Z')\n",
    "    pl.ylabel('F3 Z')"
   ]
  },
  {
   "cell_type": "code",
   "execution_count": 20,
   "id": "19fe1cfc-f97d-4cf4-8904-1f844985d764",
   "metadata": {},
   "outputs": [
    {
     "name": "stdout",
     "output_type": "stream",
     "text": [
      "80869 ['BC03' 'GALAXY' 'LBG' 'QSO' 'STAR'] [  63 2925  235  236 1541]\n",
      "80871 ['BC03' 'GALAXY' 'LBG' 'QSO' 'STAR'] [ 163 3119  332  359 1027]\n",
      "80872 ['BC03' 'GALAXY' 'LBG' 'QSO' 'STAR'] [ 242 2989  288  313 1168]\n"
     ]
    }
   ],
   "source": [
    "for tid in tids:\n",
    "    utypes, cnts = np.unique(f3_results[tid]['SPECTYPE'].data, return_counts=True)\n",
    "    \n",
    "    print(tid, utypes, cnts)"
   ]
  },
  {
   "cell_type": "code",
   "execution_count": 46,
   "id": "7f2cb9b7-bbe2-406d-a26e-ba7193f3eef2",
   "metadata": {},
   "outputs": [
    {
     "data": {
      "text/html": [
       "<i>Table masked=True length=3515</i>\n",
       "<table id=\"table46913258480688\" class=\"table-striped table-bordered table-condensed\">\n",
       "<thead><tr><th>TARGETID</th><th>PETAL_LOC</th><th>DEVICE_LOC</th><th>LOCATION</th><th>FIBER</th><th>COADD_FIBERSTATUS</th><th>TARGET_RA</th><th>TARGET_DEC</th><th>PMRA</th><th>PMDEC</th><th>REF_EPOCH</th><th>LAMBDA_REF</th><th>FA_TARGET</th><th>FA_TYPE</th><th>OBJTYPE</th><th>PRIORITY</th><th>SUBPRIORITY</th><th>OBSCONDITIONS</th><th>RELEASE</th><th>BRICKID</th><th>BRICK_OBJID</th><th>MORPHTYPE</th><th>FLUX_G</th><th>FLUX_R</th><th>FLUX_Z</th><th>FLUX_IVAR_G</th><th>FLUX_IVAR_R</th><th>FLUX_IVAR_Z</th><th>MASKBITS</th><th>REF_ID</th><th>REF_CAT</th><th>GAIA_PHOT_G_MEAN_MAG</th><th>GAIA_PHOT_BP_MEAN_MAG</th><th>GAIA_PHOT_RP_MEAN_MAG</th><th>PARALLAX</th><th>BRICKNAME</th><th>EBV</th><th>FLUX_W1</th><th>FLUX_W2</th><th>FLUX_IVAR_W1</th><th>FLUX_IVAR_W2</th><th>FIBERFLUX_G</th><th>FIBERFLUX_R</th><th>FIBERFLUX_Z</th><th>FIBERTOTFLUX_G</th><th>FIBERTOTFLUX_R</th><th>FIBERTOTFLUX_Z</th><th>SERSIC</th><th>SHAPE_R</th><th>SHAPE_E1</th><th>SHAPE_E2</th><th>PHOTSYS</th><th>PRIORITY_INIT</th><th>NUMOBS_INIT</th><th>SV1_DESI_TARGET</th><th>SV1_BGS_TARGET</th><th>SV1_MWS_TARGET</th><th>SV1_SCND_TARGET</th><th>DESI_TARGET</th><th>BGS_TARGET</th><th>MWS_TARGET</th><th>TILEID</th><th>COADD_NUMEXP</th><th>COADD_EXPTIME</th><th>MEAN_DELTA_X</th><th>RMS_DELTA_X</th><th>MEAN_DELTA_Y</th><th>RMS_DELTA_Y</th><th>MEAN_FIBER_X</th><th>MEAN_FIBER_Y</th><th>MEAN_FIBER_RA</th><th>MEAN_FIBER_DEC</th><th>MEAN_FIBERASSIGN_X</th><th>MEAN_FIBERASSIGN_Y</th><th>FIRST_NIGHT</th><th>LAST_NIGHT</th><th>NUM_NIGHT</th><th>FIRST_EXPID</th><th>LAST_EXPID</th><th>NUM_EXPID</th><th>FIRST_TILEID</th><th>LAST_TILEID</th><th>NUM_TILEID</th><th>FIRST_FIBER</th><th>LAST_FIBER</th><th>NUM_FIBER</th><th>FIRST_MJD</th><th>LAST_MJD</th><th>NUM_MJD</th><th>PSF_TO_FIBER_SPECFLUX</th><th>FIBERASSIGN_X</th><th>FIBERASSIGN_Y</th><th>PLATE_RA</th><th>PLATE_DEC</th><th>COADD_NUMNIGHT</th><th>COADD_NUMTILE</th><th>STD_FIBER_RA</th><th>STD_FIBER_DEC</th><th>MEAN_PSF_TO_FIBER_SPECFLUX</th><th>CHI2</th><th>Z</th><th>ZERR</th><th>ZWARN</th><th>NPIXELS</th><th>SPECTYPE</th><th>SUBTYPE</th><th>NCOEFF</th><th>DELTACHI2</th><th>NUMEXP</th><th>NUMTILE</th><th>detectid</th><th>RA_HETDEX</th><th>DEC_HETDEX</th><th>wave</th><th>flux</th><th>flux_err</th><th>sn</th><th>linewidth</th><th>chi2</th><th>plae_classification</th><th>source_type</th><th>z_hetdex</th><th>src_separation</th><th>best_z</th><th>best_pz</th><th>sn_im</th><th>apcor_api</th><th>VI_z</th><th>VI_quality</th></tr></thead>\n",
       "<thead><tr><th></th><th></th><th></th><th></th><th></th><th></th><th></th><th></th><th></th><th></th><th></th><th></th><th></th><th></th><th></th><th></th><th></th><th></th><th></th><th></th><th></th><th></th><th></th><th></th><th></th><th></th><th></th><th></th><th></th><th></th><th></th><th></th><th></th><th></th><th></th><th></th><th></th><th></th><th></th><th></th><th></th><th></th><th></th><th></th><th></th><th></th><th></th><th></th><th></th><th></th><th></th><th></th><th></th><th></th><th></th><th></th><th></th><th></th><th></th><th></th><th></th><th></th><th></th><th></th><th></th><th></th><th></th><th></th><th></th><th></th><th></th><th></th><th></th><th></th><th></th><th></th><th></th><th></th><th></th><th></th><th></th><th></th><th></th><th></th><th></th><th></th><th></th><th></th><th></th><th></th><th></th><th></th><th></th><th></th><th></th><th></th><th></th><th></th><th></th><th></th><th></th><th></th><th></th><th></th><th></th><th></th><th></th><th></th><th></th><th></th><th></th><th></th><th></th><th></th><th></th><th></th><th></th><th></th><th></th><th></th><th></th><th></th><th>deg</th><th></th><th></th><th></th><th></th><th></th><th></th></tr></thead>\n",
       "<thead><tr><th>int64</th><th>int16</th><th>int32</th><th>int64</th><th>int32</th><th>int32</th><th>float64</th><th>float64</th><th>float32</th><th>float32</th><th>float32</th><th>float32</th><th>int64</th><th>uint8</th><th>bytes3</th><th>int32</th><th>float64</th><th>int32</th><th>int16</th><th>int32</th><th>int32</th><th>bytes4</th><th>float32</th><th>float32</th><th>float32</th><th>float32</th><th>float32</th><th>float32</th><th>int16</th><th>int64</th><th>bytes2</th><th>float32</th><th>float32</th><th>float32</th><th>float32</th><th>bytes8</th><th>float32</th><th>float32</th><th>float32</th><th>float32</th><th>float32</th><th>float32</th><th>float32</th><th>float32</th><th>float32</th><th>float32</th><th>float32</th><th>float32</th><th>float32</th><th>float32</th><th>float32</th><th>bytes1</th><th>int64</th><th>int64</th><th>int64</th><th>int64</th><th>int64</th><th>int64</th><th>int64</th><th>int64</th><th>int64</th><th>int32</th><th>int16</th><th>float32</th><th>float32</th><th>float32</th><th>float32</th><th>float32</th><th>float32</th><th>float32</th><th>float64</th><th>float64</th><th>float32</th><th>float32</th><th>int32</th><th>int32</th><th>int16</th><th>int32</th><th>int32</th><th>int16</th><th>int32</th><th>int32</th><th>int16</th><th>int32</th><th>int32</th><th>int16</th><th>float32</th><th>float32</th><th>int16</th><th>float64</th><th>float32</th><th>float32</th><th>float64</th><th>float64</th><th>int16</th><th>int16</th><th>float32</th><th>float32</th><th>float32</th><th>float64</th><th>float64</th><th>float64</th><th>int64</th><th>int64</th><th>bytes6</th><th>bytes20</th><th>int64</th><th>float64</th><th>int32</th><th>int32</th><th>int64</th><th>float32</th><th>float32</th><th>float32</th><th>float32</th><th>float32</th><th>float32</th><th>float32</th><th>float32</th><th>float32</th><th>bytes4</th><th>float64</th><th>float32</th><th>float64</th><th>float64</th><th>float64</th><th>float64</th><th>float64</th><th>int64</th></tr></thead>\n",
       "<tr><td>103606497837059</td><td>1</td><td>397</td><td>1397</td><td>518</td><td>512</td><td>224.089111328125</td><td>50.0955924987793</td><td>0.0</td><td>0.0</td><td>2021.1924</td><td>5400.0</td><td>4611686018427387904</td><td>1</td><td>TGT</td><td>4100</td><td>0.5387504567218175</td><td>1</td><td>0</td><td>0</td><td>0</td><td></td><td>0.0</td><td>0.0</td><td>0.0</td><td>0.0</td><td>0.0</td><td>0.0</td><td>0</td><td>0</td><td></td><td>0.0</td><td>0.0</td><td>0.0</td><td>0.0</td><td></td><td>0.0</td><td>0.0</td><td>0.0</td><td>0.0</td><td>0.0</td><td>0.0</td><td>0.0</td><td>0.0</td><td>0.0</td><td>0.0</td><td>0.0</td><td>0.0</td><td>0.0</td><td>0.0</td><td>0.0</td><td></td><td>4100</td><td>1</td><td>4611686018427387904</td><td>0</td><td>0</td><td>8388608</td><td>0</td><td>0</td><td>0</td><td>80870</td><td>0</td><td>0.0</td><td>-2.0596</td><td>2.059608</td><td>-5.2166</td><td>5.2166014</td><td>148.7436</td><td>-348.7832</td><td>224.07539715309431</td><td>50.11516834071459</td><td>nan</td><td>nan</td><td>--</td><td>--</td><td>--</td><td>--</td><td>--</td><td>--</td><td>--</td><td>--</td><td>--</td><td>--</td><td>--</td><td>--</td><td>nan</td><td>nan</td><td>--</td><td>nan</td><td>146.67651</td><td>-354.05673</td><td>224.089111328125</td><td>50.0955924987793</td><td>3</td><td>1</td><td>0.19516109</td><td>0.0493325</td><td>0.0</td><td>8.999999999999996e+99</td><td>-0.0019957014509158224</td><td>4.131159871613317e-48</td><td>1570</td><td>0</td><td>STAR</td><td>K</td><td>5</td><td>1.942668892225729e+84</td><td>--</td><td>--</td><td>2102264288</td><td>224.08911</td><td>50.095592</td><td>4815.1</td><td>19.26054</td><td>2.9309516</td><td>5.52</td><td>4.29</td><td>1.03</td><td>0.999</td><td>lae</td><td>2.9608612060546875</td><td>0.0</td><td>2.9608612060546875</td><td>0.949999988079071</td><td>3.506540536880493</td><td>0.5185121685159076</td><td>nan</td><td>-1</td></tr>\n",
       "<tr><td>103606497837060</td><td>1</td><td>419</td><td>1419</td><td>529</td><td>0</td><td>224.06594848632812</td><td>50.08247375488281</td><td>0.0</td><td>0.0</td><td>2021.1924</td><td>5400.0</td><td>4611686018427387904</td><td>1</td><td>TGT</td><td>4100</td><td>0.6470453259533693</td><td>1</td><td>0</td><td>0</td><td>0</td><td></td><td>0.0</td><td>0.0</td><td>0.0</td><td>0.0</td><td>0.0</td><td>0.0</td><td>0</td><td>0</td><td></td><td>0.0</td><td>0.0</td><td>0.0</td><td>0.0</td><td></td><td>0.0</td><td>0.0</td><td>0.0</td><td>0.0</td><td>0.0</td><td>0.0</td><td>0.0</td><td>0.0</td><td>0.0</td><td>0.0</td><td>0.0</td><td>0.0</td><td>0.0</td><td>0.0</td><td>0.0</td><td></td><td>4100</td><td>1</td><td>4611686018427387904</td><td>0</td><td>0</td><td>8388608</td><td>0</td><td>0</td><td>0</td><td>80870</td><td>5</td><td>8140.226</td><td>0.0028</td><td>0.006542171</td><td>-0.0012</td><td>0.0028982754</td><td>150.6048</td><td>-357.5998</td><td>224.06596529969542</td><td>50.08247803003104</td><td>nan</td><td>nan</td><td>--</td><td>--</td><td>--</td><td>--</td><td>--</td><td>--</td><td>--</td><td>--</td><td>--</td><td>--</td><td>--</td><td>--</td><td>nan</td><td>nan</td><td>--</td><td>nan</td><td>150.59998</td><td>-357.65894</td><td>224.06594848632812</td><td>50.08247375488281</td><td>3</td><td>1</td><td>0.20368443</td><td>0.035812348</td><td>0.7926747</td><td>12110.121168673038</td><td>1.582186534178502</td><td>7.936175500814655e-05</td><td>0</td><td>7928</td><td>GALAXY</td><td></td><td>10</td><td>11.173452407121658</td><td>--</td><td>--</td><td>2102264283</td><td>224.06595</td><td>50.082474</td><td>4992.79</td><td>11.697858</td><td>1.7726978</td><td>5.36</td><td>4.27</td><td>1.02</td><td>0.9864939</td><td>lae</td><td>3.107027530670166</td><td>1.1938239e-05</td><td>3.107027530670166</td><td>0.949999988079071</td><td>3.5273025035858154</td><td>0.8990033902776865</td><td>nan</td><td>0</td></tr>\n",
       "<tr><td>103606497837061</td><td>1</td><td>418</td><td>1418</td><td>534</td><td>512</td><td>224.12872314453125</td><td>50.04341125488281</td><td>0.0</td><td>0.0</td><td>2021.1924</td><td>5400.0</td><td>4611686018427387904</td><td>1</td><td>TGT</td><td>4100</td><td>0.6755025348467562</td><td>1</td><td>0</td><td>0</td><td>0</td><td></td><td>0.0</td><td>0.0</td><td>0.0</td><td>0.0</td><td>0.0</td><td>0.0</td><td>0</td><td>0</td><td></td><td>0.0</td><td>0.0</td><td>0.0</td><td>0.0</td><td></td><td>0.0</td><td>0.0</td><td>0.0</td><td>0.0</td><td>0.0</td><td>0.0</td><td>0.0</td><td>0.0</td><td>0.0</td><td>0.0</td><td>0.0</td><td>0.0</td><td>0.0</td><td>0.0</td><td>0.0</td><td></td><td>4100</td><td>1</td><td>4611686018427387904</td><td>0</td><td>0</td><td>8388608</td><td>0</td><td>0</td><td>0</td><td>80870</td><td>0</td><td>0.0</td><td>-4.3746</td><td>4.3746037</td><td>-0.2818</td><td>0.2818315</td><td>145.0584</td><td>-367.7086</td><td>224.10201966358628</td><td>50.044734608282354</td><td>nan</td><td>nan</td><td>--</td><td>--</td><td>--</td><td>--</td><td>--</td><td>--</td><td>--</td><td>--</td><td>--</td><td>--</td><td>--</td><td>--</td><td>nan</td><td>nan</td><td>--</td><td>nan</td><td>140.67073</td><td>-368.04886</td><td>224.12872314453125</td><td>50.04341125488281</td><td>3</td><td>1</td><td>0.18986483</td><td>0.054980967</td><td>0.0</td><td>8.999999999999996e+99</td><td>-0.0019957014509158224</td><td>4.131159871613317e-48</td><td>1570</td><td>0</td><td>STAR</td><td>K</td><td>5</td><td>1.942668892225729e+84</td><td>--</td><td>--</td><td>2102264101</td><td>224.12872</td><td>50.04341</td><td>4087.25</td><td>17.798397</td><td>2.2937574</td><td>5.66</td><td>3.16</td><td>0.99</td><td>0.999</td><td>lae</td><td>2.362137794494629</td><td>5.122642e-06</td><td>2.362137794494629</td><td>0.949999988079071</td><td>4.589815139770508</td><td>0.9107537470371112</td><td>nan</td><td>-1</td></tr>\n",
       "<tr><td>103606502031361</td><td>0</td><td>458</td><td>458</td><td>386</td><td>0</td><td>224.4902801513672</td><td>50.11511993408203</td><td>0.0</td><td>0.0</td><td>2021.1924</td><td>5400.0</td><td>4611686018427387904</td><td>1</td><td>TGT</td><td>4100</td><td>0.8412141988766365</td><td>1</td><td>0</td><td>0</td><td>0</td><td></td><td>0.0</td><td>0.0</td><td>0.0</td><td>0.0</td><td>0.0</td><td>0.0</td><td>0</td><td>0</td><td></td><td>0.0</td><td>0.0</td><td>0.0</td><td>0.0</td><td></td><td>0.0</td><td>0.0</td><td>0.0</td><td>0.0</td><td>0.0</td><td>0.0</td><td>0.0</td><td>0.0</td><td>0.0</td><td>0.0</td><td>0.0</td><td>0.0</td><td>0.0</td><td>0.0</td><td>0.0</td><td></td><td>4100</td><td>1</td><td>4611686018427387904</td><td>0</td><td>0</td><td>8388608</td><td>0</td><td>0</td><td>0</td><td>80870</td><td>5</td><td>8140.226</td><td>0.0044</td><td>0.009486833</td><td>0.0024</td><td>0.0042895223</td><td>81.297</td><td>-347.886</td><td>224.4903076449482</td><td>50.115110781589586</td><td>nan</td><td>nan</td><td>--</td><td>--</td><td>--</td><td>--</td><td>--</td><td>--</td><td>--</td><td>--</td><td>--</td><td>--</td><td>--</td><td>--</td><td>nan</td><td>nan</td><td>--</td><td>nan</td><td>81.281685</td><td>-347.92926</td><td>224.4902801513672</td><td>50.11511993408203</td><td>3</td><td>1</td><td>0.29400605</td><td>0.048973016</td><td>0.79275167</td><td>10245.386461094022</td><td>0.5107374277123228</td><td>0.00018783891869370028</td><td>4</td><td>7916</td><td>GALAXY</td><td></td><td>10</td><td>2.157011777162552</td><td>--</td><td>--</td><td>2102265485</td><td>224.49028</td><td>50.11512</td><td>3901.97</td><td>14.173542</td><td>3.2640917</td><td>5.29</td><td>2.01</td><td>1.04</td><td>0.999</td><td>lae</td><td>2.2097280025482178</td><td>0.0</td><td>2.2097280025482178</td><td>0.949999988079071</td><td>2.959122657775879</td><td>0.8881355047405867</td><td>nan</td><td>0</td></tr>\n",
       "<tr><td>103606502031366</td><td>1</td><td>373</td><td>1373</td><td>542</td><td>512</td><td>224.24183654785156</td><td>50.059295654296875</td><td>0.0</td><td>0.0</td><td>2021.1924</td><td>5400.0</td><td>4611686018427387904</td><td>1</td><td>TGT</td><td>4100</td><td>0.20330137866529208</td><td>1</td><td>0</td><td>0</td><td>0</td><td></td><td>0.0</td><td>0.0</td><td>0.0</td><td>0.0</td><td>0.0</td><td>0.0</td><td>0</td><td>0</td><td></td><td>0.0</td><td>0.0</td><td>0.0</td><td>0.0</td><td></td><td>0.0</td><td>0.0</td><td>0.0</td><td>0.0</td><td>0.0</td><td>0.0</td><td>0.0</td><td>0.0</td><td>0.0</td><td>0.0</td><td>0.0</td><td>0.0</td><td>0.0</td><td>0.0</td><td>0.0</td><td></td><td>4100</td><td>1</td><td>4611686018427387904</td><td>0</td><td>0</td><td>8388608</td><td>0</td><td>0</td><td>0</td><td>80870</td><td>0</td><td>0.0</td><td>-1.365</td><td>1.3650085</td><td>-2.6036</td><td>2.603601</td><td>123.3932</td><td>-360.7944</td><td>224.2330049909096</td><td>50.06903258380024</td><td>nan</td><td>nan</td><td>--</td><td>--</td><td>--</td><td>--</td><td>--</td><td>--</td><td>--</td><td>--</td><td>--</td><td>--</td><td>--</td><td>--</td><td>nan</td><td>nan</td><td>--</td><td>nan</td><td>122.01136</td><td>-363.4502</td><td>224.24183654785156</td><td>50.059295654296875</td><td>3</td><td>1</td><td>0.16521572</td><td>0.029854376</td><td>0.0</td><td>8.999999999999996e+99</td><td>-0.0019957014509158224</td><td>4.131159871613317e-48</td><td>1570</td><td>0</td><td>STAR</td><td>K</td><td>5</td><td>1.942668892225729e+84</td><td>--</td><td>--</td><td>2102264108</td><td>224.24184</td><td>50.059296</td><td>5295.75</td><td>9.639998</td><td>2.361016</td><td>5.24</td><td>2.6</td><td>1.15</td><td>0.5564593</td><td>lae</td><td>3.3562397956848145</td><td>0.0</td><td>3.3562397956848145</td><td>0.11291860789060593</td><td>3.8759593963623047</td><td>0.9005784779345054</td><td>nan</td><td>-1</td></tr>\n",
       "<tr><td>103606502031368</td><td>1</td><td>395</td><td>1395</td><td>528</td><td>0</td><td>224.19471740722656</td><td>50.0537109375</td><td>0.0</td><td>0.0</td><td>2021.1924</td><td>5400.0</td><td>4611686018427387904</td><td>1</td><td>TGT</td><td>4100</td><td>0.9523674922411592</td><td>1</td><td>0</td><td>0</td><td>0</td><td></td><td>0.0</td><td>0.0</td><td>0.0</td><td>0.0</td><td>0.0</td><td>0.0</td><td>0</td><td>0</td><td></td><td>0.0</td><td>0.0</td><td>0.0</td><td>0.0</td><td></td><td>0.0</td><td>0.0</td><td>0.0</td><td>0.0</td><td>0.0</td><td>0.0</td><td>0.0</td><td>0.0</td><td>0.0</td><td>0.0</td><td>0.0</td><td>0.0</td><td>0.0</td><td>0.0</td><td>0.0</td><td></td><td>4100</td><td>1</td><td>4611686018427387904</td><td>0</td><td>0</td><td>8388608</td><td>0</td><td>0</td><td>0</td><td>80870</td><td>5</td><td>8140.226</td><td>0.002</td><td>0.0068702255</td><td>0.0014</td><td>0.004494441</td><td>129.775</td><td>-365.0264</td><td>224.19472990201945</td><td>50.053705640682935</td><td>nan</td><td>nan</td><td>--</td><td>--</td><td>--</td><td>--</td><td>--</td><td>--</td><td>--</td><td>--</td><td>--</td><td>--</td><td>--</td><td>--</td><td>nan</td><td>nan</td><td>--</td><td>nan</td><td>129.76195</td><td>-365.07962</td><td>224.19471740722656</td><td>50.0537109375</td><td>3</td><td>1</td><td>0.22919318</td><td>0.05806518</td><td>0.79274404</td><td>12622.751028992236</td><td>1.5400318588084</td><td>0.00021012820456481327</td><td>0</td><td>7927</td><td>GALAXY</td><td></td><td>10</td><td>13.288127683103085</td><td>--</td><td>--</td><td>2102263899</td><td>224.19472</td><td>50.05371</td><td>4945.92</td><td>14.507419</td><td>4.0151844</td><td>5.29</td><td>6.43</td><td>1.0</td><td>0.999</td><td>lae</td><td>3.068472385406494</td><td>5.122642e-06</td><td>3.068472385406494</td><td>0.949999988079071</td><td>2.480006456375122</td><td>0.614182655988934</td><td>nan</td><td>0</td></tr>\n",
       "<tr><td>103606502031373</td><td>1</td><td>417</td><td>1417</td><td>500</td><td>0</td><td>224.17147827148438</td><td>50.01750946044922</td><td>0.0</td><td>0.0</td><td>2021.1924</td><td>5400.0</td><td>4611686018427387904</td><td>1</td><td>TGT</td><td>4100</td><td>0.6924784582591634</td><td>1</td><td>0</td><td>0</td><td>0</td><td></td><td>0.0</td><td>0.0</td><td>0.0</td><td>0.0</td><td>0.0</td><td>0.0</td><td>0</td><td>0</td><td></td><td>0.0</td><td>0.0</td><td>0.0</td><td>0.0</td><td></td><td>0.0</td><td>0.0</td><td>0.0</td><td>0.0</td><td>0.0</td><td>0.0</td><td>0.0</td><td>0.0</td><td>0.0</td><td>0.0</td><td>0.0</td><td>0.0</td><td>0.0</td><td>0.0</td><td>0.0</td><td></td><td>4100</td><td>1</td><td>4611686018427387904</td><td>0</td><td>0</td><td>8388608</td><td>0</td><td>0</td><td>0</td><td>80870</td><td>5</td><td>8140.226</td><td>0.0028</td><td>0.0068992754</td><td>0.0014</td><td>0.0048373546</td><td>133.9004</td><td>-374.9068</td><td>224.1714956108804</td><td>50.017504136809734</td><td>nan</td><td>nan</td><td>--</td><td>--</td><td>--</td><td>--</td><td>--</td><td>--</td><td>--</td><td>--</td><td>--</td><td>--</td><td>--</td><td>--</td><td>nan</td><td>nan</td><td>--</td><td>nan</td><td>133.887</td><td>-374.96463</td><td>224.17147827148438</td><td>50.01750946044922</td><td>3</td><td>1</td><td>0.21981792</td><td>0.06256755</td><td>0.7928203</td><td>15788.341044873</td><td>0.5482937252138931</td><td>3.510077185901419e-05</td><td>4</td><td>7928</td><td>GALAXY</td><td></td><td>10</td><td>7.548775225877762</td><td>--</td><td>--</td><td>2102263479</td><td>224.17148</td><td>50.01751</td><td>3863.73</td><td>18.893126</td><td>4.3242326</td><td>5.42</td><td>3.81</td><td>1.11</td><td>0.999</td><td>lae</td><td>2.178272008895874</td><td>9.804588e-06</td><td>2.178272008895874</td><td>0.949999988079071</td><td>1.5757696628570557</td><td>0.9071002291461246</td><td>nan</td><td>0</td></tr>\n",
       "<tr><td>103606506225664</td><td>0</td><td>432</td><td>432</td><td>367</td><td>66304</td><td>224.6918182373047</td><td>50.095890045166016</td><td>0.0</td><td>0.0</td><td>2021.1924</td><td>5400.0</td><td>4611686018427387904</td><td>1</td><td>TGT</td><td>4100</td><td>0.155113183047211</td><td>1</td><td>0</td><td>0</td><td>0</td><td></td><td>0.0</td><td>0.0</td><td>0.0</td><td>0.0</td><td>0.0</td><td>0.0</td><td>0</td><td>0</td><td></td><td>0.0</td><td>0.0</td><td>0.0</td><td>0.0</td><td></td><td>0.0</td><td>0.0</td><td>0.0</td><td>0.0</td><td>0.0</td><td>0.0</td><td>0.0</td><td>0.0</td><td>0.0</td><td>0.0</td><td>0.0</td><td>0.0</td><td>0.0</td><td>0.0</td><td>0.0</td><td></td><td>4100</td><td>1</td><td>4611686018427387904</td><td>0</td><td>0</td><td>8388608</td><td>0</td><td>0</td><td>0</td><td>80870</td><td>0</td><td>0.0</td><td>0.0</td><td>0.0</td><td>0.0</td><td>0.0</td><td>0.0</td><td>0.0</td><td>224.691818237305</td><td>50.095890045165994</td><td>nan</td><td>nan</td><td>--</td><td>--</td><td>--</td><td>--</td><td>--</td><td>--</td><td>--</td><td>--</td><td>--</td><td>--</td><td>--</td><td>--</td><td>nan</td><td>nan</td><td>--</td><td>nan</td><td>48.800724</td><td>-352.78894</td><td>224.6918182373047</td><td>50.095890045166016</td><td>3</td><td>1</td><td>0.0</td><td>0.0</td><td>0.79036385</td><td>8.999999999999996e+99</td><td>-0.0019957014509158224</td><td>4.131159871613317e-48</td><td>1570</td><td>0</td><td>STAR</td><td>K</td><td>5</td><td>1.942668892225729e+84</td><td>--</td><td>--</td><td>2102265194</td><td>224.69182</td><td>50.09589</td><td>4055.34</td><td>27.416962</td><td>3.4675255</td><td>6.95</td><td>4.17</td><td>0.97</td><td>0.57153416</td><td>lae</td><td>2.3358888626098633</td><td>9.788585e-06</td><td>2.3358888626098633</td><td>0.14306828379631042</td><td>6.025471210479736</td><td>0.8881260387161042</td><td>nan</td><td>-1</td></tr>\n",
       "<tr><td>103606506225665</td><td>0</td><td>494</td><td>494</td><td>358</td><td>0</td><td>224.68545532226562</td><td>49.99890899658203</td><td>0.0</td><td>0.0</td><td>2021.1924</td><td>5400.0</td><td>4611686018427387904</td><td>1</td><td>TGT</td><td>4100</td><td>0.3935631607461051</td><td>1</td><td>0</td><td>0</td><td>0</td><td></td><td>0.0</td><td>0.0</td><td>0.0</td><td>0.0</td><td>0.0</td><td>0.0</td><td>0</td><td>0</td><td></td><td>0.0</td><td>0.0</td><td>0.0</td><td>0.0</td><td></td><td>0.0</td><td>0.0</td><td>0.0</td><td>0.0</td><td>0.0</td><td>0.0</td><td>0.0</td><td>0.0</td><td>0.0</td><td>0.0</td><td>0.0</td><td>0.0</td><td>0.0</td><td>0.0</td><td>0.0</td><td></td><td>4100</td><td>1</td><td>4611686018427387904</td><td>0</td><td>0</td><td>8388608</td><td>0</td><td>0</td><td>0</td><td>80870</td><td>5</td><td>8140.226</td><td>0.0032</td><td>0.0077974354</td><td>0.0032</td><td>0.0043817805</td><td>50.1442</td><td>-378.927</td><td>224.68547523368125</td><td>49.99889710924772</td><td>nan</td><td>nan</td><td>--</td><td>--</td><td>--</td><td>--</td><td>--</td><td>--</td><td>--</td><td>--</td><td>--</td><td>--</td><td>--</td><td>--</td><td>nan</td><td>nan</td><td>--</td><td>nan</td><td>50.108536</td><td>-378.9628</td><td>224.68545532226562</td><td>49.99890899658203</td><td>3</td><td>1</td><td>0.2459297</td><td>0.040267695</td><td>0.79277307</td><td>10798.307128474116</td><td>0.5248550230404267</td><td>6.11343357248573e-05</td><td>4</td><td>7928</td><td>GALAXY</td><td></td><td>10</td><td>0.5830975472927094</td><td>--</td><td>--</td><td>2102264471</td><td>224.68546</td><td>49.99891</td><td>4081.54</td><td>15.354022</td><td>2.763136</td><td>4.91</td><td>2.57</td><td>1.08</td><td>0.999</td><td>lae</td><td>2.357440710067749</td><td>9.808383e-06</td><td>2.357440710067749</td><td>0.949999988079071</td><td>3.2198116779327393</td><td>0.8943253314068059</td><td>nan</td><td>0</td></tr>\n",
       "<tr><td>...</td><td>...</td><td>...</td><td>...</td><td>...</td><td>...</td><td>...</td><td>...</td><td>...</td><td>...</td><td>...</td><td>...</td><td>...</td><td>...</td><td>...</td><td>...</td><td>...</td><td>...</td><td>...</td><td>...</td><td>...</td><td>...</td><td>...</td><td>...</td><td>...</td><td>...</td><td>...</td><td>...</td><td>...</td><td>...</td><td>...</td><td>...</td><td>...</td><td>...</td><td>...</td><td>...</td><td>...</td><td>...</td><td>...</td><td>...</td><td>...</td><td>...</td><td>...</td><td>...</td><td>...</td><td>...</td><td>...</td><td>...</td><td>...</td><td>...</td><td>...</td><td>...</td><td>...</td><td>...</td><td>...</td><td>...</td><td>...</td><td>...</td><td>...</td><td>...</td><td>...</td><td>...</td><td>...</td><td>...</td><td>...</td><td>...</td><td>...</td><td>...</td><td>...</td><td>...</td><td>...</td><td>...</td><td>...</td><td>...</td><td>...</td><td>...</td><td>...</td><td>...</td><td>...</td><td>...</td><td>...</td><td>...</td><td>...</td><td>...</td><td>...</td><td>...</td><td>...</td><td>...</td><td>...</td><td>...</td><td>...</td><td>...</td><td>...</td><td>...</td><td>...</td><td>...</td><td>...</td><td>...</td><td>...</td><td>...</td><td>...</td><td>...</td><td>...</td><td>...</td><td>...</td><td>...</td><td>...</td><td>...</td><td>...</td><td>...</td><td>...</td><td>...</td><td>...</td><td>...</td><td>...</td><td>...</td><td>...</td><td>...</td><td>...</td><td>...</td><td>...</td><td>...</td><td>...</td><td>...</td><td>...</td><td>...</td><td>...</td><td>...</td><td>...</td></tr>\n",
       "<tr><td>39633282165375349</td><td>5</td><td>79</td><td>5079</td><td>2825</td><td>0</td><td>166.2294230225327</td><td>52.12912821299682</td><td>0.0</td><td>0.0</td><td>2021.1924</td><td>5400.0</td><td>4611686018427387904</td><td>1</td><td>TGT</td><td>2900</td><td>0.5482279095190704</td><td>1</td><td>0</td><td>0</td><td>0</td><td></td><td>3.5034385</td><td>5.8918424</td><td>8.114291</td><td>0.0</td><td>0.0</td><td>0.0</td><td>0</td><td>0</td><td></td><td>0.0</td><td>0.0</td><td>0.0</td><td>0.0</td><td></td><td>0.0</td><td>0.0</td><td>0.0</td><td>0.0</td><td>0.0</td><td>0.0</td><td>0.0</td><td>0.0</td><td>0.0</td><td>0.0</td><td>0.0</td><td>0.0</td><td>0.0</td><td>0.0</td><td>0.0</td><td></td><td>2900</td><td>1</td><td>4611686018427387904</td><td>0</td><td>0</td><td>131072</td><td>0</td><td>0</td><td>0</td><td>80869</td><td>17</td><td>15540.882</td><td>-0.0015882353</td><td>0.007847818</td><td>0.0024117648</td><td>0.0064397664</td><td>-34.582825</td><td>153.91588</td><td>166.22941246437253</td><td>52.129118500171856</td><td>-34.58275</td><td>153.92795</td><td>20210313</td><td>20210408</td><td>3</td><td>80362</td><td>83984</td><td>17</td><td>80869</td><td>80869</td><td>1</td><td>2825</td><td>2825</td><td>1</td><td>59287.316</td><td>59313.344</td><td>17</td><td>nan</td><td>nan</td><td>nan</td><td>nan</td><td>nan</td><td>--</td><td>--</td><td>nan</td><td>nan</td><td>nan</td><td>13373.316794753075</td><td>0.11943537755613978</td><td>4.059942017924656e-06</td><td>0</td><td>7178</td><td>GALAXY</td><td></td><td>10</td><td>2420.7398368120193</td><td>0</td><td>1</td><td>2101594087</td><td>166.2291</td><td>52.129066</td><td>4172.83</td><td>23.984129</td><td>2.6119442</td><td>6.9</td><td>3.06</td><td>1.1</td><td>0.05893574</td><td>oii</td><td>0.11896982728268767</td><td>0.0</td><td>0.11938142776489258</td><td>0.4410642683506012</td><td>4.284064292907715</td><td>0.9220660654927734</td><td>nan</td><td>-1</td></tr>\n",
       "<tr><td>39633282165377707</td><td>6</td><td>82</td><td>6082</td><td>3220</td><td>0</td><td>166.50568425080232</td><td>52.134569322237006</td><td>0.0</td><td>0.0</td><td>2021.1924</td><td>5400.0</td><td>5764607523034234880</td><td>1</td><td>TGT</td><td>2900</td><td>0.625733452434765</td><td>63</td><td>9011</td><td>592483</td><td>2731</td><td>REX</td><td>7.8764176</td><td>13.581063</td><td>20.60289</td><td>226.58191</td><td>88.71387</td><td>54.59571</td><td>0</td><td>0</td><td></td><td>0.0</td><td>0.0</td><td>0.0</td><td>0.0</td><td>1663p522</td><td>0.009907623</td><td>19.67181</td><td>15.172682</td><td>3.454426</td><td>0.8951628</td><td>4.4742656</td><td>7.714837</td><td>11.703645</td><td>4.4742656</td><td>7.714837</td><td>11.703645</td><td>1.0</td><td>0.41739765</td><td>0.0</td><td>0.0</td><td>N</td><td>2900</td><td>1</td><td>5764607523034234880</td><td>257</td><td>0</td><td>131072</td><td>0</td><td>0</td><td>0</td><td>80869</td><td>6</td><td>7320.3213</td><td>-0.011333333</td><td>0.011916376</td><td>-0.0058333334</td><td>0.025855366</td><td>-76.156166</td><td>155.653</td><td>166.50560915736347</td><td>52.134593385594364</td><td>-76.16895</td><td>155.65135</td><td>20210408</td><td>20210408</td><td>1</td><td>83979</td><td>83984</td><td>6</td><td>80869</td><td>80869</td><td>1</td><td>3220</td><td>3220</td><td>1</td><td>59313.258</td><td>59313.344</td><td>6</td><td>0.6355522899496735</td><td>nan</td><td>nan</td><td>nan</td><td>nan</td><td>--</td><td>--</td><td>nan</td><td>nan</td><td>nan</td><td>14910.43179321289</td><td>0.15183355265503098</td><td>1.386116167904812e-06</td><td>0</td><td>7179</td><td>GALAXY</td><td></td><td>10</td><td>49853.49459075928</td><td>0</td><td>1</td><td>2101646602</td><td>166.50586</td><td>52.134533</td><td>4294.39</td><td>52.182808</td><td>2.8345747</td><td>19.67</td><td>2.72</td><td>0.98</td><td>0.06832008</td><td>oii</td><td>0.15172040595363168</td><td>8.444941e-05</td><td>0.15199048817157745</td><td>0.43167993426322937</td><td>17.612581253051758</td><td>0.7655048756428618</td><td>nan</td><td>-1</td></tr>\n",
       "<tr><td>39633282165378216</td><td>6</td><td>103</td><td>6103</td><td>3205</td><td>0</td><td>166.5703248285718</td><td>52.215835394167456</td><td>0.0</td><td>0.0</td><td>2021.1924</td><td>5400.0</td><td>5764607523034234880</td><td>1</td><td>TGT</td><td>2900</td><td>0.605905727523639</td><td>63</td><td>9011</td><td>592483</td><td>3240</td><td>REX</td><td>6.320382</td><td>13.630625</td><td>21.31831</td><td>192.5682</td><td>66.62555</td><td>52.36144</td><td>0</td><td>0</td><td></td><td>0.0</td><td>0.0</td><td>0.0</td><td>0.0</td><td>1663p522</td><td>0.0089677535</td><td>19.787792</td><td>15.574496</td><td>3.315926</td><td>0.8993518</td><td>2.3520012</td><td>5.0723586</td><td>7.9331737</td><td>2.3520014</td><td>5.0723586</td><td>7.933174</td><td>1.0</td><td>0.7578055</td><td>0.0</td><td>0.0</td><td>N</td><td>2900</td><td>1</td><td>5764607523034234880</td><td>257</td><td>0</td><td>131072</td><td>0</td><td>0</td><td>0</td><td>80869</td><td>6</td><td>7320.3213</td><td>0.002</td><td>0.0050990195</td><td>-0.0011666666</td><td>0.0068677994</td><td>-85.94234</td><td>176.0165</td><td>166.57033806561762</td><td>52.21583995733212</td><td>-85.94344</td><td>176.02002</td><td>20210408</td><td>20210408</td><td>1</td><td>83979</td><td>83984</td><td>6</td><td>80869</td><td>80869</td><td>1</td><td>3205</td><td>3205</td><td>1</td><td>59313.258</td><td>59313.344</td><td>6</td><td>0.7603324630504161</td><td>nan</td><td>nan</td><td>nan</td><td>nan</td><td>--</td><td>--</td><td>nan</td><td>nan</td><td>nan</td><td>11573.819049835205</td><td>0.216239061091796</td><td>2.8238290218739255e-06</td><td>0</td><td>7179</td><td>GALAXY</td><td></td><td>10</td><td>11833.379123687744</td><td>0</td><td>1</td><td>2101647220</td><td>166.57013</td><td>52.21574</td><td>4533.97</td><td>30.580532</td><td>2.3128133</td><td>15.95</td><td>2.89</td><td>1.13</td><td>0.03768107</td><td>oii</td><td>0.21605640335638412</td><td>0.0</td><td>0.2162589728832245</td><td>0.46231892704963684</td><td>11.56987190246582</td><td>0.9180576457119202</td><td>nan</td><td>-1</td></tr>\n",
       "<tr><td>39633282169571455</td><td>6</td><td>156</td><td>6156</td><td>3141</td><td>0</td><td>166.84761940042324</td><td>52.22906034107842</td><td>0.0</td><td>0.0</td><td>2021.1924</td><td>5400.0</td><td>4611686018427387904</td><td>1</td><td>TGT</td><td>2900</td><td>0.2253348826995748</td><td>1</td><td>0</td><td>0</td><td>0</td><td></td><td>2.7229257</td><td>5.6795373</td><td>9.788055</td><td>0.0</td><td>0.0</td><td>0.0</td><td>0</td><td>0</td><td></td><td>0.0</td><td>0.0</td><td>0.0</td><td>0.0</td><td></td><td>0.0</td><td>0.0</td><td>0.0</td><td>0.0</td><td>0.0</td><td>0.0</td><td>0.0</td><td>0.0</td><td>0.0</td><td>0.0</td><td>0.0</td><td>0.0</td><td>0.0</td><td>0.0</td><td>0.0</td><td></td><td>2900</td><td>1</td><td>4611686018427387904</td><td>0</td><td>0</td><td>131072</td><td>0</td><td>0</td><td>0</td><td>80869</td><td>6</td><td>7320.3213</td><td>-0.0015</td><td>0.004636809</td><td>-0.0005</td><td>0.00587367</td><td>-127.974</td><td>180.141</td><td>166.8476095353302</td><td>52.22906247290279</td><td>-127.98115</td><td>180.14355</td><td>20210408</td><td>20210408</td><td>1</td><td>83979</td><td>83984</td><td>6</td><td>80869</td><td>80869</td><td>1</td><td>3141</td><td>3141</td><td>1</td><td>59313.258</td><td>59313.344</td><td>6</td><td>0.7919136945139106</td><td>nan</td><td>nan</td><td>nan</td><td>nan</td><td>--</td><td>--</td><td>nan</td><td>nan</td><td>nan</td><td>10267.112904787064</td><td>0.18086978325140318</td><td>1.0515446057164605e-05</td><td>0</td><td>7178</td><td>GALAXY</td><td></td><td>10</td><td>1204.8844582177699</td><td>0</td><td>1</td><td>2101610864</td><td>166.8478</td><td>52.22881</td><td>4401.19</td><td>9.72667</td><td>2.286954</td><td>4.93</td><td>2.17</td><td>0.99</td><td>0.053477697</td><td>oii</td><td>0.18064004182815552</td><td>0.0</td><td>0.18064004182815552</td><td>0.4465222954750061</td><td>3.4840376377105713</td><td>0.8936132127141867</td><td>nan</td><td>-1</td></tr>\n",
       "<tr><td>39633282182153708</td><td>7</td><td>335</td><td>7335</td><td>3796</td><td>0</td><td>167.95771377057991</td><td>52.18659085250003</td><td>0.0</td><td>0.0</td><td>2021.1924</td><td>5400.0</td><td>4611686018427387904</td><td>1</td><td>TGT</td><td>2900</td><td>0.7632612940793261</td><td>1</td><td>0</td><td>0</td><td>0</td><td></td><td>2.3551762</td><td>4.697875</td><td>5.9189644</td><td>0.0</td><td>0.0</td><td>0.0</td><td>0</td><td>0</td><td></td><td>0.0</td><td>0.0</td><td>0.0</td><td>0.0</td><td></td><td>0.0</td><td>0.0</td><td>0.0</td><td>0.0</td><td>0.0</td><td>0.0</td><td>0.0</td><td>0.0</td><td>0.0</td><td>0.0</td><td>0.0</td><td>0.0</td><td>0.0</td><td>0.0</td><td>0.0</td><td></td><td>2900</td><td>1</td><td>4611686018427387904</td><td>0</td><td>0</td><td>131072</td><td>0</td><td>0</td><td>0</td><td>80869</td><td>17</td><td>15540.882</td><td>0.002882353</td><td>0.007083535</td><td>5.882353e-05</td><td>0.0066110427</td><td>-301.27322</td><td>176.07082</td><td>167.95773166152938</td><td>52.186590037763175</td><td>-301.29028</td><td>176.06851</td><td>20210313</td><td>20210408</td><td>3</td><td>80362</td><td>83984</td><td>17</td><td>80869</td><td>80869</td><td>1</td><td>3796</td><td>3796</td><td>1</td><td>59287.316</td><td>59313.344</td><td>17</td><td>nan</td><td>nan</td><td>nan</td><td>nan</td><td>nan</td><td>--</td><td>--</td><td>nan</td><td>nan</td><td>nan</td><td>15362.40334701538</td><td>0.32755236254312353</td><td>1.8451409296763283e-06</td><td>0</td><td>7179</td><td>GALAXY</td><td></td><td>10</td><td>30508.82474899292</td><td>0</td><td>1</td><td>2101649346</td><td>167.95753</td><td>52.18666</td><td>4948.43</td><td>41.119194</td><td>1.5976186</td><td>24.76</td><td>3.16</td><td>1.02</td><td>0.10578502</td><td>oii</td><td>0.3270862784209415</td><td>0.0</td><td>0.3274398148059845</td><td>0.3942149877548218</td><td>21.312711715698242</td><td>0.8694929494660101</td><td>nan</td><td>-1</td></tr>\n",
       "<tr><td>39633282756772114</td><td>4</td><td>260</td><td>4260</td><td>2027</td><td>0</td><td>223.50231472503052</td><td>52.317970401935575</td><td>0.0</td><td>0.0</td><td>2021.1924</td><td>5400.0</td><td>5764607523034234880</td><td>1</td><td>TGT</td><td>2900</td><td>0.8692252525371535</td><td>63</td><td>9011</td><td>592624</td><td>274</td><td>EXP</td><td>5.6744037</td><td>10.160361</td><td>13.350654</td><td>206.8485</td><td>48.073666</td><td>35.881218</td><td>0</td><td>0</td><td></td><td>0.0</td><td>0.0</td><td>0.0</td><td>0.0</td><td>2236p522</td><td>0.021303184</td><td>12.328998</td><td>8.8962755</td><td>4.821637</td><td>1.3977417</td><td>1.8741511</td><td>3.3557801</td><td>4.409475</td><td>1.8741511</td><td>3.3557801</td><td>4.409475</td><td>1.0</td><td>1.0820358</td><td>-0.081069484</td><td>0.24050328</td><td>N</td><td>2900</td><td>1</td><td>5764607523034234880</td><td>257</td><td>0</td><td>131072</td><td>0</td><td>0</td><td>0</td><td>80870</td><td>5</td><td>8140.226</td><td>0.0014</td><td>0.0033166248</td><td>-0.0016</td><td>0.0066332496</td><td>228.5662</td><td>205.5492</td><td>223.50232373617501</td><td>52.31797692254035</td><td>nan</td><td>nan</td><td>--</td><td>--</td><td>--</td><td>--</td><td>--</td><td>--</td><td>--</td><td>--</td><td>--</td><td>--</td><td>--</td><td>--</td><td>nan</td><td>nan</td><td>--</td><td>nan</td><td>228.63702</td><td>205.60667</td><td>223.50231472503052</td><td>52.317970401935575</td><td>3</td><td>1</td><td>0.112044886</td><td>0.08963271</td><td>0.74981564</td><td>14443.058427810669</td><td>0.27240111725217075</td><td>2.5673691240666357e-06</td><td>0</td><td>7928</td><td>GALAXY</td><td></td><td>10</td><td>31642.01408958435</td><td>--</td><td>--</td><td>2101769171</td><td>223.50232</td><td>52.317986</td><td>4743.62</td><td>100.380035</td><td>2.3376443</td><td>43.2</td><td>3.16</td><td>1.06</td><td>0.0482462</td><td>oii</td><td>0.2720981274085587</td><td>5.851124e-05</td><td>0.27249854803085327</td><td>0.45175379514694214</td><td>33.899112701416016</td><td>0.8895619418059162</td><td>nan</td><td>-1</td></tr>\n",
       "<tr><td>39633282760969416</td><td>4</td><td>118</td><td>4118</td><td>2450</td><td>0</td><td>224.23294886623123</td><td>52.150695169221045</td><td>0.0</td><td>0.0</td><td>2021.1924</td><td>5400.0</td><td>4611686018427387904</td><td>1</td><td>TGT</td><td>2900</td><td>0.6002843003472906</td><td>1</td><td>0</td><td>0</td><td>0</td><td></td><td>2.1702101</td><td>4.2132363</td><td>5.5636797</td><td>0.0</td><td>0.0</td><td>0.0</td><td>0</td><td>0</td><td></td><td>0.0</td><td>0.0</td><td>0.0</td><td>0.0</td><td></td><td>0.0</td><td>0.0</td><td>0.0</td><td>0.0</td><td>0.0</td><td>0.0</td><td>0.0</td><td>0.0</td><td>0.0</td><td>0.0</td><td>0.0</td><td>0.0</td><td>0.0</td><td>0.0</td><td>0.0</td><td></td><td>2900</td><td>1</td><td>4611686018427387904</td><td>0</td><td>0</td><td>131072</td><td>0</td><td>0</td><td>0</td><td>80870</td><td>5</td><td>8140.226</td><td>0.0026</td><td>0.0042661456</td><td>-0.0046</td><td>0.006244998</td><td>115.9454</td><td>160.0802</td><td>224.23296603217563</td><td>52.15071384191158</td><td>nan</td><td>nan</td><td>--</td><td>--</td><td>--</td><td>--</td><td>--</td><td>--</td><td>--</td><td>--</td><td>--</td><td>--</td><td>--</td><td>--</td><td>nan</td><td>nan</td><td>--</td><td>nan</td><td>115.9778</td><td>160.1142</td><td>224.23294886623123</td><td>52.150695169221045</td><td>3</td><td>1</td><td>0.13061845</td><td>0.060384985</td><td>0.791578</td><td>15350.349615097046</td><td>0.2656806939317546</td><td>2.436714740556967e-06</td><td>0</td><td>7930</td><td>GALAXY</td><td></td><td>10</td><td>9112.91388130188</td><td>--</td><td>--</td><td>2100905189</td><td>224.23312</td><td>52.150867</td><td>4719.24</td><td>24.976692</td><td>0.8422489</td><td>19.62</td><td>2.87</td><td>1.05</td><td>0.07367547</td><td>oii</td><td>0.2658510135401995</td><td>3.4150946e-06</td><td>0.2659585475921631</td><td>0.4263245165348053</td><td>14.9771089553833</td><td>0.8280509461786947</td><td>nan</td><td>-1</td></tr>\n",
       "<tr><td>39633282781938436</td><td>6</td><td>201</td><td>6201</td><td>3117</td><td>0</td><td>225.99567966008064</td><td>52.27455874759934</td><td>-1.4343822</td><td>-1.505892</td><td>2021.1924</td><td>5400.0</td><td>5764616319932572422</td><td>1</td><td>TGT</td><td>2900</td><td>0.5197272770284969</td><td>63</td><td>9011</td><td>592630</td><td>772</td><td>DEV</td><td>7.5955987</td><td>8.800359</td><td>11.784672</td><td>153.48436</td><td>87.201096</td><td>72.86629</td><td>0</td><td>1593856320527064832</td><td>G2</td><td>20.202383</td><td>20.322376</td><td>19.59712</td><td>-0.53349674</td><td>2261p522</td><td>0.026642272</td><td>33.712326</td><td>39.637325</td><td>3.7869432</td><td>1.2022985</td><td>4.915309</td><td>5.694941</td><td>7.6261673</td><td>4.916263</td><td>5.699057</td><td>7.6412663</td><td>4.0</td><td>0.2749448</td><td>0.1168178</td><td>0.3159756</td><td>N</td><td>2900</td><td>1</td><td>5764616319932572422</td><td>257</td><td>0</td><td>131072</td><td>0</td><td>0</td><td>0</td><td>80870</td><td>5</td><td>8140.226</td><td>-0.0018</td><td>0.0021447612</td><td>0.0014</td><td>0.0034928499</td><td>-149.9262</td><td>192.6414</td><td>225.99566786815421</td><td>52.27455339997865</td><td>nan</td><td>nan</td><td>--</td><td>--</td><td>--</td><td>--</td><td>--</td><td>--</td><td>--</td><td>--</td><td>--</td><td>--</td><td>--</td><td>--</td><td>nan</td><td>nan</td><td>--</td><td>nan</td><td>-149.95877</td><td>192.658</td><td>225.99567966008064</td><td>52.27455874759934</td><td>3</td><td>1</td><td>0.044709757</td><td>0.046293467</td><td>0.7843308</td><td>34278.88688468933</td><td>0.8253740244103003</td><td>6.72513964517414e-06</td><td>0</td><td>7929</td><td>GALAXY</td><td></td><td>10</td><td>25738.36137199402</td><td>--</td><td>--</td><td>2101180835</td><td>225.99565</td><td>52.274513</td><td>5133.29</td><td>14.7505245</td><td>5.892166</td><td>4.81</td><td>6.66</td><td>1.81</td><td>0.055256214</td><td>agn</td><td>0.825</td><td>5.5892393e-05</td><td>nan</td><td>nan</td><td>9.11048698425293</td><td>0.912237425653241</td><td>nan</td><td>-1</td></tr>\n",
       "<tr><td>39633286477119632</td><td>5</td><td>221</td><td>5221</td><td>2644</td><td>65536</td><td>225.4224664433394</td><td>52.4884777851335</td><td>-2.3126926</td><td>-3.4801972</td><td>2021.1924</td><td>5400.0</td><td>6917529027641081856</td><td>1</td><td>TGT</td><td>2900</td><td>0.8565946827286156</td><td>63</td><td>9011</td><td>593511</td><td>144</td><td>PSF</td><td>9.273613</td><td>15.60041</td><td>18.974379</td><td>308.77246</td><td>128.1099</td><td>76.08331</td><td>0</td><td>1593922909700887040</td><td>G2</td><td>19.659842</td><td>20.039156</td><td>19.069864</td><td>0.14738628</td><td>2256p525</td><td>0.022812262</td><td>6.703307</td><td>3.3882647</td><td>6.4376497</td><td>1.8321131</td><td>7.2140336</td><td>12.135711</td><td>14.760353</td><td>7.2140336</td><td>12.135711</td><td>14.760353</td><td>0.0</td><td>0.0</td><td>0.0</td><td>0.0</td><td>N</td><td>2900</td><td>1</td><td>6917529027641081856</td><td>0</td><td>49152</td><td>131072</td><td>0</td><td>0</td><td>0</td><td>80870</td><td>0</td><td>0.0</td><td>0.0</td><td>0.002366432</td><td>0.0006</td><td>0.0030659419</td><td>-62.9676</td><td>244.6678</td><td>225.422466441713</td><td>52.488475429162406</td><td>nan</td><td>nan</td><td>--</td><td>--</td><td>--</td><td>--</td><td>--</td><td>--</td><td>--</td><td>--</td><td>--</td><td>--</td><td>--</td><td>--</td><td>nan</td><td>nan</td><td>--</td><td>nan</td><td>-62.989067</td><td>244.69647</td><td>225.4224664433394</td><td>52.4884777851335</td><td>3</td><td>1</td><td>0.092763096</td><td>0.042412788</td><td>0.789</td><td>8.999999999999996e+99</td><td>-0.0019957014509158224</td><td>4.131159871613317e-48</td><td>1570</td><td>0</td><td>STAR</td><td>K</td><td>5</td><td>1.942668892225729e+84</td><td>--</td><td>--</td><td>2102012427</td><td>225.42267</td><td>52.488358</td><td>3775.78</td><td>29.080189</td><td>7.036811</td><td>6.51</td><td>6.83</td><td>1.14</td><td>0.2903826</td><td>star</td><td>0.0</td><td>0.00019408992</td><td>0.012870869599282742</td><td>0.20961740612983704</td><td>3.7931816577911377</td><td>0.9032495227901819</td><td>nan</td><td>-1</td></tr>\n",
       "<tr><td>39633293812959791</td><td>5</td><td>524</td><td>5524</td><td>2568</td><td>0</td><td>225.37003472999103</td><td>53.064068562584</td><td>0.0</td><td>0.0</td><td>2021.1924</td><td>5400.0</td><td>4611686018427387904</td><td>1</td><td>TGT</td><td>2900</td><td>0.8183517700485577</td><td>1</td><td>0</td><td>0</td><td>0</td><td></td><td>1.9374893</td><td>4.31125</td><td>7.6451735</td><td>0.0</td><td>0.0</td><td>0.0</td><td>0</td><td>0</td><td></td><td>0.0</td><td>0.0</td><td>0.0</td><td>0.0</td><td></td><td>0.0</td><td>0.0</td><td>0.0</td><td>0.0</td><td>0.0</td><td>0.0</td><td>0.0</td><td>0.0</td><td>0.0</td><td>0.0</td><td>0.0</td><td>0.0</td><td>0.0</td><td>0.0</td><td>0.0</td><td></td><td>2900</td><td>1</td><td>4611686018427387904</td><td>0</td><td>0</td><td>131072</td><td>0</td><td>0</td><td>0</td><td>80870</td><td>3</td><td>4540.1406</td><td>0.9798</td><td>1.5514226</td><td>-0.0358</td><td>0.055188768</td><td>-56.295</td><td>396.4988</td><td>225.37645673742674</td><td>53.06412669583172</td><td>nan</td><td>nan</td><td>--</td><td>--</td><td>--</td><td>--</td><td>--</td><td>--</td><td>--</td><td>--</td><td>--</td><td>--</td><td>--</td><td>--</td><td>nan</td><td>nan</td><td>--</td><td>nan</td><td>-55.353233</td><td>396.49655</td><td>225.37003472999103</td><td>53.064068562584</td><td>3</td><td>1</td><td>47.232513</td><td>0.2351347</td><td>0.47558317</td><td>9457.881094455719</td><td>0.3276404944892847</td><td>6.099897425673963e-06</td><td>0</td><td>7924</td><td>GALAXY</td><td></td><td>10</td><td>3976.5843682289124</td><td>--</td><td>--</td><td>2102548980</td><td>225.37032</td><td>53.064106</td><td>4949.31</td><td>32.387634</td><td>1.8317914</td><td>16.97</td><td>3.39</td><td>1.0</td><td>0.020351341</td><td>star</td><td>0.0</td><td>0.0</td><td>0.32767584919929504</td><td>0.4796486496925354</td><td>nan</td><td>0.9127596541197462</td><td>nan</td><td>-1</td></tr>\n",
       "</table>"
      ],
      "text/plain": [
       "<Table masked=True length=3515>\n",
       "     TARGETID     PETAL_LOC DEVICE_LOC ...     apcor_api        VI_z  VI_quality\n",
       "                                       ...                                      \n",
       "      int64         int16     int32    ...      float64       float64   int64   \n",
       "----------------- --------- ---------- ... ------------------ ------- ----------\n",
       "  103606497837059         1        397 ... 0.5185121685159076     nan         -1\n",
       "  103606497837060         1        419 ... 0.8990033902776865     nan          0\n",
       "  103606497837061         1        418 ... 0.9107537470371112     nan         -1\n",
       "  103606502031361         0        458 ... 0.8881355047405867     nan          0\n",
       "  103606502031366         1        373 ... 0.9005784779345054     nan         -1\n",
       "  103606502031368         1        395 ...  0.614182655988934     nan          0\n",
       "  103606502031373         1        417 ... 0.9071002291461246     nan          0\n",
       "  103606506225664         0        432 ... 0.8881260387161042     nan         -1\n",
       "  103606506225665         0        494 ... 0.8943253314068059     nan          0\n",
       "              ...       ...        ... ...                ...     ...        ...\n",
       "39633282165375349         5         79 ... 0.9220660654927734     nan         -1\n",
       "39633282165377707         6         82 ... 0.7655048756428618     nan         -1\n",
       "39633282165378216         6        103 ... 0.9180576457119202     nan         -1\n",
       "39633282169571455         6        156 ... 0.8936132127141867     nan         -1\n",
       "39633282182153708         7        335 ... 0.8694929494660101     nan         -1\n",
       "39633282756772114         4        260 ... 0.8895619418059162     nan         -1\n",
       "39633282760969416         4        118 ... 0.8280509461786947     nan         -1\n",
       "39633282781938436         6        201 ...  0.912237425653241     nan         -1\n",
       "39633286477119632         5        221 ... 0.9032495227901819     nan         -1\n",
       "39633293812959791         5        524 ... 0.9127596541197462     nan         -1"
      ]
     },
     "execution_count": 46,
     "metadata": {},
     "output_type": "execute_result"
    }
   ],
   "source": [
    "ErinVI = Table.read('/global/cscratch1/sd/mjwilson/DESILBGSPEC/Erin/desi-hetdex-v1.0.fits')\n",
    "ErinVI"
   ]
  },
  {
   "cell_type": "code",
   "execution_count": 22,
   "id": "d6daec1a-74a4-42e4-812c-9a1f154c43e1",
   "metadata": {},
   "outputs": [
    {
     "data": {
      "text/html": [
       "<i>Table length=157</i>\n",
       "<table id=\"table46912564626192\" class=\"table-striped table-bordered table-condensed\">\n",
       "<thead><tr><th>TARGETID</th><th>TILEID</th><th>Spec_version</th><th>Redrock_version</th><th>Template_version</th><th>Redrock_spectype</th><th>Redrock_z</th><th>Redrock_deltachi2</th><th>VI_scanner</th><th>VI_quality</th><th>VI_issue</th><th>VI_z</th><th>VI_spectype</th><th>VI_comment</th></tr></thead>\n",
       "<thead><tr><th>int64</th><th>int64</th><th>str6</th><th>str6</th><th>int64</th><th>str6</th><th>float64</th><th>float64</th><th>str3</th><th>int64</th><th>str2</th><th>float64</th><th>str6</th><th>str208</th></tr></thead>\n",
       "<tr><td>39627805369041952</td><td>80872</td><td>0.45.0</td><td>0.15.0</td><td>-1</td><td>QSO</td><td>2.9544</td><td>21002.3</td><td>dey</td><td>4</td><td>--</td><td>2.9544</td><td>QSO</td><td>narrow line AGN</td></tr>\n",
       "<tr><td>39627871781652060</td><td>80872</td><td>0.45.0</td><td>0.15.0</td><td>-1</td><td>GALAXY</td><td>0.4777</td><td>15.1</td><td>dey</td><td>3</td><td>RC</td><td>1.602</td><td>GALAXY</td><td>[OII]; CIII]; CIV in emission</td></tr>\n",
       "<tr><td>39627871794234405</td><td>80872</td><td>0.45.0</td><td>0.15.0</td><td>-1</td><td>GALAXY</td><td>0.0734</td><td>94.3</td><td>dey</td><td>0</td><td>--</td><td>--</td><td>GALAXY</td><td>possibly z=2.5-ish; could be at 2.36</td></tr>\n",
       "<tr><td>234520884281368</td><td>80871</td><td>0.45.0</td><td>0.15.0</td><td>-1</td><td>GALAXY</td><td>0.1229</td><td>192.8</td><td>dey</td><td>4</td><td>R</td><td>2.4431</td><td>GALAXY</td><td>strong asymmetric emission line at 4186; blue continuum + break</td></tr>\n",
       "<tr><td>234520888475649</td><td>80871</td><td>0.45.0</td><td>0.15.0</td><td>-1</td><td>GALAXY</td><td>0.7797</td><td>42.5</td><td>dey</td><td>4</td><td>R</td><td>2.1886</td><td>GALAXY</td><td>continuum + break + CIV/SiIV/OI/SiII/CIII] etc</td></tr>\n",
       "<tr><td>234520884281357</td><td>80871</td><td>0.45.0</td><td>0.15.0</td><td>-1</td><td>GALAXY</td><td>0.2331</td><td>26.5</td><td>dey</td><td>3</td><td>R</td><td>2.9677</td><td>GALAXY</td><td>weak Lya + break at 4825 (but could be compromised by B-arm calib/sub)</td></tr>\n",
       "<tr><td>234520888475656</td><td>80871</td><td>0.45.0</td><td>0.15.0</td><td>-1</td><td>GALAXY</td><td>0.2424</td><td>28.4</td><td>dey</td><td>3</td><td>R</td><td>2.8424</td><td>GALAXY</td><td>broad Lya abspn? z from CIII]/CIV/SiIV/OI etc. but could be a bit higher</td></tr>\n",
       "<tr><td>234520888475672</td><td>80871</td><td>0.45.0</td><td>0.15.0</td><td>-1</td><td>GALAXY</td><td>0.272</td><td>4.0</td><td>dey</td><td>3</td><td>R</td><td>2.7517</td><td>GALAXY</td><td>z from Lya but lots of continuum and abspn lines z_abs=2.7465</td></tr>\n",
       "<tr><td>234520884281364</td><td>80871</td><td>0.45.0</td><td>0.15.0</td><td>-1</td><td>GALAXY</td><td>0.0804</td><td>8873.7</td><td>dey</td><td>4</td><td>--</td><td>0.0804</td><td>GALAXY</td><td>lots of emission lines - star forming galaxy</td></tr>\n",
       "<tr><td>234520884281360</td><td>80871</td><td>0.45.0</td><td>0.15.0</td><td>-1</td><td>GALAXY</td><td>0.2634</td><td>39.0</td><td>dey</td><td>3</td><td>R</td><td>2.9884</td><td>GALAXY</td><td>beware of break; but looks like abs ine z matches; possible alternative solution at z=2.82</td></tr>\n",
       "<tr><td>...</td><td>...</td><td>...</td><td>...</td><td>...</td><td>...</td><td>...</td><td>...</td><td>...</td><td>...</td><td>...</td><td>...</td><td>...</td><td>...</td></tr>\n",
       "<tr><td>238900803010645</td><td>80871</td><td>0.45.0</td><td>0.15.0</td><td>-1</td><td>GALAXY</td><td>0.4401</td><td>8.2</td><td>dey</td><td>0</td><td>R</td><td>-99.0</td><td>--</td><td>no detected signal</td></tr>\n",
       "<tr><td>238900798816274</td><td>80871</td><td>0.45.0</td><td>0.15.0</td><td>-1</td><td>GALAXY</td><td>0.1623</td><td>21.9</td><td>dey</td><td>0</td><td>R</td><td>-99.0</td><td>--</td><td>no detected signal; possible weak lines at 6715 / 7090; poor sky sub in Z</td></tr>\n",
       "<tr><td>238912882606247</td><td>80871</td><td>0.45.0</td><td>0.15.0</td><td>-1</td><td>GALAXY</td><td>0.2019</td><td>2.4</td><td>dey</td><td>0</td><td>R</td><td>-99.0</td><td>--</td><td>no detected signal;</td></tr>\n",
       "<tr><td>238912870023304</td><td>80871</td><td>0.45.0</td><td>0.15.0</td><td>-1</td><td>QSO</td><td>4.9526</td><td>2.5</td><td>dey</td><td>0</td><td>R</td><td>-99.0</td><td>--</td><td>no detected signal; noisy region creates excess flux near 7230-7370A; poor sky sub in Z</td></tr>\n",
       "<tr><td>238918926598250</td><td>80871</td><td>0.45.0</td><td>0.15.0</td><td>-1</td><td>GALAXY</td><td>0.4682</td><td>4.8</td><td>dey</td><td>0</td><td>R</td><td>-99.0</td><td>--</td><td>no detected signal; possible weak line near 4574?</td></tr>\n",
       "<tr><td>238906834419768</td><td>80871</td><td>0.45.0</td><td>0.15.0</td><td>-1</td><td>GALAXY</td><td>0.893</td><td>1.0</td><td>dey</td><td>0</td><td>R</td><td>-99.0</td><td>--</td><td>no detected signal</td></tr>\n",
       "<tr><td>247702940024849</td><td>80871</td><td>0.45.0</td><td>0.15.0</td><td>-1</td><td>GALAXY</td><td>0.3994</td><td>3601.1</td><td>dey</td><td>4</td><td>--</td><td>0.3994</td><td>GALAXY</td><td>--</td></tr>\n",
       "<tr><td>39627871790041252</td><td>80871</td><td>0.45.0</td><td>0.15.0</td><td>-1</td><td>QSO</td><td>1.6545</td><td>1215.0</td><td>dey</td><td>4</td><td>--</td><td>1.6545</td><td>QSO</td><td>--</td></tr>\n",
       "<tr><td>39627871790040864</td><td>80871</td><td>0.45.0</td><td>0.15.0</td><td>-1</td><td>QSO</td><td>2.6049</td><td>753.7</td><td>dey</td><td>4</td><td>--</td><td>2.6049</td><td>QSO</td><td>--</td></tr>\n",
       "<tr><td>247739195588706</td><td>80871</td><td>0.45.0</td><td>0.15.0</td><td>-1</td><td>GALAXY</td><td>0.8927</td><td>21.3</td><td>dey</td><td>2</td><td>R</td><td>2.0899</td><td>GALAXY</td><td>Very faint - redshift uncertain</td></tr>\n",
       "</table>"
      ],
      "text/plain": [
       "<Table length=157>\n",
       "     TARGETID     ...\n",
       "      int64       ...\n",
       "----------------- ...\n",
       "39627805369041952 ...\n",
       "39627871781652060 ...\n",
       "39627871794234405 ...\n",
       "  234520884281368 ...\n",
       "  234520888475649 ...\n",
       "  234520884281357 ...\n",
       "  234520888475656 ...\n",
       "  234520888475672 ...\n",
       "  234520884281364 ...\n",
       "  234520884281360 ...\n",
       "              ... ...\n",
       "  238900803010645 ...\n",
       "  238900798816274 ...\n",
       "  238912882606247 ...\n",
       "  238912870023304 ...\n",
       "  238918926598250 ...\n",
       "  238906834419768 ...\n",
       "  247702940024849 ...\n",
       "39627871790041252 ...\n",
       "39627871790040864 ...\n",
       "  247739195588706 ..."
      ]
     },
     "execution_count": 22,
     "metadata": {},
     "output_type": "execute_result"
    }
   ],
   "source": [
    "ArjunVI = [Table.read(x) for x in glob.glob('/global/cscratch1/sd/mjwilson/DESILBGSPEC/Arjun/*.csv')]\n",
    "\n",
    "# len(ArjunVI)\n",
    "\n",
    "ArjunVI[3]['VI_z'][0] = 4.5\n",
    "ArjunVI[3]['VI_z'].data[ ArjunVI[3]['VI_z'].mask] = -99.\n",
    "ArjunVI[3]['VI_z'] = ArjunVI[3]['VI_z'].data.data.astype(np.float64)\n",
    "\n",
    "ArjunVI = vstack(ArjunVI)\n",
    "ArjunVI"
   ]
  },
  {
   "cell_type": "code",
   "execution_count": 23,
   "id": "f323f857-d3fd-47a3-b037-f30b97a32048",
   "metadata": {},
   "outputs": [
    {
     "data": {
      "text/html": [
       "&lt;MaskedColumn name=&apos;VI_comment&apos; dtype=&apos;str208&apos; length=157&gt;\n",
       "<table>\n",
       "<tr><td>narrow line AGN</td></tr>\n",
       "<tr><td>[OII]; CIII]; CIV in emission</td></tr>\n",
       "<tr><td>possibly z=2.5-ish; could be at 2.36</td></tr>\n",
       "<tr><td>strong asymmetric emission line at 4186; blue continuum + break</td></tr>\n",
       "<tr><td>continuum + break + CIV/SiIV/OI/SiII/CIII] etc</td></tr>\n",
       "<tr><td>weak Lya + break at 4825 (but could be compromised by B-arm calib/sub)</td></tr>\n",
       "<tr><td>broad Lya abspn? z from CIII]/CIV/SiIV/OI etc. but could be a bit higher</td></tr>\n",
       "<tr><td>z from Lya but lots of continuum and abspn lines z_abs=2.7465</td></tr>\n",
       "<tr><td>lots of emission lines - star forming galaxy</td></tr>\n",
       "<tr><td>beware of break; but looks like abs ine z matches; possible alternative solution at z=2.82</td></tr>\n",
       "<tr><td>abs line redshift is uncertain</td></tr>\n",
       "<tr><td>strong asymmetric emission line at 4245A; shows that break at ~4820 is fake and due to some pipeline or calibration issue</td></tr>\n",
       "<tr><td>...</td></tr>\n",
       "<tr><td>no detected signal; weak line at 6305 probably [OI] residual</td></tr>\n",
       "<tr><td>no detected signal; possible weak line at 4889</td></tr>\n",
       "<tr><td>no detected signal</td></tr>\n",
       "<tr><td>no detected signal; possible weak lines at 6715 / 7090; poor sky sub in Z</td></tr>\n",
       "<tr><td>no detected signal;</td></tr>\n",
       "<tr><td>no detected signal; noisy region creates excess flux near 7230-7370A; poor sky sub in Z</td></tr>\n",
       "<tr><td>no detected signal; possible weak line near 4574?</td></tr>\n",
       "<tr><td>no detected signal</td></tr>\n",
       "<tr><td>--</td></tr>\n",
       "<tr><td>--</td></tr>\n",
       "<tr><td>--</td></tr>\n",
       "<tr><td>Very faint - redshift uncertain</td></tr>\n",
       "</table>"
      ],
      "text/plain": [
       "<MaskedColumn name='VI_comment' dtype='str208' length=157>\n",
       "                                                                                                          narrow line AGN\n",
       "                                                                                            [OII]; CIII]; CIV in emission\n",
       "                                                                                     possibly z=2.5-ish; could be at 2.36\n",
       "                                                          strong asymmetric emission line at 4186; blue continuum + break\n",
       "                                                                           continuum + break + CIV/SiIV/OI/SiII/CIII] etc\n",
       "                                                   weak Lya + break at 4825 (but could be compromised by B-arm calib/sub)\n",
       "                                                 broad Lya abspn? z from CIII]/CIV/SiIV/OI etc. but could be a bit higher\n",
       "                                                            z from Lya but lots of continuum and abspn lines z_abs=2.7465\n",
       "                                                                             lots of emission lines - star forming galaxy\n",
       "                               beware of break; but looks like abs ine z matches; possible alternative solution at z=2.82\n",
       "                                                                                           abs line redshift is uncertain\n",
       "strong asymmetric emission line at 4245A; shows that break at ~4820 is fake and due to some pipeline or calibration issue\n",
       "                                                                                                                      ...\n",
       "                                                             no detected signal; weak line at 6305 probably [OI] residual\n",
       "                                                                           no detected signal; possible weak line at 4889\n",
       "                                                                                                       no detected signal\n",
       "                                                no detected signal; possible weak lines at 6715 / 7090; poor sky sub in Z\n",
       "                                                                                                      no detected signal;\n",
       "                                  no detected signal; noisy region creates excess flux near 7230-7370A; poor sky sub in Z\n",
       "                                                                        no detected signal; possible weak line near 4574?\n",
       "                                                                                                       no detected signal\n",
       "                                                                                                                       --\n",
       "                                                                                                                       --\n",
       "                                                                                                                       --\n",
       "                                                                                          Very faint - redshift uncertain"
      ]
     },
     "execution_count": 23,
     "metadata": {},
     "output_type": "execute_result"
    }
   ],
   "source": [
    "ArjunVI['VI_comment']"
   ]
  },
  {
   "cell_type": "code",
   "execution_count": 32,
   "id": "a40ea8f6-b074-4499-b725-0562c28959da",
   "metadata": {},
   "outputs": [
    {
     "data": {
      "text/plain": [
       "Text(0.5, 0, 'Z')"
      ]
     },
     "execution_count": 32,
     "metadata": {},
     "output_type": "execute_result"
    },
    {
     "data": {
      "image/png": "[encoded data removed]",
      "text/plain": [
       "<Figure size 432x288 with 1 Axes>"
      ]
     },
     "metadata": {
      "needs_background": "light"
     },
     "output_type": "display_data"
    }
   ],
   "source": [
    "_ = pl.hist(ErinVI['VI_z'], bins=np.arange(0.0, 4.0, 0.05), histtype='step')\n",
    "\n",
    "pl.xlabel('Z')"
   ]
  },
  {
   "cell_type": "code",
   "execution_count": 47,
   "id": "cc773ecb-9fc2-4287-967b-9a92e1c11daa",
   "metadata": {},
   "outputs": [
    {
     "data": {
      "text/html": [
       "<i>Table length=5000</i>\n",
       "<table id=\"table46913250418352\" class=\"table-striped table-bordered table-condensed\">\n",
       "<thead><tr><th>CHI2</th><th>COEFF [10]</th><th>Z</th><th>ZERR</th><th>ZWARN</th><th>NPIXELS</th><th>SPECTYPE</th><th>SUBTYPE</th><th>NCOEFF</th><th>DELTACHI2</th><th>PETAL_LOC</th><th>DEVICE_LOC</th><th>LOCATION</th><th>FIBER</th><th>COADD_FIBERSTATUS</th><th>TARGET_RA</th><th>TARGET_DEC</th><th>PMRA</th><th>PMDEC</th><th>REF_EPOCH</th><th>LAMBDA_REF</th><th>FA_TARGET</th><th>FA_TYPE</th><th>OBJTYPE</th><th>FIBERASSIGN_X</th><th>FIBERASSIGN_Y</th><th>PRIORITY</th><th>SUBPRIORITY</th><th>OBSCONDITIONS</th><th>RELEASE</th><th>BRICKNAME</th><th>BRICKID</th><th>BRICK_OBJID</th><th>MORPHTYPE</th><th>EBV</th><th>FLUX_G</th><th>FLUX_R</th><th>FLUX_Z</th><th>FLUX_W1</th><th>FLUX_W2</th><th>FLUX_IVAR_G</th><th>FLUX_IVAR_R</th><th>FLUX_IVAR_Z</th><th>FLUX_IVAR_W1</th><th>FLUX_IVAR_W2</th><th>FIBERFLUX_G</th><th>FIBERFLUX_R</th><th>FIBERFLUX_Z</th><th>FIBERTOTFLUX_G</th><th>FIBERTOTFLUX_R</th><th>FIBERTOTFLUX_Z</th><th>MASKBITS</th><th>SERSIC</th><th>SHAPE_R</th><th>SHAPE_E1</th><th>SHAPE_E2</th><th>REF_ID</th><th>REF_CAT</th><th>GAIA_PHOT_G_MEAN_MAG</th><th>GAIA_PHOT_BP_MEAN_MAG</th><th>GAIA_PHOT_RP_MEAN_MAG</th><th>PARALLAX</th><th>PHOTSYS</th><th>PRIORITY_INIT</th><th>NUMOBS_INIT</th><th>SV1_DESI_TARGET</th><th>SV1_BGS_TARGET</th><th>SV1_MWS_TARGET</th><th>SV1_SCND_TARGET</th><th>DESI_TARGET</th><th>BGS_TARGET</th><th>MWS_TARGET</th><th>PLATE_RA</th><th>PLATE_DEC</th><th>TILEID</th><th>COADD_NUMEXP</th><th>COADD_EXPTIME</th><th>COADD_NUMNIGHT</th><th>COADD_NUMTILE</th><th>MEAN_DELTA_X</th><th>RMS_DELTA_X</th><th>MEAN_DELTA_Y</th><th>RMS_DELTA_Y</th><th>MEAN_FIBER_RA</th><th>STD_FIBER_RA</th><th>MEAN_FIBER_DEC</th><th>STD_FIBER_DEC</th><th>MEAN_PSF_TO_FIBER_SPECFLUX</th><th>MEAN_FIBER_X</th><th>MEAN_FIBER_Y</th><th>TARGETID</th><th>IN_SAMPLE</th><th>VI_z</th><th>z_hetdex</th></tr></thead>\n",
       "<thead><tr><th>float64</th><th>float64</th><th>float64</th><th>float64</th><th>int64</th><th>int64</th><th>str6</th><th>str20</th><th>int64</th><th>float64</th><th>int16</th><th>int32</th><th>int64</th><th>int32</th><th>int32</th><th>float64</th><th>float64</th><th>float32</th><th>float32</th><th>float32</th><th>float32</th><th>int64</th><th>uint8</th><th>str3</th><th>float32</th><th>float32</th><th>int32</th><th>float64</th><th>int32</th><th>int16</th><th>str8</th><th>int32</th><th>int32</th><th>str4</th><th>float32</th><th>float32</th><th>float32</th><th>float32</th><th>float32</th><th>float32</th><th>float32</th><th>float32</th><th>float32</th><th>float32</th><th>float32</th><th>float32</th><th>float32</th><th>float32</th><th>float32</th><th>float32</th><th>float32</th><th>int16</th><th>float32</th><th>float32</th><th>float32</th><th>float32</th><th>int64</th><th>str2</th><th>float32</th><th>float32</th><th>float32</th><th>float32</th><th>str1</th><th>int64</th><th>int64</th><th>int64</th><th>int64</th><th>int64</th><th>int64</th><th>int64</th><th>int64</th><th>int64</th><th>float64</th><th>float64</th><th>int32</th><th>int16</th><th>float32</th><th>int16</th><th>int16</th><th>float32</th><th>float32</th><th>float32</th><th>float32</th><th>float64</th><th>float32</th><th>float64</th><th>float32</th><th>float32</th><th>float32</th><th>float32</th><th>int64</th><th>bool</th><th>float64</th><th>float64</th></tr></thead>\n",
       "<tr><td>18516.157104492188</td><td>1007.0870098910453 .. 0.7334403149342991</td><td>0.19247476374190925</td><td>6.864105216363513e-07</td><td>0</td><td>7929</td><td>GALAXY</td><td></td><td>10</td><td>70882.63385009766</td><td>2</td><td>95</td><td>2095</td><td>1291</td><td>0</td><td>164.917355319435</td><td>51.2669700812739</td><td>0.0</td><td>0.0</td><td>2021.1924</td><td>5400.0</td><td>4611686018427387904</td><td>1</td><td>TGT</td><td>166.01443</td><td>-55.730843</td><td>3000</td><td>0.4333077824588428</td><td>1</td><td>0</td><td></td><td>0</td><td>0</td><td></td><td>0.0</td><td>0.0</td><td>0.0</td><td>0.0</td><td>0.0</td><td>0.0</td><td>0.0</td><td>0.0</td><td>0.0</td><td>0.0</td><td>0.0</td><td>0.0</td><td>0.0</td><td>0.0</td><td>0.0</td><td>0.0</td><td>0.0</td><td>0</td><td>0.0</td><td>0.0</td><td>0.0</td><td>0.0</td><td>0</td><td></td><td>0.0</td><td>0.0</td><td>0.0</td><td>0.0</td><td></td><td>3000</td><td>1</td><td>4611686018427387904</td><td>0</td><td>0</td><td>2048</td><td>0</td><td>0</td><td>0</td><td>164.917355319435</td><td>51.2669700812739</td><td>80869</td><td>12</td><td>12720.663</td><td>2</td><td>1</td><td>0.00066666666</td><td>0.0046007247</td><td>0.00225</td><td>0.006461424</td><td>164.91735990157073</td><td>0.16683333</td><td>51.26696094906557</td><td>0.08907759</td><td>0.7914672</td><td>165.99442</td><td>-55.736916</td><td>50848537247744</td><td>False</td><td>--</td><td>--</td></tr>\n",
       "<tr><td>8.999999999999996e+99</td><td>0.0 .. 0.0</td><td>-0.0019957014509158224</td><td>4.131159871613317e-48</td><td>1570</td><td>0</td><td>STAR</td><td>K</td><td>5</td><td>1.942668892225729e+84</td><td>1</td><td>509</td><td>1509</td><td>576</td><td>512</td><td>164.3549346923828</td><td>50.34974670410156</td><td>0.0</td><td>0.0</td><td>2021.1924</td><td>5400.0</td><td>4611686018427387904</td><td>1</td><td>TGT</td><td>265.7067</td><td>-287.70654</td><td>4100</td><td>0.9656675573531227</td><td>1</td><td>0</td><td></td><td>0</td><td>0</td><td></td><td>0.0</td><td>0.0</td><td>0.0</td><td>0.0</td><td>0.0</td><td>0.0</td><td>0.0</td><td>0.0</td><td>0.0</td><td>0.0</td><td>0.0</td><td>0.0</td><td>0.0</td><td>0.0</td><td>0.0</td><td>0.0</td><td>0.0</td><td>0</td><td>0.0</td><td>0.0</td><td>0.0</td><td>0.0</td><td>0</td><td></td><td>0.0</td><td>0.0</td><td>0.0</td><td>0.0</td><td></td><td>4100</td><td>1</td><td>4611686018427387904</td><td>0</td><td>0</td><td>8388608</td><td>0</td><td>0</td><td>0</td><td>164.3549346923828</td><td>50.34974670410156</td><td>80869</td><td>0</td><td>0.0</td><td>2</td><td>1</td><td>4.052583</td><td>4.105044</td><td>2.3791666</td><td>2.4357777</td><td>164.38010167678007</td><td>23.22139</td><td>50.34049808876434</td><td>7.253278</td><td>0.0</td><td>261.63525</td><td>-290.02917</td><td>103609740034049</td><td>True</td><td>nan</td><td>2.785829782485962</td></tr>\n",
       "<tr><td>12303.154611378908</td><td>17.91188150459629 .. 2.052474920652761</td><td>1.6015856359485952</td><td>0.0001164510552955895</td><td>4</td><td>7929</td><td>GALAXY</td><td></td><td>10</td><td>1.7581936419010162</td><td>1</td><td>523</td><td>1523</td><td>557</td><td>0</td><td>164.31471252441406</td><td>50.33249282836914</td><td>0.0</td><td>0.0</td><td>2021.1924</td><td>5400.0</td><td>4611686018427387904</td><td>1</td><td>TGT</td><td>272.73096</td><td>-292.37964</td><td>4100</td><td>0.9502864814034285</td><td>1</td><td>0</td><td></td><td>0</td><td>0</td><td></td><td>0.0</td><td>0.0</td><td>0.0</td><td>0.0</td><td>0.0</td><td>0.0</td><td>0.0</td><td>0.0</td><td>0.0</td><td>0.0</td><td>0.0</td><td>0.0</td><td>0.0</td><td>0.0</td><td>0.0</td><td>0.0</td><td>0.0</td><td>0</td><td>0.0</td><td>0.0</td><td>0.0</td><td>0.0</td><td>0</td><td></td><td>0.0</td><td>0.0</td><td>0.0</td><td>0.0</td><td></td><td>4100</td><td>1</td><td>4611686018427387904</td><td>0</td><td>0</td><td>8388608</td><td>0</td><td>0</td><td>0</td><td>164.31471252441406</td><td>50.33249282836914</td><td>80869</td><td>12</td><td>12720.663</td><td>2</td><td>1</td><td>-0.0028333333</td><td>0.0064678695</td><td>0.0059166667</td><td>0.0131877465</td><td>164.31469787273872</td><td>0.19539951</td><td>50.33247063735592</td><td>0.16030128</td><td>0.79346454</td><td>272.71457</td><td>-292.32657</td><td>103609740034051</td><td>True</td><td>nan</td><td>3.274432897567749</td></tr>\n",
       "<tr><td>9612.410069406033</td><td>17.35223827912595 .. 0.11239070903059079</td><td>0.6103210339977279</td><td>5.550280502650673e-05</td><td>4</td><td>7929</td><td>GALAXY</td><td></td><td>10</td><td>6.859054245054722</td><td>1</td><td>508</td><td>1508</td><td>876</td><td>0</td><td>164.40438842773438</td><td>50.324378967285156</td><td>0.0</td><td>0.0</td><td>2021.1924</td><td>5400.0</td><td>4611686018427387904</td><td>1</td><td>TGT</td><td>257.8534</td><td>-294.2825</td><td>4100</td><td>0.8653706753857008</td><td>1</td><td>0</td><td></td><td>0</td><td>0</td><td></td><td>0.0</td><td>0.0</td><td>0.0</td><td>0.0</td><td>0.0</td><td>0.0</td><td>0.0</td><td>0.0</td><td>0.0</td><td>0.0</td><td>0.0</td><td>0.0</td><td>0.0</td><td>0.0</td><td>0.0</td><td>0.0</td><td>0.0</td><td>0</td><td>0.0</td><td>0.0</td><td>0.0</td><td>0.0</td><td>0</td><td></td><td>0.0</td><td>0.0</td><td>0.0</td><td>0.0</td><td></td><td>4100</td><td>1</td><td>4611686018427387904</td><td>0</td><td>0</td><td>8388608</td><td>0</td><td>0</td><td>0</td><td>164.40438842773438</td><td>50.324378967285156</td><td>80869</td><td>6</td><td>5400.3413</td><td>2</td><td>1</td><td>1.91025</td><td>2.7052858</td><td>1.8435833</td><td>2.597249</td><td>164.41651932441906</td><td>68.55482</td><td>50.31729621275963</td><td>25.30653</td><td>0.39719445</td><td>255.92659</td><td>-296.07</td><td>103609740034053</td><td>True</td><td>nan</td><td>2.2758889198303223</td></tr>\n",
       "<tr><td>10728.858731508255</td><td>-22.644711719613106 .. 6.882150683619324</td><td>1.3154745615233634</td><td>6.092606600813234e-05</td><td>0</td><td>7929</td><td>GALAXY</td><td></td><td>10</td><td>38.58953085914254</td><td>1</td><td>510</td><td>1510</td><td>584</td><td>0</td><td>164.3502655029297</td><td>50.36640548706055</td><td>0.0</td><td>0.0</td><td>2021.1924</td><td>5400.0</td><td>4611686018427387904</td><td>1</td><td>TGT</td><td>266.2169</td><td>-283.3219</td><td>4100</td><td>0.9643125643630058</td><td>1</td><td>0</td><td></td><td>0</td><td>0</td><td></td><td>0.0</td><td>0.0</td><td>0.0</td><td>0.0</td><td>0.0</td><td>0.0</td><td>0.0</td><td>0.0</td><td>0.0</td><td>0.0</td><td>0.0</td><td>0.0</td><td>0.0</td><td>0.0</td><td>0.0</td><td>0.0</td><td>0.0</td><td>0</td><td>0.0</td><td>0.0</td><td>0.0</td><td>0.0</td><td>0</td><td></td><td>0.0</td><td>0.0</td><td>0.0</td><td>0.0</td><td></td><td>4100</td><td>1</td><td>4611686018427387904</td><td>0</td><td>0</td><td>8388608</td><td>0</td><td>0</td><td>0</td><td>164.3502655029297</td><td>50.36640548706055</td><td>80869</td><td>6</td><td>7320.3213</td><td>2</td><td>1</td><td>-0.81366664</td><td>1.1535325</td><td>-0.223</td><td>0.30192798</td><td>164.34531009307207</td><td>28.06061</td><td>50.36729821222153</td><td>2.9480114</td><td>0.39855114</td><td>267.01083</td><td>-283.04358</td><td>103609740034054</td><td>True</td><td>1.3156</td><td>2.9088566303253174</td></tr>\n",
       "<tr><td>8.999999999999996e+99</td><td>0.0 .. 0.0</td><td>-0.0019957014509158224</td><td>4.131159871613317e-48</td><td>1570</td><td>0</td><td>STAR</td><td>K</td><td>5</td><td>1.942668892225729e+84</td><td>1</td><td>522</td><td>1522</td><td>661</td><td>512</td><td>164.3686065673828</td><td>50.3211555480957</td><td>0.0</td><td>0.0</td><td>2021.1924</td><td>5400.0</td><td>4611686018427387904</td><td>1</td><td>TGT</td><td>263.887</td><td>-295.2335</td><td>4100</td><td>0.32359107574811263</td><td>1</td><td>0</td><td></td><td>0</td><td>0</td><td></td><td>0.0</td><td>0.0</td><td>0.0</td><td>0.0</td><td>0.0</td><td>0.0</td><td>0.0</td><td>0.0</td><td>0.0</td><td>0.0</td><td>0.0</td><td>0.0</td><td>0.0</td><td>0.0</td><td>0.0</td><td>0.0</td><td>0.0</td><td>0</td><td>0.0</td><td>0.0</td><td>0.0</td><td>0.0</td><td>0</td><td></td><td>0.0</td><td>0.0</td><td>0.0</td><td>0.0</td><td></td><td>4100</td><td>1</td><td>4611686018427387904</td><td>0</td><td>0</td><td>8388608</td><td>0</td><td>0</td><td>0</td><td>164.3686065673828</td><td>50.3211555480957</td><td>80869</td><td>0</td><td>0.0</td><td>2</td><td>1</td><td>1.38775</td><td>1.3878398</td><td>3.7455</td><td>3.745643</td><td>164.3782993630607</td><td>0.4843118</td><td>50.306932231038</td><td>0.4415641</td><td>0.0</td><td>262.48184</td><td>-298.92117</td><td>103609740034055</td><td>True</td><td>nan</td><td>3.279261589050293</td></tr>\n",
       "<tr><td>10214.414251059294</td><td>27.187427712423943 .. 5.007098568939044</td><td>0.5607518987606384</td><td>7.450319667865763e-05</td><td>4</td><td>7928</td><td>GALAXY</td><td></td><td>10</td><td>5.029637366533279</td><td>1</td><td>493</td><td>1493</td><td>556</td><td>0</td><td>164.40220642089844</td><td>50.356929779052734</td><td>0.0</td><td>0.0</td><td>2021.1924</td><td>5400.0</td><td>4611686018427387904</td><td>1</td><td>TGT</td><td>257.70078</td><td>-285.6898</td><td>4100</td><td>0.8305452731279427</td><td>1</td><td>0</td><td></td><td>0</td><td>0</td><td></td><td>0.0</td><td>0.0</td><td>0.0</td><td>0.0</td><td>0.0</td><td>0.0</td><td>0.0</td><td>0.0</td><td>0.0</td><td>0.0</td><td>0.0</td><td>0.0</td><td>0.0</td><td>0.0</td><td>0.0</td><td>0.0</td><td>0.0</td><td>0</td><td>0.0</td><td>0.0</td><td>0.0</td><td>0.0</td><td>0</td><td></td><td>0.0</td><td>0.0</td><td>0.0</td><td>0.0</td><td></td><td>4100</td><td>1</td><td>4611686018427387904</td><td>0</td><td>0</td><td>8388608</td><td>0</td><td>0</td><td>0</td><td>164.40220642089844</td><td>50.356929779052734</td><td>80869</td><td>6</td><td>5400.3413</td><td>2</td><td>1</td><td>-0.7134167</td><td>1.02062</td><td>-1.0460833</td><td>1.4901801</td><td>164.39754591192525</td><td>26.88558</td><td>50.360945738874904</td><td>14.6687355</td><td>0.39778107</td><td>258.39624</td><td>-284.5895</td><td>103609740034057</td><td>True</td><td>nan</td><td>2.35372257232666</td></tr>\n",
       "<tr><td>11060.5895024091</td><td>-18.56690515135886 .. -2.8196441977527824</td><td>0.5217426532677276</td><td>8.592217800163776e-05</td><td>4</td><td>7928</td><td>GALAXY</td><td></td><td>10</td><td>3.604475013911724</td><td>1</td><td>383</td><td>1383</td><td>859</td><td>0</td><td>164.76832580566406</td><td>50.365257263183594</td><td>0.0</td><td>0.0</td><td>2021.1924</td><td>5400.0</td><td>4611686018427387904</td><td>1</td><td>TGT</td><td>197.23737</td><td>-282.70764</td><td>4100</td><td>0.8385804933618094</td><td>1</td><td>0</td><td></td><td>0</td><td>0</td><td></td><td>0.0</td><td>0.0</td><td>0.0</td><td>0.0</td><td>0.0</td><td>0.0</td><td>0.0</td><td>0.0</td><td>0.0</td><td>0.0</td><td>0.0</td><td>0.0</td><td>0.0</td><td>0.0</td><td>0.0</td><td>0.0</td><td>0.0</td><td>0</td><td>0.0</td><td>0.0</td><td>0.0</td><td>0.0</td><td>0</td><td></td><td>0.0</td><td>0.0</td><td>0.0</td><td>0.0</td><td></td><td>4100</td><td>1</td><td>4611686018427387904</td><td>0</td><td>0</td><td>8388608</td><td>0</td><td>0</td><td>0</td><td>164.76832580566406</td><td>50.365257263183594</td><td>80869</td><td>11</td><td>11500.606</td><td>2</td><td>1</td><td>0.17991666</td><td>0.6244309</td><td>-0.022333333</td><td>0.10019897</td><td>164.76942459354117</td><td>20.573534</td><td>50.36533581100601</td><td>1.2638493</td><td>0.7270463</td><td>197.04958</td><td>-282.64484</td><td>103609744228353</td><td>True</td><td>nan</td><td>2.380201816558838</td></tr>\n",
       "<tr><td>12060.342228084803</td><td>7.906574757530311 .. 1.493740822836672</td><td>1.5561233498725462</td><td>0.00013450941754039958</td><td>4</td><td>7928</td><td>GALAXY</td><td></td><td>10</td><td>0.7886933982372284</td><td>1</td><td>470</td><td>1470</td><td>689</td><td>0</td><td>164.6441192626953</td><td>50.28049850463867</td><td>0.0</td><td>0.0</td><td>2021.1924</td><td>5400.0</td><td>4611686018427387904</td><td>1</td><td>TGT</td><td>218.71762</td><td>-305.2787</td><td>4100</td><td>0.6475169223949967</td><td>1</td><td>0</td><td></td><td>0</td><td>0</td><td></td><td>0.0</td><td>0.0</td><td>0.0</td><td>0.0</td><td>0.0</td><td>0.0</td><td>0.0</td><td>0.0</td><td>0.0</td><td>0.0</td><td>0.0</td><td>0.0</td><td>0.0</td><td>0.0</td><td>0.0</td><td>0.0</td><td>0.0</td><td>0</td><td>0.0</td><td>0.0</td><td>0.0</td><td>0.0</td><td>0</td><td></td><td>0.0</td><td>0.0</td><td>0.0</td><td>0.0</td><td></td><td>4100</td><td>1</td><td>4611686018427387904</td><td>0</td><td>0</td><td>8388608</td><td>0</td><td>0</td><td>0</td><td>164.6441192626953</td><td>50.28049850463867</td><td>80869</td><td>12</td><td>12720.663</td><td>2</td><td>1</td><td>0.00125</td><td>0.008920949</td><td>0.0040833335</td><td>0.011863811</td><td>164.64412813872735</td><td>0.30033392</td><td>50.2804829850397</td><td>0.15156926</td><td>0.7933562</td><td>218.70825</td><td>-305.2319</td><td>103609744228354</td><td>True</td><td>nan</td><td>2.9748616218566895</td></tr>\n",
       "<tr><td>11485.557032480836</td><td>61.479689090402985 .. 3.7897884373640953</td><td>1.5140721097709051</td><td>0.00013972944509060598</td><td>4</td><td>7929</td><td>GALAXY</td><td></td><td>10</td><td>6.551072432333967</td><td>1</td><td>429</td><td>1429</td><td>866</td><td>0</td><td>164.60304260253906</td><td>50.36305236816406</td><td>0.0</td><td>0.0</td><td>2021.1924</td><td>5400.0</td><td>4611686018427387904</td><td>1</td><td>TGT</td><td>224.35225</td><td>-283.6145</td><td>4100</td><td>0.23631305472727193</td><td>1</td><td>0</td><td></td><td>0</td><td>0</td><td></td><td>0.0</td><td>0.0</td><td>0.0</td><td>0.0</td><td>0.0</td><td>0.0</td><td>0.0</td><td>0.0</td><td>0.0</td><td>0.0</td><td>0.0</td><td>0.0</td><td>0.0</td><td>0.0</td><td>0.0</td><td>0.0</td><td>0.0</td><td>0</td><td>0.0</td><td>0.0</td><td>0.0</td><td>0.0</td><td>0</td><td></td><td>0.0</td><td>0.0</td><td>0.0</td><td>0.0</td><td></td><td>4100</td><td>1</td><td>4611686018427387904</td><td>0</td><td>0</td><td>8388608</td><td>0</td><td>0</td><td>0</td><td>164.60304260253906</td><td>50.36305236816406</td><td>80869</td><td>12</td><td>12720.663</td><td>2</td><td>1</td><td>-0.0038333333</td><td>0.006964194</td><td>-0.00041666668</td><td>0.0097253965</td><td>164.60301914957984</td><td>0.19620365</td><td>50.36305413800167</td><td>0.13333385</td><td>0.792969</td><td>224.34358</td><td>-283.5674</td><td>103609744228355</td><td>True</td><td>nan</td><td>3.000715494155884</td></tr>\n",
       "<tr><td>...</td><td>...</td><td>...</td><td>...</td><td>...</td><td>...</td><td>...</td><td>...</td><td>...</td><td>...</td><td>...</td><td>...</td><td>...</td><td>...</td><td>...</td><td>...</td><td>...</td><td>...</td><td>...</td><td>...</td><td>...</td><td>...</td><td>...</td><td>...</td><td>...</td><td>...</td><td>...</td><td>...</td><td>...</td><td>...</td><td>...</td><td>...</td><td>...</td><td>...</td><td>...</td><td>...</td><td>...</td><td>...</td><td>...</td><td>...</td><td>...</td><td>...</td><td>...</td><td>...</td><td>...</td><td>...</td><td>...</td><td>...</td><td>...</td><td>...</td><td>...</td><td>...</td><td>...</td><td>...</td><td>...</td><td>...</td><td>...</td><td>...</td><td>...</td><td>...</td><td>...</td><td>...</td><td>...</td><td>...</td><td>...</td><td>...</td><td>...</td><td>...</td><td>...</td><td>...</td><td>...</td><td>...</td><td>...</td><td>...</td><td>...</td><td>...</td><td>...</td><td>...</td><td>...</td><td>...</td><td>...</td><td>...</td><td>...</td><td>...</td><td>...</td><td>...</td><td>...</td><td>...</td><td>...</td><td>...</td><td>...</td><td>...</td><td>...</td><td>...</td></tr>\n",
       "<tr><td>10043.645353198051</td><td>4.995313052070526 .. -0.650126516961007</td><td>1.3930328496888014</td><td>7.492502275820151e-05</td><td>1</td><td>7929</td><td>GALAXY</td><td></td><td>10</td><td>11.585276283323765</td><td>5</td><td>511</td><td>5511</td><td>2576</td><td>0</td><td>166.3837969415109</td><td>53.003920893989125</td><td>0.0</td><td>0.0</td><td>0.0</td><td>5400.0</td><td>4294967296</td><td>4</td><td>SKY</td><td>-58.651848</td><td>379.9204</td><td>-1</td><td>0.9369782932014747</td><td>63</td><td>9011</td><td>1665p530</td><td>595118</td><td>660</td><td></td><td>0.0</td><td>0.0</td><td>0.0</td><td>0.0</td><td>0.0</td><td>0.0</td><td>0.0</td><td>0.0</td><td>0.0</td><td>0.0</td><td>0.0</td><td>-0.0057467334</td><td>-0.013311511</td><td>-0.00087317807</td><td>0.0</td><td>0.0</td><td>0.0</td><td>0</td><td>0.0</td><td>0.0</td><td>0.0</td><td>0.0</td><td>0</td><td></td><td>0.0</td><td>0.0</td><td>0.0</td><td>0.0</td><td></td><td>-1</td><td>-1</td><td>0</td><td>0</td><td>0</td><td>0</td><td>4294967296</td><td>0</td><td>0</td><td>166.3837969415109</td><td>53.003920893989125</td><td>80869</td><td>6</td><td>7320.3213</td><td>1</td><td>1</td><td>0.0011666666</td><td>0.0027386127</td><td>0.0038333333</td><td>0.0049159606</td><td>166.38380477472126</td><td>0.09807816</td><td>53.003906706478936</td><td>0.041276984</td><td>0.7925598</td><td>-58.6415</td><td>379.89868</td><td>616094045520790164</td><td>False</td><td>--</td><td>--</td></tr>\n",
       "<tr><td>8.999999999999996e+99</td><td>0.0 .. 0.0</td><td>-0.0019957014509158224</td><td>4.131159871613317e-48</td><td>1571</td><td>0</td><td>STAR</td><td>K</td><td>5</td><td>1.942668892225729e+84</td><td>5</td><td>525</td><td>5525</td><td>2592</td><td>512</td><td>166.43826350975334</td><td>53.03360574204641</td><td>0.0</td><td>0.0</td><td>0.0</td><td>5400.0</td><td>4294967296</td><td>4</td><td>SKY</td><td>-67.0121</td><td>388.15854</td><td>-1</td><td>0.9874572637437687</td><td>63</td><td>9011</td><td>1665p530</td><td>595118</td><td>761</td><td></td><td>0.0</td><td>0.0</td><td>0.0</td><td>0.0</td><td>0.0</td><td>0.0</td><td>0.0</td><td>0.0</td><td>0.0</td><td>0.0</td><td>0.0</td><td>-0.0018740478</td><td>-0.014667714</td><td>0.10376553</td><td>0.0</td><td>0.0</td><td>0.0</td><td>0</td><td>0.0</td><td>0.0</td><td>0.0</td><td>0.0</td><td>0</td><td></td><td>0.0</td><td>0.0</td><td>0.0</td><td>0.0</td><td></td><td>-1</td><td>-1</td><td>0</td><td>0</td><td>0</td><td>0</td><td>4294967296</td><td>0</td><td>0</td><td>166.43826350975334</td><td>53.03360574204641</td><td>80869</td><td>0</td><td>0.0</td><td>1</td><td>1</td><td>0.9905</td><td>0.99052685</td><td>-4.161667</td><td>4.16168</td><td>166.4445309187997</td><td>0.2893209</td><td>53.048746762787694</td><td>0.14097969</td><td>0.0</td><td>-67.98983</td><td>392.30417</td><td>616094045520790265</td><td>False</td><td>--</td><td>--</td></tr>\n",
       "<tr><td>8.999999999999996e+99</td><td>0.0 .. 0.0</td><td>-0.0019957014509158224</td><td>4.131159871613317e-48</td><td>1571</td><td>0</td><td>STAR</td><td>K</td><td>5</td><td>1.942668892225729e+84</td><td>6</td><td>443</td><td>6443</td><td>3050</td><td>512</td><td>167.10830181191164</td><td>52.89820756482763</td><td>0.0</td><td>0.0</td><td>0.0</td><td>5400.0</td><td>4294967296</td><td>4</td><td>SKY</td><td>-169.43724</td><td>354.8583</td><td>-1</td><td>0.9786303030659527</td><td>63</td><td>9011</td><td>1669p530</td><td>595119</td><td>110</td><td></td><td>0.0</td><td>0.0</td><td>0.0</td><td>0.0</td><td>0.0</td><td>0.0</td><td>0.0</td><td>0.0</td><td>0.0</td><td>0.0</td><td>0.0</td><td>0.005913328</td><td>-0.018824594</td><td>0.006628213</td><td>0.0</td><td>0.0</td><td>0.0</td><td>0</td><td>0.0</td><td>0.0</td><td>0.0</td><td>0.0</td><td>0</td><td></td><td>0.0</td><td>0.0</td><td>0.0</td><td>0.0</td><td></td><td>-1</td><td>-1</td><td>0</td><td>0</td><td>0</td><td>0</td><td>4294967296</td><td>0</td><td>0</td><td>167.10830181191164</td><td>52.89820756482763</td><td>80869</td><td>0</td><td>0.0</td><td>1</td><td>1</td><td>-2.8766668</td><td>2.8766742</td><td>-4.2021666</td><td>4.202187</td><td>167.08929036245272</td><td>0.26044354</td><td>52.91426831847759</td><td>0.17812733</td><td>0.0</td><td>-166.54216</td><td>359.05533</td><td>616094045524983918</td><td>False</td><td>--</td><td>--</td></tr>\n",
       "<tr><td>8.999999999999996e+99</td><td>0.0 .. 0.0</td><td>-0.0019957014509158224</td><td>4.131159871613317e-48</td><td>1571</td><td>0</td><td>STAR</td><td>K</td><td>5</td><td>1.942668892225729e+84</td><td>6</td><td>352</td><td>6352</td><td>3060</td><td>512</td><td>166.760728983036</td><td>52.89644319612883</td><td>0.0</td><td>0.0</td><td>0.0</td><td>5400.0</td><td>4294967296</td><td>4</td><td>SKY</td><td>-115.91078</td><td>352.28918</td><td>-1</td><td>0.9959668629903612</td><td>63</td><td>9011</td><td>1669p530</td><td>595119</td><td>139</td><td></td><td>0.0</td><td>0.0</td><td>0.0</td><td>0.0</td><td>0.0</td><td>0.0</td><td>0.0</td><td>0.0</td><td>0.0</td><td>0.0</td><td>0.0</td><td>-0.024477629</td><td>-0.08804946</td><td>-0.10986006</td><td>0.0</td><td>0.0</td><td>0.0</td><td>0</td><td>0.0</td><td>0.0</td><td>0.0</td><td>0.0</td><td>0</td><td></td><td>0.0</td><td>0.0</td><td>0.0</td><td>0.0</td><td></td><td>-1</td><td>-1</td><td>0</td><td>0</td><td>0</td><td>0</td><td>4294967296</td><td>0</td><td>0</td><td>166.760728983036</td><td>52.89644319612883</td><td>80869</td><td>0</td><td>0.0</td><td>1</td><td>1</td><td>9.3355</td><td>9.335501</td><td>-2.9826667</td><td>2.9826853</td><td>166.82137719518107</td><td>0.16460389</td><td>52.90637869764396</td><td>0.14260904</td><td>0.0</td><td>-125.23067</td><td>355.25916</td><td>616094045524983947</td><td>False</td><td>--</td><td>--</td></tr>\n",
       "<tr><td>8.999999999999996e+99</td><td>0.0 .. 0.0</td><td>-0.0019957014509158224</td><td>4.131159871613317e-48</td><td>1571</td><td>0</td><td>STAR</td><td>K</td><td>5</td><td>1.942668892225729e+84</td><td>6</td><td>419</td><td>6419</td><td>3061</td><td>512</td><td>166.959059027421</td><td>52.92267348298637</td><td>0.0</td><td>0.0</td><td>0.0</td><td>5400.0</td><td>4294967296</td><td>4</td><td>SKY</td><td>-146.4685</td><td>360.45538</td><td>-1</td><td>0.881764727848319</td><td>63</td><td>9011</td><td>1669p530</td><td>595119</td><td>263</td><td></td><td>0.0</td><td>0.0</td><td>0.0</td><td>0.0</td><td>0.0</td><td>0.0</td><td>0.0</td><td>0.0</td><td>0.0</td><td>0.0</td><td>0.0</td><td>-0.008368629</td><td>0.04943373</td><td>-0.016015256</td><td>0.0</td><td>0.0</td><td>0.0</td><td>0</td><td>0.0</td><td>0.0</td><td>0.0</td><td>0.0</td><td>0</td><td></td><td>0.0</td><td>0.0</td><td>0.0</td><td>0.0</td><td></td><td>-1</td><td>-1</td><td>0</td><td>0</td><td>0</td><td>0</td><td>4294967296</td><td>0</td><td>0</td><td>166.959059027421</td><td>52.92267348298637</td><td>80869</td><td>0</td><td>0.0</td><td>1</td><td>1</td><td>2.6625</td><td>2.6625054</td><td>1.3578334</td><td>1.3579125</td><td>166.9764613525133</td><td>0.21372773</td><td>52.91723236796272</td><td>0.19824618</td><td>0.0</td><td>-149.1135</td><td>359.08984</td><td>616094045524984071</td><td>False</td><td>--</td><td>--</td></tr>\n",
       "<tr><td>8.999999999999996e+99</td><td>0.0 .. 0.0</td><td>-0.0019957014509158224</td><td>4.131159871613317e-48</td><td>1571</td><td>0</td><td>STAR</td><td>K</td><td>5</td><td>1.942668892225729e+84</td><td>6</td><td>395</td><td>6395</td><td>3063</td><td>512</td><td>166.88708010660946</td><td>52.94098781184216</td><td>0.0</td><td>0.0</td><td>0.0</td><td>5400.0</td><td>4294967296</td><td>4</td><td>SKY</td><td>-135.45155</td><td>364.96957</td><td>-1</td><td>0.9032945647689973</td><td>63</td><td>9011</td><td>1669p530</td><td>595119</td><td>338</td><td></td><td>0.0</td><td>0.0</td><td>0.0</td><td>0.0</td><td>0.0</td><td>0.0</td><td>0.0</td><td>0.0</td><td>0.0</td><td>0.0</td><td>0.0</td><td>0.006396186</td><td>0.0072699524</td><td>-0.0596139</td><td>0.0</td><td>0.0</td><td>0.0</td><td>0</td><td>0.0</td><td>0.0</td><td>0.0</td><td>0.0</td><td>0</td><td></td><td>0.0</td><td>0.0</td><td>0.0</td><td>0.0</td><td></td><td>-1</td><td>-1</td><td>0</td><td>0</td><td>0</td><td>0</td><td>4294967296</td><td>0</td><td>0</td><td>166.88708010660946</td><td>52.94098781184216</td><td>80869</td><td>0</td><td>0.0</td><td>1</td><td>1</td><td>-2.1885</td><td>2.1885085</td><td>2.8893332</td><td>2.8893614</td><td>166.87308208270252</td><td>0.24000633</td><td>52.930573871858066</td><td>0.17167456</td><td>0.0</td><td>-133.246</td><td>362.0715</td><td>616094045524984146</td><td>False</td><td>--</td><td>--</td></tr>\n",
       "<tr><td>8.999999999999996e+99</td><td>0.0 .. 0.0</td><td>-0.0019957014509158224</td><td>4.131159871613317e-48</td><td>1571</td><td>0</td><td>STAR</td><td>K</td><td>5</td><td>1.942668892225729e+84</td><td>6</td><td>373</td><td>6373</td><td>3085</td><td>512</td><td>166.8190857098815</td><td>52.94201531051809</td><td>0.0</td><td>0.0</td><td>0.0</td><td>5400.0</td><td>4294967296</td><td>4</td><td>SKY</td><td>-125.004486</td><td>364.86603</td><td>-1</td><td>0.9801021912670956</td><td>63</td><td>9011</td><td>1669p530</td><td>595119</td><td>344</td><td></td><td>0.0</td><td>0.0</td><td>0.0</td><td>0.0</td><td>0.0</td><td>0.0</td><td>0.0</td><td>0.0</td><td>0.0</td><td>0.0</td><td>0.0</td><td>-0.006746739</td><td>0.05965914</td><td>0.030297222</td><td>0.0</td><td>0.0</td><td>0.0</td><td>0</td><td>0.0</td><td>0.0</td><td>0.0</td><td>0.0</td><td>0</td><td></td><td>0.0</td><td>0.0</td><td>0.0</td><td>0.0</td><td></td><td>-1</td><td>-1</td><td>0</td><td>0</td><td>0</td><td>0</td><td>4294967296</td><td>0</td><td>0</td><td>166.8190857098815</td><td>52.94201531051809</td><td>80869</td><td>0</td><td>0.0</td><td>1</td><td>1</td><td>-1.8763334</td><td>1.8763373</td><td>4.3505</td><td>4.350519</td><td>166.80718860046886</td><td>0.15534776</td><td>52.92609750103687</td><td>0.17433849</td><td>0.0</td><td>-123.1115</td><td>360.50467</td><td>616094045524984152</td><td>False</td><td>--</td><td>--</td></tr>\n",
       "<tr><td>8.999999999999996e+99</td><td>0.0 .. 0.0</td><td>-0.0019957014509158224</td><td>4.131159871613317e-48</td><td>1571</td><td>0</td><td>STAR</td><td>K</td><td>5</td><td>1.942668892225729e+84</td><td>6</td><td>394</td><td>6394</td><td>3071</td><td>512</td><td>166.84810835554575</td><td>52.97239577954356</td><td>0.0</td><td>0.0</td><td>0.0</td><td>5400.0</td><td>4294967296</td><td>4</td><td>SKY</td><td>-129.57243</td><td>373.2592</td><td>-1</td><td>0.9648364716005595</td><td>63</td><td>9011</td><td>1669p530</td><td>595119</td><td>481</td><td></td><td>0.0</td><td>0.0</td><td>0.0</td><td>0.0</td><td>0.0</td><td>0.0</td><td>0.0</td><td>0.0</td><td>0.0</td><td>0.0</td><td>0.0</td><td>-0.011465124</td><td>-0.055692013</td><td>-0.0031114053</td><td>0.0</td><td>0.0</td><td>0.0</td><td>0</td><td>0.0</td><td>0.0</td><td>0.0</td><td>0.0</td><td>0</td><td></td><td>0.0</td><td>0.0</td><td>0.0</td><td>0.0</td><td></td><td>-1</td><td>-1</td><td>0</td><td>0</td><td>0</td><td>0</td><td>4294967296</td><td>0</td><td>0</td><td>166.84810835554575</td><td>52.97239577954356</td><td>80869</td><td>0</td><td>0.0</td><td>1</td><td>1</td><td>-2.2706666</td><td>2.270676</td><td>1.5673333</td><td>1.5673916</td><td>166.8334609323494</td><td>0.25720394</td><td>52.96691410155282</td><td>0.18252902</td><td>0.0</td><td>-127.28533</td><td>371.683</td><td>616094045524984289</td><td>False</td><td>--</td><td>--</td></tr>\n",
       "<tr><td>8.999999999999996e+99</td><td>0.0 .. 0.0</td><td>-0.0019957014509158224</td><td>4.131159871613317e-48</td><td>1571</td><td>0</td><td>STAR</td><td>K</td><td>5</td><td>1.942668892225729e+84</td><td>6</td><td>416</td><td>6416</td><td>3054</td><td>512</td><td>166.83504149329258</td><td>53.01728610844748</td><td>0.0</td><td>0.0</td><td>0.0</td><td>5400.0</td><td>4294967296</td><td>4</td><td>SKY</td><td>-127.73066</td><td>385.41687</td><td>-1</td><td>0.9431975625708239</td><td>63</td><td>9011</td><td>1669p530</td><td>595119</td><td>692</td><td></td><td>0.0</td><td>0.0</td><td>0.0</td><td>0.0</td><td>0.0</td><td>0.0</td><td>0.0</td><td>0.0</td><td>0.0</td><td>0.0</td><td>0.0</td><td>0.00039506788</td><td>-0.035362102</td><td>-0.10688023</td><td>0.0</td><td>0.0</td><td>0.0</td><td>0</td><td>0.0</td><td>0.0</td><td>0.0</td><td>0.0</td><td>0</td><td></td><td>0.0</td><td>0.0</td><td>0.0</td><td>0.0</td><td></td><td>-1</td><td>-1</td><td>0</td><td>0</td><td>0</td><td>0</td><td>4294967296</td><td>0</td><td>0</td><td>166.83504149329258</td><td>53.01728610844748</td><td>80869</td><td>0</td><td>0.0</td><td>1</td><td>1</td><td>4.660333</td><td>4.6603394</td><td>-1.0641667</td><td>1.0642613</td><td>166.86519185992262</td><td>0.29208946</td><td>53.02052808756113</td><td>0.18954375</td><td>0.0</td><td>-132.37483</td><td>386.47366</td><td>616094045524984500</td><td>False</td><td>--</td><td>--</td></tr>\n",
       "<tr><td>8.999999999999996e+99</td><td>0.0 .. 0.0</td><td>-0.0019957014509158224</td><td>4.131159871613317e-48</td><td>1699</td><td>0</td><td>STAR</td><td>K</td><td>5</td><td>1.942668892225729e+84</td><td>6</td><td>484</td><td>6484</td><td>3078</td><td>772</td><td>167.26851029531568</td><td>52.89300163305308</td><td>0.0</td><td>0.0</td><td>0.0</td><td>5400.0</td><td>4294967296</td><td>4</td><td>SKY</td><td>-194.3294</td><td>354.69153</td><td>-1</td><td>0.9898386469630976</td><td>63</td><td>9011</td><td>1673p530</td><td>595120</td><td>131</td><td></td><td>0.0</td><td>0.0</td><td>0.0</td><td>0.0</td><td>0.0</td><td>0.0</td><td>0.0</td><td>0.0</td><td>0.0</td><td>0.0</td><td>0.0</td><td>-0.013533622</td><td>0.07246977</td><td>-0.18000905</td><td>0.0</td><td>0.0</td><td>0.0</td><td>0</td><td>0.0</td><td>0.0</td><td>0.0</td><td>0.0</td><td>0</td><td></td><td>0.0</td><td>0.0</td><td>0.0</td><td>0.0</td><td></td><td>-1</td><td>-1</td><td>0</td><td>0</td><td>0</td><td>0</td><td>4294967296</td><td>0</td><td>0</td><td>167.26851029531568</td><td>52.89300163305308</td><td>80869</td><td>0</td><td>0.0</td><td>1</td><td>1</td><td>0.0</td><td>0.0</td><td>0.0</td><td>0.0</td><td>167.268510295316</td><td>0.0</td><td>52.89300163305311</td><td>2.5579538e-11</td><td>0.79036385</td><td>0.0</td><td>0.0</td><td>616094045529178243</td><td>False</td><td>--</td><td>--</td></tr>\n",
       "</table>"
      ],
      "text/plain": [
       "<Table length=5000>\n",
       "         CHI2         ...      z_hetdex     \n",
       "       float64        ...      float64      \n",
       "--------------------- ... ------------------\n",
       "   18516.157104492188 ...                 --\n",
       "8.999999999999996e+99 ...  2.785829782485962\n",
       "   12303.154611378908 ...  3.274432897567749\n",
       "    9612.410069406033 ... 2.2758889198303223\n",
       "   10728.858731508255 ... 2.9088566303253174\n",
       "8.999999999999996e+99 ...  3.279261589050293\n",
       "   10214.414251059294 ...   2.35372257232666\n",
       "     11060.5895024091 ...  2.380201816558838\n",
       "   12060.342228084803 ... 2.9748616218566895\n",
       "   11485.557032480836 ...  3.000715494155884\n",
       "                  ... ...                ...\n",
       "   10043.645353198051 ...                 --\n",
       "8.999999999999996e+99 ...                 --\n",
       "8.999999999999996e+99 ...                 --\n",
       "8.999999999999996e+99 ...                 --\n",
       "8.999999999999996e+99 ...                 --\n",
       "8.999999999999996e+99 ...                 --\n",
       "8.999999999999996e+99 ...                 --\n",
       "8.999999999999996e+99 ...                 --\n",
       "8.999999999999996e+99 ...                 --\n",
       "8.999999999999996e+99 ...                 --"
      ]
     },
     "execution_count": 47,
     "metadata": {},
     "output_type": "execute_result"
    }
   ],
   "source": [
    "f3_ErinVI = join(f3_results[80869], ErinVI['VI_z', 'TARGETID', 'z_hetdex'], join_type='left', keys='TARGETID')\n",
    "f3_ErinVI"
   ]
  },
  {
   "cell_type": "code",
   "execution_count": 50,
   "id": "b1c0c5ef-1100-4b01-82f4-5c0518a2d636",
   "metadata": {},
   "outputs": [
    {
     "data": {
      "text/plain": [
       "Text(0.5, 1.0, 'In sample: 4996 galaxies')"
      ]
     },
     "execution_count": 50,
     "metadata": {},
     "output_type": "execute_result"
    },
    {
     "data": {
      "image/png": "[encoded data removed]",
      "text/plain": [
       "<Figure size 432x288 with 1 Axes>"
      ]
     },
     "metadata": {
      "needs_background": "light"
     },
     "output_type": "display_data"
    }
   ],
   "source": [
    "# to_plot = 'VI_z'\n",
    "to_plot = 'z_hetdex'\n",
    "\n",
    "isin = f3_ErinVI[to_plot] > 0.0\n",
    "\n",
    "pl.plot(f3_ErinVI[to_plot][isin], f3_ErinVI['Z'][isin], marker=',', lw=0.0, color='k')\n",
    "\n",
    "pl.xlabel('Erin {}'.format(to_plot))\n",
    "pl.ylabel('f3 LBG-REDROCK z')\n",
    "\n",
    "pl.title('In sample: {:d} galaxies'.format(np.count_nonzero(isin)))"
   ]
  },
  {
   "cell_type": "markdown",
   "id": "bbaecc88-bf53-4247-b360-7117b81915fd",
   "metadata": {},
   "source": [
    "# Done."
   ]
  }
 ],
 "metadata": {
  "kernelspec": {
   "display_name": "DESI master",
   "language": "python",
   "name": "desi-master"
  },
  "language_info": {
   "codemirror_mode": {
    "name": "ipython",
    "version": 3
   },
   "file_extension": ".py",
   "mimetype": "text/x-python",
   "name": "python",
   "nbconvert_exporter": "python",
   "pygments_lexer": "ipython3",
   "version": "3.8.3"
  }
 },
 "nbformat": 4,
 "nbformat_minor": 5
}
