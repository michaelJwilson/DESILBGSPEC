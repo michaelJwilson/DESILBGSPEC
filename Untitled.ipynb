{
 "cells": [
  {
   "cell_type": "code",
   "execution_count": null,
   "id": "dfee00f7-7fc0-4743-9d2d-1f6eb22e57a3",
   "metadata": {},
   "outputs": [],
   "source": []
  },
  {
   "cell_type": "code",
   "execution_count": null,
   "id": "e2239662-af93-4d6a-b694-14136fc48c27",
   "metadata": {},
   "outputs": [],
   "source": []
  },
  {
   "cell_type": "code",
   "execution_count": 2,
   "id": "140a3b03-7393-4244-82ae-2ef11d8f5020",
   "metadata": {},
   "outputs": [
    {
     "data": {
      "text/plain": [
       "'/global/cfs/cdirs/desi/spectro/redux/f3/'"
      ]
     },
     "execution_count": 2,
     "metadata": {},
     "output_type": "execute_result"
    }
   ],
   "source": [
    "root = '/global/cfs/cdirs/desi/spectro/redux/f3/'\n",
    "root "
   ]
  },
  {
   "cell_type": "code",
   "execution_count": 5,
   "id": "f3b57e15-4c8c-47a8-951c-82153f1a8df7",
   "metadata": {},
   "outputs": [
    {
     "name": "stdout",
     "output_type": "stream",
     "text": [
      "\u001b[0m\u001b[01;34m101\u001b[0m/  \u001b[01;34m156\u001b[0m/  \u001b[01;34m203\u001b[0m/  \u001b[01;34m264\u001b[0m/  \u001b[01;34m329\u001b[0m/  \u001b[01;34m383\u001b[0m/  \u001b[01;34m442\u001b[0m/  \u001b[01;34m5\u001b[0m/    \u001b[01;34m547\u001b[0m/  \u001b[01;34m590\u001b[0m/    \u001b[01;34m80866\u001b[0m/  \u001b[01;34m81104\u001b[0m/\n",
      "\u001b[01;34m102\u001b[0m/  \u001b[01;34m166\u001b[0m/  \u001b[01;34m210\u001b[0m/  \u001b[01;34m273\u001b[0m/  \u001b[01;34m330\u001b[0m/  \u001b[01;34m385\u001b[0m/  \u001b[01;34m451\u001b[0m/  \u001b[01;34m501\u001b[0m/  \u001b[01;34m557\u001b[0m/  \u001b[01;34m591\u001b[0m/    \u001b[01;34m80867\u001b[0m/  \u001b[01;34m81105\u001b[0m/\n",
      "\u001b[01;34m112\u001b[0m/  \u001b[01;34m167\u001b[0m/  \u001b[01;34m220\u001b[0m/  \u001b[01;34m275\u001b[0m/  \u001b[01;34m337\u001b[0m/  \u001b[01;34m391\u001b[0m/  \u001b[01;34m452\u001b[0m/  \u001b[01;34m502\u001b[0m/  \u001b[01;34m558\u001b[0m/  \u001b[01;34m593\u001b[0m/    \u001b[01;34m80869\u001b[0m/  \u001b[01;34m81106\u001b[0m/\n",
      "\u001b[01;34m113\u001b[0m/  \u001b[01;34m171\u001b[0m/  \u001b[01;34m221\u001b[0m/  \u001b[01;34m276\u001b[0m/  \u001b[01;34m343\u001b[0m/  \u001b[01;34m395\u001b[0m/  \u001b[01;34m46\u001b[0m/   \u001b[01;34m514\u001b[0m/  \u001b[01;34m559\u001b[0m/  \u001b[01;34m594\u001b[0m/    \u001b[01;34m80870\u001b[0m/  \u001b[01;34m81107\u001b[0m/\n",
      "\u001b[01;34m117\u001b[0m/  \u001b[01;34m172\u001b[0m/  \u001b[01;34m227\u001b[0m/  \u001b[01;34m282\u001b[0m/  \u001b[01;34m345\u001b[0m/  \u001b[01;34m399\u001b[0m/  \u001b[01;34m463\u001b[0m/  \u001b[01;34m515\u001b[0m/  \u001b[01;34m560\u001b[0m/  \u001b[01;34m61\u001b[0m/     \u001b[01;34m80871\u001b[0m/  \u001b[01;34m84\u001b[0m/\n",
      "\u001b[01;34m124\u001b[0m/  \u001b[01;34m173\u001b[0m/  \u001b[01;34m228\u001b[0m/  \u001b[01;34m287\u001b[0m/  \u001b[01;34m354\u001b[0m/  \u001b[01;34m4\u001b[0m/    \u001b[01;34m469\u001b[0m/  \u001b[01;34m516\u001b[0m/  \u001b[01;34m562\u001b[0m/  \u001b[01;34m64\u001b[0m/     \u001b[01;34m80872\u001b[0m/  \u001b[01;34m85\u001b[0m/\n",
      "\u001b[01;34m127\u001b[0m/  \u001b[01;34m18\u001b[0m/   \u001b[01;34m231\u001b[0m/  \u001b[01;34m290\u001b[0m/  \u001b[01;34m356\u001b[0m/  \u001b[01;34m408\u001b[0m/  \u001b[01;34m485\u001b[0m/  \u001b[01;34m517\u001b[0m/  \u001b[01;34m563\u001b[0m/  \u001b[01;34m65\u001b[0m/     \u001b[01;34m80971\u001b[0m/  \u001b[01;34m89\u001b[0m/\n",
      "\u001b[01;34m128\u001b[0m/  \u001b[01;34m182\u001b[0m/  \u001b[01;34m235\u001b[0m/  \u001b[01;34m291\u001b[0m/  \u001b[01;34m358\u001b[0m/  \u001b[01;34m41\u001b[0m/   \u001b[01;34m486\u001b[0m/  \u001b[01;34m528\u001b[0m/  \u001b[01;34m574\u001b[0m/  \u001b[01;34m70\u001b[0m/     \u001b[01;34m80972\u001b[0m/  \u001b[01;34m98\u001b[0m/\n",
      "\u001b[01;34m129\u001b[0m/  \u001b[01;34m183\u001b[0m/  \u001b[01;34m236\u001b[0m/  \u001b[01;34m30\u001b[0m/   \u001b[01;34m36\u001b[0m/   \u001b[01;34m410\u001b[0m/  \u001b[01;34m487\u001b[0m/  \u001b[01;34m529\u001b[0m/  \u001b[01;34m575\u001b[0m/  \u001b[01;34m74\u001b[0m/     \u001b[01;34m80974\u001b[0m/\n",
      "\u001b[01;34m139\u001b[0m/  \u001b[01;34m191\u001b[0m/  \u001b[01;34m237\u001b[0m/  \u001b[01;34m300\u001b[0m/  \u001b[01;34m364\u001b[0m/  \u001b[01;34m412\u001b[0m/  \u001b[01;34m489\u001b[0m/  \u001b[01;34m530\u001b[0m/  \u001b[01;34m576\u001b[0m/  \u001b[01;34m75\u001b[0m/     \u001b[01;34m81097\u001b[0m/\n",
      "\u001b[01;34m14\u001b[0m/   \u001b[01;34m193\u001b[0m/  \u001b[01;34m246\u001b[0m/  \u001b[01;34m302\u001b[0m/  \u001b[01;34m37\u001b[0m/   \u001b[01;34m418\u001b[0m/  \u001b[01;34m490\u001b[0m/  \u001b[01;34m531\u001b[0m/  \u001b[01;34m577\u001b[0m/  \u001b[01;34m8\u001b[0m/      \u001b[01;34m81099\u001b[0m/\n",
      "\u001b[01;34m140\u001b[0m/  \u001b[01;34m194\u001b[0m/  \u001b[01;34m248\u001b[0m/  \u001b[01;34m303\u001b[0m/  \u001b[01;34m371\u001b[0m/  \u001b[01;34m42\u001b[0m/   \u001b[01;34m496\u001b[0m/  \u001b[01;34m532\u001b[0m/  \u001b[01;34m579\u001b[0m/  \u001b[01;34m80644\u001b[0m/  \u001b[01;34m81100\u001b[0m/\n",
      "\u001b[01;34m144\u001b[0m/  \u001b[01;34m198\u001b[0m/  \u001b[01;34m249\u001b[0m/  \u001b[01;34m310\u001b[0m/  \u001b[01;34m372\u001b[0m/  \u001b[01;34m424\u001b[0m/  \u001b[01;34m497\u001b[0m/  \u001b[01;34m543\u001b[0m/  \u001b[01;34m58\u001b[0m/   \u001b[01;34m80698\u001b[0m/  \u001b[01;34m81101\u001b[0m/\n",
      "\u001b[01;34m15\u001b[0m/   \u001b[01;34m200\u001b[0m/  \u001b[01;34m256\u001b[0m/  \u001b[01;34m317\u001b[0m/  \u001b[01;34m38\u001b[0m/   \u001b[01;34m426\u001b[0m/  \u001b[01;34m498\u001b[0m/  \u001b[01;34m544\u001b[0m/  \u001b[01;34m580\u001b[0m/  \u001b[01;34m80722\u001b[0m/  \u001b[01;34m81102\u001b[0m/\n",
      "\u001b[01;34m155\u001b[0m/  \u001b[01;34m202\u001b[0m/  \u001b[01;34m261\u001b[0m/  \u001b[01;34m327\u001b[0m/  \u001b[01;34m381\u001b[0m/  \u001b[01;34m429\u001b[0m/  \u001b[01;34m499\u001b[0m/  \u001b[01;34m546\u001b[0m/  \u001b[01;34m589\u001b[0m/  \u001b[01;34m80865\u001b[0m/  \u001b[01;34m81103\u001b[0m/\n"
     ]
    }
   ],
   "source": [
    "ls /global/cfs/cdirs/desi/spectro/redux/f3/tiles/cumulative/"
   ]
  },
  {
   "cell_type": "code",
   "execution_count": null,
   "id": "df6e08ff-3e27-470f-a442-190ff06e9809",
   "metadata": {},
   "outputs": [],
   "source": []
  }
 ],
 "metadata": {
  "kernelspec": {
   "display_name": "DESI master",
   "language": "python",
   "name": "desi-master"
  },
  "language_info": {
   "codemirror_mode": {
    "name": "ipython",
    "version": 3
   },
   "file_extension": ".py",
   "mimetype": "text/x-python",
   "name": "python",
   "nbconvert_exporter": "python",
   "pygments_lexer": "ipython3",
   "version": "3.8.3"
  }
 },
 "nbformat": 4,
 "nbformat_minor": 5
}
