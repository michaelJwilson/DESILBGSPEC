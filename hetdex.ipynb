{
 "cells": [
  {
   "cell_type": "code",
   "execution_count": 35,
   "metadata": {},
   "outputs": [],
   "source": [
    "import pylab as pl\n",
    "import numpy as np\n",
    "import astropy.io.fits as fits\n",
    "\n",
    "from   desitarget.sv1.sv1_targetmask import desi_mask, bgs_mask, mws_mask, scnd_mask\n",
    "from   astropy.table import Table, vstack, join\n",
    "from   astropy.coordinates import SkyCoord\n",
    "from   astropy import units as u"
   ]
  },
  {
   "cell_type": "code",
   "execution_count": 2,
   "metadata": {},
   "outputs": [],
   "source": [
    "tile=80869"
   ]
  },
  {
   "cell_type": "code",
   "execution_count": 31,
   "metadata": {},
   "outputs": [
    {
     "name": "stdout",
     "output_type": "stream",
     "text": [
      "/global/cscratch1/sd/mjwilson/DESILBGSPEC/80869/cumulative/20210408/v1.1/zbest-0-80869-thru20210408.fits\n",
      "180 0 0\n",
      "/global/cscratch1/sd/mjwilson/DESILBGSPEC/80869/cumulative/20210408/v1.1/zbest-1-80869-thru20210408.fits\n",
      "239 0 0\n",
      "/global/cscratch1/sd/mjwilson/DESILBGSPEC/80869/cumulative/20210408/v1.1/zbest-2-80869-thru20210408.fits\n",
      "265 2 0\n",
      "/global/cscratch1/sd/mjwilson/DESILBGSPEC/80869/cumulative/20210408/v1.1/zbest-3-80869-thru20210408.fits\n",
      "233 1 0\n",
      "/global/cscratch1/sd/mjwilson/DESILBGSPEC/80869/cumulative/20210408/v1.1/zbest-4-80869-thru20210408.fits\n",
      "110 1 0\n",
      "/global/cscratch1/sd/mjwilson/DESILBGSPEC/80869/cumulative/20210408/v1.1/zbest-5-80869-thru20210408.fits\n",
      "52 0 0\n",
      "/global/cscratch1/sd/mjwilson/DESILBGSPEC/80869/cumulative/20210408/v1.1/zbest-6-80869-thru20210408.fits\n",
      "145 2 0\n",
      "/global/cscratch1/sd/mjwilson/DESILBGSPEC/80869/cumulative/20210408/v1.1/zbest-7-80869-thru20210408.fits\n",
      "261 10 0\n",
      "/global/cscratch1/sd/mjwilson/DESILBGSPEC/80869/cumulative/20210408/v1.1/zbest-8-80869-thru20210408.fits\n",
      "204 3 0\n",
      "/global/cscratch1/sd/mjwilson/DESILBGSPEC/80869/cumulative/20210408/v1.1/zbest-9-80869-thru20210408.fits\n",
      "245 6 0\n"
     ]
    }
   ],
   "source": [
    "main_catalog=None\n",
    "hp_catalog=None\n",
    "\n",
    "for petal in range(10):\n",
    "    fpath='/global/cscratch1/sd/mjwilson/DESILBGSPEC/{}/cumulative/20210408/v1.1/zbest-{}-{}-thru20210408.fits'.format(tile, petal, tile)\n",
    "    \n",
    "    print(fpath)\n",
    "    \n",
    "    zbest       = Table.read(fpath, 'ZBEST')\n",
    "    fmap        = Table.read(fpath, 'FIBERMAP')\n",
    "    \n",
    "    fmap        = join(fmap, zbest, join_type='left', keys='TARGETID')\n",
    "    \n",
    "    is_hd_main  = (fmap['SV1_SCND_TARGET'] & scnd_mask['HETDEX_MAIN']) != 0\n",
    "    is_hd_hp    = (fmap['SV1_SCND_TARGET'] & scnd_mask['HETDEX_HP'])   != 0\n",
    "    \n",
    "    print(np.count_nonzero(is_hd_main), np.count_nonzero(is_hd_hp), np.count_nonzero(is_hd_main & is_hd_hp))\n",
    "    \n",
    "    is_hd       = is_hd_main | is_hd_hp\n",
    "    \n",
    "    cols        = ['TARGET_RA', 'TARGET_DEC', 'TARGETID']\n",
    "    cols        = fmap.dtype.names\n",
    "    \n",
    "    if main_catalog is None:\n",
    "        main_catalog = fmap[cols][is_hd_main]\n",
    "        hp_catalog = fmap[cols][is_hd_hp]\n",
    "    \n",
    "    else:\n",
    "        main_catalog = vstack((main_catalog, fmap[cols][is_hd_main]))\n",
    "        hp_catalog = vstack((hp_catalog, fmap[cols][is_hd_hp]))"
   ]
  },
  {
   "cell_type": "code",
   "execution_count": 62,
   "metadata": {},
   "outputs": [
    {
     "data": {
      "text/plain": [
       "<matplotlib.legend.Legend at 0x2aaad86cca30>"
      ]
     },
     "execution_count": 62,
     "metadata": {},
     "output_type": "execute_result"
    },
    {
     "data": {
      "image/png": "[encoded data removed]",
      "text/plain": [
       "<Figure size 432x288 with 1 Axes>"
      ]
     },
     "metadata": {
      "needs_background": "light"
     },
     "output_type": "display_data"
    }
   ],
   "source": [
    "dz = 0.1\n",
    "\n",
    "for dX2 in [0., 15., 25., 50., 100., 150.]:\n",
    "    stuck = main_catalog['FIBERSTATUS'] > 0\n",
    "    \n",
    "    isin = (main_catalog['DELTACHI2'] >= dX2) & (~stuck)\n",
    "    \n",
    "    pl.hist(main_catalog['Z'][isin], bins=np.arange(0.0, 5.0, dz), histtype='step', label='{} @ X2 > {:.0f} ({:d})'.format(str(np.count_nonzero(isin)).ljust(4), dX2, np.count_nonzero(stuck)))\n",
    "    \n",
    "pl.xlabel('Z')\n",
    "pl.ylabel('Counts per $\\Delta z = {:.2f}$'.format(dz))\n",
    "    \n",
    "pl.legend(loc=1, frameon=False)"
   ]
  },
  {
   "cell_type": "code",
   "execution_count": 57,
   "metadata": {},
   "outputs": [
    {
     "data": {
      "text/html": [
       "<i>Table length=1934</i>\n",
       "<table id=\"table46913264695712\" class=\"table-striped table-bordered table-condensed\">\n",
       "<thead><tr><th>FIBERSTATUS</th><th>Z</th><th>DELTACHI2</th></tr></thead>\n",
       "<thead><tr><th>int32</th><th>float64</th><th>float64</th></tr></thead>\n",
       "<tr><td>0</td><td>1.3269837977786638</td><td>18.128526866436005</td></tr>\n",
       "<tr><td>0</td><td>0.2755500707165172</td><td>27.63019999116659</td></tr>\n",
       "<tr><td>0</td><td>0.2948354871963281</td><td>5.954623552039266</td></tr>\n",
       "<tr><td>0</td><td>1.63577689275841</td><td>135.1645165681839</td></tr>\n",
       "<tr><td>0</td><td>0.3747576442211584</td><td>10.721263945102692</td></tr>\n",
       "<tr><td>0</td><td>2.4691501505899645</td><td>32.386484215036035</td></tr>\n",
       "<tr><td>0</td><td>0.8928679329705963</td><td>0.2127169966697693</td></tr>\n",
       "<tr><td>0</td><td>0.25588957536756907</td><td>23.702376851812005</td></tr>\n",
       "<tr><td>0</td><td>1.5181136557796526</td><td>38.89408361911774</td></tr>\n",
       "<tr><td>0</td><td>0.26316558415065866</td><td>38.52831116691232</td></tr>\n",
       "<tr><td>...</td><td>...</td><td>...</td></tr>\n",
       "<tr><td>512</td><td>-0.0019957014509158224</td><td>1.942668892225729e+84</td></tr>\n",
       "<tr><td>0</td><td>0.04277042117278797</td><td>42.21802501776256</td></tr>\n",
       "<tr><td>0</td><td>1.3223112111601287</td><td>4.889260523021221</td></tr>\n",
       "<tr><td>512</td><td>-0.0019957014509158224</td><td>1.942668892225729e+84</td></tr>\n",
       "<tr><td>0</td><td>0.782097327295951</td><td>2147.2327060699463</td></tr>\n",
       "<tr><td>0</td><td>0.8928852169774151</td><td>17.700443983078003</td></tr>\n",
       "<tr><td>0</td><td>0.05401675567865854</td><td>8.555635998025537</td></tr>\n",
       "<tr><td>0</td><td>1.3676350046227088</td><td>25.290920913219452</td></tr>\n",
       "<tr><td>0</td><td>1.5836395630633175</td><td>7.1971543207764626</td></tr>\n",
       "<tr><td>0</td><td>2.3258455634414146</td><td>200.5480559170246</td></tr>\n",
       "</table>"
      ],
      "text/plain": [
       "<Table length=1934>\n",
       "FIBERSTATUS           Z                  DELTACHI2      \n",
       "   int32           float64                float64       \n",
       "----------- ---------------------- ---------------------\n",
       "          0     1.3269837977786638    18.128526866436005\n",
       "          0     0.2755500707165172     27.63019999116659\n",
       "          0     0.2948354871963281     5.954623552039266\n",
       "          0       1.63577689275841     135.1645165681839\n",
       "          0     0.3747576442211584    10.721263945102692\n",
       "          0     2.4691501505899645    32.386484215036035\n",
       "          0     0.8928679329705963    0.2127169966697693\n",
       "          0    0.25588957536756907    23.702376851812005\n",
       "          0     1.5181136557796526     38.89408361911774\n",
       "          0    0.26316558415065866     38.52831116691232\n",
       "        ...                    ...                   ...\n",
       "        512 -0.0019957014509158224 1.942668892225729e+84\n",
       "          0    0.04277042117278797     42.21802501776256\n",
       "          0     1.3223112111601287     4.889260523021221\n",
       "        512 -0.0019957014509158224 1.942668892225729e+84\n",
       "          0      0.782097327295951    2147.2327060699463\n",
       "          0     0.8928852169774151    17.700443983078003\n",
       "          0    0.05401675567865854     8.555635998025537\n",
       "          0     1.3676350046227088    25.290920913219452\n",
       "          0     1.5836395630633175    7.1971543207764626\n",
       "          0     2.3258455634414146     200.5480559170246"
      ]
     },
     "execution_count": 57,
     "metadata": {},
     "output_type": "execute_result"
    }
   ],
   "source": [
    "main_catalog['FIBERSTATUS', 'Z', 'DELTACHI2']"
   ]
  },
  {
   "cell_type": "code",
   "execution_count": 4,
   "metadata": {},
   "outputs": [
    {
     "data": {
      "text/plain": [
       "(1934, 25)"
      ]
     },
     "execution_count": 4,
     "metadata": {},
     "output_type": "execute_result"
    }
   ],
   "source": [
    "len(main_catalog), len(hp_catalog)"
   ]
  },
  {
   "cell_type": "code",
   "execution_count": 5,
   "metadata": {},
   "outputs": [],
   "source": [
    "main_catalog.sort('TARGET_RA')\n",
    "hp_catalog.sort('TARGET_RA')"
   ]
  },
  {
   "cell_type": "code",
   "execution_count": 6,
   "metadata": {},
   "outputs": [
    {
     "data": {
      "text/html": [
       "<i>Table length=1934</i>\n",
       "<table id=\"table46912582010672\" class=\"table-striped table-bordered table-condensed\">\n",
       "<thead><tr><th>TARGET_RA</th><th>TARGET_DEC</th><th>TARGETID</th></tr></thead>\n",
       "<thead><tr><th>float64</th><th>float64</th><th>int64</th></tr></thead>\n",
       "<tr><td>163.48052978515625</td><td>51.5822868347168</td><td>103628861865997</td></tr>\n",
       "<tr><td>163.49014282226562</td><td>51.52200698852539</td><td>103628861865993</td></tr>\n",
       "<tr><td>163.52671813964844</td><td>51.60617446899414</td><td>103628861865985</td></tr>\n",
       "<tr><td>163.5386199951172</td><td>51.53516387939453</td><td>103628861865987</td></tr>\n",
       "<tr><td>163.54054260253906</td><td>51.58338928222656</td><td>103628861865995</td></tr>\n",
       "<tr><td>163.54063415527344</td><td>51.234657287597656</td><td>103625078603776</td></tr>\n",
       "<tr><td>163.54461669921875</td><td>51.886898040771484</td><td>103636369670144</td></tr>\n",
       "<tr><td>163.54647827148438</td><td>51.81934356689453</td><td>103632628350978</td></tr>\n",
       "<tr><td>163.54721069335938</td><td>51.49379348754883</td><td>103628861865994</td></tr>\n",
       "<tr><td>163.56442260742188</td><td>51.795997619628906</td><td>103632628351024</td></tr>\n",
       "<tr><td>...</td><td>...</td><td>...</td></tr>\n",
       "<tr><td>168.4583740234375</td><td>51.16263961791992</td><td>103625133129729</td></tr>\n",
       "<tr><td>168.46629333496094</td><td>51.3394889831543</td><td>103625133129728</td></tr>\n",
       "<tr><td>168.4718017578125</td><td>51.42617416381836</td><td>103628916391941</td></tr>\n",
       "<tr><td>168.47560119628906</td><td>51.657203674316406</td><td>103632678682634</td></tr>\n",
       "<tr><td>168.47824096679688</td><td>51.80558776855469</td><td>103632678682637</td></tr>\n",
       "<tr><td>168.49598693847656</td><td>51.45096206665039</td><td>103628916391942</td></tr>\n",
       "<tr><td>168.49673461914062</td><td>51.368804931640625</td><td>103625133129731</td></tr>\n",
       "<tr><td>168.50376892089844</td><td>51.71291732788086</td><td>103632678682667</td></tr>\n",
       "<tr><td>168.50686645507812</td><td>51.763221740722656</td><td>103632678682666</td></tr>\n",
       "<tr><td>168.52130126953125</td><td>51.34972381591797</td><td>103625133129730</td></tr>\n",
       "</table>"
      ],
      "text/plain": [
       "<Table length=1934>\n",
       "    TARGET_RA          TARGET_DEC         TARGETID   \n",
       "     float64            float64            int64     \n",
       "------------------ ------------------ ---------------\n",
       "163.48052978515625   51.5822868347168 103628861865997\n",
       "163.49014282226562  51.52200698852539 103628861865993\n",
       "163.52671813964844  51.60617446899414 103628861865985\n",
       " 163.5386199951172  51.53516387939453 103628861865987\n",
       "163.54054260253906  51.58338928222656 103628861865995\n",
       "163.54063415527344 51.234657287597656 103625078603776\n",
       "163.54461669921875 51.886898040771484 103636369670144\n",
       "163.54647827148438  51.81934356689453 103632628350978\n",
       "163.54721069335938  51.49379348754883 103628861865994\n",
       "163.56442260742188 51.795997619628906 103632628351024\n",
       "               ...                ...             ...\n",
       " 168.4583740234375  51.16263961791992 103625133129729\n",
       "168.46629333496094   51.3394889831543 103625133129728\n",
       " 168.4718017578125  51.42617416381836 103628916391941\n",
       "168.47560119628906 51.657203674316406 103632678682634\n",
       "168.47824096679688  51.80558776855469 103632678682637\n",
       "168.49598693847656  51.45096206665039 103628916391942\n",
       "168.49673461914062 51.368804931640625 103625133129731\n",
       "168.50376892089844  51.71291732788086 103632678682667\n",
       "168.50686645507812 51.763221740722656 103632678682666\n",
       "168.52130126953125  51.34972381591797 103625133129730"
      ]
     },
     "execution_count": 6,
     "metadata": {},
     "output_type": "execute_result"
    }
   ],
   "source": [
    "main_catalog"
   ]
  },
  {
   "cell_type": "code",
   "execution_count": 7,
   "metadata": {},
   "outputs": [],
   "source": [
    "hd_main = Table.read('/project/projectdirs/desi/target/secondary/sv1/indata/HETDEX_MAIN.fits')\n",
    "hd_hp   = Table.read('/project/projectdirs/desi/target/secondary/sv1/indata/HETDEX_HP.fits')"
   ]
  },
  {
   "cell_type": "code",
   "execution_count": 8,
   "metadata": {},
   "outputs": [
    {
     "data": {
      "text/plain": [
       "(17882, 378)"
      ]
     },
     "execution_count": 8,
     "metadata": {},
     "output_type": "execute_result"
    }
   ],
   "source": [
    "len(hd_main), len(hd_hp)"
   ]
  },
  {
   "cell_type": "code",
   "execution_count": 9,
   "metadata": {},
   "outputs": [],
   "source": [
    "hd_main.sort('RA')\n",
    "hd_hp.sort('RA')"
   ]
  },
  {
   "cell_type": "code",
   "execution_count": 10,
   "metadata": {},
   "outputs": [
    {
     "data": {
      "text/html": [
       "<i>Table length=17882</i>\n",
       "<table id=\"table46912564368144\" class=\"table-striped table-bordered table-condensed\">\n",
       "<thead><tr><th>RA</th><th>DEC</th><th>PMRA</th><th>PMDEC</th><th>REF_EPOCH</th><th>OVERRIDE</th><th>detectid</th></tr></thead>\n",
       "<thead><tr><th>float64</th><th>float64</th><th>float32</th><th>float32</th><th>float32</th><th>bool</th><th>int64</th></tr></thead>\n",
       "<tr><td>163.46652221679688</td><td>51.54117202758789</td><td>0.0</td><td>0.0</td><td>0.0</td><td>True</td><td>2100671502</td></tr>\n",
       "<tr><td>163.47427368164062</td><td>51.60860824584961</td><td>0.0</td><td>0.0</td><td>0.0</td><td>True</td><td>2100671268</td></tr>\n",
       "<tr><td>163.48052978515625</td><td>51.5822868347168</td><td>0.0</td><td>0.0</td><td>0.0</td><td>True</td><td>2100787266</td></tr>\n",
       "<tr><td>163.49014282226562</td><td>51.52200698852539</td><td>0.0</td><td>0.0</td><td>0.0</td><td>True</td><td>2100671225</td></tr>\n",
       "<tr><td>163.50437927246094</td><td>51.40061950683594</td><td>0.0</td><td>0.0</td><td>0.0</td><td>True</td><td>2100670955</td></tr>\n",
       "<tr><td>163.5140380859375</td><td>51.57563781738281</td><td>0.0</td><td>0.0</td><td>0.0</td><td>True</td><td>2100671457</td></tr>\n",
       "<tr><td>163.5194854736328</td><td>51.457855224609375</td><td>0.0</td><td>0.0</td><td>0.0</td><td>True</td><td>2100671036</td></tr>\n",
       "<tr><td>163.5262908935547</td><td>51.61130142211914</td><td>0.0</td><td>0.0</td><td>0.0</td><td>True</td><td>2100671253</td></tr>\n",
       "<tr><td>163.52671813964844</td><td>51.60617446899414</td><td>0.0</td><td>0.0</td><td>0.0</td><td>True</td><td>2100671249</td></tr>\n",
       "<tr><td>163.52732849121094</td><td>51.593441009521484</td><td>0.0</td><td>0.0</td><td>0.0</td><td>True</td><td>2100787333</td></tr>\n",
       "<tr><td>...</td><td>...</td><td>...</td><td>...</td><td>...</td><td>...</td><td>...</td></tr>\n",
       "<tr><td>227.47769165039062</td><td>51.78314971923828</td><td>0.0</td><td>0.0</td><td>0.0</td><td>True</td><td>2100732470</td></tr>\n",
       "<tr><td>227.4807891845703</td><td>51.23051452636719</td><td>0.0</td><td>0.0</td><td>0.0</td><td>True</td><td>2100276940</td></tr>\n",
       "<tr><td>227.493896484375</td><td>51.7817268371582</td><td>0.0</td><td>0.0</td><td>0.0</td><td>True</td><td>2100732474</td></tr>\n",
       "<tr><td>227.4949493408203</td><td>51.6865234375</td><td>0.0</td><td>0.0</td><td>0.0</td><td>True</td><td>2101222415</td></tr>\n",
       "<tr><td>227.50108337402344</td><td>51.615779876708984</td><td>0.0</td><td>0.0</td><td>0.0</td><td>True</td><td>2100384979</td></tr>\n",
       "<tr><td>227.5018310546875</td><td>51.29041290283203</td><td>0.0</td><td>0.0</td><td>0.0</td><td>True</td><td>2100320041</td></tr>\n",
       "<tr><td>227.50820922851562</td><td>51.55179214477539</td><td>0.0</td><td>0.0</td><td>0.0</td><td>True</td><td>2100384753</td></tr>\n",
       "<tr><td>227.51280212402344</td><td>51.635841369628906</td><td>0.0</td><td>0.0</td><td>0.0</td><td>True</td><td>2100385011</td></tr>\n",
       "<tr><td>227.51329040527344</td><td>51.55109786987305</td><td>0.0</td><td>0.0</td><td>0.0</td><td>True</td><td>2100384754</td></tr>\n",
       "<tr><td>227.5240936279297</td><td>51.663780212402344</td><td>0.0</td><td>0.0</td><td>0.0</td><td>True</td><td>2100385024</td></tr>\n",
       "</table>"
      ],
      "text/plain": [
       "<Table length=17882>\n",
       "        RA                DEC           PMRA  ... REF_EPOCH OVERRIDE  detectid \n",
       "     float64            float64       float32 ...  float32    bool     int64   \n",
       "------------------ ------------------ ------- ... --------- -------- ----------\n",
       "163.46652221679688  51.54117202758789     0.0 ...       0.0     True 2100671502\n",
       "163.47427368164062  51.60860824584961     0.0 ...       0.0     True 2100671268\n",
       "163.48052978515625   51.5822868347168     0.0 ...       0.0     True 2100787266\n",
       "163.49014282226562  51.52200698852539     0.0 ...       0.0     True 2100671225\n",
       "163.50437927246094  51.40061950683594     0.0 ...       0.0     True 2100670955\n",
       " 163.5140380859375  51.57563781738281     0.0 ...       0.0     True 2100671457\n",
       " 163.5194854736328 51.457855224609375     0.0 ...       0.0     True 2100671036\n",
       " 163.5262908935547  51.61130142211914     0.0 ...       0.0     True 2100671253\n",
       "163.52671813964844  51.60617446899414     0.0 ...       0.0     True 2100671249\n",
       "163.52732849121094 51.593441009521484     0.0 ...       0.0     True 2100787333\n",
       "               ...                ...     ... ...       ...      ...        ...\n",
       "227.47769165039062  51.78314971923828     0.0 ...       0.0     True 2100732470\n",
       " 227.4807891845703  51.23051452636719     0.0 ...       0.0     True 2100276940\n",
       "  227.493896484375   51.7817268371582     0.0 ...       0.0     True 2100732474\n",
       " 227.4949493408203      51.6865234375     0.0 ...       0.0     True 2101222415\n",
       "227.50108337402344 51.615779876708984     0.0 ...       0.0     True 2100384979\n",
       " 227.5018310546875  51.29041290283203     0.0 ...       0.0     True 2100320041\n",
       "227.50820922851562  51.55179214477539     0.0 ...       0.0     True 2100384753\n",
       "227.51280212402344 51.635841369628906     0.0 ...       0.0     True 2100385011\n",
       "227.51329040527344  51.55109786987305     0.0 ...       0.0     True 2100384754\n",
       " 227.5240936279297 51.663780212402344     0.0 ...       0.0     True 2100385024"
      ]
     },
     "execution_count": 10,
     "metadata": {},
     "output_type": "execute_result"
    }
   ],
   "source": [
    "hd_main"
   ]
  },
  {
   "cell_type": "code",
   "execution_count": 11,
   "metadata": {},
   "outputs": [
    {
     "data": {
      "text/plain": [
       "(17882, 17882)"
      ]
     },
     "execution_count": 11,
     "metadata": {},
     "output_type": "execute_result"
    }
   ],
   "source": [
    "len(np.unique(hd_main['detectid'].data)), len(hd_main)"
   ]
  },
  {
   "cell_type": "code",
   "execution_count": 12,
   "metadata": {},
   "outputs": [
    {
     "data": {
      "text/plain": [
       "(335, 378)"
      ]
     },
     "execution_count": 12,
     "metadata": {},
     "output_type": "execute_result"
    }
   ],
   "source": [
    "len(np.unique(hd_hp['detectid'].data)), len(hd_hp)"
   ]
  },
  {
   "cell_type": "code",
   "execution_count": 13,
   "metadata": {},
   "outputs": [],
   "source": [
    "c  = SkyCoord(ra=hd_main['RA']*u.degree, dec=hd_main['DEC']*u.degree)\n",
    "c2 = SkyCoord(ra=main_catalog['TARGET_RA'].data*u.degree, dec=main_catalog['TARGET_DEC'].data*u.degree)\n",
    "\n",
    "idx, d2d, d3d = c2.match_to_catalog_sky(c)"
   ]
  },
  {
   "cell_type": "code",
   "execution_count": 14,
   "metadata": {},
   "outputs": [
    {
     "data": {
      "text/plain": [
       "0.0"
      ]
     },
     "execution_count": 14,
     "metadata": {},
     "output_type": "execute_result"
    }
   ],
   "source": [
    "d2d.arcsec.max()"
   ]
  },
  {
   "cell_type": "code",
   "execution_count": 15,
   "metadata": {},
   "outputs": [],
   "source": [
    "main_assigned = hd_main[idx]"
   ]
  },
  {
   "cell_type": "code",
   "execution_count": 16,
   "metadata": {},
   "outputs": [
    {
     "data": {
      "text/html": [
       "<i>Table length=1934</i>\n",
       "<table id=\"table46913221676624\" class=\"table-striped table-bordered table-condensed\">\n",
       "<thead><tr><th>RA</th><th>DEC</th><th>PMRA</th><th>PMDEC</th><th>REF_EPOCH</th><th>OVERRIDE</th><th>detectid</th></tr></thead>\n",
       "<thead><tr><th>float64</th><th>float64</th><th>float32</th><th>float32</th><th>float32</th><th>bool</th><th>int64</th></tr></thead>\n",
       "<tr><td>163.48052978515625</td><td>51.5822868347168</td><td>0.0</td><td>0.0</td><td>0.0</td><td>True</td><td>2100787266</td></tr>\n",
       "<tr><td>163.49014282226562</td><td>51.52200698852539</td><td>0.0</td><td>0.0</td><td>0.0</td><td>True</td><td>2100671225</td></tr>\n",
       "<tr><td>163.52671813964844</td><td>51.60617446899414</td><td>0.0</td><td>0.0</td><td>0.0</td><td>True</td><td>2100671249</td></tr>\n",
       "<tr><td>163.5386199951172</td><td>51.53516387939453</td><td>0.0</td><td>0.0</td><td>0.0</td><td>True</td><td>2100787438</td></tr>\n",
       "<tr><td>163.54054260253906</td><td>51.58338928222656</td><td>0.0</td><td>0.0</td><td>0.0</td><td>True</td><td>2100787334</td></tr>\n",
       "<tr><td>163.54063415527344</td><td>51.234657287597656</td><td>0.0</td><td>0.0</td><td>0.0</td><td>True</td><td>2100125381</td></tr>\n",
       "<tr><td>163.54461669921875</td><td>51.886898040771484</td><td>0.0</td><td>0.0</td><td>0.0</td><td>True</td><td>2101645498</td></tr>\n",
       "<tr><td>163.54647827148438</td><td>51.81934356689453</td><td>0.0</td><td>0.0</td><td>0.0</td><td>True</td><td>2101646087</td></tr>\n",
       "<tr><td>163.54721069335938</td><td>51.49379348754883</td><td>0.0</td><td>0.0</td><td>0.0</td><td>True</td><td>2100671511</td></tr>\n",
       "<tr><td>163.56442260742188</td><td>51.795997619628906</td><td>0.0</td><td>0.0</td><td>0.0</td><td>True</td><td>2101645523</td></tr>\n",
       "<tr><td>...</td><td>...</td><td>...</td><td>...</td><td>...</td><td>...</td><td>...</td></tr>\n",
       "<tr><td>168.4583740234375</td><td>51.16263961791992</td><td>0.0</td><td>0.0</td><td>0.0</td><td>True</td><td>2100128909</td></tr>\n",
       "<tr><td>168.46629333496094</td><td>51.3394889831543</td><td>0.0</td><td>0.0</td><td>0.0</td><td>True</td><td>2101905123</td></tr>\n",
       "<tr><td>168.4718017578125</td><td>51.42617416381836</td><td>0.0</td><td>0.0</td><td>0.0</td><td>True</td><td>2101904977</td></tr>\n",
       "<tr><td>168.47560119628906</td><td>51.657203674316406</td><td>0.0</td><td>0.0</td><td>0.0</td><td>True</td><td>2101044991</td></tr>\n",
       "<tr><td>168.47824096679688</td><td>51.80558776855469</td><td>0.0</td><td>0.0</td><td>0.0</td><td>True</td><td>2101916670</td></tr>\n",
       "<tr><td>168.49598693847656</td><td>51.45096206665039</td><td>0.0</td><td>0.0</td><td>0.0</td><td>True</td><td>2101905152</td></tr>\n",
       "<tr><td>168.49673461914062</td><td>51.368804931640625</td><td>0.0</td><td>0.0</td><td>0.0</td><td>True</td><td>2101904909</td></tr>\n",
       "<tr><td>168.50376892089844</td><td>51.71291732788086</td><td>0.0</td><td>0.0</td><td>0.0</td><td>True</td><td>2101917073</td></tr>\n",
       "<tr><td>168.50686645507812</td><td>51.763221740722656</td><td>0.0</td><td>0.0</td><td>0.0</td><td>True</td><td>2101916620</td></tr>\n",
       "<tr><td>168.52130126953125</td><td>51.34972381591797</td><td>0.0</td><td>0.0</td><td>0.0</td><td>True</td><td>2101905131</td></tr>\n",
       "</table>"
      ],
      "text/plain": [
       "<Table length=1934>\n",
       "        RA                DEC           PMRA  ... REF_EPOCH OVERRIDE  detectid \n",
       "     float64            float64       float32 ...  float32    bool     int64   \n",
       "------------------ ------------------ ------- ... --------- -------- ----------\n",
       "163.48052978515625   51.5822868347168     0.0 ...       0.0     True 2100787266\n",
       "163.49014282226562  51.52200698852539     0.0 ...       0.0     True 2100671225\n",
       "163.52671813964844  51.60617446899414     0.0 ...       0.0     True 2100671249\n",
       " 163.5386199951172  51.53516387939453     0.0 ...       0.0     True 2100787438\n",
       "163.54054260253906  51.58338928222656     0.0 ...       0.0     True 2100787334\n",
       "163.54063415527344 51.234657287597656     0.0 ...       0.0     True 2100125381\n",
       "163.54461669921875 51.886898040771484     0.0 ...       0.0     True 2101645498\n",
       "163.54647827148438  51.81934356689453     0.0 ...       0.0     True 2101646087\n",
       "163.54721069335938  51.49379348754883     0.0 ...       0.0     True 2100671511\n",
       "163.56442260742188 51.795997619628906     0.0 ...       0.0     True 2101645523\n",
       "               ...                ...     ... ...       ...      ...        ...\n",
       " 168.4583740234375  51.16263961791992     0.0 ...       0.0     True 2100128909\n",
       "168.46629333496094   51.3394889831543     0.0 ...       0.0     True 2101905123\n",
       " 168.4718017578125  51.42617416381836     0.0 ...       0.0     True 2101904977\n",
       "168.47560119628906 51.657203674316406     0.0 ...       0.0     True 2101044991\n",
       "168.47824096679688  51.80558776855469     0.0 ...       0.0     True 2101916670\n",
       "168.49598693847656  51.45096206665039     0.0 ...       0.0     True 2101905152\n",
       "168.49673461914062 51.368804931640625     0.0 ...       0.0     True 2101904909\n",
       "168.50376892089844  51.71291732788086     0.0 ...       0.0     True 2101917073\n",
       "168.50686645507812 51.763221740722656     0.0 ...       0.0     True 2101916620\n",
       "168.52130126953125  51.34972381591797     0.0 ...       0.0     True 2101905131"
      ]
     },
     "execution_count": 16,
     "metadata": {},
     "output_type": "execute_result"
    }
   ],
   "source": [
    "main_assigned"
   ]
  },
  {
   "cell_type": "code",
   "execution_count": 17,
   "metadata": {},
   "outputs": [],
   "source": [
    "c  = SkyCoord(ra=hd_hp['RA']*u.degree, dec=hd_hp['DEC']*u.degree)\n",
    "c2 = SkyCoord(ra=hp_catalog['TARGET_RA'].data*u.degree, dec=hp_catalog['TARGET_DEC'].data*u.degree)\n",
    "\n",
    "idx, d2d, d3d = c2.match_to_catalog_sky(c)"
   ]
  },
  {
   "cell_type": "code",
   "execution_count": 18,
   "metadata": {},
   "outputs": [
    {
     "data": {
      "text/plain": [
       "0.0"
      ]
     },
     "execution_count": 18,
     "metadata": {},
     "output_type": "execute_result"
    }
   ],
   "source": [
    "d2d.arcsec.max()"
   ]
  },
  {
   "cell_type": "code",
   "execution_count": 19,
   "metadata": {},
   "outputs": [],
   "source": [
    "hp_assigned = hd_hp[idx]"
   ]
  },
  {
   "cell_type": "code",
   "execution_count": 20,
   "metadata": {},
   "outputs": [
    {
     "name": "stdout",
     "output_type": "stream",
     "text": [
      "        RA                DEC         PMRA PMDEC REF_EPOCH OVERRIDE  detectid \n",
      "------------------ ------------------ ---- ----- --------- -------- ----------\n",
      "164.45425415039062   52.1292724609375  0.0   0.0       0.0     True 2101778934\n",
      "   165.06494140625 51.210914611816406  0.0   0.0       0.0     True 2101778934\n",
      "     165.107421875  51.16847229003906  0.0   0.0       0.0     True 2101778934\n",
      "165.26083374023438  52.16966247558594  0.0   0.0       0.0     True 2101778934\n",
      "166.25062561035156   51.8939323425293  0.0   0.0       0.0     True 2101778934\n",
      "     166.439453125 51.053070068359375  0.0   0.0       0.0     True 2101778934\n",
      "166.50823974609375  50.75823211669922  0.0   0.0       0.0     True 2101778934\n",
      "166.53121948242188 51.063961029052734  0.0   0.0       0.0     True 2101778934\n",
      " 166.6493682861328  50.47038650512695  0.0   0.0       0.0     True 2101778934\n",
      "166.96527099609375 50.479835510253906  0.0   0.0       0.0     True 2101778934\n",
      "166.97946166992188 51.956207275390625  0.0   0.0       0.0     True 2101778934\n",
      "167.05621337890625 51.867332458496094  0.0   0.0       0.0     True 2101778934\n",
      "167.06239318847656 51.930625915527344  0.0   0.0       0.0     True 2101778934\n",
      "167.34274291992188  50.39849090576172  0.0   0.0       0.0     True 2101778934\n",
      " 167.3779754638672 51.068817138671875  0.0   0.0       0.0     True 2101778934\n",
      "167.42774963378906  51.79247283935547  0.0   0.0       0.0     True 2101778934\n",
      " 167.4308319091797  51.94328308105469  0.0   0.0       0.0     True 2101778934\n",
      "167.46119689941406  51.67885208129883  0.0   0.0       0.0     True 2101778934\n",
      " 167.6969451904297   52.1871223449707  0.0   0.0       0.0     True 2101778934\n",
      "167.74676513671875  51.30880355834961  0.0   0.0       0.0     True 2101778934\n",
      " 167.7625274658203  51.52579116821289  0.0   0.0       0.0     True 2101778934\n",
      "167.79002380371094  52.03691864013672  0.0   0.0       0.0     True 2101778934\n",
      " 168.0399169921875  52.12205123901367  0.0   0.0       0.0     True 2101778934\n",
      "168.14524841308594  50.95953369140625  0.0   0.0       0.0     True 2101778934\n",
      " 168.2589111328125  51.99864959716797  0.0   0.0       0.0     True 2101778934\n"
     ]
    }
   ],
   "source": [
    "hp_assigned.pprint(max_lines=-1)"
   ]
  },
  {
   "cell_type": "code",
   "execution_count": 21,
   "metadata": {},
   "outputs": [],
   "source": [
    "hp_assigned.write('hetdex_hp_assigned_80869.fits', format='fits', overwrite=True)"
   ]
  },
  {
   "cell_type": "code",
   "execution_count": 22,
   "metadata": {},
   "outputs": [
    {
     "data": {
      "text/plain": [
       "25"
      ]
     },
     "execution_count": 22,
     "metadata": {},
     "output_type": "execute_result"
    }
   ],
   "source": [
    "len(hp_assigned)"
   ]
  },
  {
   "cell_type": "code",
   "execution_count": 23,
   "metadata": {},
   "outputs": [],
   "source": [
    "for_karl = vstack((main_assigned, hp_assigned))"
   ]
  },
  {
   "cell_type": "code",
   "execution_count": 24,
   "metadata": {},
   "outputs": [
    {
     "data": {
      "text/html": [
       "<i>Table length=1959</i>\n",
       "<table id=\"table46913221696864\" class=\"table-striped table-bordered table-condensed\">\n",
       "<thead><tr><th>RA</th><th>DEC</th><th>PMRA</th><th>PMDEC</th><th>REF_EPOCH</th><th>OVERRIDE</th><th>detectid</th></tr></thead>\n",
       "<thead><tr><th>float64</th><th>float64</th><th>float32</th><th>float32</th><th>float32</th><th>bool</th><th>int64</th></tr></thead>\n",
       "<tr><td>163.48052978515625</td><td>51.5822868347168</td><td>0.0</td><td>0.0</td><td>0.0</td><td>True</td><td>2100787266</td></tr>\n",
       "<tr><td>163.49014282226562</td><td>51.52200698852539</td><td>0.0</td><td>0.0</td><td>0.0</td><td>True</td><td>2100671225</td></tr>\n",
       "<tr><td>163.52671813964844</td><td>51.60617446899414</td><td>0.0</td><td>0.0</td><td>0.0</td><td>True</td><td>2100671249</td></tr>\n",
       "<tr><td>163.5386199951172</td><td>51.53516387939453</td><td>0.0</td><td>0.0</td><td>0.0</td><td>True</td><td>2100787438</td></tr>\n",
       "<tr><td>163.54054260253906</td><td>51.58338928222656</td><td>0.0</td><td>0.0</td><td>0.0</td><td>True</td><td>2100787334</td></tr>\n",
       "<tr><td>163.54063415527344</td><td>51.234657287597656</td><td>0.0</td><td>0.0</td><td>0.0</td><td>True</td><td>2100125381</td></tr>\n",
       "<tr><td>163.54461669921875</td><td>51.886898040771484</td><td>0.0</td><td>0.0</td><td>0.0</td><td>True</td><td>2101645498</td></tr>\n",
       "<tr><td>163.54647827148438</td><td>51.81934356689453</td><td>0.0</td><td>0.0</td><td>0.0</td><td>True</td><td>2101646087</td></tr>\n",
       "<tr><td>163.54721069335938</td><td>51.49379348754883</td><td>0.0</td><td>0.0</td><td>0.0</td><td>True</td><td>2100671511</td></tr>\n",
       "<tr><td>163.56442260742188</td><td>51.795997619628906</td><td>0.0</td><td>0.0</td><td>0.0</td><td>True</td><td>2101645523</td></tr>\n",
       "<tr><td>...</td><td>...</td><td>...</td><td>...</td><td>...</td><td>...</td><td>...</td></tr>\n",
       "<tr><td>167.42774963378906</td><td>51.79247283935547</td><td>0.0</td><td>0.0</td><td>0.0</td><td>True</td><td>2101778934</td></tr>\n",
       "<tr><td>167.4308319091797</td><td>51.94328308105469</td><td>0.0</td><td>0.0</td><td>0.0</td><td>True</td><td>2101778934</td></tr>\n",
       "<tr><td>167.46119689941406</td><td>51.67885208129883</td><td>0.0</td><td>0.0</td><td>0.0</td><td>True</td><td>2101778934</td></tr>\n",
       "<tr><td>167.6969451904297</td><td>52.1871223449707</td><td>0.0</td><td>0.0</td><td>0.0</td><td>True</td><td>2101778934</td></tr>\n",
       "<tr><td>167.74676513671875</td><td>51.30880355834961</td><td>0.0</td><td>0.0</td><td>0.0</td><td>True</td><td>2101778934</td></tr>\n",
       "<tr><td>167.7625274658203</td><td>51.52579116821289</td><td>0.0</td><td>0.0</td><td>0.0</td><td>True</td><td>2101778934</td></tr>\n",
       "<tr><td>167.79002380371094</td><td>52.03691864013672</td><td>0.0</td><td>0.0</td><td>0.0</td><td>True</td><td>2101778934</td></tr>\n",
       "<tr><td>168.0399169921875</td><td>52.12205123901367</td><td>0.0</td><td>0.0</td><td>0.0</td><td>True</td><td>2101778934</td></tr>\n",
       "<tr><td>168.14524841308594</td><td>50.95953369140625</td><td>0.0</td><td>0.0</td><td>0.0</td><td>True</td><td>2101778934</td></tr>\n",
       "<tr><td>168.2589111328125</td><td>51.99864959716797</td><td>0.0</td><td>0.0</td><td>0.0</td><td>True</td><td>2101778934</td></tr>\n",
       "</table>"
      ],
      "text/plain": [
       "<Table length=1959>\n",
       "        RA                DEC           PMRA  ... REF_EPOCH OVERRIDE  detectid \n",
       "     float64            float64       float32 ...  float32    bool     int64   \n",
       "------------------ ------------------ ------- ... --------- -------- ----------\n",
       "163.48052978515625   51.5822868347168     0.0 ...       0.0     True 2100787266\n",
       "163.49014282226562  51.52200698852539     0.0 ...       0.0     True 2100671225\n",
       "163.52671813964844  51.60617446899414     0.0 ...       0.0     True 2100671249\n",
       " 163.5386199951172  51.53516387939453     0.0 ...       0.0     True 2100787438\n",
       "163.54054260253906  51.58338928222656     0.0 ...       0.0     True 2100787334\n",
       "163.54063415527344 51.234657287597656     0.0 ...       0.0     True 2100125381\n",
       "163.54461669921875 51.886898040771484     0.0 ...       0.0     True 2101645498\n",
       "163.54647827148438  51.81934356689453     0.0 ...       0.0     True 2101646087\n",
       "163.54721069335938  51.49379348754883     0.0 ...       0.0     True 2100671511\n",
       "163.56442260742188 51.795997619628906     0.0 ...       0.0     True 2101645523\n",
       "               ...                ...     ... ...       ...      ...        ...\n",
       "167.42774963378906  51.79247283935547     0.0 ...       0.0     True 2101778934\n",
       " 167.4308319091797  51.94328308105469     0.0 ...       0.0     True 2101778934\n",
       "167.46119689941406  51.67885208129883     0.0 ...       0.0     True 2101778934\n",
       " 167.6969451904297   52.1871223449707     0.0 ...       0.0     True 2101778934\n",
       "167.74676513671875  51.30880355834961     0.0 ...       0.0     True 2101778934\n",
       " 167.7625274658203  51.52579116821289     0.0 ...       0.0     True 2101778934\n",
       "167.79002380371094  52.03691864013672     0.0 ...       0.0     True 2101778934\n",
       " 168.0399169921875  52.12205123901367     0.0 ...       0.0     True 2101778934\n",
       "168.14524841308594  50.95953369140625     0.0 ...       0.0     True 2101778934\n",
       " 168.2589111328125  51.99864959716797     0.0 ...       0.0     True 2101778934"
      ]
     },
     "execution_count": 24,
     "metadata": {},
     "output_type": "execute_result"
    }
   ],
   "source": [
    "for_karl"
   ]
  },
  {
   "cell_type": "code",
   "execution_count": 28,
   "metadata": {},
   "outputs": [],
   "source": [
    "for_karl.write('hetdex_assigned_80869.fits', format='fits', overwrite=True)"
   ]
  },
  {
   "cell_type": "code",
   "execution_count": 218,
   "metadata": {},
   "outputs": [],
   "source": [
    "dat = fits.open('/project/projectdirs/desi/target/secondary/sv1/indata/HETDEX_HP.fits')[1].data"
   ]
  },
  {
   "cell_type": "code",
   "execution_count": 219,
   "metadata": {},
   "outputs": [],
   "source": [
    "uids, cnts = np.unique(dat['detectid'], return_counts=True)"
   ]
  },
  {
   "cell_type": "code",
   "execution_count": 220,
   "metadata": {},
   "outputs": [
    {
     "name": "stdout",
     "output_type": "stream",
     "text": [
      "2100777760\t19\n",
      "2101778934\t26\n"
     ]
    }
   ],
   "source": [
    "for uid, cnt in zip(uids, cnts):\n",
    "    if cnt > 1:\n",
    "        print('{}\\t{}'.format(uid, cnt))"
   ]
  },
  {
   "cell_type": "markdown",
   "metadata": {},
   "source": [
    "# Done."
   ]
  }
 ],
 "metadata": {
  "kernelspec": {
   "display_name": "DESI master",
   "language": "python",
   "name": "desi-master"
  },
  "language_info": {
   "codemirror_mode": {
    "name": "ipython",
    "version": 3
   },
   "file_extension": ".py",
   "mimetype": "text/x-python",
   "name": "python",
   "nbconvert_exporter": "python",
   "pygments_lexer": "ipython3",
   "version": "3.8.3"
  }
 },
 "nbformat": 4,
 "nbformat_minor": 4
}
