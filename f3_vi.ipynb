{
 "cells": [
  {
   "cell_type": "code",
   "execution_count": 1,
   "id": "4a8c2772-9083-448b-9222-04fbbebefc82",
   "metadata": {},
   "outputs": [],
   "source": [
    "import os\n",
    "import glob\n",
    "import pylab as pl\n",
    "import numpy as np\n",
    "import astropy.io.fits as fits\n",
    "\n",
    "from   astropy.table import Table, vstack, join\n",
    "from   desitarget.sv1.sv1_targetmask import scnd_mask"
   ]
  },
  {
   "cell_type": "code",
   "execution_count": 2,
   "id": "38db05fa-7fff-4ed0-9592-319076895a05",
   "metadata": {},
   "outputs": [],
   "source": [
    "vi_root = '/global/cfs/cdirs/desi/users/mjwilson/DESILBGSPEC/f3/v4.1/tiles/cumulative/80871/20210430/'"
   ]
  },
  {
   "cell_type": "code",
   "execution_count": 3,
   "id": "b50a1d25-9ea2-4133-a450-833bcbe2d24d",
   "metadata": {},
   "outputs": [],
   "source": [
    "vis     = sorted(glob.glob(vi_root + '*.csv'))"
   ]
  },
  {
   "cell_type": "code",
   "execution_count": 4,
   "id": "9b9e6ffe-e0b2-4529-b94a-bccdaad0a8d8",
   "metadata": {},
   "outputs": [],
   "source": [
    "tabs    = []\n",
    "\n",
    "for vi in vis:    \n",
    "    fp = os.path.basename(vi).split('_')\n",
    "    vi = Table.read(vi)\n",
    "\n",
    "    vi['DESILBG_TYPE'] = fp[3]\n",
    "    vi['PETAL']        = fp[5]\n",
    "    vi['SPLIT']        = fp[7]\n",
    "    vi['VI_spectype']  = vi['VI_spectype'].data.astype(str)\n",
    "    \n",
    "    del vi['Redrock_version']\n",
    "    del vi['Template_version']\n",
    "    del vi['Redrock_spectype']\n",
    "    \n",
    "    for name in vi.dtype.names:\n",
    "        vi.rename_column(name, name.upper())\n",
    "    \n",
    "    tabs.append(vi)"
   ]
  },
  {
   "cell_type": "code",
   "execution_count": 5,
   "id": "35e6d2d4-814d-4006-868b-432c2fedb47c",
   "metadata": {},
   "outputs": [
    {
     "data": {
      "text/html": [
       "<div><i>Table length=598</i>\n",
       "<table id=\"table46914459802640\" class=\"table-striped table-bordered table-condensed\">\n",
       "<thead><tr><th>TARGETID</th><th>TILEID</th><th>SPEC_VERSION</th><th>REDROCK_Z</th><th>REDROCK_DELTACHI2</th><th>VI_SCANNER</th><th>VI_QUALITY</th><th>VI_ISSUE</th><th>VI_Z</th><th>VI_SPECTYPE</th><th>VI_COMMENT</th><th>DESILBG_TYPE</th><th>PETAL</th><th>SPLIT</th></tr></thead>\n",
       "<thead><tr><th>int64</th><th>int64</th><th>str14</th><th>float64</th><th>float64</th><th>str4</th><th>int64</th><th>int64</th><th>float64</th><th>str21</th><th>str78</th><th>str3</th><th>str1</th><th>str7</th></tr></thead>\n",
       "<tr><td>243310933311516</td><td>80871</td><td>0.47.1.dev6182</td><td>1.3841</td><td>7.5</td><td>MJW</td><td>3</td><td>--</td><td>3.583</td><td>--</td><td>Sig. Lya; Si IV; Si II; SV;</td><td>BXU</td><td>0</td><td>1</td></tr>\n",
       "<tr><td>243310937505827</td><td>80871</td><td>0.47.1.dev6182</td><td>1.4998</td><td>16.0</td><td>MJW</td><td>2</td><td>--</td><td>2.24</td><td>--</td><td>Potential Lya; SiIV; SiV.</td><td>BXU</td><td>0</td><td>1</td></tr>\n",
       "<tr><td>243310933311540</td><td>80871</td><td>0.47.1.dev6182</td><td>1.6609</td><td>0.7</td><td>MJW</td><td>2</td><td>--</td><td>2.7209</td><td>--</td><td>Lya;; NV; Si II C II;</td><td>BXU</td><td>0</td><td>1</td></tr>\n",
       "<tr><td>243310937505846</td><td>80871</td><td>0.47.1.dev6182</td><td>0.0006</td><td>87.1</td><td>MJW</td><td>3</td><td>--</td><td>0.0006</td><td>--</td><td>--</td><td>BXU</td><td>0</td><td>1</td></tr>\n",
       "<tr><td>243310937505870</td><td>80871</td><td>0.47.1.dev6182</td><td>0.53</td><td>4.7</td><td>MJW</td><td>3</td><td>--</td><td>2.4942</td><td>--</td><td>Sig. Lya; Si IV;</td><td>BXU</td><td>0</td><td>1</td></tr>\n",
       "<tr><td>243310937505819</td><td>80871</td><td>0.47.1.dev6182</td><td>0.5178</td><td>4.1</td><td>MJW</td><td>3</td><td>--</td><td>2.4978</td><td>--</td><td>Sig. Lya</td><td>BXU</td><td>0</td><td>1</td></tr>\n",
       "<tr><td>243310933311518</td><td>80871</td><td>0.47.1.dev6182</td><td>0.1887</td><td>6.3</td><td>MJW</td><td>3</td><td>--</td><td>3.8987</td><td>--</td><td>Sig. Lya; CII; SiV</td><td>BXU</td><td>0</td><td>1</td></tr>\n",
       "<tr><td>243310937505821</td><td>80871</td><td>0.47.1.dev6182</td><td>0.3445</td><td>11.5</td><td>MJW</td><td>1</td><td>--</td><td>2.8845</td><td>--</td><td>--</td><td>BXU</td><td>0</td><td>1</td></tr>\n",
       "<tr><td>243304893513751</td><td>80871</td><td>0.47.1.dev6182</td><td>1.6283</td><td>0.6</td><td>MJW</td><td>3</td><td>--</td><td>2.7999</td><td>--</td><td>Sig. Lya; LyB? SiII; SiV;</td><td>BXU</td><td>0</td><td>1</td></tr>\n",
       "<tr><td>243310937505855</td><td>80871</td><td>0.47.1.dev6182</td><td>0.5204</td><td>4.1</td><td>MJW</td><td>1</td><td>--</td><td>--</td><td>--</td><td>Lya?</td><td>BXU</td><td>0</td><td>1</td></tr>\n",
       "<tr><td>...</td><td>...</td><td>...</td><td>...</td><td>...</td><td>...</td><td>...</td><td>...</td><td>...</td><td>...</td><td>...</td><td>...</td><td>...</td><td>...</td></tr>\n",
       "<tr><td>234557102096385</td><td>80871</td><td>0.47.1.dev6182</td><td>3.0676</td><td>397.7</td><td>MJW</td><td>4</td><td>--</td><td>3.0676</td><td>--</td><td>Lya; Si IV; CII; C IV;</td><td>TMG</td><td>4</td><td>1</td></tr>\n",
       "<tr><td>234563141894147</td><td>80871</td><td>0.47.1.dev6182</td><td>0.1071</td><td>416.5</td><td>MJW</td><td>3</td><td>--</td><td>4.98</td><td>--</td><td>Lya</td><td>TMG</td><td>4</td><td>1</td></tr>\n",
       "<tr><td>234563141894146</td><td>80871</td><td>0.47.1.dev6182</td><td>2.3997</td><td>335.4</td><td>MJW</td><td>4</td><td>--</td><td>2.3997</td><td>--</td><td>Lya; CIV; CIII.</td><td>TMG</td><td>4</td><td>1</td></tr>\n",
       "<tr><td>234563150282752</td><td>80871</td><td>0.47.1.dev6182</td><td>1.0141</td><td>2.8</td><td>MJW</td><td>1</td><td>--</td><td>--</td><td>--</td><td>Lya?  Far blue (noisy).</td><td>TMG</td><td>4</td><td>1</td></tr>\n",
       "<tr><td>234569181691905</td><td>80871</td><td>0.47.1.dev6182</td><td>1.0132</td><td>8.3</td><td>MJW</td><td>4</td><td>--</td><td>3.0432</td><td>--</td><td>Boomer; Si IV; SiII; C IV;CIII.</td><td>TMG</td><td>4</td><td>1</td></tr>\n",
       "<tr><td>234569181691904</td><td>80871</td><td>0.47.1.dev6182</td><td>2.3839</td><td>86.1</td><td>MJW</td><td>4</td><td>--</td><td>2.3839</td><td>--</td><td>Lya; CIII; Si IV;</td><td>TMG</td><td>4</td><td>1</td></tr>\n",
       "<tr><td>234551070687232</td><td>80871</td><td>0.47.1.dev6182</td><td>0.5058</td><td>1.8</td><td>MJW</td><td>4</td><td>--</td><td>3.6225</td><td>--</td><td>LyB; Lya;</td><td>TMG</td><td>4</td><td>1</td></tr>\n",
       "<tr><td>234563150282757</td><td>80871</td><td>0.47.1.dev6182</td><td>0.4515</td><td>0.6</td><td>MJW</td><td>1</td><td>--</td><td>2.3615</td><td>--</td><td>--</td><td>TMG</td><td>4</td><td>1</td></tr>\n",
       "<tr><td>234563150282754</td><td>80871</td><td>0.47.1.dev6182</td><td>3.2297</td><td>8.5</td><td>MJW</td><td>3</td><td>--</td><td>2.3697</td><td>--</td><td>Lya; Si II; Si IV; SV; C IV;</td><td>TMG</td><td>4</td><td>1</td></tr>\n",
       "<tr><td>234545039278082</td><td>80871</td><td>0.47.1.dev6182</td><td>2.5181</td><td>438.7</td><td>MJW</td><td>4</td><td>--</td><td>2.5181</td><td>--</td><td>Lya; CIII; Si IV; Si II;</td><td>TMG</td><td>4</td><td>1</td></tr>\n",
       "</table></div>"
      ],
      "text/plain": [
       "<Table length=598>\n",
       "    TARGETID    TILEID  SPEC_VERSION  REDROCK_Z ... DESILBG_TYPE PETAL SPLIT\n",
       "     int64      int64      str14       float64  ...     str3      str1  str7\n",
       "--------------- ------ -------------- --------- ... ------------ ----- -----\n",
       "243310933311516  80871 0.47.1.dev6182    1.3841 ...          BXU     0     1\n",
       "243310937505827  80871 0.47.1.dev6182    1.4998 ...          BXU     0     1\n",
       "243310933311540  80871 0.47.1.dev6182    1.6609 ...          BXU     0     1\n",
       "243310937505846  80871 0.47.1.dev6182    0.0006 ...          BXU     0     1\n",
       "243310937505870  80871 0.47.1.dev6182      0.53 ...          BXU     0     1\n",
       "243310937505819  80871 0.47.1.dev6182    0.5178 ...          BXU     0     1\n",
       "243310933311518  80871 0.47.1.dev6182    0.1887 ...          BXU     0     1\n",
       "243310937505821  80871 0.47.1.dev6182    0.3445 ...          BXU     0     1\n",
       "243304893513751  80871 0.47.1.dev6182    1.6283 ...          BXU     0     1\n",
       "243310937505855  80871 0.47.1.dev6182    0.5204 ...          BXU     0     1\n",
       "            ...    ...            ...       ... ...          ...   ...   ...\n",
       "234557102096385  80871 0.47.1.dev6182    3.0676 ...          TMG     4     1\n",
       "234563141894147  80871 0.47.1.dev6182    0.1071 ...          TMG     4     1\n",
       "234563141894146  80871 0.47.1.dev6182    2.3997 ...          TMG     4     1\n",
       "234563150282752  80871 0.47.1.dev6182    1.0141 ...          TMG     4     1\n",
       "234569181691905  80871 0.47.1.dev6182    1.0132 ...          TMG     4     1\n",
       "234569181691904  80871 0.47.1.dev6182    2.3839 ...          TMG     4     1\n",
       "234551070687232  80871 0.47.1.dev6182    0.5058 ...          TMG     4     1\n",
       "234563150282757  80871 0.47.1.dev6182    0.4515 ...          TMG     4     1\n",
       "234563150282754  80871 0.47.1.dev6182    3.2297 ...          TMG     4     1\n",
       "234545039278082  80871 0.47.1.dev6182    2.5181 ...          TMG     4     1"
      ]
     },
     "execution_count": 5,
     "metadata": {},
     "output_type": "execute_result"
    }
   ],
   "source": [
    "vis = vstack(tabs)\n",
    "vis"
   ]
  },
  {
   "cell_type": "code",
   "execution_count": 6,
   "id": "b5f96533-2e11-46cc-8bbe-bc04aac3de0c",
   "metadata": {},
   "outputs": [
    {
     "data": {
      "text/plain": [
       "('TARGETID',\n",
       " 'TILEID',\n",
       " 'SPEC_VERSION',\n",
       " 'REDROCK_Z',\n",
       " 'REDROCK_DELTACHI2',\n",
       " 'VI_SCANNER',\n",
       " 'VI_QUALITY',\n",
       " 'VI_ISSUE',\n",
       " 'VI_Z',\n",
       " 'VI_SPECTYPE',\n",
       " 'VI_COMMENT',\n",
       " 'DESILBG_TYPE',\n",
       " 'PETAL',\n",
       " 'SPLIT')"
      ]
     },
     "execution_count": 6,
     "metadata": {},
     "output_type": "execute_result"
    }
   ],
   "source": [
    "vis.dtype.names"
   ]
  },
  {
   "cell_type": "code",
   "execution_count": 7,
   "id": "9c301288-28ba-4001-98ec-3563e7d18b45",
   "metadata": {},
   "outputs": [
    {
     "data": {
      "text/plain": [
       "(array(['BXU', 'G', 'TMG'], dtype='<U3'), array([365,  88, 145]))"
      ]
     },
     "execution_count": 7,
     "metadata": {},
     "output_type": "execute_result"
    }
   ],
   "source": [
    "np.unique(vis['DESILBG_TYPE'].data, return_counts=True)"
   ]
  },
  {
   "cell_type": "code",
   "execution_count": 8,
   "id": "70def694-5eed-4aef-97a0-c851fb3a465c",
   "metadata": {},
   "outputs": [
    {
     "data": {
      "text/plain": [
       "(array([-1,  0,  1,  2,  3,  4]), array([ 67,  13,  72, 125, 188, 133]))"
      ]
     },
     "execution_count": 8,
     "metadata": {},
     "output_type": "execute_result"
    }
   ],
   "source": [
    "np.unique(vis['VI_QUALITY'].data, return_counts=True)"
   ]
  },
  {
   "cell_type": "code",
   "execution_count": 9,
   "id": "f310b934-851c-4b49-89af-8ca0b915d24d",
   "metadata": {},
   "outputs": [
    {
     "data": {
      "text/html": [
       "<div><i>Table length=321</i>\n",
       "<table id=\"table46912705718736\" class=\"table-striped table-bordered table-condensed\">\n",
       "<thead><tr><th>TARGETID</th><th>TILEID</th><th>SPEC_VERSION</th><th>REDROCK_Z</th><th>REDROCK_DELTACHI2</th><th>VI_SCANNER</th><th>VI_QUALITY</th><th>VI_ISSUE</th><th>VI_Z</th><th>VI_SPECTYPE</th><th>VI_COMMENT</th><th>DESILBG_TYPE</th><th>PETAL</th><th>SPLIT</th></tr></thead>\n",
       "<thead><tr><th>int64</th><th>int64</th><th>str14</th><th>float64</th><th>float64</th><th>str4</th><th>int64</th><th>int64</th><th>float64</th><th>str21</th><th>str78</th><th>str3</th><th>str1</th><th>str7</th></tr></thead>\n",
       "<tr><td>243310933311516</td><td>80871</td><td>0.47.1.dev6182</td><td>1.3841</td><td>7.5</td><td>MJW</td><td>3</td><td>--</td><td>3.583</td><td>--</td><td>Sig. Lya; Si IV; Si II; SV;</td><td>BXU</td><td>0</td><td>1</td></tr>\n",
       "<tr><td>243310937505846</td><td>80871</td><td>0.47.1.dev6182</td><td>0.0006</td><td>87.1</td><td>MJW</td><td>3</td><td>--</td><td>0.0006</td><td>--</td><td>--</td><td>BXU</td><td>0</td><td>1</td></tr>\n",
       "<tr><td>243310937505870</td><td>80871</td><td>0.47.1.dev6182</td><td>0.53</td><td>4.7</td><td>MJW</td><td>3</td><td>--</td><td>2.4942</td><td>--</td><td>Sig. Lya; Si IV;</td><td>BXU</td><td>0</td><td>1</td></tr>\n",
       "<tr><td>243310937505819</td><td>80871</td><td>0.47.1.dev6182</td><td>0.5178</td><td>4.1</td><td>MJW</td><td>3</td><td>--</td><td>2.4978</td><td>--</td><td>Sig. Lya</td><td>BXU</td><td>0</td><td>1</td></tr>\n",
       "<tr><td>243310933311518</td><td>80871</td><td>0.47.1.dev6182</td><td>0.1887</td><td>6.3</td><td>MJW</td><td>3</td><td>--</td><td>3.8987</td><td>--</td><td>Sig. Lya; CII; SiV</td><td>BXU</td><td>0</td><td>1</td></tr>\n",
       "<tr><td>243304893513751</td><td>80871</td><td>0.47.1.dev6182</td><td>1.6283</td><td>0.6</td><td>MJW</td><td>3</td><td>--</td><td>2.7999</td><td>--</td><td>Sig. Lya; LyB? SiII; SiV;</td><td>BXU</td><td>0</td><td>1</td></tr>\n",
       "<tr><td>243316973109325</td><td>80871</td><td>0.47.1.dev6182</td><td>2.9302</td><td>495.7</td><td>MJW</td><td>4</td><td>--</td><td>2.9302</td><td>--</td><td>--</td><td>BXU</td><td>0</td><td>1</td></tr>\n",
       "<tr><td>243323017101380</td><td>80871</td><td>0.47.1.dev6182</td><td>0.4883</td><td>12.3</td><td>MJW</td><td>3</td><td>--</td><td>3.1847</td><td>--</td><td>Sig. Lya;</td><td>BXU</td><td>0</td><td>1</td></tr>\n",
       "<tr><td>243323021295803</td><td>80871</td><td>0.47.1.dev6182</td><td>0.2958</td><td>8.1</td><td>MJW</td><td>3</td><td>--</td><td>2.9158</td><td>--</td><td>Sig. asym. Lya</td><td>BXU</td><td>0</td><td>1</td></tr>\n",
       "<tr><td>243316977303667</td><td>80871</td><td>0.47.1.dev6182</td><td>2.8048</td><td>2.7</td><td>MJW</td><td>4</td><td>--</td><td>2.8048</td><td>--</td><td>Boomer</td><td>BXU</td><td>0</td><td>1</td></tr>\n",
       "<tr><td>...</td><td>...</td><td>...</td><td>...</td><td>...</td><td>...</td><td>...</td><td>...</td><td>...</td><td>...</td><td>...</td><td>...</td><td>...</td><td>...</td></tr>\n",
       "<tr><td>234563141894161</td><td>80871</td><td>0.47.1.dev6182</td><td>3.6722</td><td>4.3</td><td>MJW</td><td>3</td><td>--</td><td>2.5422</td><td>--</td><td>Boomer. Si IV?</td><td>TMG</td><td>4</td><td>1</td></tr>\n",
       "<tr><td>234563137699840</td><td>80871</td><td>0.47.1.dev6182</td><td>1.7782</td><td>570.4</td><td>MJW</td><td>3</td><td>--</td><td>2.5354</td><td>--</td><td>Lya; Si IV; C IV; SV</td><td>TMG</td><td>4</td><td>1</td></tr>\n",
       "<tr><td>234557102096385</td><td>80871</td><td>0.47.1.dev6182</td><td>3.0676</td><td>397.7</td><td>MJW</td><td>4</td><td>--</td><td>3.0676</td><td>--</td><td>Lya; Si IV; CII; C IV;</td><td>TMG</td><td>4</td><td>1</td></tr>\n",
       "<tr><td>234563141894147</td><td>80871</td><td>0.47.1.dev6182</td><td>0.1071</td><td>416.5</td><td>MJW</td><td>3</td><td>--</td><td>4.98</td><td>--</td><td>Lya</td><td>TMG</td><td>4</td><td>1</td></tr>\n",
       "<tr><td>234563141894146</td><td>80871</td><td>0.47.1.dev6182</td><td>2.3997</td><td>335.4</td><td>MJW</td><td>4</td><td>--</td><td>2.3997</td><td>--</td><td>Lya; CIV; CIII.</td><td>TMG</td><td>4</td><td>1</td></tr>\n",
       "<tr><td>234569181691905</td><td>80871</td><td>0.47.1.dev6182</td><td>1.0132</td><td>8.3</td><td>MJW</td><td>4</td><td>--</td><td>3.0432</td><td>--</td><td>Boomer; Si IV; SiII; C IV;CIII.</td><td>TMG</td><td>4</td><td>1</td></tr>\n",
       "<tr><td>234569181691904</td><td>80871</td><td>0.47.1.dev6182</td><td>2.3839</td><td>86.1</td><td>MJW</td><td>4</td><td>--</td><td>2.3839</td><td>--</td><td>Lya; CIII; Si IV;</td><td>TMG</td><td>4</td><td>1</td></tr>\n",
       "<tr><td>234551070687232</td><td>80871</td><td>0.47.1.dev6182</td><td>0.5058</td><td>1.8</td><td>MJW</td><td>4</td><td>--</td><td>3.6225</td><td>--</td><td>LyB; Lya;</td><td>TMG</td><td>4</td><td>1</td></tr>\n",
       "<tr><td>234563150282754</td><td>80871</td><td>0.47.1.dev6182</td><td>3.2297</td><td>8.5</td><td>MJW</td><td>3</td><td>--</td><td>2.3697</td><td>--</td><td>Lya; Si II; Si IV; SV; C IV;</td><td>TMG</td><td>4</td><td>1</td></tr>\n",
       "<tr><td>234545039278082</td><td>80871</td><td>0.47.1.dev6182</td><td>2.5181</td><td>438.7</td><td>MJW</td><td>4</td><td>--</td><td>2.5181</td><td>--</td><td>Lya; CIII; Si IV; Si II;</td><td>TMG</td><td>4</td><td>1</td></tr>\n",
       "</table></div>"
      ],
      "text/plain": [
       "<Table length=321>\n",
       "    TARGETID    TILEID  SPEC_VERSION  REDROCK_Z ... DESILBG_TYPE PETAL SPLIT\n",
       "     int64      int64      str14       float64  ...     str3      str1  str7\n",
       "--------------- ------ -------------- --------- ... ------------ ----- -----\n",
       "243310933311516  80871 0.47.1.dev6182    1.3841 ...          BXU     0     1\n",
       "243310937505846  80871 0.47.1.dev6182    0.0006 ...          BXU     0     1\n",
       "243310937505870  80871 0.47.1.dev6182      0.53 ...          BXU     0     1\n",
       "243310937505819  80871 0.47.1.dev6182    0.5178 ...          BXU     0     1\n",
       "243310933311518  80871 0.47.1.dev6182    0.1887 ...          BXU     0     1\n",
       "243304893513751  80871 0.47.1.dev6182    1.6283 ...          BXU     0     1\n",
       "243316973109325  80871 0.47.1.dev6182    2.9302 ...          BXU     0     1\n",
       "243323017101380  80871 0.47.1.dev6182    0.4883 ...          BXU     0     1\n",
       "243323021295803  80871 0.47.1.dev6182    0.2958 ...          BXU     0     1\n",
       "243316977303667  80871 0.47.1.dev6182    2.8048 ...          BXU     0     1\n",
       "            ...    ...            ...       ... ...          ...   ...   ...\n",
       "234563141894161  80871 0.47.1.dev6182    3.6722 ...          TMG     4     1\n",
       "234563137699840  80871 0.47.1.dev6182    1.7782 ...          TMG     4     1\n",
       "234557102096385  80871 0.47.1.dev6182    3.0676 ...          TMG     4     1\n",
       "234563141894147  80871 0.47.1.dev6182    0.1071 ...          TMG     4     1\n",
       "234563141894146  80871 0.47.1.dev6182    2.3997 ...          TMG     4     1\n",
       "234569181691905  80871 0.47.1.dev6182    1.0132 ...          TMG     4     1\n",
       "234569181691904  80871 0.47.1.dev6182    2.3839 ...          TMG     4     1\n",
       "234551070687232  80871 0.47.1.dev6182    0.5058 ...          TMG     4     1\n",
       "234563150282754  80871 0.47.1.dev6182    3.2297 ...          TMG     4     1\n",
       "234545039278082  80871 0.47.1.dev6182    2.5181 ...          TMG     4     1"
      ]
     },
     "execution_count": 9,
     "metadata": {},
     "output_type": "execute_result"
    }
   ],
   "source": [
    "desilbg_gold = vis[vis['VI_QUALITY'] >= 3]\n",
    "desilbg_gold"
   ]
  },
  {
   "cell_type": "code",
   "execution_count": 10,
   "id": "15d0b8d5-ce68-4d4f-b1db-a95d4cff4303",
   "metadata": {},
   "outputs": [
    {
     "data": {
      "text/plain": [
       "Text(0.5, 0, '$z$')"
      ]
     },
     "execution_count": 10,
     "metadata": {},
     "output_type": "execute_result"
    },
    {
     "data": {
      "image/png": "[encoded data removed]",
      "text/plain": [
       "<Figure size 432x288 with 1 Axes>"
      ]
     },
     "metadata": {
      "needs_background": "light"
     },
     "output_type": "display_data"
    }
   ],
   "source": [
    "_ = pl.hist(desilbg_gold['VI_Z'], histtype='step', bins=np.arange(0.0, 5.0, 0.05))\n",
    "\n",
    "pl.xlabel('$z$')"
   ]
  },
  {
   "cell_type": "code",
   "execution_count": 11,
   "id": "48b0d1d0-a2a0-48da-a1ac-680a47ad0500",
   "metadata": {},
   "outputs": [
    {
     "data": {
      "text/plain": [
       "(array(['BXU', 'G', 'TMG'], dtype='<U3'), array([194,  43,  84]))"
      ]
     },
     "execution_count": 11,
     "metadata": {},
     "output_type": "execute_result"
    }
   ],
   "source": [
    "np.unique(desilbg_gold['DESILBG_TYPE'].data, return_counts=True)"
   ]
  },
  {
   "cell_type": "code",
   "execution_count": 12,
   "id": "2a5b5b8d-97fb-42dd-a42d-8079ece97736",
   "metadata": {},
   "outputs": [],
   "source": [
    "tpaths = ['/global/cfs/cdirs/desi/users/mjwilson/DESILBG/GOLD/DESILBG_BXU/desilbg_bxu.fits',\\\n",
    "          '/global/cfs/cdirs/desi/users/mjwilson/DESILBG/GOLD/DESILBG_G/desilbg_g.fits',\\\n",
    "          '/global/cfs/cdirs/desi/users/mjwilson/DESILBG/GOLD/DESILBG_TMG/desilbg_tmg.fits']"
   ]
  },
  {
   "cell_type": "code",
   "execution_count": 13,
   "id": "5a1f09c2-04cb-4eda-ba34-eb1615900cd6",
   "metadata": {},
   "outputs": [
    {
     "data": {
      "text/html": [
       "<div><i>Table length=43452</i>\n",
       "<table id=\"table46913403643936\" class=\"table-striped table-bordered table-condensed\">\n",
       "<thead><tr><th>ID</th><th>RA</th><th>DEC</th><th>MASK</th><th>FLAG_FIELD</th><th>FLAG_FIELD_BINARY [7]</th><th>EB_V</th><th>U</th><th>US</th><th>G</th><th>R</th><th>I</th><th>Z</th><th>Y</th><th>YV</th><th>J</th><th>H</th><th>KS</th><th>U_ERR</th><th>US_ERR</th><th>G_ERR</th><th>R_ERR</th><th>I_ERR</th><th>Z_ERR</th><th>Y_ERR</th><th>YV_ERR</th><th>J_ERR</th><th>H_ERR</th><th>KS_ERR</th><th>Z_BC03</th><th>Z_SPEC</th><th>IDX</th><th>DESILBG_TYPE</th><th>SCND_ORDER</th></tr></thead>\n",
       "<thead><tr><th>int64</th><th>float64</th><th>float64</th><th>int16</th><th>int16</th><th>bool</th><th>float64</th><th>float64</th><th>float64</th><th>float64</th><th>float64</th><th>float64</th><th>float64</th><th>float64</th><th>float64</th><th>float64</th><th>float64</th><th>float64</th><th>float64</th><th>float64</th><th>float64</th><th>float64</th><th>float64</th><th>float64</th><th>float64</th><th>float64</th><th>float64</th><th>float64</th><th>float64</th><th>float64</th><th>float64</th><th>int64</th><th>str3</th><th>int64</th></tr></thead>\n",
       "<tr><td>8419</td><td>149.4617628929257</td><td>2.9903850477809484</td><td>0</td><td>7</td><td>True .. False</td><td>0.020243416666075105</td><td>23.675</td><td>23.65</td><td>22.892</td><td>22.691</td><td>22.622</td><td>22.578</td><td>22.511</td><td>-99.024</td><td>-99.018</td><td>-99.011</td><td>-99.007</td><td>0.021</td><td>0.034</td><td>0.01</td><td>0.012</td><td>0.015</td><td>0.023</td><td>0.053</td><td>1000.0</td><td>1000.0</td><td>1000.0</td><td>1000.0</td><td>2.4898</td><td>-99.0</td><td>1</td><td>BXU</td><td>0</td></tr>\n",
       "<tr><td>88187</td><td>149.37526777692952</td><td>2.9556887260343148</td><td>0</td><td>7</td><td>True .. False</td><td>0.019585939259879757</td><td>-99.094</td><td>24.677</td><td>23.381</td><td>22.545</td><td>22.342</td><td>22.054</td><td>21.399</td><td>-99.024</td><td>-99.017</td><td>-99.011</td><td>-99.007</td><td>-99.0</td><td>0.696</td><td>0.145</td><td>0.09</td><td>0.097</td><td>0.119</td><td>0.155</td><td>1000.0</td><td>1000.0</td><td>1000.0</td><td>1000.0</td><td>0.2746</td><td>-99.0</td><td>1</td><td>BXU</td><td>1</td></tr>\n",
       "<tr><td>100735</td><td>149.37250768438415</td><td>3.080247775303863</td><td>0</td><td>7</td><td>True .. False</td><td>0.02390167866876377</td><td>27.69</td><td>26.458</td><td>23.672</td><td>22.514</td><td>22.389</td><td>22.151</td><td>22.334</td><td>-99.029</td><td>-99.021</td><td>-99.013</td><td>-99.009</td><td>0.318</td><td>0.214</td><td>0.009</td><td>0.004</td><td>0.005</td><td>0.006</td><td>0.016</td><td>1000.0</td><td>1000.0</td><td>1000.0</td><td>1000.0</td><td>3.7247</td><td>-99.0</td><td>1</td><td>BXU</td><td>2</td></tr>\n",
       "<tr><td>106891</td><td>149.26462324656055</td><td>3.138785382887629</td><td>0</td><td>7</td><td>True .. False</td><td>0.024554265238280946</td><td>28.77</td><td>26.622</td><td>23.672</td><td>22.684</td><td>22.54</td><td>22.395</td><td>22.341</td><td>-99.03</td><td>-99.021</td><td>-99.014</td><td>-99.009</td><td>1.004</td><td>0.583</td><td>0.011</td><td>0.006</td><td>0.007</td><td>0.009</td><td>0.021</td><td>1000.0</td><td>1000.0</td><td>1000.0</td><td>1000.0</td><td>3.3393</td><td>-99.0</td><td>1</td><td>BXU</td><td>3</td></tr>\n",
       "<tr><td>111902</td><td>149.40201064798677</td><td>3.188692373436244</td><td>0</td><td>7</td><td>True .. False</td><td>0.026667250492997518</td><td>-99.128</td><td>-99.125</td><td>23.675</td><td>22.707</td><td>22.365</td><td>22.301</td><td>22.276</td><td>-99.032</td><td>-99.023</td><td>-99.015</td><td>-99.01</td><td>-99.0</td><td>-99.0</td><td>0.008</td><td>0.005</td><td>0.004</td><td>0.007</td><td>0.016</td><td>1000.0</td><td>1000.0</td><td>1000.0</td><td>1000.0</td><td>0.2653</td><td>-99.0</td><td>1</td><td>BXU</td><td>4</td></tr>\n",
       "<tr><td>179692</td><td>149.2142386139038</td><td>3.035434124404831</td><td>0</td><td>7</td><td>True .. False</td><td>0.02206308294569944</td><td>25.033</td><td>24.987</td><td>23.222</td><td>22.746</td><td>22.615</td><td>22.398</td><td>22.207</td><td>-99.027</td><td>-99.019</td><td>-99.012</td><td>-99.008</td><td>0.034</td><td>0.061</td><td>0.007</td><td>0.006</td><td>0.006</td><td>0.008</td><td>0.017</td><td>1000.0</td><td>1000.0</td><td>1000.0</td><td>1000.0</td><td>2.8799</td><td>-99.0</td><td>1</td><td>BXU</td><td>5</td></tr>\n",
       "<tr><td>187353</td><td>149.21004001927372</td><td>3.1048311728256377</td><td>0</td><td>7</td><td>True .. False</td><td>0.023687506772805567</td><td>24.17</td><td>24.214</td><td>22.832</td><td>22.504</td><td>22.51</td><td>22.28</td><td>22.091</td><td>-99.029</td><td>-99.021</td><td>-99.013</td><td>-99.009</td><td>0.014</td><td>0.058</td><td>0.004</td><td>0.004</td><td>0.006</td><td>0.007</td><td>0.015</td><td>1000.0</td><td>1000.0</td><td>1000.0</td><td>1000.0</td><td>2.6679</td><td>-99.0</td><td>1</td><td>BXU</td><td>6</td></tr>\n",
       "<tr><td>207591</td><td>149.06917248324245</td><td>3.295965274880494</td><td>0</td><td>7</td><td>True .. False</td><td>0.02155887279464575</td><td>27.146</td><td>24.478</td><td>23.815</td><td>22.621</td><td>21.967</td><td>21.487</td><td>20.579</td><td>-99.026</td><td>-99.019</td><td>-99.012</td><td>-99.008</td><td>2.205</td><td>0.374</td><td>0.132</td><td>0.05</td><td>0.044</td><td>0.044</td><td>0.04</td><td>1000.0</td><td>1000.0</td><td>1000.0</td><td>1000.0</td><td>1.4065</td><td>-99.0</td><td>1</td><td>BXU</td><td>7</td></tr>\n",
       "<tr><td>281969</td><td>148.94066654619888</td><td>3.1817781279042285</td><td>0</td><td>3</td><td>True .. False</td><td>0.018371882773363733</td><td>23.009</td><td>-99.086</td><td>22.54</td><td>22.548</td><td>22.222</td><td>22.094</td><td>22.229</td><td>-99.022</td><td>-99.016</td><td>-99.01</td><td>-99.007</td><td>0.005</td><td>1000.0</td><td>0.004</td><td>0.005</td><td>0.005</td><td>0.007</td><td>0.019</td><td>1000.0</td><td>1000.0</td><td>1000.0</td><td>1000.0</td><td>2.0169</td><td>-99.0</td><td>1</td><td>BXU</td><td>8</td></tr>\n",
       "<tr><td>446575</td><td>151.00575262947734</td><td>2.99755764912408</td><td>0</td><td>3</td><td>True .. False</td><td>0.020093598618545795</td><td>24.706</td><td>-99.094</td><td>23.042</td><td>22.603</td><td>22.435</td><td>22.323</td><td>22.339</td><td>-99.024</td><td>-99.018</td><td>-99.011</td><td>-99.007</td><td>0.021</td><td>-99.0</td><td>0.006</td><td>0.006</td><td>0.006</td><td>0.008</td><td>0.02</td><td>1000.0</td><td>1000.0</td><td>1000.0</td><td>1000.0</td><td>2.8128</td><td>-99.0</td><td>1</td><td>BXU</td><td>9</td></tr>\n",
       "<tr><td>...</td><td>...</td><td>...</td><td>...</td><td>...</td><td>...</td><td>...</td><td>...</td><td>...</td><td>...</td><td>...</td><td>...</td><td>...</td><td>...</td><td>...</td><td>...</td><td>...</td><td>...</td><td>...</td><td>...</td><td>...</td><td>...</td><td>...</td><td>...</td><td>...</td><td>...</td><td>...</td><td>...</td><td>...</td><td>...</td><td>...</td><td>...</td><td>...</td><td>...</td></tr>\n",
       "<tr><td>443081</td><td>151.03990067547846</td><td>2.9558401899441287</td><td>0</td><td>3</td><td>True .. False</td><td>0.02155156402000159</td><td>25.62</td><td>-99.101</td><td>24.181</td><td>23.748</td><td>23.663</td><td>23.59</td><td>23.764</td><td>-99.026</td><td>-99.019</td><td>-99.012</td><td>-99.008</td><td>0.061</td><td>-99.0</td><td>0.018</td><td>0.018</td><td>0.022</td><td>0.033</td><td>0.09</td><td>1000.0</td><td>1000.0</td><td>1000.0</td><td>1000.0</td><td>2.8605</td><td>-99.0</td><td>-99</td><td>TMG</td><td>1973</td></tr>\n",
       "<tr><td>2831056</td><td>149.571177348105</td><td>2.234056343820018</td><td>0</td><td>95</td><td>True .. True</td><td>0.016218773617011444</td><td>24.256</td><td>23.945</td><td>23.803</td><td>23.748</td><td>23.766</td><td>23.761</td><td>23.74</td><td>23.981</td><td>23.497</td><td>22.966</td><td>22.963</td><td>0.012</td><td>0.01</td><td>0.007</td><td>0.007</td><td>0.009</td><td>0.014</td><td>0.026</td><td>0.059</td><td>0.047</td><td>0.037</td><td>0.061</td><td>2.3075</td><td>-99.0</td><td>-99</td><td>TMG</td><td>1974</td></tr>\n",
       "<tr><td>3764227</td><td>150.84617318666275</td><td>2.6704758148029546</td><td>0</td><td>7</td><td>True .. False</td><td>0.01810195785291441</td><td>26.488</td><td>25.935</td><td>24.351</td><td>23.748</td><td>23.594</td><td>23.532</td><td>23.412</td><td>19.384</td><td>-99.016</td><td>26.826</td><td>20.444</td><td>0.112</td><td>0.093</td><td>0.014</td><td>0.012</td><td>0.012</td><td>0.019</td><td>0.034</td><td>0.0</td><td>-99.0</td><td>1000.0</td><td>0.0</td><td>2.9436</td><td>-99.0</td><td>-99</td><td>TMG</td><td>1975</td></tr>\n",
       "<tr><td>2607018</td><td>150.67603583097502</td><td>1.223814899576953</td><td>0</td><td>7</td><td>True .. False</td><td>0.02168071762822248</td><td>25.382</td><td>25.07</td><td>24.122</td><td>23.748</td><td>23.611</td><td>23.475</td><td>23.522</td><td>-99.026</td><td>-99.019</td><td>-99.012</td><td>-99.008</td><td>0.043</td><td>0.093</td><td>0.012</td><td>0.014</td><td>0.015</td><td>0.022</td><td>0.058</td><td>1000.0</td><td>1000.0</td><td>1000.0</td><td>1000.0</td><td>2.6813</td><td>-99.0</td><td>-99</td><td>TMG</td><td>1976</td></tr>\n",
       "<tr><td>2597271</td><td>150.77677208541124</td><td>1.1302345050889475</td><td>0</td><td>7</td><td>True .. False</td><td>0.02169023060255149</td><td>24.691</td><td>24.528</td><td>23.909</td><td>23.748</td><td>23.654</td><td>23.46</td><td>23.593</td><td>-99.026</td><td>-99.019</td><td>-99.012</td><td>-99.008</td><td>0.021</td><td>0.066</td><td>0.013</td><td>0.016</td><td>0.019</td><td>0.024</td><td>0.067</td><td>1000.0</td><td>1000.0</td><td>1000.0</td><td>1000.0</td><td>2.3189</td><td>-99.0</td><td>-99</td><td>TMG</td><td>1977</td></tr>\n",
       "<tr><td>3811575</td><td>150.5750009465617</td><td>1.7608052894067725</td><td>0</td><td>103</td><td>True .. True</td><td>0.01763427156484464</td><td>25.066</td><td>24.81</td><td>24.043</td><td>23.749</td><td>23.592</td><td>23.491</td><td>23.287</td><td>23.35</td><td>23.029</td><td>22.789</td><td>23.256</td><td>0.044</td><td>0.037</td><td>0.019</td><td>0.018</td><td>0.018</td><td>0.027</td><td>0.043</td><td>0.205</td><td>0.223</td><td>0.215</td><td>0.55</td><td>0.0558</td><td>-99.0</td><td>-99</td><td>TMG</td><td>1978</td></tr>\n",
       "<tr><td>1039967</td><td>149.61829712796515</td><td>3.2857563627503144</td><td>0</td><td>7</td><td>True .. False</td><td>0.02389379601809737</td><td>25.057</td><td>24.296</td><td>24.009</td><td>23.749</td><td>23.674</td><td>23.916</td><td>24.098</td><td>-99.029</td><td>-99.021</td><td>-99.013</td><td>-99.009</td><td>0.115</td><td>0.15</td><td>0.055</td><td>0.055</td><td>0.069</td><td>0.132</td><td>0.375</td><td>1000.0</td><td>1000.0</td><td>1000.0</td><td>1000.0</td><td>2.7459</td><td>-99.0</td><td>-99</td><td>TMG</td><td>1979</td></tr>\n",
       "<tr><td>4536688</td><td>149.94662016238112</td><td>1.80750540693998</td><td>0</td><td>127</td><td>True .. True</td><td>0.01822104673869496</td><td>24.646</td><td>24.541</td><td>23.864</td><td>23.749</td><td>23.783</td><td>23.797</td><td>23.876</td><td>24.052</td><td>24.02</td><td>24.391</td><td>-99.007</td><td>0.014</td><td>0.014</td><td>0.007</td><td>0.008</td><td>0.009</td><td>0.014</td><td>0.03</td><td>0.058</td><td>0.068</td><td>0.121</td><td>-99.0</td><td>2.7182</td><td>-99.0</td><td>-99</td><td>TMG</td><td>1980</td></tr>\n",
       "<tr><td>4054994</td><td>150.35130210186557</td><td>2.2601207243517094</td><td>0</td><td>127</td><td>True .. True</td><td>0.014116760231009872</td><td>28.386</td><td>26.987</td><td>24.597</td><td>23.749</td><td>23.579</td><td>23.506</td><td>23.579</td><td>23.5</td><td>23.618</td><td>23.093</td><td>22.83</td><td>0.605</td><td>0.128</td><td>0.014</td><td>0.008</td><td>0.008</td><td>0.012</td><td>0.025</td><td>0.038</td><td>0.052</td><td>0.042</td><td>0.051</td><td>3.2692</td><td>-99.0</td><td>-99</td><td>TMG</td><td>1981</td></tr>\n",
       "<tr><td>5261954</td><td>151.07320083545497</td><td>2.9464090862278853</td><td>0</td><td>3</td><td>True .. False</td><td>0.02219256846682396</td><td>24.934</td><td>-99.104</td><td>23.992</td><td>23.749</td><td>23.586</td><td>23.358</td><td>23.333</td><td>-99.027</td><td>-99.019</td><td>-99.012</td><td>-99.008</td><td>0.024</td><td>-99.0</td><td>0.011</td><td>0.014</td><td>0.015</td><td>0.018</td><td>0.044</td><td>1000.0</td><td>1000.0</td><td>1000.0</td><td>1000.0</td><td>2.3221</td><td>-99.0</td><td>-99</td><td>TMG</td><td>1982</td></tr>\n",
       "</table></div>"
      ],
      "text/plain": [
       "<Table length=43452>\n",
       "   ID           RA                DEC         ...  IDX  DESILBG_TYPE SCND_ORDER\n",
       " int64       float64            float64       ... int64     str3       int64   \n",
       "------- ------------------ ------------------ ... ----- ------------ ----------\n",
       "   8419  149.4617628929257 2.9903850477809484 ...     1          BXU          0\n",
       "  88187 149.37526777692952 2.9556887260343148 ...     1          BXU          1\n",
       " 100735 149.37250768438415  3.080247775303863 ...     1          BXU          2\n",
       " 106891 149.26462324656055  3.138785382887629 ...     1          BXU          3\n",
       " 111902 149.40201064798677  3.188692373436244 ...     1          BXU          4\n",
       " 179692  149.2142386139038  3.035434124404831 ...     1          BXU          5\n",
       " 187353 149.21004001927372 3.1048311728256377 ...     1          BXU          6\n",
       " 207591 149.06917248324245  3.295965274880494 ...     1          BXU          7\n",
       " 281969 148.94066654619888 3.1817781279042285 ...     1          BXU          8\n",
       " 446575 151.00575262947734   2.99755764912408 ...     1          BXU          9\n",
       "    ...                ...                ... ...   ...          ...        ...\n",
       " 443081 151.03990067547846 2.9558401899441287 ...   -99          TMG       1973\n",
       "2831056   149.571177348105  2.234056343820018 ...   -99          TMG       1974\n",
       "3764227 150.84617318666275 2.6704758148029546 ...   -99          TMG       1975\n",
       "2607018 150.67603583097502  1.223814899576953 ...   -99          TMG       1976\n",
       "2597271 150.77677208541124 1.1302345050889475 ...   -99          TMG       1977\n",
       "3811575  150.5750009465617 1.7608052894067725 ...   -99          TMG       1978\n",
       "1039967 149.61829712796515 3.2857563627503144 ...   -99          TMG       1979\n",
       "4536688 149.94662016238112   1.80750540693998 ...   -99          TMG       1980\n",
       "4054994 150.35130210186557 2.2601207243517094 ...   -99          TMG       1981\n",
       "5261954 151.07320083545497 2.9464090862278853 ...   -99          TMG       1982"
      ]
     },
     "execution_count": 13,
     "metadata": {},
     "output_type": "execute_result"
    }
   ],
   "source": [
    "targets = []\n",
    "\n",
    "for tpath in tpaths:\n",
    "    tab = Table.read(tpath)\n",
    "    \n",
    "    tt  = tpath.split('_')[-1].replace('.fits', '') \n",
    "\n",
    "    tab['DESILBG_TYPE'] = tt.upper()\n",
    "    tab['SCND_ORDER']   = np.arange(len(tab))\n",
    "    \n",
    "    for name in tab.dtype.names:\n",
    "        tab.rename_column(name, name.upper())\n",
    "    \n",
    "    targets.append(tab)\n",
    "    \n",
    "targets = vstack(targets)\n",
    "targets"
   ]
  },
  {
   "cell_type": "code",
   "execution_count": 14,
   "id": "fea92205-d6e7-4807-9571-629c220c6048",
   "metadata": {},
   "outputs": [],
   "source": [
    "scnd = Table.read('/global/cfs/cdirs/desi/survey/fiberassign/SV1/20210314/080871-scnd.fits')\n",
    "targ = Table.read('/global/cfs/cdirs/desi/survey/fiberassign/SV1/20210314/080871-targ.fits')"
   ]
  },
  {
   "cell_type": "code",
   "execution_count": 15,
   "id": "4e15f474-1ecb-43f1-bbd6-8a984a5a4fe9",
   "metadata": {},
   "outputs": [
    {
     "data": {
      "text/plain": [
       "['BACKUP_CALIB',\n",
       " 'BHB',\n",
       " 'BRIGHT_HPM',\n",
       " 'BRIGHT_TOO',\n",
       " 'DARK_TOO',\n",
       " 'DC3R2_GAMA',\n",
       " 'DESILBG_BXU_FINAL',\n",
       " 'DESILBG_G_FINAL',\n",
       " 'DESILBG_TMG_FINAL',\n",
       " 'FAINT_HPM',\n",
       " 'FIRST_MALS',\n",
       " 'GAL_CLUS_2ND',\n",
       " 'GAL_CLUS_BCG',\n",
       " 'GAL_CLUS_SAT',\n",
       " 'HETDEX_HP',\n",
       " 'HETDEX_MAIN',\n",
       " 'HPM_SOUM',\n",
       " 'HSC_HIZ_SNE',\n",
       " 'ISM_CGM_QGP',\n",
       " 'LBG_TOMOG_COSMOS_FINAL',\n",
       " 'LBG_TOMOG_W3',\n",
       " 'LBG_TOMOG_XMM',\n",
       " 'LOW_MASS_AGN',\n",
       " 'LOW_Z',\n",
       " 'M31_KNOWN',\n",
       " 'M31_QSO',\n",
       " 'M31_STAR',\n",
       " 'MWS_CALIB',\n",
       " 'MWS_CLUS_GAL_DEEP',\n",
       " 'MWS_MAIN_CLUSTER_SV',\n",
       " 'MWS_RRLYR',\n",
       " 'PSF_OUT_BRIGHT',\n",
       " 'PSF_OUT_DARK',\n",
       " 'PV_BRIGHT',\n",
       " 'PV_DARK',\n",
       " 'QSO_RED',\n",
       " 'SN_HOSTS',\n",
       " 'SPCV',\n",
       " 'STRONG_LENS',\n",
       " 'UDG',\n",
       " 'UNWISE_BLUE',\n",
       " 'UNWISE_BLUE_BRIGHT_II',\n",
       " 'UNWISE_BLUE_FAINT_II',\n",
       " 'UNWISE_GREEN',\n",
       " 'UNWISE_GREEN_II_3700',\n",
       " 'UNWISE_GREEN_II_3800',\n",
       " 'UNWISE_GREEN_II_3900',\n",
       " 'UNWISE_GREEN_II_4000',\n",
       " 'VETO',\n",
       " 'WD_BINARIES_BRIGHT',\n",
       " 'WD_BINARIES_DARK',\n",
       " 'WISE_VAR_QSO']"
      ]
     },
     "execution_count": 15,
     "metadata": {},
     "output_type": "execute_result"
    }
   ],
   "source": [
    "sorted(scnd_mask.names())"
   ]
  },
  {
   "cell_type": "code",
   "execution_count": 16,
   "id": "24a3a643-3e83-4672-afb9-9e85fcc02bb8",
   "metadata": {},
   "outputs": [
    {
     "data": {
      "text/plain": [
       "['DEC',\n",
       " 'FLUX_G',\n",
       " 'FLUX_R',\n",
       " 'FLUX_Z',\n",
       " 'GAIA_ASTROMETRIC_EXCESS_NOISE',\n",
       " 'GAIA_PHOT_BP_MEAN_MAG',\n",
       " 'GAIA_PHOT_G_MEAN_MAG',\n",
       " 'GAIA_PHOT_RP_MEAN_MAG',\n",
       " 'NUMOBS',\n",
       " 'NUMOBS_INIT',\n",
       " 'NUMOBS_MORE',\n",
       " 'OBSCONDITIONS',\n",
       " 'OVERRIDE',\n",
       " 'PARALLAX',\n",
       " 'PMDEC',\n",
       " 'PMRA',\n",
       " 'PRIORITY',\n",
       " 'PRIORITY_INIT',\n",
       " 'RA',\n",
       " 'REF_EPOCH',\n",
       " 'SCND_ORDER',\n",
       " 'SUBPRIORITY',\n",
       " 'SV1_DESI_TARGET',\n",
       " 'SV1_SCND_TARGET',\n",
       " 'TARGETID',\n",
       " 'TARGET_STATE',\n",
       " 'TIMESTAMP',\n",
       " 'VERSION',\n",
       " 'Z',\n",
       " 'ZWARN']"
      ]
     },
     "execution_count": 16,
     "metadata": {},
     "output_type": "execute_result"
    }
   ],
   "source": [
    "sorted(scnd.dtype.names)"
   ]
  },
  {
   "cell_type": "code",
   "execution_count": 17,
   "id": "5d339a7b-6161-4be7-892f-cd7291d04d85",
   "metadata": {},
   "outputs": [
    {
     "data": {
      "text/plain": [
       "12103"
      ]
     },
     "execution_count": 17,
     "metadata": {},
     "output_type": "execute_result"
    }
   ],
   "source": [
    "np.count_nonzero((scnd['SV1_SCND_TARGET'] & scnd_mask['DESILBG_BXU_FINAL']) != 0)"
   ]
  },
  {
   "cell_type": "code",
   "execution_count": 18,
   "id": "ac4baaad-47ac-46a8-ad82-cfd1bd7be7fc",
   "metadata": {},
   "outputs": [
    {
     "data": {
      "text/html": [
       "<div><i>Table length=12103</i>\n",
       "<table id=\"table46912688857040\" class=\"table-striped table-bordered table-condensed\">\n",
       "<thead><tr><th>RA</th><th>DEC</th><th>PMRA</th><th>PMDEC</th><th>REF_EPOCH</th><th>OVERRIDE</th><th>FLUX_G</th><th>FLUX_R</th><th>FLUX_Z</th><th>PARALLAX</th><th>GAIA_PHOT_G_MEAN_MAG</th><th>GAIA_PHOT_BP_MEAN_MAG</th><th>GAIA_PHOT_RP_MEAN_MAG</th><th>GAIA_ASTROMETRIC_EXCESS_NOISE</th><th>TARGETID</th><th>SV1_DESI_TARGET</th><th>SV1_SCND_TARGET</th><th>SCND_ORDER</th><th>SUBPRIORITY</th><th>OBSCONDITIONS</th><th>PRIORITY_INIT</th><th>NUMOBS_INIT</th><th>NUMOBS_MORE</th><th>NUMOBS</th><th>Z</th><th>ZWARN</th><th>TARGET_STATE</th><th>TIMESTAMP</th><th>VERSION</th><th>PRIORITY</th></tr></thead>\n",
       "<thead><tr><th>deg</th><th>deg</th><th>mas / yr</th><th>mas / yr</th><th>yr</th><th></th><th>nanomaggy</th><th>nanomaggy</th><th>nanomaggy</th><th>mas</th><th>mag</th><th>mag</th><th>mag</th><th></th><th></th><th></th><th></th><th></th><th></th><th></th><th></th><th></th><th></th><th></th><th></th><th></th><th></th><th>s</th><th></th><th></th></tr></thead>\n",
       "<thead><tr><th>float64</th><th>float64</th><th>float32</th><th>float32</th><th>float32</th><th>bool</th><th>float32</th><th>float32</th><th>float32</th><th>float32</th><th>float32</th><th>float32</th><th>float32</th><th>float32</th><th>int64</th><th>int64</th><th>int64</th><th>int32</th><th>float64</th><th>int32</th><th>int64</th><th>int64</th><th>int64</th><th>int64</th><th>float64</th><th>int64</th><th>bytes15</th><th>bytes19</th><th>bytes14</th><th>int64</th></tr></thead>\n",
       "<tr><td>149.4617628929257</td><td>2.9903850477809484</td><td>0.0</td><td>0.0</td><td>2021.2006</td><td>True</td><td>0.0</td><td>0.0</td><td>0.0</td><td>0.0</td><td>0.0</td><td>0.0</td><td>0.0</td><td>0.0</td><td>243353203507200</td><td>4611686018427387904</td><td>36028797018963968</td><td>0</td><td>1.0</td><td>1</td><td>3800</td><td>1</td><td>1</td><td>0</td><td>0.0</td><td>0</td><td>UNOBS</td><td>2021-03-15T01:31:44</td><td>2.1.1.dev2706</td><td>3800</td></tr>\n",
       "<tr><td>149.37526777692952</td><td>2.9556887260343148</td><td>0.0</td><td>0.0</td><td>2021.2006</td><td>True</td><td>0.0</td><td>0.0</td><td>0.0</td><td>0.0</td><td>0.0</td><td>0.0</td><td>0.0</td><td>0.0</td><td>243353203507201</td><td>4611686018427387904</td><td>36028797018963968</td><td>1</td><td>0.9999174031551995</td><td>1</td><td>3800</td><td>1</td><td>1</td><td>0</td><td>0.0</td><td>0</td><td>UNOBS</td><td>2021-03-15T01:31:44</td><td>2.1.1.dev2706</td><td>3800</td></tr>\n",
       "<tr><td>149.37250768438415</td><td>3.080247775303863</td><td>0.0</td><td>0.0</td><td>2021.2006</td><td>True</td><td>0.0</td><td>0.0</td><td>0.0</td><td>0.0</td><td>0.0</td><td>0.0</td><td>0.0</td><td>0.0</td><td>243353203507202</td><td>4611686018427387904</td><td>36028797018963968</td><td>2</td><td>0.9998348063103989</td><td>1</td><td>3800</td><td>1</td><td>1</td><td>0</td><td>0.0</td><td>0</td><td>UNOBS</td><td>2021-03-15T01:31:44</td><td>2.1.1.dev2706</td><td>3800</td></tr>\n",
       "<tr><td>149.26462324656055</td><td>3.138785382887629</td><td>0.0</td><td>0.0</td><td>2021.2006</td><td>True</td><td>0.0</td><td>0.0</td><td>0.0</td><td>0.0</td><td>0.0</td><td>0.0</td><td>0.0</td><td>0.0</td><td>243359239110656</td><td>4611686018427387904</td><td>36028797018963968</td><td>3</td><td>0.9997522094655984</td><td>1</td><td>3800</td><td>1</td><td>1</td><td>0</td><td>0.0</td><td>0</td><td>UNOBS</td><td>2021-03-15T01:31:44</td><td>2.1.1.dev2706</td><td>3800</td></tr>\n",
       "<tr><td>149.40201064798677</td><td>3.188692373436244</td><td>0.0</td><td>0.0</td><td>2021.2006</td><td>True</td><td>0.0</td><td>0.0</td><td>0.0</td><td>0.0</td><td>0.0</td><td>0.0</td><td>0.0</td><td>0.0</td><td>243359239110657</td><td>4611686018427387904</td><td>36028797018963968</td><td>4</td><td>0.9996696126207979</td><td>1</td><td>3800</td><td>1</td><td>1</td><td>0</td><td>0.0</td><td>0</td><td>UNOBS</td><td>2021-03-15T01:31:44</td><td>2.1.1.dev2706</td><td>3800</td></tr>\n",
       "<tr><td>149.2142386139038</td><td>3.035434124404831</td><td>0.0</td><td>0.0</td><td>2021.2006</td><td>True</td><td>0.0</td><td>0.0</td><td>0.0</td><td>0.0</td><td>0.0</td><td>0.0</td><td>0.0</td><td>0.0</td><td>243353199312896</td><td>4611686018427387904</td><td>36028797018963968</td><td>5</td><td>0.9995870157759974</td><td>1</td><td>3800</td><td>1</td><td>1</td><td>0</td><td>0.0</td><td>0</td><td>UNOBS</td><td>2021-03-15T01:31:44</td><td>2.1.1.dev2706</td><td>3800</td></tr>\n",
       "<tr><td>149.21004001927372</td><td>3.1048311728256377</td><td>0.0</td><td>0.0</td><td>2021.2006</td><td>True</td><td>0.0</td><td>0.0</td><td>0.0</td><td>0.0</td><td>0.0</td><td>0.0</td><td>0.0</td><td>0.0</td><td>243353199312897</td><td>4611686018427387904</td><td>36028797018963968</td><td>6</td><td>0.9995044189311968</td><td>1</td><td>3800</td><td>1</td><td>1</td><td>0</td><td>0.0</td><td>0</td><td>UNOBS</td><td>2021-03-15T01:31:44</td><td>2.1.1.dev2706</td><td>3800</td></tr>\n",
       "<tr><td>149.06917248324245</td><td>3.295965274880494</td><td>0.0</td><td>0.0</td><td>2021.2006</td><td>True</td><td>0.0</td><td>0.0</td><td>0.0</td><td>0.0</td><td>0.0</td><td>0.0</td><td>0.0</td><td>0.0</td><td>243359234916352</td><td>4611686018427387904</td><td>36028797018963968</td><td>7</td><td>0.9994218220863963</td><td>1</td><td>3800</td><td>1</td><td>1</td><td>0</td><td>0.0</td><td>0</td><td>UNOBS</td><td>2021-03-15T01:31:44</td><td>2.1.1.dev2706</td><td>3800</td></tr>\n",
       "<tr><td>148.94066654619888</td><td>3.1817781279042285</td><td>0.0</td><td>0.0</td><td>2021.2006</td><td>True</td><td>0.0</td><td>0.0</td><td>0.0</td><td>0.0</td><td>0.0</td><td>0.0</td><td>0.0</td><td>0.0</td><td>243359230722048</td><td>4611686018427387904</td><td>36028797018963968</td><td>8</td><td>0.9993392252415958</td><td>1</td><td>3800</td><td>1</td><td>1</td><td>0</td><td>0.0</td><td>0</td><td>UNOBS</td><td>2021-03-15T01:31:44</td><td>2.1.1.dev2706</td><td>3800</td></tr>\n",
       "<tr><td>...</td><td>...</td><td>...</td><td>...</td><td>...</td><td>...</td><td>...</td><td>...</td><td>...</td><td>...</td><td>...</td><td>...</td><td>...</td><td>...</td><td>...</td><td>...</td><td>...</td><td>...</td><td>...</td><td>...</td><td>...</td><td>...</td><td>...</td><td>...</td><td>...</td><td>...</td><td>...</td><td>...</td><td>...</td><td>...</td></tr>\n",
       "<tr><td>150.90979211728876</td><td>1.4224543365048643</td><td>0.0</td><td>0.0</td><td>2021.2006</td><td>True</td><td>0.0</td><td>0.0</td><td>0.0</td><td>0.0</td><td>0.0</td><td>0.0</td><td>0.0</td><td>0.0</td><td>243316989886716</td><td>4611686018427387904</td><td>36028797018963968</td><td>12098</td><td>0.0007433716032048121</td><td>1</td><td>3800</td><td>1</td><td>1</td><td>0</td><td>0.0</td><td>0</td><td>UNOBS</td><td>2021-03-15T01:31:44</td><td>2.1.1.dev2706</td><td>3800</td></tr>\n",
       "<tr><td>150.9128235703681</td><td>1.4424115007187652</td><td>0.0</td><td>0.0</td><td>2021.2006</td><td>True</td><td>0.0</td><td>0.0</td><td>0.0</td><td>0.0</td><td>0.0</td><td>0.0</td><td>0.0</td><td>0.0</td><td>243316989886717</td><td>4611686018427387904</td><td>36028797018963968</td><td>12099</td><td>0.0006607747584042034</td><td>1</td><td>3800</td><td>1</td><td>1</td><td>0</td><td>0.0</td><td>0</td><td>UNOBS</td><td>2021-03-15T01:31:44</td><td>2.1.1.dev2706</td><td>3800</td></tr>\n",
       "<tr><td>150.98780650052058</td><td>1.471027745411431</td><td>0.0</td><td>0.0</td><td>2021.2006</td><td>True</td><td>0.0</td><td>0.0</td><td>0.0</td><td>0.0</td><td>0.0</td><td>0.0</td><td>0.0</td><td>0.0</td><td>243316989886718</td><td>4611686018427387904</td><td>36028797018963968</td><td>12100</td><td>0.0005781779136037057</td><td>1</td><td>3800</td><td>1</td><td>1</td><td>0</td><td>0.0</td><td>0</td><td>UNOBS</td><td>2021-03-15T01:31:44</td><td>2.1.1.dev2706</td><td>3800</td></tr>\n",
       "<tr><td>150.93080441449553</td><td>1.5062890913215154</td><td>0.0</td><td>0.0</td><td>2021.2006</td><td>True</td><td>0.0</td><td>0.0</td><td>0.0</td><td>0.0</td><td>0.0</td><td>0.0</td><td>0.0</td><td>0.0</td><td>243316989886719</td><td>4611686018427387904</td><td>36028797018963968</td><td>12101</td><td>0.0004955810688032081</td><td>1</td><td>3800</td><td>1</td><td>1</td><td>0</td><td>0.0</td><td>0</td><td>UNOBS</td><td>2021-03-15T01:31:44</td><td>2.1.1.dev2706</td><td>3800</td></tr>\n",
       "<tr><td>150.9870525216869</td><td>1.5365314200594755</td><td>0.0</td><td>0.0</td><td>2021.2006</td><td>True</td><td>0.0</td><td>0.0</td><td>0.0</td><td>0.0</td><td>0.0</td><td>0.0</td><td>0.0</td><td>0.0</td><td>243316989886720</td><td>4611686018427387904</td><td>36028797018963968</td><td>12102</td><td>0.0004129842240025994</td><td>1</td><td>3800</td><td>1</td><td>1</td><td>0</td><td>0.0</td><td>0</td><td>UNOBS</td><td>2021-03-15T01:31:44</td><td>2.1.1.dev2706</td><td>3800</td></tr>\n",
       "<tr><td>151.0268976321305</td><td>1.5291242704260686</td><td>0.0</td><td>0.0</td><td>2021.2006</td><td>True</td><td>0.0</td><td>0.0</td><td>0.0</td><td>0.0</td><td>0.0</td><td>0.0</td><td>0.0</td><td>0.0</td><td>243316994081020</td><td>4611686018427387904</td><td>36028797018963968</td><td>12103</td><td>0.0003303873792021017</td><td>1</td><td>3800</td><td>1</td><td>1</td><td>0</td><td>0.0</td><td>0</td><td>UNOBS</td><td>2021-03-15T01:31:44</td><td>2.1.1.dev2706</td><td>3800</td></tr>\n",
       "<tr><td>151.01470471813647</td><td>1.6333125661987211</td><td>0.0</td><td>0.0</td><td>2021.2006</td><td>True</td><td>0.0</td><td>0.0</td><td>0.0</td><td>0.0</td><td>0.0</td><td>0.0</td><td>0.0</td><td>0.0</td><td>243323033878765</td><td>4611686018427387904</td><td>36028797018963968</td><td>12104</td><td>0.00024779053440160403</td><td>1</td><td>3800</td><td>1</td><td>1</td><td>0</td><td>0.0</td><td>0</td><td>UNOBS</td><td>2021-03-15T01:31:44</td><td>2.1.1.dev2706</td><td>3800</td></tr>\n",
       "<tr><td>150.97606404223887</td><td>1.7056557137213704</td><td>0.0</td><td>0.0</td><td>2021.2006</td><td>True</td><td>0.0</td><td>0.0</td><td>0.0</td><td>0.0</td><td>0.0</td><td>0.0</td><td>0.0</td><td>0.0</td><td>243323029684506</td><td>4611686018427387904</td><td>36028797018963968</td><td>12105</td><td>0.00016519368960110636</td><td>1</td><td>3800</td><td>1</td><td>1</td><td>0</td><td>0.0</td><td>0</td><td>UNOBS</td><td>2021-03-15T01:31:44</td><td>2.1.1.dev2706</td><td>3800</td></tr>\n",
       "<tr><td>150.90054137224266</td><td>1.809623158694348</td><td>0.0</td><td>0.0</td><td>2021.2006</td><td>True</td><td>0.0</td><td>0.0</td><td>0.0</td><td>0.0</td><td>0.0</td><td>0.0</td><td>0.0</td><td>0.0</td><td>243323029684507</td><td>4611686018427387904</td><td>36028797018963968</td><td>12106</td><td>8.259684480049767e-05</td><td>1</td><td>3800</td><td>1</td><td>1</td><td>0</td><td>0.0</td><td>0</td><td>UNOBS</td><td>2021-03-15T01:31:44</td><td>2.1.1.dev2706</td><td>3800</td></tr>\n",
       "<tr><td>150.89816369794585</td><td>1.9215185324036328</td><td>0.0</td><td>0.0</td><td>2021.2006</td><td>True</td><td>0.0</td><td>0.0</td><td>0.0</td><td>0.0</td><td>0.0</td><td>0.0</td><td>0.0</td><td>0.0</td><td>243329069482056</td><td>4611686018427387904</td><td>36028797018963968</td><td>12107</td><td>0.0</td><td>1</td><td>3800</td><td>1</td><td>1</td><td>0</td><td>0.0</td><td>0</td><td>UNOBS</td><td>2021-03-15T01:31:44</td><td>2.1.1.dev2706</td><td>3800</td></tr>\n",
       "</table></div>"
      ],
      "text/plain": [
       "<Table length=12103>\n",
       "        RA                DEC           PMRA   ...    VERSION    PRIORITY\n",
       "       deg                deg         mas / yr ...                       \n",
       "     float64            float64       float32  ...    bytes14     int64  \n",
       "------------------ ------------------ -------- ... ------------- --------\n",
       " 149.4617628929257 2.9903850477809484      0.0 ... 2.1.1.dev2706     3800\n",
       "149.37526777692952 2.9556887260343148      0.0 ... 2.1.1.dev2706     3800\n",
       "149.37250768438415  3.080247775303863      0.0 ... 2.1.1.dev2706     3800\n",
       "149.26462324656055  3.138785382887629      0.0 ... 2.1.1.dev2706     3800\n",
       "149.40201064798677  3.188692373436244      0.0 ... 2.1.1.dev2706     3800\n",
       " 149.2142386139038  3.035434124404831      0.0 ... 2.1.1.dev2706     3800\n",
       "149.21004001927372 3.1048311728256377      0.0 ... 2.1.1.dev2706     3800\n",
       "149.06917248324245  3.295965274880494      0.0 ... 2.1.1.dev2706     3800\n",
       "148.94066654619888 3.1817781279042285      0.0 ... 2.1.1.dev2706     3800\n",
       "               ...                ...      ... ...           ...      ...\n",
       "150.90979211728876 1.4224543365048643      0.0 ... 2.1.1.dev2706     3800\n",
       " 150.9128235703681 1.4424115007187652      0.0 ... 2.1.1.dev2706     3800\n",
       "150.98780650052058  1.471027745411431      0.0 ... 2.1.1.dev2706     3800\n",
       "150.93080441449553 1.5062890913215154      0.0 ... 2.1.1.dev2706     3800\n",
       " 150.9870525216869 1.5365314200594755      0.0 ... 2.1.1.dev2706     3800\n",
       " 151.0268976321305 1.5291242704260686      0.0 ... 2.1.1.dev2706     3800\n",
       "151.01470471813647 1.6333125661987211      0.0 ... 2.1.1.dev2706     3800\n",
       "150.97606404223887 1.7056557137213704      0.0 ... 2.1.1.dev2706     3800\n",
       "150.90054137224266  1.809623158694348      0.0 ... 2.1.1.dev2706     3800\n",
       "150.89816369794585 1.9215185324036328      0.0 ... 2.1.1.dev2706     3800"
      ]
     },
     "execution_count": 18,
     "metadata": {},
     "output_type": "execute_result"
    }
   ],
   "source": [
    "scnd_bxu = scnd[(scnd['SV1_SCND_TARGET'] & scnd_mask['DESILBG_BXU_FINAL']) != 0]\n",
    "scnd_bxu.sort('SCND_ORDER')\n",
    "scnd_bxu"
   ]
  },
  {
   "cell_type": "code",
   "execution_count": 19,
   "id": "4bb13d26-f9fe-492f-9574-1a059b05152a",
   "metadata": {},
   "outputs": [
    {
     "data": {
      "text/plain": [
       "['DEC',\n",
       " 'FLUX_G',\n",
       " 'FLUX_R',\n",
       " 'FLUX_Z',\n",
       " 'GAIA_ASTROMETRIC_EXCESS_NOISE',\n",
       " 'GAIA_PHOT_BP_MEAN_MAG',\n",
       " 'GAIA_PHOT_G_MEAN_MAG',\n",
       " 'GAIA_PHOT_RP_MEAN_MAG',\n",
       " 'NUMOBS',\n",
       " 'NUMOBS_INIT',\n",
       " 'NUMOBS_MORE',\n",
       " 'OBSCONDITIONS',\n",
       " 'OVERRIDE',\n",
       " 'PARALLAX',\n",
       " 'PMDEC',\n",
       " 'PMRA',\n",
       " 'PRIORITY',\n",
       " 'PRIORITY_INIT',\n",
       " 'RA',\n",
       " 'REF_EPOCH',\n",
       " 'SCND_ORDER',\n",
       " 'SUBPRIORITY',\n",
       " 'SV1_DESI_TARGET',\n",
       " 'SV1_SCND_TARGET',\n",
       " 'TARGETID',\n",
       " 'TARGET_STATE',\n",
       " 'TIMESTAMP',\n",
       " 'VERSION',\n",
       " 'Z',\n",
       " 'ZWARN']"
      ]
     },
     "execution_count": 19,
     "metadata": {},
     "output_type": "execute_result"
    }
   ],
   "source": [
    "sorted(scnd_bxu.dtype.names)"
   ]
  },
  {
   "cell_type": "code",
   "execution_count": 20,
   "id": "4cee378f-87e9-4580-bd54-67ece57936d4",
   "metadata": {},
   "outputs": [
    {
     "data": {
      "text/html": [
       "<div><i>Table length=12103</i>\n",
       "<table id=\"table46914495465216\" class=\"table-striped table-bordered table-condensed\">\n",
       "<thead><tr><th>TARGETID</th><th>RA</th><th>DEC</th><th>SCND_ORDER</th><th>OVERRIDE</th><th>PRIORITY_INIT</th><th>SUBPRIORITY</th><th>SV1_DESI_TARGET</th><th>SV1_SCND_TARGET</th><th>VERSION</th></tr></thead>\n",
       "<thead><tr><th></th><th>deg</th><th>deg</th><th></th><th></th><th></th><th></th><th></th><th></th><th></th></tr></thead>\n",
       "<thead><tr><th>int64</th><th>float64</th><th>float64</th><th>int32</th><th>bool</th><th>int64</th><th>float64</th><th>int64</th><th>int64</th><th>bytes14</th></tr></thead>\n",
       "<tr><td>243353203507200</td><td>149.4617628929257</td><td>2.9903850477809484</td><td>0</td><td>True</td><td>3800</td><td>1.0</td><td>4611686018427387904</td><td>36028797018963968</td><td>2.1.1.dev2706</td></tr>\n",
       "<tr><td>243353203507201</td><td>149.37526777692952</td><td>2.9556887260343148</td><td>1</td><td>True</td><td>3800</td><td>0.9999174031551995</td><td>4611686018427387904</td><td>36028797018963968</td><td>2.1.1.dev2706</td></tr>\n",
       "<tr><td>243353203507202</td><td>149.37250768438415</td><td>3.080247775303863</td><td>2</td><td>True</td><td>3800</td><td>0.9998348063103989</td><td>4611686018427387904</td><td>36028797018963968</td><td>2.1.1.dev2706</td></tr>\n",
       "<tr><td>243359239110656</td><td>149.26462324656055</td><td>3.138785382887629</td><td>3</td><td>True</td><td>3800</td><td>0.9997522094655984</td><td>4611686018427387904</td><td>36028797018963968</td><td>2.1.1.dev2706</td></tr>\n",
       "<tr><td>243359239110657</td><td>149.40201064798677</td><td>3.188692373436244</td><td>4</td><td>True</td><td>3800</td><td>0.9996696126207979</td><td>4611686018427387904</td><td>36028797018963968</td><td>2.1.1.dev2706</td></tr>\n",
       "<tr><td>243353199312896</td><td>149.2142386139038</td><td>3.035434124404831</td><td>5</td><td>True</td><td>3800</td><td>0.9995870157759974</td><td>4611686018427387904</td><td>36028797018963968</td><td>2.1.1.dev2706</td></tr>\n",
       "<tr><td>243353199312897</td><td>149.21004001927372</td><td>3.1048311728256377</td><td>6</td><td>True</td><td>3800</td><td>0.9995044189311968</td><td>4611686018427387904</td><td>36028797018963968</td><td>2.1.1.dev2706</td></tr>\n",
       "<tr><td>243359234916352</td><td>149.06917248324245</td><td>3.295965274880494</td><td>7</td><td>True</td><td>3800</td><td>0.9994218220863963</td><td>4611686018427387904</td><td>36028797018963968</td><td>2.1.1.dev2706</td></tr>\n",
       "<tr><td>243359230722048</td><td>148.94066654619888</td><td>3.1817781279042285</td><td>8</td><td>True</td><td>3800</td><td>0.9993392252415958</td><td>4611686018427387904</td><td>36028797018963968</td><td>2.1.1.dev2706</td></tr>\n",
       "<tr><td>...</td><td>...</td><td>...</td><td>...</td><td>...</td><td>...</td><td>...</td><td>...</td><td>...</td><td>...</td></tr>\n",
       "<tr><td>243316989886716</td><td>150.90979211728876</td><td>1.4224543365048643</td><td>12098</td><td>True</td><td>3800</td><td>0.0007433716032048121</td><td>4611686018427387904</td><td>36028797018963968</td><td>2.1.1.dev2706</td></tr>\n",
       "<tr><td>243316989886717</td><td>150.9128235703681</td><td>1.4424115007187652</td><td>12099</td><td>True</td><td>3800</td><td>0.0006607747584042034</td><td>4611686018427387904</td><td>36028797018963968</td><td>2.1.1.dev2706</td></tr>\n",
       "<tr><td>243316989886718</td><td>150.98780650052058</td><td>1.471027745411431</td><td>12100</td><td>True</td><td>3800</td><td>0.0005781779136037057</td><td>4611686018427387904</td><td>36028797018963968</td><td>2.1.1.dev2706</td></tr>\n",
       "<tr><td>243316989886719</td><td>150.93080441449553</td><td>1.5062890913215154</td><td>12101</td><td>True</td><td>3800</td><td>0.0004955810688032081</td><td>4611686018427387904</td><td>36028797018963968</td><td>2.1.1.dev2706</td></tr>\n",
       "<tr><td>243316989886720</td><td>150.9870525216869</td><td>1.5365314200594755</td><td>12102</td><td>True</td><td>3800</td><td>0.0004129842240025994</td><td>4611686018427387904</td><td>36028797018963968</td><td>2.1.1.dev2706</td></tr>\n",
       "<tr><td>243316994081020</td><td>151.0268976321305</td><td>1.5291242704260686</td><td>12103</td><td>True</td><td>3800</td><td>0.0003303873792021017</td><td>4611686018427387904</td><td>36028797018963968</td><td>2.1.1.dev2706</td></tr>\n",
       "<tr><td>243323033878765</td><td>151.01470471813647</td><td>1.6333125661987211</td><td>12104</td><td>True</td><td>3800</td><td>0.00024779053440160403</td><td>4611686018427387904</td><td>36028797018963968</td><td>2.1.1.dev2706</td></tr>\n",
       "<tr><td>243323029684506</td><td>150.97606404223887</td><td>1.7056557137213704</td><td>12105</td><td>True</td><td>3800</td><td>0.00016519368960110636</td><td>4611686018427387904</td><td>36028797018963968</td><td>2.1.1.dev2706</td></tr>\n",
       "<tr><td>243323029684507</td><td>150.90054137224266</td><td>1.809623158694348</td><td>12106</td><td>True</td><td>3800</td><td>8.259684480049767e-05</td><td>4611686018427387904</td><td>36028797018963968</td><td>2.1.1.dev2706</td></tr>\n",
       "<tr><td>243329069482056</td><td>150.89816369794585</td><td>1.9215185324036328</td><td>12107</td><td>True</td><td>3800</td><td>0.0</td><td>4611686018427387904</td><td>36028797018963968</td><td>2.1.1.dev2706</td></tr>\n",
       "</table></div>"
      ],
      "text/plain": [
       "<Table length=12103>\n",
       "    TARGETID            RA         ...  SV1_SCND_TARGET     VERSION   \n",
       "                       deg         ...                                \n",
       "     int64           float64       ...       int64          bytes14   \n",
       "--------------- ------------------ ... ----------------- -------------\n",
       "243353203507200  149.4617628929257 ... 36028797018963968 2.1.1.dev2706\n",
       "243353203507201 149.37526777692952 ... 36028797018963968 2.1.1.dev2706\n",
       "243353203507202 149.37250768438415 ... 36028797018963968 2.1.1.dev2706\n",
       "243359239110656 149.26462324656055 ... 36028797018963968 2.1.1.dev2706\n",
       "243359239110657 149.40201064798677 ... 36028797018963968 2.1.1.dev2706\n",
       "243353199312896  149.2142386139038 ... 36028797018963968 2.1.1.dev2706\n",
       "243353199312897 149.21004001927372 ... 36028797018963968 2.1.1.dev2706\n",
       "243359234916352 149.06917248324245 ... 36028797018963968 2.1.1.dev2706\n",
       "243359230722048 148.94066654619888 ... 36028797018963968 2.1.1.dev2706\n",
       "            ...                ... ...               ...           ...\n",
       "243316989886716 150.90979211728876 ... 36028797018963968 2.1.1.dev2706\n",
       "243316989886717  150.9128235703681 ... 36028797018963968 2.1.1.dev2706\n",
       "243316989886718 150.98780650052058 ... 36028797018963968 2.1.1.dev2706\n",
       "243316989886719 150.93080441449553 ... 36028797018963968 2.1.1.dev2706\n",
       "243316989886720  150.9870525216869 ... 36028797018963968 2.1.1.dev2706\n",
       "243316994081020  151.0268976321305 ... 36028797018963968 2.1.1.dev2706\n",
       "243323033878765 151.01470471813647 ... 36028797018963968 2.1.1.dev2706\n",
       "243323029684506 150.97606404223887 ... 36028797018963968 2.1.1.dev2706\n",
       "243323029684507 150.90054137224266 ... 36028797018963968 2.1.1.dev2706\n",
       "243329069482056 150.89816369794585 ... 36028797018963968 2.1.1.dev2706"
      ]
     },
     "execution_count": 20,
     "metadata": {},
     "output_type": "execute_result"
    }
   ],
   "source": [
    "scnd_bxu = scnd_bxu['TARGETID', 'RA', 'DEC', 'SCND_ORDER', 'OVERRIDE', 'PRIORITY_INIT', 'SUBPRIORITY', 'SV1_DESI_TARGET', 'SV1_SCND_TARGET', 'VERSION']\n",
    "scnd_bxu"
   ]
  },
  {
   "cell_type": "code",
   "execution_count": 21,
   "id": "7997096c-a90f-47f4-b79c-6518d2a65866",
   "metadata": {},
   "outputs": [
    {
     "data": {
      "text/plain": [
       "['DEC',\n",
       " 'OVERRIDE',\n",
       " 'PRIORITY_INIT',\n",
       " 'RA',\n",
       " 'SCND_ORDER',\n",
       " 'SUBPRIORITY',\n",
       " 'SV1_DESI_TARGET',\n",
       " 'SV1_SCND_TARGET',\n",
       " 'TARGETID',\n",
       " 'VERSION']"
      ]
     },
     "execution_count": 21,
     "metadata": {},
     "output_type": "execute_result"
    }
   ],
   "source": [
    "sorted(scnd_bxu.dtype.names)"
   ]
  },
  {
   "cell_type": "code",
   "execution_count": 22,
   "id": "9d0af1db-ceaa-4e33-8ca2-936a47be5e5f",
   "metadata": {},
   "outputs": [],
   "source": [
    "scnd_bxu['TARGET_RA']  = scnd_bxu['RA']\n",
    "scnd_bxu['TARGET_DEC'] = scnd_bxu['DEC']\n",
    "\n",
    "del scnd_bxu['RA']\n",
    "del scnd_bxu['DEC']"
   ]
  },
  {
   "cell_type": "code",
   "execution_count": 23,
   "id": "8eb037e3-5c22-4d82-837f-1289a940c94b",
   "metadata": {},
   "outputs": [
    {
     "data": {
      "text/html": [
       "<div><i>Table length=12108</i>\n",
       "<table id=\"table46914495467376\" class=\"table-striped table-bordered table-condensed\">\n",
       "<thead><tr><th>ID</th><th>RA</th><th>DEC</th><th>MASK</th><th>FLAG_FIELD</th><th>FLAG_FIELD_BINARY [7]</th><th>EB_V</th><th>U</th><th>US</th><th>G</th><th>R</th><th>I</th><th>Z</th><th>Y</th><th>YV</th><th>J</th><th>H</th><th>KS</th><th>U_ERR</th><th>US_ERR</th><th>G_ERR</th><th>R_ERR</th><th>I_ERR</th><th>Z_ERR</th><th>Y_ERR</th><th>YV_ERR</th><th>J_ERR</th><th>H_ERR</th><th>KS_ERR</th><th>Z_BC03</th><th>Z_SPEC</th><th>IDX</th><th>DESILBG_TYPE</th><th>SCND_ORDER</th></tr></thead>\n",
       "<thead><tr><th>int64</th><th>float64</th><th>float64</th><th>int16</th><th>int16</th><th>bool</th><th>float64</th><th>float64</th><th>float64</th><th>float64</th><th>float64</th><th>float64</th><th>float64</th><th>float64</th><th>float64</th><th>float64</th><th>float64</th><th>float64</th><th>float64</th><th>float64</th><th>float64</th><th>float64</th><th>float64</th><th>float64</th><th>float64</th><th>float64</th><th>float64</th><th>float64</th><th>float64</th><th>float64</th><th>float64</th><th>int64</th><th>str3</th><th>int64</th></tr></thead>\n",
       "<tr><td>8419</td><td>149.4617628929257</td><td>2.9903850477809484</td><td>0</td><td>7</td><td>True .. False</td><td>0.020243416666075105</td><td>23.675</td><td>23.65</td><td>22.892</td><td>22.691</td><td>22.622</td><td>22.578</td><td>22.511</td><td>-99.024</td><td>-99.018</td><td>-99.011</td><td>-99.007</td><td>0.021</td><td>0.034</td><td>0.01</td><td>0.012</td><td>0.015</td><td>0.023</td><td>0.053</td><td>1000.0</td><td>1000.0</td><td>1000.0</td><td>1000.0</td><td>2.4898</td><td>-99.0</td><td>1</td><td>BXU</td><td>0</td></tr>\n",
       "<tr><td>88187</td><td>149.37526777692952</td><td>2.9556887260343148</td><td>0</td><td>7</td><td>True .. False</td><td>0.019585939259879757</td><td>-99.094</td><td>24.677</td><td>23.381</td><td>22.545</td><td>22.342</td><td>22.054</td><td>21.399</td><td>-99.024</td><td>-99.017</td><td>-99.011</td><td>-99.007</td><td>-99.0</td><td>0.696</td><td>0.145</td><td>0.09</td><td>0.097</td><td>0.119</td><td>0.155</td><td>1000.0</td><td>1000.0</td><td>1000.0</td><td>1000.0</td><td>0.2746</td><td>-99.0</td><td>1</td><td>BXU</td><td>1</td></tr>\n",
       "<tr><td>100735</td><td>149.37250768438415</td><td>3.080247775303863</td><td>0</td><td>7</td><td>True .. False</td><td>0.02390167866876377</td><td>27.69</td><td>26.458</td><td>23.672</td><td>22.514</td><td>22.389</td><td>22.151</td><td>22.334</td><td>-99.029</td><td>-99.021</td><td>-99.013</td><td>-99.009</td><td>0.318</td><td>0.214</td><td>0.009</td><td>0.004</td><td>0.005</td><td>0.006</td><td>0.016</td><td>1000.0</td><td>1000.0</td><td>1000.0</td><td>1000.0</td><td>3.7247</td><td>-99.0</td><td>1</td><td>BXU</td><td>2</td></tr>\n",
       "<tr><td>106891</td><td>149.26462324656055</td><td>3.138785382887629</td><td>0</td><td>7</td><td>True .. False</td><td>0.024554265238280946</td><td>28.77</td><td>26.622</td><td>23.672</td><td>22.684</td><td>22.54</td><td>22.395</td><td>22.341</td><td>-99.03</td><td>-99.021</td><td>-99.014</td><td>-99.009</td><td>1.004</td><td>0.583</td><td>0.011</td><td>0.006</td><td>0.007</td><td>0.009</td><td>0.021</td><td>1000.0</td><td>1000.0</td><td>1000.0</td><td>1000.0</td><td>3.3393</td><td>-99.0</td><td>1</td><td>BXU</td><td>3</td></tr>\n",
       "<tr><td>111902</td><td>149.40201064798677</td><td>3.188692373436244</td><td>0</td><td>7</td><td>True .. False</td><td>0.026667250492997518</td><td>-99.128</td><td>-99.125</td><td>23.675</td><td>22.707</td><td>22.365</td><td>22.301</td><td>22.276</td><td>-99.032</td><td>-99.023</td><td>-99.015</td><td>-99.01</td><td>-99.0</td><td>-99.0</td><td>0.008</td><td>0.005</td><td>0.004</td><td>0.007</td><td>0.016</td><td>1000.0</td><td>1000.0</td><td>1000.0</td><td>1000.0</td><td>0.2653</td><td>-99.0</td><td>1</td><td>BXU</td><td>4</td></tr>\n",
       "<tr><td>179692</td><td>149.2142386139038</td><td>3.035434124404831</td><td>0</td><td>7</td><td>True .. False</td><td>0.02206308294569944</td><td>25.033</td><td>24.987</td><td>23.222</td><td>22.746</td><td>22.615</td><td>22.398</td><td>22.207</td><td>-99.027</td><td>-99.019</td><td>-99.012</td><td>-99.008</td><td>0.034</td><td>0.061</td><td>0.007</td><td>0.006</td><td>0.006</td><td>0.008</td><td>0.017</td><td>1000.0</td><td>1000.0</td><td>1000.0</td><td>1000.0</td><td>2.8799</td><td>-99.0</td><td>1</td><td>BXU</td><td>5</td></tr>\n",
       "<tr><td>187353</td><td>149.21004001927372</td><td>3.1048311728256377</td><td>0</td><td>7</td><td>True .. False</td><td>0.023687506772805567</td><td>24.17</td><td>24.214</td><td>22.832</td><td>22.504</td><td>22.51</td><td>22.28</td><td>22.091</td><td>-99.029</td><td>-99.021</td><td>-99.013</td><td>-99.009</td><td>0.014</td><td>0.058</td><td>0.004</td><td>0.004</td><td>0.006</td><td>0.007</td><td>0.015</td><td>1000.0</td><td>1000.0</td><td>1000.0</td><td>1000.0</td><td>2.6679</td><td>-99.0</td><td>1</td><td>BXU</td><td>6</td></tr>\n",
       "<tr><td>207591</td><td>149.06917248324245</td><td>3.295965274880494</td><td>0</td><td>7</td><td>True .. False</td><td>0.02155887279464575</td><td>27.146</td><td>24.478</td><td>23.815</td><td>22.621</td><td>21.967</td><td>21.487</td><td>20.579</td><td>-99.026</td><td>-99.019</td><td>-99.012</td><td>-99.008</td><td>2.205</td><td>0.374</td><td>0.132</td><td>0.05</td><td>0.044</td><td>0.044</td><td>0.04</td><td>1000.0</td><td>1000.0</td><td>1000.0</td><td>1000.0</td><td>1.4065</td><td>-99.0</td><td>1</td><td>BXU</td><td>7</td></tr>\n",
       "<tr><td>281969</td><td>148.94066654619888</td><td>3.1817781279042285</td><td>0</td><td>3</td><td>True .. False</td><td>0.018371882773363733</td><td>23.009</td><td>-99.086</td><td>22.54</td><td>22.548</td><td>22.222</td><td>22.094</td><td>22.229</td><td>-99.022</td><td>-99.016</td><td>-99.01</td><td>-99.007</td><td>0.005</td><td>1000.0</td><td>0.004</td><td>0.005</td><td>0.005</td><td>0.007</td><td>0.019</td><td>1000.0</td><td>1000.0</td><td>1000.0</td><td>1000.0</td><td>2.0169</td><td>-99.0</td><td>1</td><td>BXU</td><td>8</td></tr>\n",
       "<tr><td>446575</td><td>151.00575262947734</td><td>2.99755764912408</td><td>0</td><td>3</td><td>True .. False</td><td>0.020093598618545795</td><td>24.706</td><td>-99.094</td><td>23.042</td><td>22.603</td><td>22.435</td><td>22.323</td><td>22.339</td><td>-99.024</td><td>-99.018</td><td>-99.011</td><td>-99.007</td><td>0.021</td><td>-99.0</td><td>0.006</td><td>0.006</td><td>0.006</td><td>0.008</td><td>0.02</td><td>1000.0</td><td>1000.0</td><td>1000.0</td><td>1000.0</td><td>2.8128</td><td>-99.0</td><td>1</td><td>BXU</td><td>9</td></tr>\n",
       "<tr><td>...</td><td>...</td><td>...</td><td>...</td><td>...</td><td>...</td><td>...</td><td>...</td><td>...</td><td>...</td><td>...</td><td>...</td><td>...</td><td>...</td><td>...</td><td>...</td><td>...</td><td>...</td><td>...</td><td>...</td><td>...</td><td>...</td><td>...</td><td>...</td><td>...</td><td>...</td><td>...</td><td>...</td><td>...</td><td>...</td><td>...</td><td>...</td><td>...</td><td>...</td></tr>\n",
       "<tr><td>5249732</td><td>150.90979211728876</td><td>1.4224543365048643</td><td>0</td><td>7</td><td>True .. False</td><td>0.021925670066274605</td><td>28.512</td><td>26.973</td><td>25.104</td><td>24.482</td><td>24.341</td><td>24.363</td><td>24.477</td><td>-99.027</td><td>-99.019</td><td>-99.012</td><td>-99.008</td><td>0.509</td><td>0.187</td><td>0.029</td><td>0.024</td><td>0.028</td><td>0.042</td><td>0.115</td><td>1000.0</td><td>1000.0</td><td>1000.0</td><td>1000.0</td><td>3.1782</td><td>-99.0</td><td>8</td><td>BXU</td><td>12098</td></tr>\n",
       "<tr><td>5250096</td><td>150.9128235703681</td><td>1.4424115007187652</td><td>0</td><td>7</td><td>True .. False</td><td>0.022060876809890443</td><td>25.823</td><td>25.548</td><td>24.76</td><td>24.447</td><td>24.355</td><td>24.28</td><td>24.436</td><td>-99.027</td><td>-99.019</td><td>-99.012</td><td>-99.008</td><td>0.046</td><td>0.053</td><td>0.021</td><td>0.024</td><td>0.028</td><td>0.04</td><td>0.117</td><td>1000.0</td><td>1000.0</td><td>1000.0</td><td>1000.0</td><td>2.6911</td><td>-99.0</td><td>8</td><td>BXU</td><td>12099</td></tr>\n",
       "<tr><td>5250767</td><td>150.98780650052058</td><td>1.471027745411431</td><td>0</td><td>7</td><td>True .. False</td><td>0.022892610741868442</td><td>26.047</td><td>25.306</td><td>24.563</td><td>24.314</td><td>24.246</td><td>24.213</td><td>24.27</td><td>-99.028</td><td>-99.02</td><td>-99.013</td><td>-99.008</td><td>0.066</td><td>0.096</td><td>0.018</td><td>0.023</td><td>0.028</td><td>0.041</td><td>0.104</td><td>1000.0</td><td>1000.0</td><td>1000.0</td><td>1000.0</td><td>2.8514</td><td>-99.0</td><td>8</td><td>BXU</td><td>12100</td></tr>\n",
       "<tr><td>5251456</td><td>150.93080441449553</td><td>1.5062890913215154</td><td>0</td><td>7</td><td>True .. False</td><td>0.02270902304625228</td><td>25.378</td><td>25.266</td><td>24.618</td><td>24.454</td><td>24.38</td><td>24.28</td><td>24.339</td><td>-99.027</td><td>-99.02</td><td>-99.013</td><td>-99.008</td><td>0.03</td><td>0.045</td><td>0.02</td><td>0.025</td><td>0.029</td><td>0.042</td><td>0.114</td><td>1000.0</td><td>1000.0</td><td>1000.0</td><td>1000.0</td><td>2.388</td><td>-99.0</td><td>8</td><td>BXU</td><td>12101</td></tr>\n",
       "<tr><td>5252339</td><td>150.9870525216869</td><td>1.5365314200594755</td><td>0</td><td>7</td><td>True .. False</td><td>0.024210496838312452</td><td>26.978</td><td>26.185</td><td>24.935</td><td>24.475</td><td>24.394</td><td>24.221</td><td>24.06</td><td>-99.029</td><td>-99.021</td><td>-99.014</td><td>-99.009</td><td>0.139</td><td>0.19</td><td>0.028</td><td>0.027</td><td>0.032</td><td>0.039</td><td>0.086</td><td>1000.0</td><td>1000.0</td><td>1000.0</td><td>1000.0</td><td>2.8647</td><td>-99.0</td><td>8</td><td>BXU</td><td>12102</td></tr>\n",
       "<tr><td>5252415</td><td>151.0268976321305</td><td>1.5291242704260686</td><td>0</td><td>3</td><td>True .. False</td><td>0.025293040781316885</td><td>26.93</td><td>31.915</td><td>25.007</td><td>24.309</td><td>24.146</td><td>24.011</td><td>24.117</td><td>-99.031</td><td>-99.022</td><td>-99.014</td><td>-99.009</td><td>0.129</td><td>1000.0</td><td>0.026</td><td>0.021</td><td>0.023</td><td>0.032</td><td>0.092</td><td>1000.0</td><td>1000.0</td><td>1000.0</td><td>1000.0</td><td>2.948</td><td>-99.0</td><td>8</td><td>BXU</td><td>12103</td></tr>\n",
       "<tr><td>5253312</td><td>151.01470471813647</td><td>1.6333125661987211</td><td>0</td><td>3</td><td>True .. False</td><td>0.02389449539789144</td><td>25.122</td><td>-99.112</td><td>24.428</td><td>24.278</td><td>24.245</td><td>23.892</td><td>24.289</td><td>-99.029</td><td>-99.021</td><td>-99.013</td><td>-99.009</td><td>0.095</td><td>-99.0</td><td>0.062</td><td>0.089</td><td>0.111</td><td>0.118</td><td>0.462</td><td>1000.0</td><td>1000.0</td><td>1000.0</td><td>1000.0</td><td>2.2627</td><td>-99.0</td><td>8</td><td>BXU</td><td>12104</td></tr>\n",
       "<tr><td>5253841</td><td>150.97606404223887</td><td>1.7056557137213704</td><td>0</td><td>7</td><td>True .. False</td><td>0.020370024124905975</td><td>24.654</td><td>24.725</td><td>24.397</td><td>24.457</td><td>24.379</td><td>24.34</td><td>24.775</td><td>-99.025</td><td>-99.018</td><td>-99.011</td><td>-99.007</td><td>0.026</td><td>0.042</td><td>0.02</td><td>0.031</td><td>0.037</td><td>0.056</td><td>0.208</td><td>1000.0</td><td>1000.0</td><td>1000.0</td><td>1000.0</td><td>2.1263</td><td>-99.0</td><td>8</td><td>BXU</td><td>12105</td></tr>\n",
       "<tr><td>5254314</td><td>150.90054137224266</td><td>1.809623158694348</td><td>0</td><td>7</td><td>True .. False</td><td>0.01949961551891887</td><td>25.983</td><td>25.775</td><td>24.674</td><td>24.258</td><td>24.189</td><td>24.099</td><td>24.088</td><td>-99.024</td><td>-99.017</td><td>-99.011</td><td>-99.007</td><td>0.062</td><td>0.086</td><td>0.021</td><td>0.022</td><td>0.025</td><td>0.036</td><td>0.075</td><td>1000.0</td><td>1000.0</td><td>1000.0</td><td>1000.0</td><td>2.7607</td><td>-99.0</td><td>8</td><td>BXU</td><td>12106</td></tr>\n",
       "<tr><td>5254996</td><td>150.89816369794585</td><td>1.9215185324036328</td><td>0</td><td>71</td><td>True .. True</td><td>0.019153966060309557</td><td>28.841</td><td>28.444</td><td>25.541</td><td>24.445</td><td>24.243</td><td>24.107</td><td>24.265</td><td>-99.023</td><td>-99.017</td><td>-99.011</td><td>-99.007</td><td>0.699</td><td>0.719</td><td>0.035</td><td>0.018</td><td>0.017</td><td>0.026</td><td>0.058</td><td>1000.0</td><td>1000.0</td><td>1000.0</td><td>1000.0</td><td>3.393</td><td>-99.0</td><td>8</td><td>BXU</td><td>12107</td></tr>\n",
       "</table></div>"
      ],
      "text/plain": [
       "<Table length=12108>\n",
       "   ID           RA                DEC         ...  IDX  DESILBG_TYPE SCND_ORDER\n",
       " int64       float64            float64       ... int64     str3       int64   \n",
       "------- ------------------ ------------------ ... ----- ------------ ----------\n",
       "   8419  149.4617628929257 2.9903850477809484 ...     1          BXU          0\n",
       "  88187 149.37526777692952 2.9556887260343148 ...     1          BXU          1\n",
       " 100735 149.37250768438415  3.080247775303863 ...     1          BXU          2\n",
       " 106891 149.26462324656055  3.138785382887629 ...     1          BXU          3\n",
       " 111902 149.40201064798677  3.188692373436244 ...     1          BXU          4\n",
       " 179692  149.2142386139038  3.035434124404831 ...     1          BXU          5\n",
       " 187353 149.21004001927372 3.1048311728256377 ...     1          BXU          6\n",
       " 207591 149.06917248324245  3.295965274880494 ...     1          BXU          7\n",
       " 281969 148.94066654619888 3.1817781279042285 ...     1          BXU          8\n",
       " 446575 151.00575262947734   2.99755764912408 ...     1          BXU          9\n",
       "    ...                ...                ... ...   ...          ...        ...\n",
       "5249732 150.90979211728876 1.4224543365048643 ...     8          BXU      12098\n",
       "5250096  150.9128235703681 1.4424115007187652 ...     8          BXU      12099\n",
       "5250767 150.98780650052058  1.471027745411431 ...     8          BXU      12100\n",
       "5251456 150.93080441449553 1.5062890913215154 ...     8          BXU      12101\n",
       "5252339  150.9870525216869 1.5365314200594755 ...     8          BXU      12102\n",
       "5252415  151.0268976321305 1.5291242704260686 ...     8          BXU      12103\n",
       "5253312 151.01470471813647 1.6333125661987211 ...     8          BXU      12104\n",
       "5253841 150.97606404223887 1.7056557137213704 ...     8          BXU      12105\n",
       "5254314 150.90054137224266  1.809623158694348 ...     8          BXU      12106\n",
       "5254996 150.89816369794585 1.9215185324036328 ...     8          BXU      12107"
      ]
     },
     "execution_count": 23,
     "metadata": {},
     "output_type": "execute_result"
    }
   ],
   "source": [
    "targets_bxu = targets[targets['DESILBG_TYPE'] == 'BXU']\n",
    "targets_bxu"
   ]
  },
  {
   "cell_type": "code",
   "execution_count": 24,
   "id": "ea05c113-010b-4c1a-97fb-36226e9f2569",
   "metadata": {},
   "outputs": [
    {
     "name": "stderr",
     "output_type": "stream",
     "text": [
      "WARNING: MergeConflictWarning: Cannot merge meta key 'EXTNAME' types <class 'str'> and <class 'str'>, choosing EXTNAME='MTL' [astropy.utils.metadata]\n"
     ]
    },
    {
     "data": {
      "text/html": [
       "<div><i>Table length=12108</i>\n",
       "<table id=\"table46914462412656\" class=\"table-striped table-bordered table-condensed\">\n",
       "<thead><tr><th>ID</th><th>RA</th><th>DEC</th><th>MASK</th><th>FLAG_FIELD</th><th>FLAG_FIELD_BINARY [7]</th><th>EB_V</th><th>U</th><th>US</th><th>G</th><th>R</th><th>I</th><th>Z</th><th>Y</th><th>YV</th><th>J</th><th>H</th><th>KS</th><th>U_ERR</th><th>US_ERR</th><th>G_ERR</th><th>R_ERR</th><th>I_ERR</th><th>Z_ERR</th><th>Y_ERR</th><th>YV_ERR</th><th>J_ERR</th><th>H_ERR</th><th>KS_ERR</th><th>Z_BC03</th><th>Z_SPEC</th><th>IDX</th><th>DESILBG_TYPE</th><th>SCND_ORDER</th><th>TARGETID</th><th>OVERRIDE</th><th>PRIORITY_INIT</th><th>SUBPRIORITY</th><th>SV1_DESI_TARGET</th><th>SV1_SCND_TARGET</th><th>VERSION</th><th>TARGET_RA</th><th>TARGET_DEC</th></tr></thead>\n",
       "<thead><tr><th></th><th></th><th></th><th></th><th></th><th></th><th></th><th></th><th></th><th></th><th></th><th></th><th></th><th></th><th></th><th></th><th></th><th></th><th></th><th></th><th></th><th></th><th></th><th></th><th></th><th></th><th></th><th></th><th></th><th></th><th></th><th></th><th></th><th></th><th></th><th></th><th></th><th></th><th></th><th></th><th></th><th>deg</th><th>deg</th></tr></thead>\n",
       "<thead><tr><th>int64</th><th>float64</th><th>float64</th><th>int16</th><th>int16</th><th>bool</th><th>float64</th><th>float64</th><th>float64</th><th>float64</th><th>float64</th><th>float64</th><th>float64</th><th>float64</th><th>float64</th><th>float64</th><th>float64</th><th>float64</th><th>float64</th><th>float64</th><th>float64</th><th>float64</th><th>float64</th><th>float64</th><th>float64</th><th>float64</th><th>float64</th><th>float64</th><th>float64</th><th>float64</th><th>float64</th><th>int64</th><th>str3</th><th>int64</th><th>int64</th><th>bool</th><th>int64</th><th>float64</th><th>int64</th><th>int64</th><th>bytes14</th><th>float64</th><th>float64</th></tr></thead>\n",
       "<tr><td>8419</td><td>149.4617628929257</td><td>2.9903850477809484</td><td>0</td><td>7</td><td>True .. False</td><td>0.020243416666075105</td><td>23.675</td><td>23.65</td><td>22.892</td><td>22.691</td><td>22.622</td><td>22.578</td><td>22.511</td><td>-99.024</td><td>-99.018</td><td>-99.011</td><td>-99.007</td><td>0.021</td><td>0.034</td><td>0.01</td><td>0.012</td><td>0.015</td><td>0.023</td><td>0.053</td><td>1000.0</td><td>1000.0</td><td>1000.0</td><td>1000.0</td><td>2.4898</td><td>-99.0</td><td>1</td><td>BXU</td><td>0</td><td>243353203507200</td><td>True</td><td>3800</td><td>1.0</td><td>4611686018427387904</td><td>36028797018963968</td><td>2.1.1.dev2706</td><td>149.4617628929257</td><td>2.9903850477809484</td></tr>\n",
       "<tr><td>88187</td><td>149.37526777692952</td><td>2.9556887260343148</td><td>0</td><td>7</td><td>True .. False</td><td>0.019585939259879757</td><td>-99.094</td><td>24.677</td><td>23.381</td><td>22.545</td><td>22.342</td><td>22.054</td><td>21.399</td><td>-99.024</td><td>-99.017</td><td>-99.011</td><td>-99.007</td><td>-99.0</td><td>0.696</td><td>0.145</td><td>0.09</td><td>0.097</td><td>0.119</td><td>0.155</td><td>1000.0</td><td>1000.0</td><td>1000.0</td><td>1000.0</td><td>0.2746</td><td>-99.0</td><td>1</td><td>BXU</td><td>1</td><td>243353203507201</td><td>True</td><td>3800</td><td>0.9999174031551995</td><td>4611686018427387904</td><td>36028797018963968</td><td>2.1.1.dev2706</td><td>149.37526777692952</td><td>2.9556887260343148</td></tr>\n",
       "<tr><td>100735</td><td>149.37250768438415</td><td>3.080247775303863</td><td>0</td><td>7</td><td>True .. False</td><td>0.02390167866876377</td><td>27.69</td><td>26.458</td><td>23.672</td><td>22.514</td><td>22.389</td><td>22.151</td><td>22.334</td><td>-99.029</td><td>-99.021</td><td>-99.013</td><td>-99.009</td><td>0.318</td><td>0.214</td><td>0.009</td><td>0.004</td><td>0.005</td><td>0.006</td><td>0.016</td><td>1000.0</td><td>1000.0</td><td>1000.0</td><td>1000.0</td><td>3.7247</td><td>-99.0</td><td>1</td><td>BXU</td><td>2</td><td>243353203507202</td><td>True</td><td>3800</td><td>0.9998348063103989</td><td>4611686018427387904</td><td>36028797018963968</td><td>2.1.1.dev2706</td><td>149.37250768438415</td><td>3.080247775303863</td></tr>\n",
       "<tr><td>106891</td><td>149.26462324656055</td><td>3.138785382887629</td><td>0</td><td>7</td><td>True .. False</td><td>0.024554265238280946</td><td>28.77</td><td>26.622</td><td>23.672</td><td>22.684</td><td>22.54</td><td>22.395</td><td>22.341</td><td>-99.03</td><td>-99.021</td><td>-99.014</td><td>-99.009</td><td>1.004</td><td>0.583</td><td>0.011</td><td>0.006</td><td>0.007</td><td>0.009</td><td>0.021</td><td>1000.0</td><td>1000.0</td><td>1000.0</td><td>1000.0</td><td>3.3393</td><td>-99.0</td><td>1</td><td>BXU</td><td>3</td><td>243359239110656</td><td>True</td><td>3800</td><td>0.9997522094655984</td><td>4611686018427387904</td><td>36028797018963968</td><td>2.1.1.dev2706</td><td>149.26462324656055</td><td>3.138785382887629</td></tr>\n",
       "<tr><td>111902</td><td>149.40201064798677</td><td>3.188692373436244</td><td>0</td><td>7</td><td>True .. False</td><td>0.026667250492997518</td><td>-99.128</td><td>-99.125</td><td>23.675</td><td>22.707</td><td>22.365</td><td>22.301</td><td>22.276</td><td>-99.032</td><td>-99.023</td><td>-99.015</td><td>-99.01</td><td>-99.0</td><td>-99.0</td><td>0.008</td><td>0.005</td><td>0.004</td><td>0.007</td><td>0.016</td><td>1000.0</td><td>1000.0</td><td>1000.0</td><td>1000.0</td><td>0.2653</td><td>-99.0</td><td>1</td><td>BXU</td><td>4</td><td>243359239110657</td><td>True</td><td>3800</td><td>0.9996696126207979</td><td>4611686018427387904</td><td>36028797018963968</td><td>2.1.1.dev2706</td><td>149.40201064798677</td><td>3.188692373436244</td></tr>\n",
       "<tr><td>179692</td><td>149.2142386139038</td><td>3.035434124404831</td><td>0</td><td>7</td><td>True .. False</td><td>0.02206308294569944</td><td>25.033</td><td>24.987</td><td>23.222</td><td>22.746</td><td>22.615</td><td>22.398</td><td>22.207</td><td>-99.027</td><td>-99.019</td><td>-99.012</td><td>-99.008</td><td>0.034</td><td>0.061</td><td>0.007</td><td>0.006</td><td>0.006</td><td>0.008</td><td>0.017</td><td>1000.0</td><td>1000.0</td><td>1000.0</td><td>1000.0</td><td>2.8799</td><td>-99.0</td><td>1</td><td>BXU</td><td>5</td><td>243353199312896</td><td>True</td><td>3800</td><td>0.9995870157759974</td><td>4611686018427387904</td><td>36028797018963968</td><td>2.1.1.dev2706</td><td>149.2142386139038</td><td>3.035434124404831</td></tr>\n",
       "<tr><td>187353</td><td>149.21004001927372</td><td>3.1048311728256377</td><td>0</td><td>7</td><td>True .. False</td><td>0.023687506772805567</td><td>24.17</td><td>24.214</td><td>22.832</td><td>22.504</td><td>22.51</td><td>22.28</td><td>22.091</td><td>-99.029</td><td>-99.021</td><td>-99.013</td><td>-99.009</td><td>0.014</td><td>0.058</td><td>0.004</td><td>0.004</td><td>0.006</td><td>0.007</td><td>0.015</td><td>1000.0</td><td>1000.0</td><td>1000.0</td><td>1000.0</td><td>2.6679</td><td>-99.0</td><td>1</td><td>BXU</td><td>6</td><td>243353199312897</td><td>True</td><td>3800</td><td>0.9995044189311968</td><td>4611686018427387904</td><td>36028797018963968</td><td>2.1.1.dev2706</td><td>149.21004001927372</td><td>3.1048311728256377</td></tr>\n",
       "<tr><td>207591</td><td>149.06917248324245</td><td>3.295965274880494</td><td>0</td><td>7</td><td>True .. False</td><td>0.02155887279464575</td><td>27.146</td><td>24.478</td><td>23.815</td><td>22.621</td><td>21.967</td><td>21.487</td><td>20.579</td><td>-99.026</td><td>-99.019</td><td>-99.012</td><td>-99.008</td><td>2.205</td><td>0.374</td><td>0.132</td><td>0.05</td><td>0.044</td><td>0.044</td><td>0.04</td><td>1000.0</td><td>1000.0</td><td>1000.0</td><td>1000.0</td><td>1.4065</td><td>-99.0</td><td>1</td><td>BXU</td><td>7</td><td>243359234916352</td><td>True</td><td>3800</td><td>0.9994218220863963</td><td>4611686018427387904</td><td>36028797018963968</td><td>2.1.1.dev2706</td><td>149.06917248324245</td><td>3.295965274880494</td></tr>\n",
       "<tr><td>281969</td><td>148.94066654619888</td><td>3.1817781279042285</td><td>0</td><td>3</td><td>True .. False</td><td>0.018371882773363733</td><td>23.009</td><td>-99.086</td><td>22.54</td><td>22.548</td><td>22.222</td><td>22.094</td><td>22.229</td><td>-99.022</td><td>-99.016</td><td>-99.01</td><td>-99.007</td><td>0.005</td><td>1000.0</td><td>0.004</td><td>0.005</td><td>0.005</td><td>0.007</td><td>0.019</td><td>1000.0</td><td>1000.0</td><td>1000.0</td><td>1000.0</td><td>2.0169</td><td>-99.0</td><td>1</td><td>BXU</td><td>8</td><td>243359230722048</td><td>True</td><td>3800</td><td>0.9993392252415958</td><td>4611686018427387904</td><td>36028797018963968</td><td>2.1.1.dev2706</td><td>148.94066654619888</td><td>3.1817781279042285</td></tr>\n",
       "<tr><td>...</td><td>...</td><td>...</td><td>...</td><td>...</td><td>...</td><td>...</td><td>...</td><td>...</td><td>...</td><td>...</td><td>...</td><td>...</td><td>...</td><td>...</td><td>...</td><td>...</td><td>...</td><td>...</td><td>...</td><td>...</td><td>...</td><td>...</td><td>...</td><td>...</td><td>...</td><td>...</td><td>...</td><td>...</td><td>...</td><td>...</td><td>...</td><td>...</td><td>...</td><td>...</td><td>...</td><td>...</td><td>...</td><td>...</td><td>...</td><td>...</td><td>...</td><td>...</td></tr>\n",
       "<tr><td>5249732</td><td>150.90979211728876</td><td>1.4224543365048643</td><td>0</td><td>7</td><td>True .. False</td><td>0.021925670066274605</td><td>28.512</td><td>26.973</td><td>25.104</td><td>24.482</td><td>24.341</td><td>24.363</td><td>24.477</td><td>-99.027</td><td>-99.019</td><td>-99.012</td><td>-99.008</td><td>0.509</td><td>0.187</td><td>0.029</td><td>0.024</td><td>0.028</td><td>0.042</td><td>0.115</td><td>1000.0</td><td>1000.0</td><td>1000.0</td><td>1000.0</td><td>3.1782</td><td>-99.0</td><td>8</td><td>BXU</td><td>12098</td><td>243316989886716</td><td>True</td><td>3800</td><td>0.0007433716032048121</td><td>4611686018427387904</td><td>36028797018963968</td><td>2.1.1.dev2706</td><td>150.90979211728876</td><td>1.4224543365048643</td></tr>\n",
       "<tr><td>5250096</td><td>150.9128235703681</td><td>1.4424115007187652</td><td>0</td><td>7</td><td>True .. False</td><td>0.022060876809890443</td><td>25.823</td><td>25.548</td><td>24.76</td><td>24.447</td><td>24.355</td><td>24.28</td><td>24.436</td><td>-99.027</td><td>-99.019</td><td>-99.012</td><td>-99.008</td><td>0.046</td><td>0.053</td><td>0.021</td><td>0.024</td><td>0.028</td><td>0.04</td><td>0.117</td><td>1000.0</td><td>1000.0</td><td>1000.0</td><td>1000.0</td><td>2.6911</td><td>-99.0</td><td>8</td><td>BXU</td><td>12099</td><td>243316989886717</td><td>True</td><td>3800</td><td>0.0006607747584042034</td><td>4611686018427387904</td><td>36028797018963968</td><td>2.1.1.dev2706</td><td>150.9128235703681</td><td>1.4424115007187652</td></tr>\n",
       "<tr><td>5250767</td><td>150.98780650052058</td><td>1.471027745411431</td><td>0</td><td>7</td><td>True .. False</td><td>0.022892610741868442</td><td>26.047</td><td>25.306</td><td>24.563</td><td>24.314</td><td>24.246</td><td>24.213</td><td>24.27</td><td>-99.028</td><td>-99.02</td><td>-99.013</td><td>-99.008</td><td>0.066</td><td>0.096</td><td>0.018</td><td>0.023</td><td>0.028</td><td>0.041</td><td>0.104</td><td>1000.0</td><td>1000.0</td><td>1000.0</td><td>1000.0</td><td>2.8514</td><td>-99.0</td><td>8</td><td>BXU</td><td>12100</td><td>243316989886718</td><td>True</td><td>3800</td><td>0.0005781779136037057</td><td>4611686018427387904</td><td>36028797018963968</td><td>2.1.1.dev2706</td><td>150.98780650052058</td><td>1.471027745411431</td></tr>\n",
       "<tr><td>5251456</td><td>150.93080441449553</td><td>1.5062890913215154</td><td>0</td><td>7</td><td>True .. False</td><td>0.02270902304625228</td><td>25.378</td><td>25.266</td><td>24.618</td><td>24.454</td><td>24.38</td><td>24.28</td><td>24.339</td><td>-99.027</td><td>-99.02</td><td>-99.013</td><td>-99.008</td><td>0.03</td><td>0.045</td><td>0.02</td><td>0.025</td><td>0.029</td><td>0.042</td><td>0.114</td><td>1000.0</td><td>1000.0</td><td>1000.0</td><td>1000.0</td><td>2.388</td><td>-99.0</td><td>8</td><td>BXU</td><td>12101</td><td>243316989886719</td><td>True</td><td>3800</td><td>0.0004955810688032081</td><td>4611686018427387904</td><td>36028797018963968</td><td>2.1.1.dev2706</td><td>150.93080441449553</td><td>1.5062890913215154</td></tr>\n",
       "<tr><td>5252339</td><td>150.9870525216869</td><td>1.5365314200594755</td><td>0</td><td>7</td><td>True .. False</td><td>0.024210496838312452</td><td>26.978</td><td>26.185</td><td>24.935</td><td>24.475</td><td>24.394</td><td>24.221</td><td>24.06</td><td>-99.029</td><td>-99.021</td><td>-99.014</td><td>-99.009</td><td>0.139</td><td>0.19</td><td>0.028</td><td>0.027</td><td>0.032</td><td>0.039</td><td>0.086</td><td>1000.0</td><td>1000.0</td><td>1000.0</td><td>1000.0</td><td>2.8647</td><td>-99.0</td><td>8</td><td>BXU</td><td>12102</td><td>243316989886720</td><td>True</td><td>3800</td><td>0.0004129842240025994</td><td>4611686018427387904</td><td>36028797018963968</td><td>2.1.1.dev2706</td><td>150.9870525216869</td><td>1.5365314200594755</td></tr>\n",
       "<tr><td>5252415</td><td>151.0268976321305</td><td>1.5291242704260686</td><td>0</td><td>3</td><td>True .. False</td><td>0.025293040781316885</td><td>26.93</td><td>31.915</td><td>25.007</td><td>24.309</td><td>24.146</td><td>24.011</td><td>24.117</td><td>-99.031</td><td>-99.022</td><td>-99.014</td><td>-99.009</td><td>0.129</td><td>1000.0</td><td>0.026</td><td>0.021</td><td>0.023</td><td>0.032</td><td>0.092</td><td>1000.0</td><td>1000.0</td><td>1000.0</td><td>1000.0</td><td>2.948</td><td>-99.0</td><td>8</td><td>BXU</td><td>12103</td><td>243316994081020</td><td>True</td><td>3800</td><td>0.0003303873792021017</td><td>4611686018427387904</td><td>36028797018963968</td><td>2.1.1.dev2706</td><td>151.0268976321305</td><td>1.5291242704260686</td></tr>\n",
       "<tr><td>5253312</td><td>151.01470471813647</td><td>1.6333125661987211</td><td>0</td><td>3</td><td>True .. False</td><td>0.02389449539789144</td><td>25.122</td><td>-99.112</td><td>24.428</td><td>24.278</td><td>24.245</td><td>23.892</td><td>24.289</td><td>-99.029</td><td>-99.021</td><td>-99.013</td><td>-99.009</td><td>0.095</td><td>-99.0</td><td>0.062</td><td>0.089</td><td>0.111</td><td>0.118</td><td>0.462</td><td>1000.0</td><td>1000.0</td><td>1000.0</td><td>1000.0</td><td>2.2627</td><td>-99.0</td><td>8</td><td>BXU</td><td>12104</td><td>243323033878765</td><td>True</td><td>3800</td><td>0.00024779053440160403</td><td>4611686018427387904</td><td>36028797018963968</td><td>2.1.1.dev2706</td><td>151.01470471813647</td><td>1.6333125661987211</td></tr>\n",
       "<tr><td>5253841</td><td>150.97606404223887</td><td>1.7056557137213704</td><td>0</td><td>7</td><td>True .. False</td><td>0.020370024124905975</td><td>24.654</td><td>24.725</td><td>24.397</td><td>24.457</td><td>24.379</td><td>24.34</td><td>24.775</td><td>-99.025</td><td>-99.018</td><td>-99.011</td><td>-99.007</td><td>0.026</td><td>0.042</td><td>0.02</td><td>0.031</td><td>0.037</td><td>0.056</td><td>0.208</td><td>1000.0</td><td>1000.0</td><td>1000.0</td><td>1000.0</td><td>2.1263</td><td>-99.0</td><td>8</td><td>BXU</td><td>12105</td><td>243323029684506</td><td>True</td><td>3800</td><td>0.00016519368960110636</td><td>4611686018427387904</td><td>36028797018963968</td><td>2.1.1.dev2706</td><td>150.97606404223887</td><td>1.7056557137213704</td></tr>\n",
       "<tr><td>5254314</td><td>150.90054137224266</td><td>1.809623158694348</td><td>0</td><td>7</td><td>True .. False</td><td>0.01949961551891887</td><td>25.983</td><td>25.775</td><td>24.674</td><td>24.258</td><td>24.189</td><td>24.099</td><td>24.088</td><td>-99.024</td><td>-99.017</td><td>-99.011</td><td>-99.007</td><td>0.062</td><td>0.086</td><td>0.021</td><td>0.022</td><td>0.025</td><td>0.036</td><td>0.075</td><td>1000.0</td><td>1000.0</td><td>1000.0</td><td>1000.0</td><td>2.7607</td><td>-99.0</td><td>8</td><td>BXU</td><td>12106</td><td>243323029684507</td><td>True</td><td>3800</td><td>8.259684480049767e-05</td><td>4611686018427387904</td><td>36028797018963968</td><td>2.1.1.dev2706</td><td>150.90054137224266</td><td>1.809623158694348</td></tr>\n",
       "<tr><td>5254996</td><td>150.89816369794585</td><td>1.9215185324036328</td><td>0</td><td>71</td><td>True .. True</td><td>0.019153966060309557</td><td>28.841</td><td>28.444</td><td>25.541</td><td>24.445</td><td>24.243</td><td>24.107</td><td>24.265</td><td>-99.023</td><td>-99.017</td><td>-99.011</td><td>-99.007</td><td>0.699</td><td>0.719</td><td>0.035</td><td>0.018</td><td>0.017</td><td>0.026</td><td>0.058</td><td>1000.0</td><td>1000.0</td><td>1000.0</td><td>1000.0</td><td>3.393</td><td>-99.0</td><td>8</td><td>BXU</td><td>12107</td><td>243329069482056</td><td>True</td><td>3800</td><td>0.0</td><td>4611686018427387904</td><td>36028797018963968</td><td>2.1.1.dev2706</td><td>150.89816369794585</td><td>1.9215185324036328</td></tr>\n",
       "</table></div>"
      ],
      "text/plain": [
       "<Table length=12108>\n",
       "   ID           RA         ...     TARGET_RA          TARGET_DEC    \n",
       "                           ...        deg                deg        \n",
       " int64       float64       ...      float64            float64      \n",
       "------- ------------------ ... ------------------ ------------------\n",
       "   8419  149.4617628929257 ...  149.4617628929257 2.9903850477809484\n",
       "  88187 149.37526777692952 ... 149.37526777692952 2.9556887260343148\n",
       " 100735 149.37250768438415 ... 149.37250768438415  3.080247775303863\n",
       " 106891 149.26462324656055 ... 149.26462324656055  3.138785382887629\n",
       " 111902 149.40201064798677 ... 149.40201064798677  3.188692373436244\n",
       " 179692  149.2142386139038 ...  149.2142386139038  3.035434124404831\n",
       " 187353 149.21004001927372 ... 149.21004001927372 3.1048311728256377\n",
       " 207591 149.06917248324245 ... 149.06917248324245  3.295965274880494\n",
       " 281969 148.94066654619888 ... 148.94066654619888 3.1817781279042285\n",
       "    ...                ... ...                ...                ...\n",
       "5249732 150.90979211728876 ... 150.90979211728876 1.4224543365048643\n",
       "5250096  150.9128235703681 ...  150.9128235703681 1.4424115007187652\n",
       "5250767 150.98780650052058 ... 150.98780650052058  1.471027745411431\n",
       "5251456 150.93080441449553 ... 150.93080441449553 1.5062890913215154\n",
       "5252339  150.9870525216869 ...  150.9870525216869 1.5365314200594755\n",
       "5252415  151.0268976321305 ...  151.0268976321305 1.5291242704260686\n",
       "5253312 151.01470471813647 ... 151.01470471813647 1.6333125661987211\n",
       "5253841 150.97606404223887 ... 150.97606404223887 1.7056557137213704\n",
       "5254314 150.90054137224266 ... 150.90054137224266  1.809623158694348\n",
       "5254996 150.89816369794585 ... 150.89816369794585 1.9215185324036328"
      ]
     },
     "execution_count": 24,
     "metadata": {},
     "output_type": "execute_result"
    }
   ],
   "source": [
    "targets_gold_bxu = join(targets_bxu, scnd_bxu, keys='SCND_ORDER', join_type='left')\n",
    "targets_gold_bxu"
   ]
  },
  {
   "cell_type": "code",
   "execution_count": 25,
   "id": "6b4e2a69-c651-456d-ad0d-bec39de195bd",
   "metadata": {},
   "outputs": [],
   "source": [
    "targets_gold_bxu['DELTA_RA']  = targets_gold_bxu['TARGET_RA'] - targets_gold_bxu['RA']\n",
    "targets_gold_bxu['DELTA_DEC'] = targets_gold_bxu['TARGET_DEC'] - targets_gold_bxu['DEC']"
   ]
  },
  {
   "cell_type": "code",
   "execution_count": 26,
   "id": "1d14927d-a701-4d88-b876-14b5d8853d81",
   "metadata": {},
   "outputs": [
    {
     "data": {
      "text/html": [
       "<div><i>Table length=12108</i>\n",
       "<table id=\"table46914495467472\" class=\"table-striped table-bordered table-condensed\">\n",
       "<thead><tr><th>TARGET_RA</th><th>RA</th><th>DELTA_RA</th><th>TARGET_DEC</th><th>DEC</th><th>DELTA_DEC</th></tr></thead>\n",
       "<thead><tr><th>deg</th><th></th><th>deg</th><th>deg</th><th></th><th>deg</th></tr></thead>\n",
       "<thead><tr><th>float64</th><th>float64</th><th>float64</th><th>float64</th><th>float64</th><th>float64</th></tr></thead>\n",
       "<tr><td>149.4617628929257</td><td>149.4617628929257</td><td>0.0</td><td>2.9903850477809484</td><td>2.9903850477809484</td><td>0.0</td></tr>\n",
       "<tr><td>149.37526777692952</td><td>149.37526777692952</td><td>0.0</td><td>2.9556887260343148</td><td>2.9556887260343148</td><td>0.0</td></tr>\n",
       "<tr><td>149.37250768438415</td><td>149.37250768438415</td><td>0.0</td><td>3.080247775303863</td><td>3.080247775303863</td><td>0.0</td></tr>\n",
       "<tr><td>149.26462324656055</td><td>149.26462324656055</td><td>0.0</td><td>3.138785382887629</td><td>3.138785382887629</td><td>0.0</td></tr>\n",
       "<tr><td>149.40201064798677</td><td>149.40201064798677</td><td>0.0</td><td>3.188692373436244</td><td>3.188692373436244</td><td>0.0</td></tr>\n",
       "<tr><td>149.2142386139038</td><td>149.2142386139038</td><td>0.0</td><td>3.035434124404831</td><td>3.035434124404831</td><td>0.0</td></tr>\n",
       "<tr><td>149.21004001927372</td><td>149.21004001927372</td><td>0.0</td><td>3.1048311728256377</td><td>3.1048311728256377</td><td>0.0</td></tr>\n",
       "<tr><td>149.06917248324245</td><td>149.06917248324245</td><td>0.0</td><td>3.295965274880494</td><td>3.295965274880494</td><td>0.0</td></tr>\n",
       "<tr><td>148.94066654619888</td><td>148.94066654619888</td><td>0.0</td><td>3.1817781279042285</td><td>3.1817781279042285</td><td>0.0</td></tr>\n",
       "<tr><td>...</td><td>...</td><td>...</td><td>...</td><td>...</td><td>...</td></tr>\n",
       "<tr><td>150.90979211728876</td><td>150.90979211728876</td><td>0.0</td><td>1.4224543365048643</td><td>1.4224543365048643</td><td>0.0</td></tr>\n",
       "<tr><td>150.9128235703681</td><td>150.9128235703681</td><td>0.0</td><td>1.4424115007187652</td><td>1.4424115007187652</td><td>0.0</td></tr>\n",
       "<tr><td>150.98780650052058</td><td>150.98780650052058</td><td>0.0</td><td>1.471027745411431</td><td>1.471027745411431</td><td>0.0</td></tr>\n",
       "<tr><td>150.93080441449553</td><td>150.93080441449553</td><td>0.0</td><td>1.5062890913215154</td><td>1.5062890913215154</td><td>0.0</td></tr>\n",
       "<tr><td>150.9870525216869</td><td>150.9870525216869</td><td>0.0</td><td>1.5365314200594755</td><td>1.5365314200594755</td><td>0.0</td></tr>\n",
       "<tr><td>151.0268976321305</td><td>151.0268976321305</td><td>0.0</td><td>1.5291242704260686</td><td>1.5291242704260686</td><td>0.0</td></tr>\n",
       "<tr><td>151.01470471813647</td><td>151.01470471813647</td><td>0.0</td><td>1.6333125661987211</td><td>1.6333125661987211</td><td>0.0</td></tr>\n",
       "<tr><td>150.97606404223887</td><td>150.97606404223887</td><td>0.0</td><td>1.7056557137213704</td><td>1.7056557137213704</td><td>0.0</td></tr>\n",
       "<tr><td>150.90054137224266</td><td>150.90054137224266</td><td>0.0</td><td>1.809623158694348</td><td>1.809623158694348</td><td>0.0</td></tr>\n",
       "<tr><td>150.89816369794585</td><td>150.89816369794585</td><td>0.0</td><td>1.9215185324036328</td><td>1.9215185324036328</td><td>0.0</td></tr>\n",
       "</table></div>"
      ],
      "text/plain": [
       "<Table length=12108>\n",
       "    TARGET_RA              RA         DELTA_RA ...        DEC         DELTA_DEC\n",
       "       deg                              deg    ...                       deg   \n",
       "     float64            float64       float64  ...      float64        float64 \n",
       "------------------ ------------------ -------- ... ------------------ ---------\n",
       " 149.4617628929257  149.4617628929257      0.0 ... 2.9903850477809484       0.0\n",
       "149.37526777692952 149.37526777692952      0.0 ... 2.9556887260343148       0.0\n",
       "149.37250768438415 149.37250768438415      0.0 ...  3.080247775303863       0.0\n",
       "149.26462324656055 149.26462324656055      0.0 ...  3.138785382887629       0.0\n",
       "149.40201064798677 149.40201064798677      0.0 ...  3.188692373436244       0.0\n",
       " 149.2142386139038  149.2142386139038      0.0 ...  3.035434124404831       0.0\n",
       "149.21004001927372 149.21004001927372      0.0 ... 3.1048311728256377       0.0\n",
       "149.06917248324245 149.06917248324245      0.0 ...  3.295965274880494       0.0\n",
       "148.94066654619888 148.94066654619888      0.0 ... 3.1817781279042285       0.0\n",
       "               ...                ...      ... ...                ...       ...\n",
       "150.90979211728876 150.90979211728876      0.0 ... 1.4224543365048643       0.0\n",
       " 150.9128235703681  150.9128235703681      0.0 ... 1.4424115007187652       0.0\n",
       "150.98780650052058 150.98780650052058      0.0 ...  1.471027745411431       0.0\n",
       "150.93080441449553 150.93080441449553      0.0 ... 1.5062890913215154       0.0\n",
       " 150.9870525216869  150.9870525216869      0.0 ... 1.5365314200594755       0.0\n",
       " 151.0268976321305  151.0268976321305      0.0 ... 1.5291242704260686       0.0\n",
       "151.01470471813647 151.01470471813647      0.0 ... 1.6333125661987211       0.0\n",
       "150.97606404223887 150.97606404223887      0.0 ... 1.7056557137213704       0.0\n",
       "150.90054137224266 150.90054137224266      0.0 ...  1.809623158694348       0.0\n",
       "150.89816369794585 150.89816369794585      0.0 ... 1.9215185324036328       0.0"
      ]
     },
     "execution_count": 26,
     "metadata": {},
     "output_type": "execute_result"
    }
   ],
   "source": [
    "targets_gold_bxu['TARGET_RA', 'RA', 'DELTA_RA', 'TARGET_DEC', 'DEC', 'DELTA_DEC']"
   ]
  },
  {
   "cell_type": "code",
   "execution_count": 27,
   "id": "9d8312d3-3f89-4050-add9-ef8c3a28c895",
   "metadata": {},
   "outputs": [
    {
     "data": {
      "text/html": [
       "<div><i>Table length=194</i>\n",
       "<table id=\"table46914486234656\" class=\"table-striped table-bordered table-condensed\">\n",
       "<thead><tr><th>TARGETID</th><th>TILEID</th><th>SPEC_VERSION</th><th>REDROCK_Z</th><th>REDROCK_DELTACHI2</th><th>VI_SCANNER</th><th>VI_QUALITY</th><th>VI_ISSUE</th><th>VI_Z</th><th>VI_SPECTYPE</th><th>VI_COMMENT</th><th>DESILBG_TYPE</th><th>PETAL</th><th>SPLIT</th></tr></thead>\n",
       "<thead><tr><th>int64</th><th>int64</th><th>str14</th><th>float64</th><th>float64</th><th>str4</th><th>int64</th><th>int64</th><th>float64</th><th>str21</th><th>str78</th><th>str3</th><th>str1</th><th>str7</th></tr></thead>\n",
       "<tr><td>243310933311516</td><td>80871</td><td>0.47.1.dev6182</td><td>1.3841</td><td>7.5</td><td>MJW</td><td>3</td><td>--</td><td>3.583</td><td>--</td><td>Sig. Lya; Si IV; Si II; SV;</td><td>BXU</td><td>0</td><td>1</td></tr>\n",
       "<tr><td>243310937505846</td><td>80871</td><td>0.47.1.dev6182</td><td>0.0006</td><td>87.1</td><td>MJW</td><td>3</td><td>--</td><td>0.0006</td><td>--</td><td>--</td><td>BXU</td><td>0</td><td>1</td></tr>\n",
       "<tr><td>243310937505870</td><td>80871</td><td>0.47.1.dev6182</td><td>0.53</td><td>4.7</td><td>MJW</td><td>3</td><td>--</td><td>2.4942</td><td>--</td><td>Sig. Lya; Si IV;</td><td>BXU</td><td>0</td><td>1</td></tr>\n",
       "<tr><td>243310937505819</td><td>80871</td><td>0.47.1.dev6182</td><td>0.5178</td><td>4.1</td><td>MJW</td><td>3</td><td>--</td><td>2.4978</td><td>--</td><td>Sig. Lya</td><td>BXU</td><td>0</td><td>1</td></tr>\n",
       "<tr><td>243310933311518</td><td>80871</td><td>0.47.1.dev6182</td><td>0.1887</td><td>6.3</td><td>MJW</td><td>3</td><td>--</td><td>3.8987</td><td>--</td><td>Sig. Lya; CII; SiV</td><td>BXU</td><td>0</td><td>1</td></tr>\n",
       "<tr><td>243304893513751</td><td>80871</td><td>0.47.1.dev6182</td><td>1.6283</td><td>0.6</td><td>MJW</td><td>3</td><td>--</td><td>2.7999</td><td>--</td><td>Sig. Lya; LyB? SiII; SiV;</td><td>BXU</td><td>0</td><td>1</td></tr>\n",
       "<tr><td>243316973109325</td><td>80871</td><td>0.47.1.dev6182</td><td>2.9302</td><td>495.7</td><td>MJW</td><td>4</td><td>--</td><td>2.9302</td><td>--</td><td>--</td><td>BXU</td><td>0</td><td>1</td></tr>\n",
       "<tr><td>243323017101380</td><td>80871</td><td>0.47.1.dev6182</td><td>0.4883</td><td>12.3</td><td>MJW</td><td>3</td><td>--</td><td>3.1847</td><td>--</td><td>Sig. Lya;</td><td>BXU</td><td>0</td><td>1</td></tr>\n",
       "<tr><td>243323021295803</td><td>80871</td><td>0.47.1.dev6182</td><td>0.2958</td><td>8.1</td><td>MJW</td><td>3</td><td>--</td><td>2.9158</td><td>--</td><td>Sig. asym. Lya</td><td>BXU</td><td>0</td><td>1</td></tr>\n",
       "<tr><td>243316977303667</td><td>80871</td><td>0.47.1.dev6182</td><td>2.8048</td><td>2.7</td><td>MJW</td><td>4</td><td>--</td><td>2.8048</td><td>--</td><td>Boomer</td><td>BXU</td><td>0</td><td>1</td></tr>\n",
       "<tr><td>...</td><td>...</td><td>...</td><td>...</td><td>...</td><td>...</td><td>...</td><td>...</td><td>...</td><td>...</td><td>...</td><td>...</td><td>...</td><td>...</td></tr>\n",
       "<tr><td>243347163709495</td><td>80871</td><td>0.47.1.dev6182</td><td>1.5</td><td>9.4</td><td>MJW</td><td>3</td><td>--</td><td>2.77</td><td>--</td><td>Broad peak; Lya? Marginal 3/2;</td><td>BXU</td><td>4</td><td>2</td></tr>\n",
       "<tr><td>243341128106068</td><td>80871</td><td>0.47.1.dev6182</td><td>1.6281</td><td>15.4</td><td>MJW</td><td>4</td><td>--</td><td>2.8981</td><td>--</td><td>Lya; HeII; CIII; CIV;</td><td>BXU</td><td>4</td><td>2</td></tr>\n",
       "<tr><td>243347167903832</td><td>80871</td><td>0.47.1.dev6182</td><td>2.7405</td><td>80.4</td><td>MJW</td><td>4</td><td>--</td><td>2.7405</td><td>--</td><td>Strong Lya; Si IV doublet; Si II;</td><td>BXU</td><td>4</td><td>2</td></tr>\n",
       "<tr><td>243341128106056</td><td>80871</td><td>0.47.1.dev6182</td><td>0.6628</td><td>8.1</td><td>MJW</td><td>4</td><td>--</td><td>3.37</td><td>--</td><td>Lya; CIII;</td><td>BXU</td><td>4</td><td>2</td></tr>\n",
       "<tr><td>243341132300350</td><td>80871</td><td>0.47.1.dev6182</td><td>0.5235</td><td>8.9</td><td>MJW</td><td>3</td><td>--</td><td>2.52</td><td>--</td><td>Strong Lya; CIII? SiII;</td><td>BXU</td><td>4</td><td>2</td></tr>\n",
       "<tr><td>243353207701579</td><td>80871</td><td>0.47.1.dev6182</td><td>2.5147</td><td>1225.3</td><td>MJW</td><td>4</td><td>--</td><td>2.5147</td><td>--</td><td>Boomer; Strong Lya; NV; CIV; HeII; CIII;</td><td>BXU</td><td>4</td><td>2</td></tr>\n",
       "<tr><td>243353211895928</td><td>80871</td><td>0.47.1.dev6182</td><td>3.0748</td><td>41.7</td><td>MJW</td><td>3</td><td>--</td><td>3.0567</td><td>--</td><td>Sig. Lya; Si II;</td><td>BXU</td><td>4</td><td>2</td></tr>\n",
       "<tr><td>243353211895947</td><td>80871</td><td>0.47.1.dev6182</td><td>1.555</td><td>3.8</td><td>MJW</td><td>3</td><td>--</td><td>2.825</td><td>--</td><td>Lya; Si II;</td><td>BXU</td><td>4</td><td>2</td></tr>\n",
       "<tr><td>243353211895908</td><td>80871</td><td>0.47.1.dev6182</td><td>3.2848</td><td>16.4</td><td>MJW</td><td>3</td><td>--</td><td>2.2799</td><td>--</td><td>Break; NV; Si II*; CII;</td><td>BXU</td><td>4</td><td>2</td></tr>\n",
       "<tr><td>243359234916424</td><td>80871</td><td>0.47.1.dev6182</td><td>2.8504</td><td>781.9</td><td>MJW</td><td>3</td><td>--</td><td>2.8504</td><td>--</td><td>Strong asym. Lya;</td><td>BXU</td><td>4</td><td>2</td></tr>\n",
       "</table></div>"
      ],
      "text/plain": [
       "<Table length=194>\n",
       "    TARGETID    TILEID  SPEC_VERSION  REDROCK_Z ... DESILBG_TYPE PETAL SPLIT\n",
       "     int64      int64      str14       float64  ...     str3      str1  str7\n",
       "--------------- ------ -------------- --------- ... ------------ ----- -----\n",
       "243310933311516  80871 0.47.1.dev6182    1.3841 ...          BXU     0     1\n",
       "243310937505846  80871 0.47.1.dev6182    0.0006 ...          BXU     0     1\n",
       "243310937505870  80871 0.47.1.dev6182      0.53 ...          BXU     0     1\n",
       "243310937505819  80871 0.47.1.dev6182    0.5178 ...          BXU     0     1\n",
       "243310933311518  80871 0.47.1.dev6182    0.1887 ...          BXU     0     1\n",
       "243304893513751  80871 0.47.1.dev6182    1.6283 ...          BXU     0     1\n",
       "243316973109325  80871 0.47.1.dev6182    2.9302 ...          BXU     0     1\n",
       "243323017101380  80871 0.47.1.dev6182    0.4883 ...          BXU     0     1\n",
       "243323021295803  80871 0.47.1.dev6182    0.2958 ...          BXU     0     1\n",
       "243316977303667  80871 0.47.1.dev6182    2.8048 ...          BXU     0     1\n",
       "            ...    ...            ...       ... ...          ...   ...   ...\n",
       "243347163709495  80871 0.47.1.dev6182       1.5 ...          BXU     4     2\n",
       "243341128106068  80871 0.47.1.dev6182    1.6281 ...          BXU     4     2\n",
       "243347167903832  80871 0.47.1.dev6182    2.7405 ...          BXU     4     2\n",
       "243341128106056  80871 0.47.1.dev6182    0.6628 ...          BXU     4     2\n",
       "243341132300350  80871 0.47.1.dev6182    0.5235 ...          BXU     4     2\n",
       "243353207701579  80871 0.47.1.dev6182    2.5147 ...          BXU     4     2\n",
       "243353211895928  80871 0.47.1.dev6182    3.0748 ...          BXU     4     2\n",
       "243353211895947  80871 0.47.1.dev6182     1.555 ...          BXU     4     2\n",
       "243353211895908  80871 0.47.1.dev6182    3.2848 ...          BXU     4     2\n",
       "243359234916424  80871 0.47.1.dev6182    2.8504 ...          BXU     4     2"
      ]
     },
     "execution_count": 27,
     "metadata": {},
     "output_type": "execute_result"
    }
   ],
   "source": [
    "desilbg_gold_bxu = desilbg_gold[desilbg_gold['DESILBG_TYPE'] == 'BXU']\n",
    "desilbg_gold_bxu"
   ]
  },
  {
   "cell_type": "code",
   "execution_count": 28,
   "id": "33f73637-9f4d-49db-9b39-4af7b86672ce",
   "metadata": {},
   "outputs": [],
   "source": [
    "desilbg_gold_bxu = join(desilbg_gold_bxu,\\\n",
    "                        targets_gold_bxu[np.isin(targets_gold_bxu['TARGETID'], desilbg_gold_bxu['TARGETID'])],\\\n",
    "                        join_type='left',\\\n",
    "                        keys='TARGETID')"
   ]
  },
  {
   "cell_type": "code",
   "execution_count": 29,
   "id": "f168df7a-fc0c-4498-bae0-050f975eaf5d",
   "metadata": {},
   "outputs": [
    {
     "data": {
      "text/html": [
       "<div><i>Table length=194</i>\n",
       "<table id=\"table46914484878784\" class=\"table-striped table-bordered table-condensed\">\n",
       "<thead><tr><th>TARGETID</th><th>TILEID</th><th>SPEC_VERSION</th><th>REDROCK_Z</th><th>REDROCK_DELTACHI2</th><th>VI_SCANNER</th><th>VI_QUALITY</th><th>VI_ISSUE</th><th>VI_Z</th><th>VI_SPECTYPE</th><th>VI_COMMENT</th><th>DESILBG_TYPE_1</th><th>PETAL</th><th>SPLIT</th><th>ID</th><th>RA</th><th>DEC</th><th>MASK</th><th>FLAG_FIELD</th><th>FLAG_FIELD_BINARY [7]</th><th>EB_V</th><th>U</th><th>US</th><th>G</th><th>R</th><th>I</th><th>Z</th><th>Y</th><th>YV</th><th>J</th><th>H</th><th>KS</th><th>U_ERR</th><th>US_ERR</th><th>G_ERR</th><th>R_ERR</th><th>I_ERR</th><th>Z_ERR</th><th>Y_ERR</th><th>YV_ERR</th><th>J_ERR</th><th>H_ERR</th><th>KS_ERR</th><th>Z_BC03</th><th>Z_SPEC</th><th>IDX</th><th>DESILBG_TYPE_2</th><th>SCND_ORDER</th><th>OVERRIDE</th><th>PRIORITY_INIT</th><th>SUBPRIORITY</th><th>SV1_DESI_TARGET</th><th>SV1_SCND_TARGET</th><th>VERSION</th><th>TARGET_RA</th><th>TARGET_DEC</th><th>DELTA_RA</th><th>DELTA_DEC</th></tr></thead>\n",
       "<thead><tr><th></th><th></th><th></th><th></th><th></th><th></th><th></th><th></th><th></th><th></th><th></th><th></th><th></th><th></th><th></th><th></th><th></th><th></th><th></th><th></th><th></th><th></th><th></th><th></th><th></th><th></th><th></th><th></th><th></th><th></th><th></th><th></th><th></th><th></th><th></th><th></th><th></th><th></th><th></th><th></th><th></th><th></th><th></th><th></th><th></th><th></th><th></th><th></th><th></th><th></th><th></th><th></th><th></th><th></th><th>deg</th><th>deg</th><th>deg</th><th>deg</th></tr></thead>\n",
       "<thead><tr><th>int64</th><th>int64</th><th>str14</th><th>float64</th><th>float64</th><th>str4</th><th>int64</th><th>int64</th><th>float64</th><th>str21</th><th>str78</th><th>str3</th><th>str1</th><th>str7</th><th>int64</th><th>float64</th><th>float64</th><th>int16</th><th>int16</th><th>bool</th><th>float64</th><th>float64</th><th>float64</th><th>float64</th><th>float64</th><th>float64</th><th>float64</th><th>float64</th><th>float64</th><th>float64</th><th>float64</th><th>float64</th><th>float64</th><th>float64</th><th>float64</th><th>float64</th><th>float64</th><th>float64</th><th>float64</th><th>float64</th><th>float64</th><th>float64</th><th>float64</th><th>float64</th><th>float64</th><th>int64</th><th>str3</th><th>int64</th><th>bool</th><th>int64</th><th>float64</th><th>int64</th><th>int64</th><th>bytes14</th><th>float64</th><th>float64</th><th>float64</th><th>float64</th></tr></thead>\n",
       "<tr><td>243304880930838</td><td>80871</td><td>0.47.1.dev6182</td><td>1.6275</td><td>11.1</td><td>MJW</td><td>3</td><td>--</td><td>3.1388</td><td>--</td><td>Lya; Si II; OI; CII;</td><td>BXU</td><td>1</td><td>2</td><td>2033684</td><td>149.16582646370426</td><td>1.0303770092180866</td><td>0</td><td>7</td><td>True .. False</td><td>0.018471694873973696</td><td>27.55</td><td>27.448</td><td>24.679</td><td>23.928</td><td>23.71</td><td>23.521</td><td>23.508</td><td>-99.022</td><td>-99.016</td><td>-99.01</td><td>-99.007</td><td>0.257</td><td>1.155</td><td>0.027</td><td>0.016</td><td>0.019</td><td>0.023</td><td>0.057</td><td>1000.0</td><td>1000.0</td><td>1000.0</td><td>1000.0</td><td>3.1108</td><td>-99.0</td><td>6</td><td>BXU</td><td>3261</td><td>True</td><td>3800</td><td>0.7306516891054762</td><td>4611686018427387904</td><td>36028797018963968</td><td>2.1.1.dev2706</td><td>149.16582646370426</td><td>1.0303770092180866</td><td>0.0</td><td>0.0</td></tr>\n",
       "<tr><td>243304880930880</td><td>80871</td><td>0.47.1.dev6182</td><td>2.3551</td><td>326.7</td><td>MJW</td><td>3</td><td>--</td><td>2.3551</td><td>--</td><td>Strong Lya; CIII?</td><td>BXU</td><td>1</td><td>1</td><td>2117989</td><td>149.14164399581708</td><td>1.0641104684372835</td><td>0</td><td>3</td><td>True .. False</td><td>0.01841223846290982</td><td>24.849</td><td>24.459</td><td>24.445</td><td>24.481</td><td>24.555</td><td>24.535</td><td>24.331</td><td>-99.022</td><td>-99.016</td><td>-99.01</td><td>-99.007</td><td>0.021</td><td>0.058</td><td>0.021</td><td>0.026</td><td>0.041</td><td>0.06</td><td>0.111</td><td>1000.0</td><td>1000.0</td><td>1000.0</td><td>1000.0</td><td>2.3112</td><td>-99.0</td><td>8</td><td>BXU</td><td>7645</td><td>True</td><td>3800</td><td>0.3685471214999587</td><td>4611686018427387904</td><td>36028797018963968</td><td>2.1.1.dev2706</td><td>149.14164399581708</td><td>1.0641104684372835</td><td>0.0</td><td>0.0</td></tr>\n",
       "<tr><td>243304880930883</td><td>80871</td><td>0.47.1.dev6182</td><td>2.7117</td><td>1281.0</td><td>MJW</td><td>3</td><td>--</td><td>2.7117</td><td>--</td><td>Lya</td><td>BXU</td><td>1</td><td>1</td><td>2120608</td><td>149.12582779419412</td><td>1.09734754947272</td><td>0</td><td>7</td><td>True .. False</td><td>0.018683232418502834</td><td>25.263</td><td>25.308</td><td>24.302</td><td>24.308</td><td>24.333</td><td>24.285</td><td>24.316</td><td>-99.023</td><td>-99.016</td><td>-99.01</td><td>-99.007</td><td>0.031</td><td>0.094</td><td>0.018</td><td>0.022</td><td>0.034</td><td>0.045</td><td>0.111</td><td>1000.0</td><td>1000.0</td><td>1000.0</td><td>1000.0</td><td>2.7401</td><td>-99.0</td><td>8</td><td>BXU</td><td>7648</td><td>True</td><td>3800</td><td>0.3682993309655571</td><td>4611686018427387904</td><td>36028797018963968</td><td>2.1.1.dev2706</td><td>149.12582779419412</td><td>1.09734754947272</td><td>0.0</td><td>0.0</td></tr>\n",
       "<tr><td>243304885125139</td><td>80871</td><td>0.47.1.dev6182</td><td>3.228</td><td>317.0</td><td>MJW</td><td>4</td><td>--</td><td>--</td><td>--</td><td>Lyb; Lya; NV; CIV; CIII; LBG good fit</td><td>BXU</td><td>1</td><td>3</td><td>1955617</td><td>149.39824106968544</td><td>1.090128689268041</td><td>0</td><td>7</td><td>True .. False</td><td>0.0210439846239699</td><td>25.926</td><td>26.109</td><td>24.19</td><td>23.85</td><td>23.736</td><td>23.677</td><td>23.467</td><td>-99.025</td><td>-99.018</td><td>-99.012</td><td>-99.008</td><td>0.051</td><td>0.222</td><td>0.014</td><td>0.014</td><td>0.017</td><td>0.023</td><td>0.047</td><td>1000.0</td><td>1000.0</td><td>1000.0</td><td>1000.0</td><td>2.8611</td><td>-99.0</td><td>6</td><td>BXU</td><td>3232</td><td>True</td><td>3800</td><td>0.7330469976046915</td><td>4611686018427387904</td><td>36028797018963968</td><td>2.1.1.dev2706</td><td>149.39824106968544</td><td>1.090128689268041</td><td>0.0</td><td>0.0</td></tr>\n",
       "<tr><td>243304885125145</td><td>80871</td><td>0.47.1.dev6182</td><td>3.4243</td><td>36.0</td><td>MJW</td><td>4</td><td>--</td><td>3.4243</td><td>--</td><td>Boomer</td><td>BXU</td><td>1</td><td>2</td><td>2035535</td><td>149.3103188514349</td><td>1.0501258069620654</td><td>0</td><td>3</td><td>True .. False</td><td>0.02121390036495977</td><td>29.354</td><td>-99.099</td><td>24.61</td><td>23.935</td><td>23.905</td><td>23.843</td><td>23.823</td><td>-99.026</td><td>-99.018</td><td>-99.012</td><td>-99.008</td><td>1.215</td><td>-99.0</td><td>0.021</td><td>0.015</td><td>0.021</td><td>0.029</td><td>0.07</td><td>1000.0</td><td>1000.0</td><td>1000.0</td><td>1000.0</td><td>3.3188</td><td>-99.0</td><td>6</td><td>BXU</td><td>3263</td><td>True</td><td>3800</td><td>0.7304864954158752</td><td>4611686018427387904</td><td>36028797018963968</td><td>2.1.1.dev2706</td><td>149.3103188514349</td><td>1.0501258069620654</td><td>0.0</td><td>0.0</td></tr>\n",
       "<tr><td>243304885125146</td><td>80871</td><td>0.47.1.dev6182</td><td>2.8158</td><td>578.1</td><td>MJW</td><td>4</td><td>--</td><td>2.81</td><td>--</td><td>Strong Lya; Si IV;</td><td>BXU</td><td>1</td><td>3</td><td>2039240</td><td>149.2604682679837</td><td>1.0879560723805026</td><td>0</td><td>7</td><td>True .. False</td><td>0.01894081925660717</td><td>25.376</td><td>24.981</td><td>24.082</td><td>23.791</td><td>23.722</td><td>23.561</td><td>23.447</td><td>-99.023</td><td>-99.016</td><td>-99.011</td><td>-99.007</td><td>0.03</td><td>0.07</td><td>0.012</td><td>0.014</td><td>0.018</td><td>0.022</td><td>0.052</td><td>1000.0</td><td>1000.0</td><td>1000.0</td><td>1000.0</td><td>2.6653</td><td>-99.0</td><td>6</td><td>BXU</td><td>3265</td><td>True</td><td>3800</td><td>0.7303213017262741</td><td>4611686018427387904</td><td>36028797018963968</td><td>2.1.1.dev2706</td><td>149.2604682679837</td><td>1.0879560723805026</td><td>0.0</td><td>0.0</td></tr>\n",
       "<tr><td>243304885125157</td><td>80871</td><td>0.47.1.dev6182</td><td>1.4862</td><td>5.1</td><td>MJW</td><td>3</td><td>--</td><td>3.0462</td><td>--</td><td>Lya only; mod sig.</td><td>BXU</td><td>1</td><td>3</td><td>1949797</td><td>149.35126883240056</td><td>1.0292476624218398</td><td>0</td><td>7</td><td>True .. False</td><td>0.023037156923859086</td><td>25.273</td><td>25.146</td><td>24.261</td><td>24.011</td><td>24.025</td><td>23.91</td><td>23.836</td><td>-99.028</td><td>-99.02</td><td>-99.013</td><td>-99.008</td><td>0.068</td><td>0.185</td><td>0.035</td><td>0.038</td><td>0.051</td><td>0.068</td><td>0.149</td><td>1000.0</td><td>1000.0</td><td>1000.0</td><td>1000.0</td><td>2.6375</td><td>-99.0</td><td>7</td><td>BXU</td><td>4995</td><td>True</td><td>3800</td><td>0.5874287602213595</td><td>4611686018427387904</td><td>36028797018963968</td><td>2.1.1.dev2706</td><td>149.35126883240056</td><td>1.0292476624218398</td><td>0.0</td><td>0.0</td></tr>\n",
       "<tr><td>243304885125162</td><td>80871</td><td>0.47.1.dev6182</td><td>2.4716</td><td>2017.3</td><td>MJW</td><td>4</td><td>--</td><td>2.4716</td><td>--</td><td>--</td><td>BXU</td><td>1</td><td>2</td><td>1956319</td><td>149.3518343884218</td><td>1.0968144201739831</td><td>0</td><td>7</td><td>True .. False</td><td>0.020834909203480786</td><td>24.412</td><td>24.578</td><td>24.033</td><td>24.146</td><td>24.209</td><td>24.209</td><td>24.293</td><td>-99.025</td><td>-99.018</td><td>-99.012</td><td>-99.008</td><td>0.014</td><td>0.052</td><td>0.012</td><td>0.018</td><td>0.025</td><td>0.04</td><td>0.1</td><td>1000.0</td><td>1000.0</td><td>1000.0</td><td>1000.0</td><td>2.4708</td><td>-99.0</td><td>7</td><td>BXU</td><td>5000</td><td>True</td><td>3800</td><td>0.5870157759973569</td><td>4611686018427387904</td><td>36028797018963968</td><td>2.1.1.dev2706</td><td>149.3518343884218</td><td>1.0968144201739831</td><td>0.0</td><td>0.0</td></tr>\n",
       "<tr><td>243304885125193</td><td>80871</td><td>0.47.1.dev6182</td><td>2.9257</td><td>431.4</td><td>MJW</td><td>4</td><td>--</td><td>2.9257</td><td>--</td><td>--</td><td>BXU</td><td>1</td><td>2</td><td>1949390</td><td>149.41919447167302</td><td>1.0255831541824227</td><td>0</td><td>7</td><td>True .. False</td><td>0.02261812335797039</td><td>25.816</td><td>25.729</td><td>24.636</td><td>24.283</td><td>24.233</td><td>24.247</td><td>24.251</td><td>-99.027</td><td>-99.02</td><td>-99.013</td><td>-99.008</td><td>0.047</td><td>0.144</td><td>0.02</td><td>0.021</td><td>0.028</td><td>0.041</td><td>0.104</td><td>1000.0</td><td>1000.0</td><td>1000.0</td><td>1000.0</td><td>2.7609</td><td>-99.0</td><td>8</td><td>BXU</td><td>7108</td><td>True</td><td>3800</td><td>0.4129016271578426</td><td>4611686018427387904</td><td>36028797018963968</td><td>2.1.1.dev2706</td><td>149.41919447167302</td><td>1.0255831541824227</td><td>0.0</td><td>0.0</td></tr>\n",
       "<tr><td>...</td><td>...</td><td>...</td><td>...</td><td>...</td><td>...</td><td>...</td><td>...</td><td>...</td><td>...</td><td>...</td><td>...</td><td>...</td><td>...</td><td>...</td><td>...</td><td>...</td><td>...</td><td>...</td><td>...</td><td>...</td><td>...</td><td>...</td><td>...</td><td>...</td><td>...</td><td>...</td><td>...</td><td>...</td><td>...</td><td>...</td><td>...</td><td>...</td><td>...</td><td>...</td><td>...</td><td>...</td><td>...</td><td>...</td><td>...</td><td>...</td><td>...</td><td>...</td><td>...</td><td>...</td><td>...</td><td>...</td><td>...</td><td>...</td><td>...</td><td>...</td><td>...</td><td>...</td><td>...</td><td>...</td><td>...</td><td>...</td><td>...</td></tr>\n",
       "<tr><td>243359239110685</td><td>80871</td><td>0.47.1.dev6182</td><td>0.0637</td><td>129.3</td><td>MJW</td><td>3</td><td>--</td><td>3.373</td><td>--</td><td>Lyb abs; Lya; Si II; OI;</td><td>BXU</td><td>4</td><td>1</td><td>28571</td><td>149.4569754502359</td><td>3.2085323921222733</td><td>0</td><td>7</td><td>True .. False</td><td>0.027804081937615455</td><td>28.827</td><td>27.589</td><td>25.058</td><td>24.237</td><td>24.053</td><td>23.853</td><td>23.91</td><td>-99.034</td><td>-99.024</td><td>-99.016</td><td>-99.01</td><td>1.252</td><td>1.229</td><td>0.032</td><td>0.021</td><td>0.024</td><td>0.03</td><td>0.078</td><td>1000.0</td><td>1000.0</td><td>1000.0</td><td>1000.0</td><td>3.2088</td><td>-99.0</td><td>7</td><td>BXU</td><td>1180</td><td>True</td><td>3800</td><td>0.9025357231353762</td><td>4611686018427387904</td><td>36028797018963968</td><td>2.1.1.dev2706</td><td>149.4569754502359</td><td>3.2085323921222733</td><td>0.0</td><td>0.0</td></tr>\n",
       "<tr><td>243359239110688</td><td>80871</td><td>0.47.1.dev6182</td><td>0.0859</td><td>3413.8</td><td>MJW</td><td>4</td><td>--</td><td>0.0859</td><td>--</td><td>Star forming; OII; Hb; OIII; Ha;</td><td>BXU</td><td>4</td><td>1</td><td>107613</td><td>149.3418499053867</td><td>3.1471036281087006</td><td>0</td><td>7</td><td>True .. False</td><td>0.024847416971692432</td><td>25.078</td><td>25.019</td><td>24.292</td><td>24.22</td><td>23.934</td><td>23.931</td><td>24.019</td><td>-99.03</td><td>-99.022</td><td>-99.014</td><td>-99.009</td><td>0.033</td><td>0.068</td><td>0.016</td><td>0.021</td><td>0.02</td><td>0.032</td><td>0.084</td><td>1000.0</td><td>1000.0</td><td>1000.0</td><td>1000.0</td><td>0.085</td><td>-99.0</td><td>7</td><td>BXU</td><td>1212</td><td>True</td><td>3800</td><td>0.8998926241017593</td><td>4611686018427387904</td><td>36028797018963968</td><td>2.1.1.dev2706</td><td>149.3418499053867</td><td>3.1471036281087006</td><td>0.0</td><td>0.0</td></tr>\n",
       "<tr><td>243359243304973</td><td>80871</td><td>0.47.1.dev6182</td><td>0.7764</td><td>0.5</td><td>MJW</td><td>4</td><td>--</td><td>2.77</td><td>--</td><td>Lya; NV; Si II; OI; Al II;</td><td>BXU</td><td>4</td><td>1</td><td>22210</td><td>149.5123148826509</td><td>3.151496255615512</td><td>0</td><td>7</td><td>True .. False</td><td>0.024978639545478343</td><td>25.831</td><td>25.359</td><td>24.406</td><td>23.949</td><td>23.84</td><td>23.847</td><td>23.908</td><td>-99.03</td><td>-99.022</td><td>-99.014</td><td>-99.009</td><td>0.087</td><td>0.146</td><td>0.027</td><td>0.024</td><td>0.03</td><td>0.046</td><td>0.115</td><td>1000.0</td><td>1000.0</td><td>1000.0</td><td>1000.0</td><td>2.8431</td><td>-99.0</td><td>6</td><td>BXU</td><td>968</td><td>True</td><td>3800</td><td>0.9200462542330883</td><td>4611686018427387904</td><td>36028797018963968</td><td>2.1.1.dev2706</td><td>149.5123148826509</td><td>3.151496255615512</td><td>0.0</td><td>0.0</td></tr>\n",
       "<tr><td>243359243304978</td><td>80871</td><td>0.47.1.dev6182</td><td>0.8381</td><td>15.3</td><td>MJW</td><td>4</td><td>--</td><td>2.86</td><td>--</td><td>Lya; CIV; Si IV; FeII;</td><td>BXU</td><td>4</td><td>1</td><td>23961</td><td>149.4857401321249</td><td>3.168136999080052</td><td>0</td><td>7</td><td>True .. False</td><td>0.026011916211269897</td><td>25.836</td><td>25.582</td><td>24.572</td><td>24.144</td><td>24.036</td><td>23.923</td><td>24.04</td><td>-99.031</td><td>-99.023</td><td>-99.015</td><td>-99.009</td><td>0.054</td><td>0.152</td><td>0.02</td><td>0.018</td><td>0.022</td><td>0.031</td><td>0.089</td><td>1000.0</td><td>1000.0</td><td>1000.0</td><td>1000.0</td><td>2.735</td><td>-99.0</td><td>7</td><td>BXU</td><td>1175</td><td>True</td><td>3800</td><td>0.9029487073593789</td><td>4611686018427387904</td><td>36028797018963968</td><td>2.1.1.dev2706</td><td>149.4857401321249</td><td>3.168136999080052</td><td>0.0</td><td>0.0</td></tr>\n",
       "<tr><td>243359243304984</td><td>80871</td><td>0.47.1.dev6182</td><td>3.0461</td><td>283.1</td><td>MJW</td><td>4</td><td>--</td><td>3.0408</td><td>--</td><td>Lyb abs. Strong Lya; Si II*; CIV; CIII; Si II; OI; Si IV;</td><td>BXU</td><td>4</td><td>1</td><td>40171</td><td>149.53758143415465</td><td>3.3237596767061377</td><td>0</td><td>7</td><td>True .. False</td><td>0.026724189889387788</td><td>26.397</td><td>26.464</td><td>24.46</td><td>24.082</td><td>24.047</td><td>23.948</td><td>23.975</td><td>-99.032</td><td>-99.023</td><td>-99.015</td><td>-99.01</td><td>0.094</td><td>0.256</td><td>0.019</td><td>0.019</td><td>0.023</td><td>0.033</td><td>0.083</td><td>1000.0</td><td>1000.0</td><td>1000.0</td><td>1000.0</td><td>2.9905</td><td>-99.0</td><td>7</td><td>BXU</td><td>1182</td><td>True</td><td>3800</td><td>0.9023705294457751</td><td>4611686018427387904</td><td>36028797018963968</td><td>2.1.1.dev2706</td><td>149.53758143415465</td><td>3.3237596767061377</td><td>0.0</td><td>0.0</td></tr>\n",
       "<tr><td>243359243304986</td><td>80871</td><td>0.47.1.dev6182</td><td>1.5846</td><td>6.8</td><td>MJW</td><td>3</td><td>--</td><td>2.6727</td><td>--</td><td>Strong Lya; Si II;</td><td>BXU</td><td>4</td><td>2</td><td>45121</td><td>149.5796074370617</td><td>3.370419881846717</td><td>0</td><td>7</td><td>True .. False</td><td>0.025006465619571577</td><td>24.987</td><td>24.828</td><td>24.196</td><td>24.01</td><td>24.041</td><td>23.986</td><td>23.992</td><td>-99.03</td><td>-99.022</td><td>-99.014</td><td>-99.009</td><td>0.027</td><td>0.058</td><td>0.018</td><td>0.019</td><td>0.026</td><td>0.037</td><td>0.092</td><td>1000.0</td><td>1000.0</td><td>1000.0</td><td>1000.0</td><td>2.6147</td><td>-99.0</td><td>7</td><td>BXU</td><td>1184</td><td>True</td><td>3800</td><td>0.9022053357561741</td><td>4611686018427387904</td><td>36028797018963968</td><td>2.1.1.dev2706</td><td>149.5796074370617</td><td>3.370419881846717</td><td>0.0</td><td>0.0</td></tr>\n",
       "<tr><td>243359243304998</td><td>80871</td><td>0.47.1.dev6182</td><td>1.632</td><td>18.7</td><td>MJW</td><td>3</td><td>--</td><td>3.112</td><td>--</td><td>Break; CII; Si IV; SV; Lyb;</td><td>BXU</td><td>4</td><td>1</td><td>33889</td><td>149.51396129836954</td><td>3.262411445837099</td><td>0</td><td>7</td><td>True .. False</td><td>0.027665402520638066</td><td>29.895</td><td>29.247</td><td>25.287</td><td>24.387</td><td>24.206</td><td>24.077</td><td>24.176</td><td>-99.033</td><td>-99.024</td><td>-99.016</td><td>-99.01</td><td>2.562</td><td>3.617</td><td>0.041</td><td>0.026</td><td>0.029</td><td>0.038</td><td>0.106</td><td>1000.0</td><td>1000.0</td><td>1000.0</td><td>1000.0</td><td>3.3159</td><td>-99.0</td><td>8</td><td>BXU</td><td>1401</td><td>True</td><td>3800</td><td>0.8842818204344594</td><td>4611686018427387904</td><td>36028797018963968</td><td>2.1.1.dev2706</td><td>149.51396129836954</td><td>3.262411445837099</td><td>0.0</td><td>0.0</td></tr>\n",
       "<tr><td>243359243305018</td><td>80871</td><td>0.47.1.dev6182</td><td>0.4474</td><td>2.9</td><td>MJW</td><td>3</td><td>--</td><td>3.0979</td><td>--</td><td>Lya; OI; Si IV; Si II;</td><td>BXU</td><td>4</td><td>2</td><td>1043534</td><td>149.61246906347077</td><td>3.322377188837947</td><td>0</td><td>7</td><td>True .. False</td><td>0.02432160653137125</td><td>26.277</td><td>25.55</td><td>24.476</td><td>23.974</td><td>23.93</td><td>23.842</td><td>23.965</td><td>-99.029</td><td>-99.021</td><td>-99.014</td><td>-99.009</td><td>0.117</td><td>0.158</td><td>0.027</td><td>0.024</td><td>0.029</td><td>0.042</td><td>0.121</td><td>1000.0</td><td>1000.0</td><td>1000.0</td><td>1000.0</td><td>2.927</td><td>-99.0</td><td>6</td><td>BXU</td><td>2192</td><td>True</td><td>3800</td><td>0.8189477161972413</td><td>4611686018427387904</td><td>36028797018963968</td><td>2.1.1.dev2706</td><td>149.61246906347077</td><td>3.322377188837947</td><td>0.0</td><td>0.0</td></tr>\n",
       "<tr><td>243365270519808</td><td>80871</td><td>0.47.1.dev6182</td><td>0.0547</td><td>104.4</td><td>MJW</td><td>3</td><td>--</td><td>3.3327</td><td>--</td><td>Strong Lya; Lyb; OI? SV? CIV;</td><td>BXU</td><td>4</td><td>1</td><td>133557</td><td>149.23496579471404</td><td>3.393270757447585</td><td>0</td><td>7</td><td>True .. False</td><td>0.025653613970857282</td><td>-99.123</td><td>28.363</td><td>24.324</td><td>23.813</td><td>23.727</td><td>23.711</td><td>23.699</td><td>-99.031</td><td>-99.022</td><td>-99.014</td><td>-99.009</td><td>-99.0</td><td>1.479</td><td>0.022</td><td>0.015</td><td>0.02</td><td>0.029</td><td>0.069</td><td>1000.0</td><td>1000.0</td><td>1000.0</td><td>1000.0</td><td>3.2664</td><td>-99.0</td><td>6</td><td>BXU</td><td>994</td><td>True</td><td>3800</td><td>0.9178987362682746</td><td>4611686018427387904</td><td>36028797018963968</td><td>2.1.1.dev2706</td><td>149.23496579471404</td><td>3.393270757447585</td><td>0.0</td><td>0.0</td></tr>\n",
       "<tr><td>243365274714137</td><td>80871</td><td>0.47.1.dev6182</td><td>-0.0009</td><td>485.6</td><td>MJW</td><td>3</td><td>--</td><td>3.1191</td><td>--</td><td>Strong Lya; Clear BR jump;</td><td>BXU</td><td>4</td><td>2</td><td>1053945</td><td>149.60475450763423</td><td>3.4219545403227136</td><td>0</td><td>7</td><td>True .. False</td><td>0.024605415180585642</td><td>26.843</td><td>26.846</td><td>24.598</td><td>24.477</td><td>24.465</td><td>24.467</td><td>24.196</td><td>-99.03</td><td>-99.021</td><td>-99.014</td><td>-99.009</td><td>0.113</td><td>0.385</td><td>0.019</td><td>0.024</td><td>0.031</td><td>0.048</td><td>0.1</td><td>1000.0</td><td>1000.0</td><td>1000.0</td><td>1000.0</td><td>3.1041</td><td>-99.0</td><td>8</td><td>BXU</td><td>5212</td><td>True</td><td>3800</td><td>0.5695052448996448</td><td>4611686018427387904</td><td>36028797018963968</td><td>2.1.1.dev2706</td><td>149.60475450763423</td><td>3.4219545403227136</td><td>0.0</td><td>0.0</td></tr>\n",
       "</table></div>"
      ],
      "text/plain": [
       "<Table length=194>\n",
       "    TARGETID    TILEID  SPEC_VERSION  ...     TARGET_DEC     DELTA_RA DELTA_DEC\n",
       "                                      ...        deg           deg       deg   \n",
       "     int64      int64      str14      ...      float64       float64   float64 \n",
       "--------------- ------ -------------- ... ------------------ -------- ---------\n",
       "243304880930838  80871 0.47.1.dev6182 ... 1.0303770092180866      0.0       0.0\n",
       "243304880930880  80871 0.47.1.dev6182 ... 1.0641104684372835      0.0       0.0\n",
       "243304880930883  80871 0.47.1.dev6182 ...   1.09734754947272      0.0       0.0\n",
       "243304885125139  80871 0.47.1.dev6182 ...  1.090128689268041      0.0       0.0\n",
       "243304885125145  80871 0.47.1.dev6182 ... 1.0501258069620654      0.0       0.0\n",
       "243304885125146  80871 0.47.1.dev6182 ... 1.0879560723805026      0.0       0.0\n",
       "243304885125157  80871 0.47.1.dev6182 ... 1.0292476624218398      0.0       0.0\n",
       "243304885125162  80871 0.47.1.dev6182 ... 1.0968144201739831      0.0       0.0\n",
       "243304885125193  80871 0.47.1.dev6182 ... 1.0255831541824227      0.0       0.0\n",
       "            ...    ...            ... ...                ...      ...       ...\n",
       "243359239110685  80871 0.47.1.dev6182 ... 3.2085323921222733      0.0       0.0\n",
       "243359239110688  80871 0.47.1.dev6182 ... 3.1471036281087006      0.0       0.0\n",
       "243359243304973  80871 0.47.1.dev6182 ...  3.151496255615512      0.0       0.0\n",
       "243359243304978  80871 0.47.1.dev6182 ...  3.168136999080052      0.0       0.0\n",
       "243359243304984  80871 0.47.1.dev6182 ... 3.3237596767061377      0.0       0.0\n",
       "243359243304986  80871 0.47.1.dev6182 ...  3.370419881846717      0.0       0.0\n",
       "243359243304998  80871 0.47.1.dev6182 ...  3.262411445837099      0.0       0.0\n",
       "243359243305018  80871 0.47.1.dev6182 ...  3.322377188837947      0.0       0.0\n",
       "243365270519808  80871 0.47.1.dev6182 ...  3.393270757447585      0.0       0.0\n",
       "243365274714137  80871 0.47.1.dev6182 ... 3.4219545403227136      0.0       0.0"
      ]
     },
     "execution_count": 29,
     "metadata": {},
     "output_type": "execute_result"
    }
   ],
   "source": [
    "desilbg_gold_bxu"
   ]
  },
  {
   "cell_type": "code",
   "execution_count": 30,
   "id": "1bdc568f-0365-425a-a416-eb242b3c62de",
   "metadata": {},
   "outputs": [
    {
     "data": {
      "text/plain": [
       "Text(0.5, 1.0, 'BXU')"
      ]
     },
     "execution_count": 30,
     "metadata": {},
     "output_type": "execute_result"
    },
    {
     "data": {
      "image/png": "[encoded data removed]",
      "text/plain": [
       "<Figure size 432x288 with 1 Axes>"
      ]
     },
     "metadata": {
      "needs_background": "light"
     },
     "output_type": "display_data"
    }
   ],
   "source": [
    "pl.plot(targets_gold_bxu['G'] - targets_gold_bxu['R'],\\\n",
    "        targets_gold_bxu['U'] - targets_gold_bxu['G'],\\\n",
    "        marker=',',\\\n",
    "        lw=0.0)\n",
    "\n",
    "pl.plot(desilbg_gold_bxu['G'] - desilbg_gold_bxu['R'],\\\n",
    "        desilbg_gold_bxu['U'] - desilbg_gold_bxu['G'],\\\n",
    "        marker='.',\\\n",
    "        markersize=4,\\\n",
    "        lw=0.0)\n",
    "\n",
    "pl.xlabel(r'$(g-r)$')\n",
    "pl.ylabel(r'$(u-g)$')\n",
    "\n",
    "pl.xlim(-.5, 1.3)\n",
    "pl.ylim(-.5, 5.5)\n",
    "\n",
    "pl.title('BXU')"
   ]
  },
  {
   "cell_type": "code",
   "execution_count": 31,
   "id": "b270e808-8027-4763-8f92-7a0b1980db39",
   "metadata": {},
   "outputs": [],
   "source": [
    "desilbg_gold_bxu.write('/global/cscratch1/sd/mjwilson/DESILBGSPEC/vi_cats/desilbg_gold_bxu.fits', format='fits', overwrite=True)"
   ]
  },
  {
   "cell_type": "code",
   "execution_count": 34,
   "id": "a5a94bbc-5f57-4903-a54d-2db44b68a559",
   "metadata": {},
   "outputs": [],
   "source": [
    "# 100. * 194. / 365."
   ]
  },
  {
   "cell_type": "markdown",
   "id": "c57b8263-34c5-458c-a81a-40f3735aea3b",
   "metadata": {},
   "source": [
    "# Done."
   ]
  }
 ],
 "metadata": {
  "kernelspec": {
   "display_name": "DESI master",
   "language": "python",
   "name": "desi-master"
  },
  "language_info": {
   "codemirror_mode": {
    "name": "ipython",
    "version": 3
   },
   "file_extension": ".py",
   "mimetype": "text/x-python",
   "name": "python",
   "nbconvert_exporter": "python",
   "pygments_lexer": "ipython3",
   "version": "3.9.7"
  }
 },
 "nbformat": 4,
 "nbformat_minor": 5
}
