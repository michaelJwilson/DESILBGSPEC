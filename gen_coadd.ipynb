{
 "cells": [
  {
   "cell_type": "code",
   "execution_count": 1,
   "id": "e40eaff2-603b-4f79-b95e-d2a3bfcdaaf3",
   "metadata": {},
   "outputs": [],
   "source": [
    "import os\n",
    "import glob\n",
    "import numpy             as np\n",
    "import astropy.io.fits   as fits\n",
    "\n",
    "from   astropy.table import Table"
   ]
  },
  {
   "cell_type": "code",
   "execution_count": 6,
   "id": "729bae1a-1292-4e66-b826-19841a4514af",
   "metadata": {},
   "outputs": [],
   "source": [
    "exps = Table.read('/global/cfs/cdirs/desi/survey/ops/surveyops/trunk/ops/exposures.ecsv')\n",
    "# exps.pprint(max_lines=-1, max_width=-1)"
   ]
  },
  {
   "cell_type": "code",
   "execution_count": 7,
   "id": "3f756bbb-85b6-4e50-b1ff-1e222cba45ee",
   "metadata": {},
   "outputs": [
    {
     "name": "stdout",
     "output_type": "stream",
     "text": [
      " NIGHT   TILEID EXPID OBSTYPE  PROGRAM    EXPTIME  EFFTIME_ETC EFFTIME_SPEC EFFTIME  GOALTIME QUALITY COMMENTS\n",
      "-------- ------ ----- ------- ---------- --------- ----------- ------------ -------- -------- ------- --------\n",
      "20210314  80871 80481 SCIENCE       Test   101.730      58.090       33.560   33.560     -1.0    good       --\n",
      "20210314  80871 80482 SCIENCE       Test    98.733      55.937       -1.000    0.000     -1.0     bad       --\n",
      "20210314  80871 80483 SCIENCE COSMOS LBG   900.060      -1.000      850.382  850.382     -1.0    good       --\n",
      "20210314  80871 80486 SCIENCE COSMOS LBG   900.045      -1.000      995.616  995.616     -1.0    good       --\n",
      "20210314  80871 80487 SCIENCE COSMOS LBG   900.062      -1.000      662.161  662.161     -1.0    good       --\n",
      "20210314  80871 80488 SCIENCE COSMOS LBG   900.057      -1.000      775.787  775.787     -1.0    good       --\n",
      "20210314  80871 80489 SCIENCE COSMOS LBG   900.060      -1.000      933.214  933.214     -1.0    good       --\n",
      "20210314  80871 80490 SCIENCE COSMOS LBG   900.060      -1.000     1216.671 1216.671     -1.0    good       --\n",
      "20210314  80871 80493 SCIENCE COSMOS LBG   900.068      -1.000      841.878  841.878     -1.0    good       --\n",
      "20210314  80871 80494 SCIENCE COSMOS LBG   900.054      -1.000      959.081  959.081     -1.0    good       --\n",
      "20210408  80871 83970 SCIENCE COSMOS LBG  1220.041      -1.000     1197.046 1197.046     -1.0    good       --\n",
      "20210408  80871 83971 SCIENCE COSMOS LBG  1220.055      -1.000     1192.366 1192.366     -1.0    good       --\n",
      "20210408  80871 83972 SCIENCE COSMOS LBG  1220.057      -1.000     1254.663 1254.663     -1.0    good       --\n",
      "20210408  80871 83973 SCIENCE COSMOS LBG  1220.035      -1.000     1081.366 1081.366     -1.0    good       --\n",
      "20210408  80871 83976 SCIENCE       test    80.053      -1.000       18.674   18.674     -1.0    good       --\n",
      "20210408  80871 83977 SCIENCE COSMOS LBG  1220.045      -1.000     1329.727 1329.727     -1.0    good       --\n",
      "20210408  80871 83978 SCIENCE COSMOS LBG  1220.055      -1.000     1009.073 1009.073     -1.0    good       --\n",
      "20210410  80871 84216 SCIENCE COSMOS LBG  1220.023      -1.000     2077.641 2077.641     -1.0    good       --\n",
      "20210412  80871 84507 SCIENCE COSMOS LBG  1220.049      -1.000     1123.423 1123.423     -1.0    good       --\n",
      "20210412  80871 84508 SCIENCE COSMOS LBG  1220.059      -1.000      945.150  945.150     -1.0    good       --\n",
      "20210430  80871 86733 SCIENCE COSMOS LBG  1220.053      -1.000     1284.331 1284.331     -1.0    good       --\n",
      "20210430  80871 86734 SCIENCE COSMOS LBG  1220.060      -1.000     1231.692 1231.692     -1.0    good       --\n",
      "20210506  80872 87468 SCIENCE     COSMOS  1220.063      -1.000      236.774  236.774     -1.0    good       --\n",
      "20210507  80872 87588 SCIENCE     COSMOS  1220.050      -1.000      693.932  693.932     -1.0    good       --\n",
      "20210507  80872 87589 SCIENCE     COSMOS  1220.062      -1.000     1574.113 1574.113     -1.0    good       --\n",
      "20210507  80872 87590 SCIENCE     COSMOS   684.218      -1.000      711.060  711.060     -1.0    good       --\n",
      "20210507  80872 87591 SCIENCE     COSMOS   279.267      -1.000      199.142  199.142     -1.0    good       --\n",
      "20210507  80872 87592 SCIENCE     COSMOS  1220.044      -1.000     1417.350 1417.350     -1.0    good       --\n",
      "20210508  80872 87696 SCIENCE     COSMOS  1220.067      -1.000      891.153  891.153     -1.0    good       --\n",
      "20210508  80872 87697 SCIENCE     COSMOS  1220.041      -1.000     1503.223 1503.223     -1.0    good       --\n",
      "20210508  80872 87698 SCIENCE     COSMOS  1220.050      -1.000     1388.388 1388.388     -1.0    good       --\n",
      "20210508  80872 87699 SCIENCE     COSMOS  1220.056      -1.000      541.043  541.043     -1.0    good       --\n",
      "20210508  80872 87700 SCIENCE     COSMOS  1220.058      -1.000      756.956  756.956     -1.0    good       --\n",
      "20210509  80872 87809 SCIENCE     COSMOS    51.700      -1.000        0.000    0.000     -1.0     bad       --\n",
      "20210509  80872 87810 SCIENCE     COSMOS  1220.054      -1.000     1341.803 1341.803     -1.0    good       --\n",
      "20210509  80872 87811 SCIENCE     COSMOS  1220.048      -1.000     1710.531 1710.531     -1.0    good       --\n",
      "20210509  80872 87812 SCIENCE     COSMOS  1220.073      -1.000     1201.669 1201.669     -1.0    good       --\n",
      "20210509  80872 87813 SCIENCE     COSMOS  1220.053      -1.000      983.205  983.205     -1.0    good       --\n",
      "20210511  80872 88035 SCIENCE     COSMOS  1220.062      -1.000     1635.605 1635.605     -1.0    good       --\n",
      "20210511  80872 88036 SCIENCE     COSMOS  1220.054      -1.000     1332.163 1332.163     -1.0    good       --\n",
      "20210511  80872 88037 SCIENCE     COSMOS  1220.044      -1.000     1325.107 1325.107     -1.0    good       --\n",
      "20210512  80872 88147 SCIENCE     COSMOS   395.008      -1.000        0.000    0.000     -1.0    good       --\n",
      "20210512  80872 88148 SCIENCE     COSMOS  1200.048      -1.000      973.507  973.507     -1.0    good       --\n",
      "20210512  80872 88149 SCIENCE     COSMOS  1200.033      -1.000      844.913  844.913     -1.0    good       --\n"
     ]
    }
   ],
   "source": [
    "exps = exps[np.isin(exps['TILEID'], [80871, 80872])]\n",
    "exps.pprint(max_lines=-1, max_width=-1)"
   ]
  },
  {
   "cell_type": "code",
   "execution_count": 8,
   "id": "6e0468a1-de64-451e-9ae6-f357c6f44952",
   "metadata": {},
   "outputs": [],
   "source": [
    "def create_path(night, expid):\n",
    "    if night < 20210331:\n",
    "        release = 'denali'\n",
    "    else:\n",
    "        release = 'daily'\n",
    "        \n",
    "    return '/global/cfs/cdirs/desi/spectro/redux/{}/exposures/{}/{:08d}/cframe-[brz]$PETAL-*.fits'.format(release, night, expid)"
   ]
  },
  {
   "cell_type": "code",
   "execution_count": 9,
   "id": "0bf953eb-0849-494a-a454-f3ae7a57d3ad",
   "metadata": {},
   "outputs": [
    {
     "name": "stdout",
     "output_type": "stream",
     "text": [
      " NIGHT   TILEID EXPID OBSTYPE  PROGRAM    EXPTIME  EFFTIME_ETC EFFTIME_SPEC EFFTIME  GOALTIME QUALITY COMMENTS\n",
      "-------- ------ ----- ------- ---------- --------- ----------- ------------ -------- -------- ------- --------\n",
      "20210314  80871 80483 SCIENCE COSMOS LBG   900.060      -1.000      850.382  850.382     -1.0    good       --\n",
      "20210314  80871 80486 SCIENCE COSMOS LBG   900.045      -1.000      995.616  995.616     -1.0    good       --\n",
      "20210314  80871 80487 SCIENCE COSMOS LBG   900.062      -1.000      662.161  662.161     -1.0    good       --\n",
      "20210314  80871 80488 SCIENCE COSMOS LBG   900.057      -1.000      775.787  775.787     -1.0    good       --\n",
      "20210314  80871 80489 SCIENCE COSMOS LBG   900.060      -1.000      933.214  933.214     -1.0    good       --\n",
      "20210314  80871 80490 SCIENCE COSMOS LBG   900.060      -1.000     1216.671 1216.671     -1.0    good       --\n",
      "20210314  80871 80493 SCIENCE COSMOS LBG   900.068      -1.000      841.878  841.878     -1.0    good       --\n",
      "20210314  80871 80494 SCIENCE COSMOS LBG   900.054      -1.000      959.081  959.081     -1.0    good       --\n",
      "20210408  80871 83970 SCIENCE COSMOS LBG  1220.041      -1.000     1197.046 1197.046     -1.0    good       --\n",
      "20210408  80871 83971 SCIENCE COSMOS LBG  1220.055      -1.000     1192.366 1192.366     -1.0    good       --\n",
      "20210408  80871 83972 SCIENCE COSMOS LBG  1220.057      -1.000     1254.663 1254.663     -1.0    good       --\n",
      "20210408  80871 83973 SCIENCE COSMOS LBG  1220.035      -1.000     1081.366 1081.366     -1.0    good       --\n",
      "20210408  80871 83977 SCIENCE COSMOS LBG  1220.045      -1.000     1329.727 1329.727     -1.0    good       --\n",
      "20210408  80871 83978 SCIENCE COSMOS LBG  1220.055      -1.000     1009.073 1009.073     -1.0    good       --\n",
      "20210410  80871 84216 SCIENCE COSMOS LBG  1220.023      -1.000     2077.641 2077.641     -1.0    good       --\n",
      "20210412  80871 84507 SCIENCE COSMOS LBG  1220.049      -1.000     1123.423 1123.423     -1.0    good       --\n",
      "20210412  80871 84508 SCIENCE COSMOS LBG  1220.059      -1.000      945.150  945.150     -1.0    good       --\n",
      "20210430  80871 86733 SCIENCE COSMOS LBG  1220.053      -1.000     1284.331 1284.331     -1.0    good       --\n",
      "20210430  80871 86734 SCIENCE COSMOS LBG  1220.060      -1.000     1231.692 1231.692     -1.0    good       --\n",
      "20210506  80872 87468 SCIENCE     COSMOS  1220.063      -1.000      236.774  236.774     -1.0    good       --\n",
      "20210507  80872 87588 SCIENCE     COSMOS  1220.050      -1.000      693.932  693.932     -1.0    good       --\n",
      "20210507  80872 87589 SCIENCE     COSMOS  1220.062      -1.000     1574.113 1574.113     -1.0    good       --\n",
      "20210507  80872 87590 SCIENCE     COSMOS   684.218      -1.000      711.060  711.060     -1.0    good       --\n",
      "20210507  80872 87591 SCIENCE     COSMOS   279.267      -1.000      199.142  199.142     -1.0    good       --\n",
      "20210507  80872 87592 SCIENCE     COSMOS  1220.044      -1.000     1417.350 1417.350     -1.0    good       --\n",
      "20210508  80872 87696 SCIENCE     COSMOS  1220.067      -1.000      891.153  891.153     -1.0    good       --\n",
      "20210508  80872 87697 SCIENCE     COSMOS  1220.041      -1.000     1503.223 1503.223     -1.0    good       --\n",
      "20210508  80872 87698 SCIENCE     COSMOS  1220.050      -1.000     1388.388 1388.388     -1.0    good       --\n",
      "20210508  80872 87699 SCIENCE     COSMOS  1220.056      -1.000      541.043  541.043     -1.0    good       --\n",
      "20210508  80872 87700 SCIENCE     COSMOS  1220.058      -1.000      756.956  756.956     -1.0    good       --\n",
      "20210509  80872 87810 SCIENCE     COSMOS  1220.054      -1.000     1341.803 1341.803     -1.0    good       --\n",
      "20210509  80872 87811 SCIENCE     COSMOS  1220.048      -1.000     1710.531 1710.531     -1.0    good       --\n",
      "20210509  80872 87812 SCIENCE     COSMOS  1220.073      -1.000     1201.669 1201.669     -1.0    good       --\n",
      "20210509  80872 87813 SCIENCE     COSMOS  1220.053      -1.000      983.205  983.205     -1.0    good       --\n",
      "20210511  80872 88035 SCIENCE     COSMOS  1220.062      -1.000     1635.605 1635.605     -1.0    good       --\n",
      "20210511  80872 88036 SCIENCE     COSMOS  1220.054      -1.000     1332.163 1332.163     -1.0    good       --\n",
      "20210511  80872 88037 SCIENCE     COSMOS  1220.044      -1.000     1325.107 1325.107     -1.0    good       --\n",
      "20210512  80872 88147 SCIENCE     COSMOS   395.008      -1.000        0.000    0.000     -1.0    good       --\n",
      "20210512  80872 88148 SCIENCE     COSMOS  1200.048      -1.000      973.507  973.507     -1.0    good       --\n",
      "20210512  80872 88149 SCIENCE     COSMOS  1200.033      -1.000      844.913  844.913     -1.0    good       --\n"
     ]
    }
   ],
   "source": [
    "exps = exps[exps['EXPTIME'] > 150.]\n",
    "exps.pprint(max_lines=-1, max_width=-1)"
   ]
  },
  {
   "cell_type": "code",
   "execution_count": 10,
   "id": "75819b4e-3f7d-467f-863d-7f67aac402ae",
   "metadata": {},
   "outputs": [],
   "source": [
    "os.environ['PETAL'] = '6'"
   ]
  },
  {
   "cell_type": "code",
   "execution_count": 11,
   "id": "b9686e08-46df-4e86-9cfd-d0a664cb8482",
   "metadata": {},
   "outputs": [
    {
     "name": "stdout",
     "output_type": "stream",
     "text": [
      "\t\t**  Failed on: /global/cfs/cdirs/desi/spectro/redux/denali/exposures/20210314/00080483/cframe-[brz]$PETAL-*.fits **\n",
      "\t\t**  Failed on: /global/cfs/cdirs/desi/spectro/redux/denali/exposures/20210314/00080486/cframe-[brz]$PETAL-*.fits **\n",
      "\t\t**  Failed on: /global/cfs/cdirs/desi/spectro/redux/denali/exposures/20210314/00080487/cframe-[brz]$PETAL-*.fits **\n",
      "\t\t**  Failed on: /global/cfs/cdirs/desi/spectro/redux/denali/exposures/20210314/00080488/cframe-[brz]$PETAL-*.fits **\n",
      "\t\t**  Failed on: /global/cfs/cdirs/desi/spectro/redux/denali/exposures/20210314/00080489/cframe-[brz]$PETAL-*.fits **\n",
      "\t\t**  Failed on: /global/cfs/cdirs/desi/spectro/redux/denali/exposures/20210314/00080490/cframe-[brz]$PETAL-*.fits **\n",
      "\t\t**  Failed on: /global/cfs/cdirs/desi/spectro/redux/denali/exposures/20210314/00080493/cframe-[brz]$PETAL-*.fits **\n",
      "\t\t**  Failed on: /global/cfs/cdirs/desi/spectro/redux/denali/exposures/20210314/00080494/cframe-[brz]$PETAL-*.fits **\n",
      "/global/cfs/cdirs/desi/spectro/redux/daily/exposures/20210408/00083970/cframe-[brz]$PETAL-*.fits\n",
      "/global/cfs/cdirs/desi/spectro/redux/daily/exposures/20210408/00083971/cframe-[brz]$PETAL-*.fits\n",
      "/global/cfs/cdirs/desi/spectro/redux/daily/exposures/20210408/00083972/cframe-[brz]$PETAL-*.fits\n",
      "/global/cfs/cdirs/desi/spectro/redux/daily/exposures/20210408/00083973/cframe-[brz]$PETAL-*.fits\n",
      "/global/cfs/cdirs/desi/spectro/redux/daily/exposures/20210408/00083977/cframe-[brz]$PETAL-*.fits\n",
      "/global/cfs/cdirs/desi/spectro/redux/daily/exposures/20210408/00083978/cframe-[brz]$PETAL-*.fits\n",
      "/global/cfs/cdirs/desi/spectro/redux/daily/exposures/20210410/00084216/cframe-[brz]$PETAL-*.fits\n",
      "/global/cfs/cdirs/desi/spectro/redux/daily/exposures/20210412/00084507/cframe-[brz]$PETAL-*.fits\n",
      "/global/cfs/cdirs/desi/spectro/redux/daily/exposures/20210412/00084508/cframe-[brz]$PETAL-*.fits\n",
      "/global/cfs/cdirs/desi/spectro/redux/daily/exposures/20210430/00086733/cframe-[brz]$PETAL-*.fits\n",
      "/global/cfs/cdirs/desi/spectro/redux/daily/exposures/20210430/00086734/cframe-[brz]$PETAL-*.fits\n",
      "/global/cfs/cdirs/desi/spectro/redux/daily/exposures/20210506/00087468/cframe-[brz]$PETAL-*.fits\n",
      "/global/cfs/cdirs/desi/spectro/redux/daily/exposures/20210507/00087588/cframe-[brz]$PETAL-*.fits\n",
      "/global/cfs/cdirs/desi/spectro/redux/daily/exposures/20210507/00087589/cframe-[brz]$PETAL-*.fits\n",
      "/global/cfs/cdirs/desi/spectro/redux/daily/exposures/20210507/00087590/cframe-[brz]$PETAL-*.fits\n",
      "/global/cfs/cdirs/desi/spectro/redux/daily/exposures/20210507/00087591/cframe-[brz]$PETAL-*.fits\n",
      "/global/cfs/cdirs/desi/spectro/redux/daily/exposures/20210507/00087592/cframe-[brz]$PETAL-*.fits\n",
      "/global/cfs/cdirs/desi/spectro/redux/daily/exposures/20210508/00087696/cframe-[brz]$PETAL-*.fits\n",
      "/global/cfs/cdirs/desi/spectro/redux/daily/exposures/20210508/00087697/cframe-[brz]$PETAL-*.fits\n",
      "/global/cfs/cdirs/desi/spectro/redux/daily/exposures/20210508/00087698/cframe-[brz]$PETAL-*.fits\n",
      "/global/cfs/cdirs/desi/spectro/redux/daily/exposures/20210508/00087699/cframe-[brz]$PETAL-*.fits\n",
      "/global/cfs/cdirs/desi/spectro/redux/daily/exposures/20210508/00087700/cframe-[brz]$PETAL-*.fits\n",
      "/global/cfs/cdirs/desi/spectro/redux/daily/exposures/20210509/00087810/cframe-[brz]$PETAL-*.fits\n",
      "/global/cfs/cdirs/desi/spectro/redux/daily/exposures/20210509/00087811/cframe-[brz]$PETAL-*.fits\n",
      "/global/cfs/cdirs/desi/spectro/redux/daily/exposures/20210509/00087812/cframe-[brz]$PETAL-*.fits\n",
      "/global/cfs/cdirs/desi/spectro/redux/daily/exposures/20210509/00087813/cframe-[brz]$PETAL-*.fits\n",
      "/global/cfs/cdirs/desi/spectro/redux/daily/exposures/20210511/00088035/cframe-[brz]$PETAL-*.fits\n",
      "/global/cfs/cdirs/desi/spectro/redux/daily/exposures/20210511/00088036/cframe-[brz]$PETAL-*.fits\n",
      "/global/cfs/cdirs/desi/spectro/redux/daily/exposures/20210511/00088037/cframe-[brz]$PETAL-*.fits\n",
      "\t\t**  Failed on: /global/cfs/cdirs/desi/spectro/redux/daily/exposures/20210512/00088147/cframe-[brz]$PETAL-*.fits **\n",
      "/global/cfs/cdirs/desi/spectro/redux/daily/exposures/20210512/00088148/cframe-[brz]$PETAL-*.fits\n",
      "/global/cfs/cdirs/desi/spectro/redux/daily/exposures/20210512/00088149/cframe-[brz]$PETAL-*.fits\n"
     ]
    }
   ],
   "source": [
    "ilist        = {}\n",
    "\n",
    "ilist[80871] = []\n",
    "ilist[80872] = []\n",
    "\n",
    "petal        = os.environ['PETAL']\n",
    "\n",
    "for x in exps:\n",
    "    tileid   = np.int(x['TILEID'])    \n",
    "    expid    = np.int(x['EXPID'])\n",
    "    night    = np.int(x['NIGHT'])\n",
    "    \n",
    "    pp       = create_path(night, expid)\n",
    "\n",
    "    matches  = glob.glob(pp.replace('$PETAL', petal))\n",
    "    cameras  = np.sort([x.split('-')[1][0] for x in matches])\n",
    "    \n",
    "    if (len(matches) > 0):\n",
    "        if np.array_equal(cameras, np.array(['b', 'r', 'z'])):        \n",
    "            print(pp)\n",
    "        \n",
    "            ilist[tileid].append(pp)\n",
    "    \n",
    "    else:\n",
    "        print('\\t\\t**  Failed on: {} **'.format(pp))"
   ]
  },
  {
   "cell_type": "code",
   "execution_count": 12,
   "id": "e981ac85-2494-45e5-8b68-9dc0b9ee2484",
   "metadata": {},
   "outputs": [
    {
     "data": {
      "text/plain": [
       "dict_keys([80871, 80872])"
      ]
     },
     "execution_count": 12,
     "metadata": {},
     "output_type": "execute_result"
    }
   ],
   "source": [
    "ilist.keys()"
   ]
  },
  {
   "cell_type": "code",
   "execution_count": 13,
   "id": "c28c0a08-58f2-403d-89aa-24b1035eee06",
   "metadata": {},
   "outputs": [
    {
     "data": {
      "text/plain": [
       "['/global/cfs/cdirs/desi/spectro/redux/daily/exposures/20210408/00083970/cframe-[brz]$PETAL-*.fits',\n",
       " '/global/cfs/cdirs/desi/spectro/redux/daily/exposures/20210408/00083971/cframe-[brz]$PETAL-*.fits',\n",
       " '/global/cfs/cdirs/desi/spectro/redux/daily/exposures/20210408/00083972/cframe-[brz]$PETAL-*.fits',\n",
       " '/global/cfs/cdirs/desi/spectro/redux/daily/exposures/20210408/00083973/cframe-[brz]$PETAL-*.fits',\n",
       " '/global/cfs/cdirs/desi/spectro/redux/daily/exposures/20210408/00083977/cframe-[brz]$PETAL-*.fits',\n",
       " '/global/cfs/cdirs/desi/spectro/redux/daily/exposures/20210408/00083978/cframe-[brz]$PETAL-*.fits',\n",
       " '/global/cfs/cdirs/desi/spectro/redux/daily/exposures/20210410/00084216/cframe-[brz]$PETAL-*.fits',\n",
       " '/global/cfs/cdirs/desi/spectro/redux/daily/exposures/20210412/00084507/cframe-[brz]$PETAL-*.fits',\n",
       " '/global/cfs/cdirs/desi/spectro/redux/daily/exposures/20210412/00084508/cframe-[brz]$PETAL-*.fits',\n",
       " '/global/cfs/cdirs/desi/spectro/redux/daily/exposures/20210430/00086733/cframe-[brz]$PETAL-*.fits',\n",
       " '/global/cfs/cdirs/desi/spectro/redux/daily/exposures/20210430/00086734/cframe-[brz]$PETAL-*.fits']"
      ]
     },
     "execution_count": 13,
     "metadata": {},
     "output_type": "execute_result"
    }
   ],
   "source": [
    "ilist[80871]"
   ]
  },
  {
   "cell_type": "code",
   "execution_count": 14,
   "id": "3b59076d-e562-4cbf-b1e8-201f8b559255",
   "metadata": {},
   "outputs": [
    {
     "data": {
      "text/plain": [
       "['/global/cfs/cdirs/desi/spectro/redux/daily/exposures/20210506/00087468/cframe-[brz]$PETAL-*.fits',\n",
       " '/global/cfs/cdirs/desi/spectro/redux/daily/exposures/20210507/00087588/cframe-[brz]$PETAL-*.fits',\n",
       " '/global/cfs/cdirs/desi/spectro/redux/daily/exposures/20210507/00087589/cframe-[brz]$PETAL-*.fits',\n",
       " '/global/cfs/cdirs/desi/spectro/redux/daily/exposures/20210507/00087590/cframe-[brz]$PETAL-*.fits',\n",
       " '/global/cfs/cdirs/desi/spectro/redux/daily/exposures/20210507/00087591/cframe-[brz]$PETAL-*.fits',\n",
       " '/global/cfs/cdirs/desi/spectro/redux/daily/exposures/20210507/00087592/cframe-[brz]$PETAL-*.fits',\n",
       " '/global/cfs/cdirs/desi/spectro/redux/daily/exposures/20210508/00087696/cframe-[brz]$PETAL-*.fits',\n",
       " '/global/cfs/cdirs/desi/spectro/redux/daily/exposures/20210508/00087697/cframe-[brz]$PETAL-*.fits',\n",
       " '/global/cfs/cdirs/desi/spectro/redux/daily/exposures/20210508/00087698/cframe-[brz]$PETAL-*.fits',\n",
       " '/global/cfs/cdirs/desi/spectro/redux/daily/exposures/20210508/00087699/cframe-[brz]$PETAL-*.fits',\n",
       " '/global/cfs/cdirs/desi/spectro/redux/daily/exposures/20210508/00087700/cframe-[brz]$PETAL-*.fits',\n",
       " '/global/cfs/cdirs/desi/spectro/redux/daily/exposures/20210509/00087810/cframe-[brz]$PETAL-*.fits',\n",
       " '/global/cfs/cdirs/desi/spectro/redux/daily/exposures/20210509/00087811/cframe-[brz]$PETAL-*.fits',\n",
       " '/global/cfs/cdirs/desi/spectro/redux/daily/exposures/20210509/00087812/cframe-[brz]$PETAL-*.fits',\n",
       " '/global/cfs/cdirs/desi/spectro/redux/daily/exposures/20210509/00087813/cframe-[brz]$PETAL-*.fits',\n",
       " '/global/cfs/cdirs/desi/spectro/redux/daily/exposures/20210511/00088035/cframe-[brz]$PETAL-*.fits',\n",
       " '/global/cfs/cdirs/desi/spectro/redux/daily/exposures/20210511/00088036/cframe-[brz]$PETAL-*.fits',\n",
       " '/global/cfs/cdirs/desi/spectro/redux/daily/exposures/20210511/00088037/cframe-[brz]$PETAL-*.fits',\n",
       " '/global/cfs/cdirs/desi/spectro/redux/daily/exposures/20210512/00088148/cframe-[brz]$PETAL-*.fits',\n",
       " '/global/cfs/cdirs/desi/spectro/redux/daily/exposures/20210512/00088149/cframe-[brz]$PETAL-*.fits']"
      ]
     },
     "execution_count": 14,
     "metadata": {},
     "output_type": "execute_result"
    }
   ],
   "source": [
    "ilist[80872]"
   ]
  },
  {
   "cell_type": "code",
   "execution_count": 15,
   "id": "44382377-0296-4417-94d7-5fcc5d2baa22",
   "metadata": {},
   "outputs": [],
   "source": [
    "def create_command(iargs, tileid):\n",
    "    ilist    = iargs[tileid]\n",
    "        \n",
    "    command  = 'desi_coadd_spectra -i '\n",
    "    command += ' '.join(x for x in ilist)\n",
    "    \n",
    "    opath    = '/global/cscratch1/sd/mjwilson/DESILBGSPEC/June21/{}/coadd-{}-{}.fits'.format(tileid, tileid, '$PETAL')\n",
    "    \n",
    "    command += ' -o {}'.format(opath)\n",
    "    \n",
    "    return  command"
   ]
  },
  {
   "cell_type": "code",
   "execution_count": 16,
   "id": "088e3862-5237-4dd6-8e77-73a88c86a3ee",
   "metadata": {},
   "outputs": [
    {
     "data": {
      "text/plain": [
       "'desi_coadd_spectra -i /global/cfs/cdirs/desi/spectro/redux/daily/exposures/20210408/00083970/cframe-[brz]$PETAL-*.fits /global/cfs/cdirs/desi/spectro/redux/daily/exposures/20210408/00083971/cframe-[brz]$PETAL-*.fits /global/cfs/cdirs/desi/spectro/redux/daily/exposures/20210408/00083972/cframe-[brz]$PETAL-*.fits /global/cfs/cdirs/desi/spectro/redux/daily/exposures/20210408/00083973/cframe-[brz]$PETAL-*.fits /global/cfs/cdirs/desi/spectro/redux/daily/exposures/20210408/00083977/cframe-[brz]$PETAL-*.fits /global/cfs/cdirs/desi/spectro/redux/daily/exposures/20210408/00083978/cframe-[brz]$PETAL-*.fits /global/cfs/cdirs/desi/spectro/redux/daily/exposures/20210410/00084216/cframe-[brz]$PETAL-*.fits /global/cfs/cdirs/desi/spectro/redux/daily/exposures/20210412/00084507/cframe-[brz]$PETAL-*.fits /global/cfs/cdirs/desi/spectro/redux/daily/exposures/20210412/00084508/cframe-[brz]$PETAL-*.fits /global/cfs/cdirs/desi/spectro/redux/daily/exposures/20210430/00086733/cframe-[brz]$PETAL-*.fits /global/cfs/cdirs/desi/spectro/redux/daily/exposures/20210430/00086734/cframe-[brz]$PETAL-*.fits -o /global/cscratch1/sd/mjwilson/DESILBGSPEC/June21/80871/coadd-80871-$PETAL.fits'"
      ]
     },
     "execution_count": 16,
     "metadata": {},
     "output_type": "execute_result"
    }
   ],
   "source": [
    "create_command(ilist, 80871)"
   ]
  },
  {
   "cell_type": "code",
   "execution_count": 17,
   "id": "0e855c98-c533-4172-8b86-811e595780f0",
   "metadata": {},
   "outputs": [
    {
     "data": {
      "text/plain": [
       "'desi_coadd_spectra -i /global/cfs/cdirs/desi/spectro/redux/daily/exposures/20210506/00087468/cframe-[brz]$PETAL-*.fits /global/cfs/cdirs/desi/spectro/redux/daily/exposures/20210507/00087588/cframe-[brz]$PETAL-*.fits /global/cfs/cdirs/desi/spectro/redux/daily/exposures/20210507/00087589/cframe-[brz]$PETAL-*.fits /global/cfs/cdirs/desi/spectro/redux/daily/exposures/20210507/00087590/cframe-[brz]$PETAL-*.fits /global/cfs/cdirs/desi/spectro/redux/daily/exposures/20210507/00087591/cframe-[brz]$PETAL-*.fits /global/cfs/cdirs/desi/spectro/redux/daily/exposures/20210507/00087592/cframe-[brz]$PETAL-*.fits /global/cfs/cdirs/desi/spectro/redux/daily/exposures/20210508/00087696/cframe-[brz]$PETAL-*.fits /global/cfs/cdirs/desi/spectro/redux/daily/exposures/20210508/00087697/cframe-[brz]$PETAL-*.fits /global/cfs/cdirs/desi/spectro/redux/daily/exposures/20210508/00087698/cframe-[brz]$PETAL-*.fits /global/cfs/cdirs/desi/spectro/redux/daily/exposures/20210508/00087699/cframe-[brz]$PETAL-*.fits /global/cfs/cdirs/desi/spectro/redux/daily/exposures/20210508/00087700/cframe-[brz]$PETAL-*.fits /global/cfs/cdirs/desi/spectro/redux/daily/exposures/20210509/00087810/cframe-[brz]$PETAL-*.fits /global/cfs/cdirs/desi/spectro/redux/daily/exposures/20210509/00087811/cframe-[brz]$PETAL-*.fits /global/cfs/cdirs/desi/spectro/redux/daily/exposures/20210509/00087812/cframe-[brz]$PETAL-*.fits /global/cfs/cdirs/desi/spectro/redux/daily/exposures/20210509/00087813/cframe-[brz]$PETAL-*.fits /global/cfs/cdirs/desi/spectro/redux/daily/exposures/20210511/00088035/cframe-[brz]$PETAL-*.fits /global/cfs/cdirs/desi/spectro/redux/daily/exposures/20210511/00088036/cframe-[brz]$PETAL-*.fits /global/cfs/cdirs/desi/spectro/redux/daily/exposures/20210511/00088037/cframe-[brz]$PETAL-*.fits /global/cfs/cdirs/desi/spectro/redux/daily/exposures/20210512/00088148/cframe-[brz]$PETAL-*.fits /global/cfs/cdirs/desi/spectro/redux/daily/exposures/20210512/00088149/cframe-[brz]$PETAL-*.fits -o /global/cscratch1/sd/mjwilson/DESILBGSPEC/June21/80872/coadd-80872-$PETAL.fits'"
      ]
     },
     "execution_count": 17,
     "metadata": {},
     "output_type": "execute_result"
    }
   ],
   "source": [
    "create_command(ilist, 80872)"
   ]
  },
  {
   "cell_type": "markdown",
   "id": "40c82143-9c73-4d5c-b1f7-12298b158a3c",
   "metadata": {},
   "source": [
    "### Petal 6 of 80871 has failed arms: more restrictive exposure list."
   ]
  },
  {
   "cell_type": "markdown",
   "id": "aa01db85-413a-4dbc-8fc0-61df28c11668",
   "metadata": {},
   "source": [
    "# Check"
   ]
  },
  {
   "cell_type": "code",
   "execution_count": 20,
   "id": "4adee9dd-6c31-42f5-bd09-0000404c8a31",
   "metadata": {},
   "outputs": [
    {
     "data": {
      "text/plain": [
       "array([80483, 80486, 80487, 80488, 80489, 80490, 80493, 80494, 83970,\n",
       "       83971, 83972, 83973, 83977, 83978, 84216, 84507, 84508, 86733,\n",
       "       86734])"
      ]
     },
     "execution_count": 20,
     "metadata": {},
     "output_type": "execute_result"
    }
   ],
   "source": [
    "dat    = fits.open('/global/cscratch1/sd/mjwilson/DESILBGSPEC/June21/80871/coadd-80871-0.fits')  \n",
    "ins    = dat[0].header['INFIL*']\n",
    "expids = [x.split('-')[-1].replace('.fits', '') for x in ins.values()]\n",
    "expids = np.array(expids, dtype=np.int)\n",
    "expids = np.unique(expids)\n",
    "expids"
   ]
  },
  {
   "cell_type": "code",
   "execution_count": 24,
   "id": "ffe92123-215e-4d50-a762-e6eafd444dd2",
   "metadata": {},
   "outputs": [
    {
     "name": "stdout",
     "output_type": "stream",
     "text": [
      " NIGHT   TILEID EXPID OBSTYPE  PROGRAM    EXPTIME  EFFTIME_ETC EFFTIME_SPEC EFFTIME  GOALTIME QUALITY COMMENTS\n",
      "-------- ------ ----- ------- ---------- --------- ----------- ------------ -------- -------- ------- --------\n",
      "20210314  80871 80483 SCIENCE COSMOS LBG   900.060      -1.000      850.382  850.382     -1.0    good       --\n",
      "20210314  80871 80486 SCIENCE COSMOS LBG   900.045      -1.000      995.616  995.616     -1.0    good       --\n",
      "20210314  80871 80487 SCIENCE COSMOS LBG   900.062      -1.000      662.161  662.161     -1.0    good       --\n",
      "20210314  80871 80488 SCIENCE COSMOS LBG   900.057      -1.000      775.787  775.787     -1.0    good       --\n",
      "20210314  80871 80489 SCIENCE COSMOS LBG   900.060      -1.000      933.214  933.214     -1.0    good       --\n",
      "20210314  80871 80490 SCIENCE COSMOS LBG   900.060      -1.000     1216.671 1216.671     -1.0    good       --\n",
      "20210314  80871 80493 SCIENCE COSMOS LBG   900.068      -1.000      841.878  841.878     -1.0    good       --\n",
      "20210314  80871 80494 SCIENCE COSMOS LBG   900.054      -1.000      959.081  959.081     -1.0    good       --\n",
      "20210408  80871 83970 SCIENCE COSMOS LBG  1220.041      -1.000     1197.046 1197.046     -1.0    good       --\n",
      "20210408  80871 83971 SCIENCE COSMOS LBG  1220.055      -1.000     1192.366 1192.366     -1.0    good       --\n",
      "20210408  80871 83972 SCIENCE COSMOS LBG  1220.057      -1.000     1254.663 1254.663     -1.0    good       --\n",
      "20210408  80871 83973 SCIENCE COSMOS LBG  1220.035      -1.000     1081.366 1081.366     -1.0    good       --\n",
      "20210408  80871 83977 SCIENCE COSMOS LBG  1220.045      -1.000     1329.727 1329.727     -1.0    good       --\n",
      "20210408  80871 83978 SCIENCE COSMOS LBG  1220.055      -1.000     1009.073 1009.073     -1.0    good       --\n",
      "20210410  80871 84216 SCIENCE COSMOS LBG  1220.023      -1.000     2077.641 2077.641     -1.0    good       --\n",
      "20210412  80871 84507 SCIENCE COSMOS LBG  1220.049      -1.000     1123.423 1123.423     -1.0    good       --\n",
      "20210412  80871 84508 SCIENCE COSMOS LBG  1220.059      -1.000      945.150  945.150     -1.0    good       --\n",
      "20210430  80871 86733 SCIENCE COSMOS LBG  1220.053      -1.000     1284.331 1284.331     -1.0    good       --\n",
      "20210430  80871 86734 SCIENCE COSMOS LBG  1220.060      -1.000     1231.692 1231.692     -1.0    good       --\n"
     ]
    }
   ],
   "source": [
    "exps[exps['TILEID'] == 80871].pprint(max_lines=-1, max_width=-1)"
   ]
  },
  {
   "cell_type": "code",
   "execution_count": 21,
   "id": "685eaf6a-d502-4c84-ae1b-2c222aa38527",
   "metadata": {},
   "outputs": [
    {
     "data": {
      "text/plain": [
       "array([87468, 87588, 87589, 87590, 87591, 87592, 87696, 87697, 87698,\n",
       "       87699, 87700, 87810, 87811, 87812, 87813, 88035, 88036, 88037,\n",
       "       88148, 88149])"
      ]
     },
     "execution_count": 21,
     "metadata": {},
     "output_type": "execute_result"
    }
   ],
   "source": [
    "dat    = fits.open('/global/cscratch1/sd/mjwilson/DESILBGSPEC/June21/80872/coadd-80872-0.fits')  \n",
    "ins    = dat[0].header['INFIL*']\n",
    "expids = [x.split('-')[-1].replace('.fits', '') for x in ins.values()]\n",
    "expids = np.array(expids, dtype=np.int)\n",
    "expids = np.unique(expids)\n",
    "expids"
   ]
  },
  {
   "cell_type": "code",
   "execution_count": 25,
   "id": "b43e9c36-1d2a-403c-9a9f-5f957b571100",
   "metadata": {},
   "outputs": [
    {
     "name": "stdout",
     "output_type": "stream",
     "text": [
      " NIGHT   TILEID EXPID OBSTYPE PROGRAM  EXPTIME  EFFTIME_ETC EFFTIME_SPEC EFFTIME  GOALTIME QUALITY COMMENTS\n",
      "-------- ------ ----- ------- ------- --------- ----------- ------------ -------- -------- ------- --------\n",
      "20210506  80872 87468 SCIENCE  COSMOS  1220.063      -1.000      236.774  236.774     -1.0    good       --\n",
      "20210507  80872 87588 SCIENCE  COSMOS  1220.050      -1.000      693.932  693.932     -1.0    good       --\n",
      "20210507  80872 87589 SCIENCE  COSMOS  1220.062      -1.000     1574.113 1574.113     -1.0    good       --\n",
      "20210507  80872 87590 SCIENCE  COSMOS   684.218      -1.000      711.060  711.060     -1.0    good       --\n",
      "20210507  80872 87591 SCIENCE  COSMOS   279.267      -1.000      199.142  199.142     -1.0    good       --\n",
      "20210507  80872 87592 SCIENCE  COSMOS  1220.044      -1.000     1417.350 1417.350     -1.0    good       --\n",
      "20210508  80872 87696 SCIENCE  COSMOS  1220.067      -1.000      891.153  891.153     -1.0    good       --\n",
      "20210508  80872 87697 SCIENCE  COSMOS  1220.041      -1.000     1503.223 1503.223     -1.0    good       --\n",
      "20210508  80872 87698 SCIENCE  COSMOS  1220.050      -1.000     1388.388 1388.388     -1.0    good       --\n",
      "20210508  80872 87699 SCIENCE  COSMOS  1220.056      -1.000      541.043  541.043     -1.0    good       --\n",
      "20210508  80872 87700 SCIENCE  COSMOS  1220.058      -1.000      756.956  756.956     -1.0    good       --\n",
      "20210509  80872 87810 SCIENCE  COSMOS  1220.054      -1.000     1341.803 1341.803     -1.0    good       --\n",
      "20210509  80872 87811 SCIENCE  COSMOS  1220.048      -1.000     1710.531 1710.531     -1.0    good       --\n",
      "20210509  80872 87812 SCIENCE  COSMOS  1220.073      -1.000     1201.669 1201.669     -1.0    good       --\n",
      "20210509  80872 87813 SCIENCE  COSMOS  1220.053      -1.000      983.205  983.205     -1.0    good       --\n",
      "20210511  80872 88035 SCIENCE  COSMOS  1220.062      -1.000     1635.605 1635.605     -1.0    good       --\n",
      "20210511  80872 88036 SCIENCE  COSMOS  1220.054      -1.000     1332.163 1332.163     -1.0    good       --\n",
      "20210511  80872 88037 SCIENCE  COSMOS  1220.044      -1.000     1325.107 1325.107     -1.0    good       --\n",
      "20210512  80872 88147 SCIENCE  COSMOS   395.008      -1.000        0.000    0.000     -1.0    good       --\n",
      "20210512  80872 88148 SCIENCE  COSMOS  1200.048      -1.000      973.507  973.507     -1.0    good       --\n",
      "20210512  80872 88149 SCIENCE  COSMOS  1200.033      -1.000      844.913  844.913     -1.0    good       --\n"
     ]
    }
   ],
   "source": [
    "exps[exps['TILEID'] == 80872].pprint(max_lines=-1, max_width=-1)"
   ]
  },
  {
   "cell_type": "markdown",
   "id": "2c9a1d4c-8bb7-4b89-99b6-afc37cf26dcb",
   "metadata": {},
   "source": [
    "# Done "
   ]
  }
 ],
 "metadata": {
  "kernelspec": {
   "display_name": "DESI master",
   "language": "python",
   "name": "desi-master"
  },
  "language_info": {
   "codemirror_mode": {
    "name": "ipython",
    "version": 3
   },
   "file_extension": ".py",
   "mimetype": "text/x-python",
   "name": "python",
   "nbconvert_exporter": "python",
   "pygments_lexer": "ipython3",
   "version": "3.8.3"
  }
 },
 "nbformat": 4,
 "nbformat_minor": 5
}
